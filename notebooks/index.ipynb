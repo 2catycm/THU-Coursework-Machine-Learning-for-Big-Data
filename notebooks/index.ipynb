{
 "cells": [
  {
   "cell_type": "code",
   "execution_count": null,
   "metadata": {},
   "outputs": [],
   "source": [
    "#| hide\n",
    "from thu_big_data_ml.core import *"
   ]
  },
  {
   "cell_type": "markdown",
   "metadata": {},
   "source": [
    "# THU-Coursework-Machine-Learning-for-Big-Data\n",
    "\n",
    "> 这是本人学习清华大学70240403-200大数据机器学习课程的开源工作，包括对往期Assignment的实现、对Lecture的笔记与理解、对即将来的Project的实现等，欢迎各位同学一起学习一起讨论，对知识取得更好的理解。"
   ]
  },
  {
   "cell_type": "markdown",
   "metadata": {},
   "source": [
    "This file will become your README and also the index of your documentation."
   ]
  },
  {
   "cell_type": "markdown",
   "metadata": {},
   "source": [
    "## Developer Guide\n",
    "\n",
    "如果你想加入我们一起开源作业，请阅读以下指南。"
   ]
  },
  {
   "cell_type": "markdown",
   "metadata": {},
   "source": [
    "If you are new to using `nbdev` here are some useful pointers to get you started."
   ]
  },
  {
   "cell_type": "markdown",
   "metadata": {},
   "source": [
    "### 关于Quarto和nbdev一些需要配置的地方\n",
    "\n",
    "```sh\n",
    "nbdev_install_quarto\n",
    "quarto install tinytex\n",
    "quarto install chromium\n",
    "sudo apt-get install librsvg2-bin\n",
    "```"
   ]
  },
  {
   "cell_type": "markdown",
   "metadata": {},
   "source": [
    "### 关于nbdev、quarto+pandoc 这一套系统支持和不支持的markdown与latex语法\n",
    "\n",
    "- latex公式：\n",
    "    - 不能用\"\\set\"\n",
    "    - 对于align公式,似乎都失败了 align, aligned和aligned*, [参考](https://tex.stackexchange.com/questions/256920/package-amsmath-error-beginaligned-allowed-only-in-math-mode)\n",
    "    - MathJax引擎支持的应该支持。https://quarto.org/docs/output-formats/html-basics.html\n",
    "    - VSCode也用的是 MathJax https://stackoverflow.com/questions/62879232/how-do-i-use-latex-in-a-jupyter-notebook-inside-visual-studio-code\n"
   ]
  },
  {
   "cell_type": "markdown",
   "metadata": {},
   "source": [
    "### Install THU_Coursework_Machine_Learning_for_Big_Data in Development mode"
   ]
  },
  {
   "cell_type": "markdown",
   "metadata": {},
   "source": [
    "```sh\n",
    "# make sure THU_Coursework_Machine_Learning_for_Big_Data package is installed in development mode\n",
    "$ pip install -e .\n",
    "\n",
    "# make changes under nbs/ directory\n",
    "# ...\n",
    "\n",
    "# compile to have changes apply to THU_Coursework_Machine_Learning_for_Big_Data\n",
    "$ nbdev_prepare\n",
    "```"
   ]
  },
  {
   "cell_type": "markdown",
   "metadata": {},
   "source": [
    "## Usage\n",
    "我们在学习《大数据机器学习》课程做作业的同时，也形成了一个简单的机器学习库，对李航书上的部分代码做了实现和可视化，你可以通过安装我们的库来复用我们写的代码逻辑。"
   ]
  },
  {
   "cell_type": "markdown",
   "metadata": {},
   "source": [
    "### Installation"
   ]
  },
  {
   "cell_type": "markdown",
   "metadata": {},
   "source": [
    "Install latest from the GitHub [repository][repo]:\n",
    "\n",
    "```sh\n",
    "$ pip install git+https://github.com/Open-Book-Studio/THU-Coursework-Machine-Learning-for-Big-Data.git\n",
    "```\n",
    "\n",
    "or from [conda][conda]\n",
    "\n",
    "```sh\n",
    "$ conda install -c yecanming6666 thu_big_data_ml\n",
    "```\n",
    "\n",
    "or from [pypi][pypi]\n",
    "\n",
    "\n",
    "```sh\n",
    "$ pip install thu_big_data_ml\n",
    "```\n",
    "\n",
    "\n",
    "[repo]: https://github.com/Open-Book-Studio/THU-Coursework-Machine-Learning-for-Big-Data\n",
    "[docs]: https://Open-Book-Studio.github.io/THU-Coursework-Machine-Learning-for-Big-Data/\n",
    "[pypi]: https://pypi.org/project/thu_big_data_ml/\n",
    "[conda]: https://anaconda.org/Open-Book-Studio/thu_big_data_ml"
   ]
  },
  {
   "cell_type": "markdown",
   "metadata": {},
   "source": [
    "### Documentation"
   ]
  },
  {
   "cell_type": "markdown",
   "metadata": {},
   "source": [
    "Documentation can be found hosted on this GitHub [repository][repo]'s [pages][docs]. Additionally you can find package manager specific guidelines on [conda][conda] and [pypi][pypi] respectively.\n",
    "\n",
    "[repo]: https://github.com/Open-Book-Studio/THU-Coursework-Machine-Learning-for-Big-Data\n",
    "[docs]: https://Open-Book-Studio.github.io/THU-Coursework-Machine-Learning-for-Big-Data/\n",
    "[pypi]: https://pypi.org/project/THU-Coursework-Machine-Learning-for-Big-Data/\n",
    "[conda]: https://anaconda.org/Open-Book-Studio/THU-Coursework-Machine-Learning-for-Big-Data"
   ]
  },
  {
   "cell_type": "markdown",
   "metadata": {},
   "source": [
    "## How to use"
   ]
  },
  {
   "cell_type": "markdown",
   "metadata": {},
   "source": [
    "Fill me in please! Don't forget code examples:"
   ]
  },
  {
   "cell_type": "code",
   "execution_count": null,
   "metadata": {},
   "outputs": [
    {
     "data": {
      "text/plain": [
       "2"
      ]
     },
     "execution_count": null,
     "metadata": {},
     "output_type": "execute_result"
    }
   ],
   "source": [
    "1+1"
   ]
  },
  {
   "cell_type": "code",
   "execution_count": null,
   "metadata": {},
   "outputs": [],
   "source": []
  }
 ],
 "metadata": {
  "kernelspec": {
   "display_name": "python3",
   "language": "python",
   "name": "python3"
  }
 },
 "nbformat": 4,
 "nbformat_minor": 4
}
