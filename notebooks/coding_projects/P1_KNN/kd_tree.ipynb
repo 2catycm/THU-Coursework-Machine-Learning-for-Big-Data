{
 "cells": [
  {
   "cell_type": "markdown",
   "metadata": {},
   "source": [
    "<img src=\"../../thu_sigs_logo.png\" alt=\"清华深研院-横\" style=\"zoom:50%;\" />"
   ]
  },
  {
   "cell_type": "raw",
   "metadata": {
    "vscode": {
     "languageId": "raw"
    }
   },
   "source": [
    "---\n",
    "title: \"深入探索KD树数据结构实现的KNN算法及其在手写数字识别中的应用\"\n",
    "subtitle: \"大数据机器学习课程第一次实验项目\"\n",
    "author: \"叶璨铭 (2024214500) \\n ycm24@mails.tsinghua.edu.cn\"\n",
    "date: \"2024-10-21\"\n",
    "toc: true\n",
    "number-sections: true\n",
    "highlight-style: pygments\n",
    "date-format: full\n",
    "lang: zh\n",
    "bibliography: [../../references.bib]\n",
    "format: \n",
    "  html:\n",
    "    code-fold: true\n",
    "  gfm: default\n",
    "jupyter: python3\n",
    "---"
   ]
  },
  {
   "cell_type": "code",
   "execution_count": 75,
   "metadata": {},
   "outputs": [],
   "source": [
    "# quarto\n",
    "#| hide\n",
    "#| default_exp tree"
   ]
  },
  {
   "cell_type": "code",
   "execution_count": 76,
   "metadata": {},
   "outputs": [],
   "source": [
    "#|hide\n",
    "import matplotlib.pyplot as plt\n",
    "plt.style.use('default')"
   ]
  },
  {
   "cell_type": "markdown",
   "metadata": {},
   "source": [
    "## 实验目的\n",
    "> 老师给我们的要求是\n",
    "> 1. 完成 KD 树算法，并利⽤实现的算法完成数字识别任务\n",
    "> 2. 对所建模型进行分析评判。\n",
    "\n",
    "我们不仅完成以上内容，还进行了\n",
    "1. 参考谷歌调参手册，使用科学的实验设计来对KNN分类算法的元参数进行搜索，从而实现更高的分类精度。\n",
    "2. 参考前沿论文，尝试修改KD树的训练策略，从而对KD树的推理速度进行改进。"
   ]
  },
  {
   "cell_type": "markdown",
   "metadata": {},
   "source": [
    "## 实验数据\n",
    "> MNIST 数据库是由 Yann et. al. 提供的⼿写数字数据库⽂件, 官网地址为 http://yann.lecun.com/exdb/mnist/。\n",
    "> 主要包含了 60000 张的训练图像和 10000 张的测试图像\n",
    "> ```python\n",
    "> from sklearn.datasets import fetch_openml\n",
    "> from sklearn.model_selection import train_test_split\n",
    "> from sklearn.neighbors import KNeighborsClassifier\n",
    "> from sklearn.metrics import accuracy_score\n",
    "> import numpy as np\n",
    "> # 获取MNIST数据集,并抽样一部分数据以便后续的计算\n",
    "> idx = np.random.choice(70000,5000,replace=False)\n",
    "> mnist = fetch_openml(\"mnist_784\")\n",
    "> X, y = mnist.data.to_numpy(), mnist.target.to_numpy().astype('int')\n",
    "> X = X[idx]\n",
    "> y = y[idx]\n",
    "> # 划分数据集为训练集和测试集\n",
    "> X_train, X_test, y_train, y_test = train_test_split(X, y, test_size=0.2, random_state=42)\n",
    "> \n",
    "> ```\n",
    "\n"
   ]
  },
  {
   "cell_type": "markdown",
   "metadata": {
    "vscode": {
     "languageId": "raw"
    }
   },
   "source": [
    "以上代码有几个小问题，我们需要改进一下\n",
    "1. 由于网络环境问题，fetch_openml(\"mnist_784\") 是无法跑通的，会卡死。\n",
    "事实上，给sklearn贡献过代码的同学可能知道，sklearn还有一个load_digits数据集，这个数据集是sklearn CI（持续集成）测试用例的一部分。这个回归测试通过测试贡献者的新做的改进是否导致性能不如以前的版本，来决定是否接受更改。\n",
    "因此，我们使用load_digits数据集代替mnist_784数据集来完成这个项目。\n",
    "\n",
    "https://scikit-learn.org/1.5/modules/generated/sklearn.datasets.load_digits.html\n",
    "\n",
    "2. 划分数据集时，train_test_split应当使用stratify参数，以确保每一类样本的比例相同。\n",
    "3. import过多，应该只导入需要的模块。"
   ]
  },
  {
   "cell_type": "code",
   "execution_count": null,
   "metadata": {},
   "outputs": [
    {
     "data": {
      "text/plain": [
       "dict_keys(['data', 'target', 'frame', 'feature_names', 'target_names', 'images', 'DESCR'])"
      ]
     },
     "execution_count": 77,
     "metadata": {},
     "output_type": "execute_result"
    }
   ],
   "source": [
    "from sklearn.datasets import load_digits\n",
    "dataset_dict = load_digits()\n",
    "dataset_dict.keys()"
   ]
  },
  {
   "cell_type": "code",
   "execution_count": null,
   "metadata": {},
   "outputs": [
    {
     "data": {
      "text/plain": [
       "((1797, 64), dtype('float64'), (1797,), dtype('int64'))"
      ]
     },
     "execution_count": 78,
     "metadata": {},
     "output_type": "execute_result"
    }
   ],
   "source": [
    "import numpy as np\n",
    "X:np.array = dataset_dict['data']\n",
    "y:np.array = dataset_dict['target']\n",
    "X.shape, X.dtype, y.shape, y.dtype"
   ]
  },
  {
   "cell_type": "markdown",
   "metadata": {},
   "source": [
    "划分数据集为训练集和测试集"
   ]
  },
  {
   "cell_type": "code",
   "execution_count": null,
   "metadata": {},
   "outputs": [
    {
     "data": {
      "text/plain": [
       "(1437, 360)"
      ]
     },
     "execution_count": 79,
     "metadata": {},
     "output_type": "execute_result"
    }
   ],
   "source": [
    "from sklearn.model_selection import train_test_split\n",
    "X_train, X_test, y_train, y_test = train_test_split(X, y, test_size=0.2, random_state=42, \n",
    "                                                    stratify=y)\n",
    "len(X_train), len(X_test)"
   ]
  },
  {
   "cell_type": "markdown",
   "metadata": {},
   "source": [
    "## 实验内容\n",
    "### KNN和KD树的关系是什么？什么叫基于KD树的KNN算法？\n",
    "\n",
    "在我们开始实验内容之前，有必要澄清这一理论上的概念。\n",
    "\n",
    "KNN（K-Nearest Neighbor）算法是一种基本的机器学习算法，既可以用于分类也可以用于回归。\n",
    "对于新的一个测试样本（未知类别或标签值）来说，它和训练集中每一个样本都有距离，从而存在离测试样本最近的K个样本（当然训练集要大于K啦），然后根据这些样本的已知标签来决定测试样本的标签。\n",
    "\n",
    "> 我今天学习的《自然辩证法课》上正好讲到一个哲学概念叫做“类比推理”与“演绎推理”。古希腊的哲学家们则发展了形式逻辑，比如亚里士多德的三段论，我们在《数理逻辑导论》课上还了解了罗素、哥德尔等人对整套逻辑的进一步发展。而中国古代的先贤很喜欢类比推理，比如孟子要提倡“舍生而取义者也”，偏偏不和你论证为什么要舍生取义（后文也有一点论证），而是先跟你说他观察到了“二者不可得兼，舍鱼而取熊掌者也。”，然后他认为这两个事情很像，然后告诉你所以要舍生取义；又比如孟子想要说“天将降大任于是人也，必先苦其心志”，他先给了你一个训练集，说好多“降大任”的“人”都是被“苦其心志的”。这个推理看起来很扯，实际上也是也是有一定的统计意义的。\n",
    "\n",
    "而KD树（k-dimensional tree）是一种用于组织k维空间数据的树形数据结构，它是一种特殊的二叉树。KD树将k维空间进行分割，每个节点代表一个k维超矩形区域。KD树的主要作用是在高维空间中快速地进行最近邻查找，它能够显著减少在KNN算法中计算所有训练样本与测试样本之间距离的需求，从而提高效率。\n",
    "\n",
    "KNN不一定要使用KD树来进行近邻搜索，事实上还有其他更加高效的数据结构，比如Ball Tree。如果我们说默认的KNN是用暴力方法计算所有距离的逐一比较的话，我们可以说KD树不是KNN算法的一部分，而是KNN算法的一个优化工具，用于在高维空间中快速查找最近邻。\n"
   ]
  },
  {
   "cell_type": "markdown",
   "metadata": {},
   "source": [
    "### 基于sklearn的KNN算法实现手写数字识别"
   ]
  },
  {
   "cell_type": "code",
   "execution_count": null,
   "metadata": {},
   "outputs": [
    {
     "name": "stdout",
     "output_type": "stream",
     "text": [
      "KNN Accuracy: 98.61%\n"
     ]
    }
   ],
   "source": [
    "from sklearn.neighbors import KNeighborsClassifier\n",
    "from sklearn.metrics import accuracy_score\n",
    "# 创建KNeighborsClassifier模型，使用kd树作为搜索算法\n",
    "knn = KNeighborsClassifier(n_neighbors=3, algorithm='kd_tree')\n",
    "\n",
    "# 在训练集上训练模型\n",
    "knn.fit(X_train, y_train)\n",
    "\n",
    "# 在测试集上进行预测\n",
    "y_pred = knn.predict(X_test)\n",
    "\n",
    "# 评估模型性能\n",
    "accuracy = accuracy_score(y_test, y_pred)\n",
    "print(f\"KNN Accuracy: {accuracy * 100:.2f}%\")"
   ]
  },
  {
   "cell_type": "markdown",
   "metadata": {},
   "source": [
    "### 自己实现KD树"
   ]
  },
  {
   "cell_type": "code",
   "execution_count": 81,
   "metadata": {},
   "outputs": [],
   "source": [
    "#| export\n",
    "\n",
    "# 定义KD树节点类\n",
    "class Node:\n",
    "    def __init__(self, data, left=None, right=None):\n",
    "        self.data = data #节点本身的数据\n",
    "        self.left = left #节点的左子树\n",
    "        self.right = right #节点右子树\n",
    "\n",
    "# 递归方法构建KD树\n",
    "\n",
    "def build_kd_tree(X, depth=0):\n",
    "    if len(X) == 0:\n",
    "        return None\n",
    "    k = X.shape[1]\n",
    "    axis = depth % k #根据当前深度，选择划分的维度\n",
    "    X = X[X[:, axis].argsort()]\n",
    "    median = X.shape[0] // 2 #将当前结点数据一分为二\n",
    "    return Node(data=X[median], left=build_kd_tree(X[:median], depth + 1), right=build_kd_tree(X[median + 1:], depth + 1))\n",
    "\n",
    "# 计算点之间的距离，这里使用欧几里得距离\n",
    "def euclidean_distance(x1, x2):\n",
    "    return np.sqrt(np.sum((x1 - x2) ** 2))"
   ]
  },
  {
   "cell_type": "code",
   "execution_count": null,
   "metadata": {},
   "outputs": [],
   "source": [
    "#| export\n",
    "from queue import PriorityQueue"
   ]
  },
  {
   "cell_type": "code",
   "execution_count": 226,
   "metadata": {},
   "outputs": [
    {
     "name": "stdout",
     "output_type": "stream",
     "text": [
      "(-13.30413469565007, 1.2)\n",
      "(0, <__main__.TestNode object at 0x7fee2b3e1f90>)\n"
     ]
    }
   ],
   "source": [
    "# 这里我们需要注意使用PriorityQueue的一个坑点，same priority 下 会崩溃； PriorityQueue文档没写，heapq写了\n",
    "# https://docs.python.org/3/library/heapq.html\n",
    "class TestNode:\n",
    "    def __init__(self, point):\n",
    "        self.point = point\n",
    "\n",
    "\n",
    "test1 = [\n",
    "    (-13.30413469565007, 1.2),\n",
    "    (-9.327379053088816, 0.0),\n",
    "    (-13.30413469565007, 1.4),\n",
    "]\n",
    "test2 = [\n",
    "    (-13.30413469565007, TestNode(1.2)),\n",
    "    (-9.327379053088816, TestNode(0.0)),\n",
    "    (-13.30413469565007, TestNode(1.4)),\n",
    "]\n",
    "\n",
    "test3 = [\n",
    "    (0, TestNode(1.2)),\n",
    "    (1, TestNode(0.0)),\n",
    "    (2, TestNode(1.4)),\n",
    "]\n",
    "\n",
    "test_pq = PriorityQueue()\n",
    "for t in test1:\n",
    "    test_pq.put(t)\n",
    "print(test_pq.get())\n",
    "test_pq = PriorityQueue()\n",
    "for t in test3:\n",
    "    test_pq.put(t)\n",
    "print(test_pq.get())\n",
    "# 注意这种情况下报错\n",
    "# for t in test2:\n",
    "#     test_pq.put(t)\n",
    "# print(test_pq.get())"
   ]
  },
  {
   "cell_type": "code",
   "execution_count": null,
   "metadata": {},
   "outputs": [],
   "source": [
    "#| export\n",
    "# 搜索KD树\n",
    "def search_kd_tree(tree, target, k=3):\n",
    "    if tree is None:\n",
    "        return []\n",
    "    # k_nearest = [] #list用于储存target当前遍历到的k个k近邻\n",
    "    # 我们使用优先队列来储存k_nearest，从而提高效率，优先队列中的元素为(-距离, 节点)的元组，距离远的先取出来\n",
    "    # k_nearest_pq = PriorityQueue(maxsize=k)\n",
    "    k_nearest_pq = PriorityQueue()\n",
    "    entry_count = 0\n",
    "    stack = [(tree, 0)] #用于储存待遍历节点的stack\n",
    "    while stack:\n",
    "        node, depth = stack.pop() # 节点出栈\n",
    "        if node is None:\n",
    "            continue\n",
    "        # print(\" \"*4*depth + f\"node: {node.data}, depth: {depth}\")\n",
    "        distance = euclidean_distance(target, node.data) #计算需要分类的目标点与节点的距离\n",
    "        \n",
    "        # 调换到前面\n",
    "        axis = depth % target.shape[0] #计算当前深度对应的划分维度\n",
    "        axis_diff = target[axis] - node.data[axis] #计算该维度下目标点与当前节点的差\n",
    "        \n",
    "        #如果k_nearest未装满或k_nearest中相距目标点最远的点与目标点的距离大于axis_diff的绝对值时，则另一边的子树也入栈\n",
    "        can_omit_another_side = True\n",
    "        # if len(k_nearest) < k: # 当k_nearest未装满时，直接将节点放入\n",
    "        # if k_nearest.qsize() < k: # 当k_nearest未装满时，直接将节点放入\n",
    "        if k_nearest_pq.qsize() < k: # 当k_nearest未装满时，直接将节点放入\n",
    "        # if not k_nearest_pq.full(): # 当k_nearest未装满时，直接将节点放入\n",
    "            # print(f\"not full, put {(-distance, node)}\")\n",
    "            pass #BLANK_1\n",
    "            # k_nearest.append((node, distance))\n",
    "            k_nearest_pq.put((-distance, entry_count, node))\n",
    "            entry_count+=1\n",
    "            can_omit_another_side = False\n",
    "        else: #当k_nearest装满时，对比该节点与k_nearest中与目标点距离最远的节点的距离，如果小于则替换，如果大于则不替换\n",
    "            pass #BLANK_2\n",
    "            farthest = k_nearest_pq.get()\n",
    "            farthest_distance = -farthest[0]\n",
    "            # print(f\"full, farthest: {farthest}\")\n",
    "            if distance < farthest_distance:\n",
    "                # print(f\"closer, put {(-distance, node)}\")\n",
    "                # assert isinstance(distance, float)\n",
    "                # print(k_nearest_pq.queue)\n",
    "                k_nearest_pq.put((-distance, entry_count, node))\n",
    "                entry_count+=1\n",
    "            else:\n",
    "                k_nearest_pq.put(farthest)\n",
    "            \n",
    "\n",
    "            if farthest_distance > abs(axis_diff): \n",
    "                can_omit_another_side = False\n",
    "        \n",
    "        if axis_diff <= 0: #当差小于0时则，该节点的左子树入栈 #如果k_nearest未装满或k_nearest中相距目标点最远的点与目标点的距离大于axis_diff的绝对值时，则右子树也入栈\n",
    "            pass #BLANK_3\n",
    "            stack.append((node.left, depth+1))\n",
    "            if not can_omit_another_side:\n",
    "                stack.append((node.right, depth+1))\n",
    "        else:#当差大于0时则，该节点的右子树入栈，#如果k_nearest未装满或k_nearest中相距目标点最远的点与目标点的距离大于axis_diff的绝对值时，则左子树也入栈\n",
    "            pass #BLANK_4\n",
    "            stack.append((node.right, depth+1))\n",
    "            if not can_omit_another_side:\n",
    "                stack.append((node.left, depth+1))\n",
    "    # return [data for data, _ in k_nearest] #返回遍历完的kd树后的k_nearest\n",
    "    # return [data for _, data in k_nearest] #返回遍历完的kd树后的k_nearest\n",
    "    return [k_nearest_pq.get()[-1].data for i in range(k_nearest_pq.qsize())] #返回遍历完的kd树后的k_nearest\n",
    "\n",
    "# 使用KNN算法分类\n",
    "def knn_classifier(X_train, y_train, X_test, k=3):\n",
    "    y_pred = []\n",
    "    for i, test_point in enumerate(X_test):\n",
    "        k_nearest = search_kd_tree(kd_tree, test_point, k)\n",
    "        # print(k_nearest)\n",
    "        # print(i)\n",
    "        labels = [y_train[np.where((X_train == point).all(axis=1))[0][0]] for point in k_nearest]\n",
    "        counts = np.bincount(labels)#计算k_nearest中样本最多的标签，预测目标样本为该标签\n",
    "        y_pred.append(np.argmax(counts))\n",
    "    return y_pred\n"
   ]
  },
  {
   "cell_type": "code",
   "execution_count": null,
   "metadata": {},
   "outputs": [],
   "source": [
    "# 构建KD树\n",
    "kd_tree = build_kd_tree(X_train)"
   ]
  },
  {
   "cell_type": "code",
   "execution_count": null,
   "metadata": {},
   "outputs": [
    {
     "name": "stdout",
     "output_type": "stream",
     "text": [
      "KNN Accuracy: 98.61%\n"
     ]
    }
   ],
   "source": [
    "# 使用KNN算法进行分类\n",
    "k_neighbors = 3\n",
    "y_pred = knn_classifier(X_train, y_train, X_test, k_neighbors)\n",
    "\n",
    "# 评估分类性能\n",
    "accuracy = accuracy_score(y_test, y_pred)\n",
    "print(f\"KNN Accuracy: {accuracy * 100:.2f}%\")"
   ]
  },
  {
   "cell_type": "markdown",
   "metadata": {},
   "source": [
    "### 超参数调优"
   ]
  },
  {
   "cell_type": "markdown",
   "metadata": {},
   "source": [
    "实验题目要求我们对 knn 进⾏超参数的搜索。那么什么是超参数搜索呢？为此我们需要理解两个概念——超参数和搜索。\n",
    "\n",
    "#### 什么是参数？什么是超参数？什么是元参数？\n",
    "\n",
    "在大数据分析中，我们往往不知道数据的总体，只能获得数据的一个采样。然而我们对数据的总体是什么分布非常感兴趣，这些未知的分布，我们假设可能是由一些参数来决定的，我们需要根据采样出来的数据对总体的参数进行参数估计（Parameter Estimation）。比如说总体是高斯分布，那么高斯分布的均值和方差就是参数。\n",
    "\n",
    "刚才我们说了参数是什么，那么什么是超参数呢？参数估计我们通常会用极大似然估计方法，但是相比于贝叶斯参数估计来说有一定的局限性。在贝叶斯机器学习中，我们认为参数本身也是有一个概率分布的，而不是确定的值，而描述参数分布的参数，我们称之为超参数。当然，我们可以认为超参数也有其分布，那么就有对应的超超参数，这种多层嵌套的结构称为贝叶斯网络。\n",
    "\n",
    "对应到机器学习和深度学习中，参数是指参数化模型的权重。但是我们没有在使用贝叶斯估计，并没有说这些模型权重具有一定的分布，那么超参数是怎么一回事呢？事实上，根据谷歌团队提出的《深度学习调优指南》[@tuningplaybookgithub]，深度学习社区错误地把学习率、批处理大小、正则化系数等参数叫做超参数，这是错误的。他们确实决定了模型的假设空间的不同，决定了最终的性能，而且在模型训练过程中不发生变化，而是决定了训练过程，但是他们本身并不是先验分布的参数，严格来说不应该叫做超参数，应该叫做元参数。\n",
    "\n",
    "#### 什么是搜索？\n",
    "\n",
    "搜索是人工智能中的重要的方法[@Russell_Norvig_2016]。搜索包括约束可满足问题和最优化问题，以及带有约束的优化问题。\n",
    "这里我们说的超参数优化，一般来说是带有约束的优化问题。\n",
    "其中约束是指，有些超参数组合如果错误地选择，会导致机器学习系统崩溃，或者算法无法收敛。\n",
    "\n",
    "然而这些约束我们很可能是不知道的，需要调参算法本身尝试。\n",
    "有时候我们发现的约束可能暗示着代码存在错误，或者深度学习模型本身的优化过程不够稳定，如果是后者，可以通过Gradient Clip, 降低学习率等方法来缓解。"
   ]
  },
  {
   "cell_type": "markdown",
   "metadata": {},
   "source": [
    "#### KNN和KD树有哪些元参数？\n",
    "上文我们辨析了KNN和KD树的关系，即是否选用KD树作为KNN的近邻搜索算法，本身是KNN的一个元参数，KNN也可以选择Ball Tree、Brute Force等其他近邻搜索算法。\n",
    "\n",
    "KD树本身也有一些元参数，比如分割方式、节点的选择方式等，这些元参数会影响KD树的构建和搜索的系统性能（时间复杂度、空间复杂度），但是不会影响到机器学习的性能（分类准确率、ROC-AUC等指标）。因为不影响机器学习的性能，在本节我们不讨论KD树的元参数如何调优。我们会在下一节，附加题中，讨论不同的KD树构建方式对搜索速度的影响。\n",
    "\n",
    "那么KNN作为一个机器学习算法，有哪些元参数需要调优呢？参考sklearn的KNeighborsClassifier类的参数说明，我们可以看到以下参数"
   ]
  },
  {
   "cell_type": "code",
   "execution_count": null,
   "metadata": {},
   "outputs": [
    {
     "name": "stdout",
     "output_type": "stream",
     "text": [
      "\u001b[0;31mInit signature:\u001b[0m\n",
      "\u001b[0mKNeighborsClassifier\u001b[0m\u001b[0;34m(\u001b[0m\u001b[0;34m\u001b[0m\n",
      "\u001b[0;34m\u001b[0m    \u001b[0mn_neighbors\u001b[0m\u001b[0;34m=\u001b[0m\u001b[0;36m5\u001b[0m\u001b[0;34m,\u001b[0m\u001b[0;34m\u001b[0m\n",
      "\u001b[0;34m\u001b[0m    \u001b[0;34m*\u001b[0m\u001b[0;34m,\u001b[0m\u001b[0;34m\u001b[0m\n",
      "\u001b[0;34m\u001b[0m    \u001b[0mweights\u001b[0m\u001b[0;34m=\u001b[0m\u001b[0;34m'uniform'\u001b[0m\u001b[0;34m,\u001b[0m\u001b[0;34m\u001b[0m\n",
      "\u001b[0;34m\u001b[0m    \u001b[0malgorithm\u001b[0m\u001b[0;34m=\u001b[0m\u001b[0;34m'auto'\u001b[0m\u001b[0;34m,\u001b[0m\u001b[0;34m\u001b[0m\n",
      "\u001b[0;34m\u001b[0m    \u001b[0mleaf_size\u001b[0m\u001b[0;34m=\u001b[0m\u001b[0;36m30\u001b[0m\u001b[0;34m,\u001b[0m\u001b[0;34m\u001b[0m\n",
      "\u001b[0;34m\u001b[0m    \u001b[0mp\u001b[0m\u001b[0;34m=\u001b[0m\u001b[0;36m2\u001b[0m\u001b[0;34m,\u001b[0m\u001b[0;34m\u001b[0m\n",
      "\u001b[0;34m\u001b[0m    \u001b[0mmetric\u001b[0m\u001b[0;34m=\u001b[0m\u001b[0;34m'minkowski'\u001b[0m\u001b[0;34m,\u001b[0m\u001b[0;34m\u001b[0m\n",
      "\u001b[0;34m\u001b[0m    \u001b[0mmetric_params\u001b[0m\u001b[0;34m=\u001b[0m\u001b[0;32mNone\u001b[0m\u001b[0;34m,\u001b[0m\u001b[0;34m\u001b[0m\n",
      "\u001b[0;34m\u001b[0m    \u001b[0mn_jobs\u001b[0m\u001b[0;34m=\u001b[0m\u001b[0;32mNone\u001b[0m\u001b[0;34m,\u001b[0m\u001b[0;34m\u001b[0m\n",
      "\u001b[0;34m\u001b[0m\u001b[0;34m)\u001b[0m\u001b[0;34m\u001b[0m\u001b[0;34m\u001b[0m\u001b[0m\n",
      "\u001b[0;31mDocstring:\u001b[0m     \n",
      "Classifier implementing the k-nearest neighbors vote.\n",
      "\n",
      "Read more in the :ref:`User Guide <classification>`.\n",
      "\n",
      "Parameters\n",
      "----------\n",
      "n_neighbors : int, default=5\n",
      "    Number of neighbors to use by default for :meth:`kneighbors` queries.\n",
      "\n",
      "weights : {'uniform', 'distance'}, callable or None, default='uniform'\n",
      "    Weight function used in prediction.  Possible values:\n",
      "\n",
      "    - 'uniform' : uniform weights.  All points in each neighborhood\n",
      "      are weighted equally.\n",
      "    - 'distance' : weight points by the inverse of their distance.\n",
      "      in this case, closer neighbors of a query point will have a\n",
      "      greater influence than neighbors which are further away.\n",
      "    - [callable] : a user-defined function which accepts an\n",
      "      array of distances, and returns an array of the same shape\n",
      "      containing the weights.\n",
      "\n",
      "    Refer to the example entitled\n",
      "    :ref:`sphx_glr_auto_examples_neighbors_plot_classification.py`\n",
      "    showing the impact of the `weights` parameter on the decision\n",
      "    boundary.\n",
      "\n",
      "algorithm : {'auto', 'ball_tree', 'kd_tree', 'brute'}, default='auto'\n",
      "    Algorithm used to compute the nearest neighbors:\n",
      "\n",
      "    - 'ball_tree' will use :class:`BallTree`\n",
      "    - 'kd_tree' will use :class:`KDTree`\n",
      "    - 'brute' will use a brute-force search.\n",
      "    - 'auto' will attempt to decide the most appropriate algorithm\n",
      "      based on the values passed to :meth:`fit` method.\n",
      "\n",
      "    Note: fitting on sparse input will override the setting of\n",
      "    this parameter, using brute force.\n",
      "\n",
      "leaf_size : int, default=30\n",
      "    Leaf size passed to BallTree or KDTree.  This can affect the\n",
      "    speed of the construction and query, as well as the memory\n",
      "    required to store the tree.  The optimal value depends on the\n",
      "    nature of the problem.\n",
      "\n",
      "p : float, default=2\n",
      "    Power parameter for the Minkowski metric. When p = 1, this is equivalent\n",
      "    to using manhattan_distance (l1), and euclidean_distance (l2) for p = 2.\n",
      "    For arbitrary p, minkowski_distance (l_p) is used. This parameter is expected\n",
      "    to be positive.\n",
      "\n",
      "metric : str or callable, default='minkowski'\n",
      "    Metric to use for distance computation. Default is \"minkowski\", which\n",
      "    results in the standard Euclidean distance when p = 2. See the\n",
      "    documentation of `scipy.spatial.distance\n",
      "    <https://docs.scipy.org/doc/scipy/reference/spatial.distance.html>`_ and\n",
      "    the metrics listed in\n",
      "    :class:`~sklearn.metrics.pairwise.distance_metrics` for valid metric\n",
      "    values.\n",
      "\n",
      "    If metric is \"precomputed\", X is assumed to be a distance matrix and\n",
      "    must be square during fit. X may be a :term:`sparse graph`, in which\n",
      "    case only \"nonzero\" elements may be considered neighbors.\n",
      "\n",
      "    If metric is a callable function, it takes two arrays representing 1D\n",
      "    vectors as inputs and must return one value indicating the distance\n",
      "    between those vectors. This works for Scipy's metrics, but is less\n",
      "    efficient than passing the metric name as a string.\n",
      "\n",
      "metric_params : dict, default=None\n",
      "    Additional keyword arguments for the metric function.\n",
      "\n",
      "n_jobs : int, default=None\n",
      "    The number of parallel jobs to run for neighbors search.\n",
      "    ``None`` means 1 unless in a :obj:`joblib.parallel_backend` context.\n",
      "    ``-1`` means using all processors. See :term:`Glossary <n_jobs>`\n",
      "    for more details.\n",
      "    Doesn't affect :meth:`fit` method.\n",
      "\n",
      "Attributes\n",
      "----------\n",
      "classes_ : array of shape (n_classes,)\n",
      "    Class labels known to the classifier\n",
      "\n",
      "effective_metric_ : str or callble\n",
      "    The distance metric used. It will be same as the `metric` parameter\n",
      "    or a synonym of it, e.g. 'euclidean' if the `metric` parameter set to\n",
      "    'minkowski' and `p` parameter set to 2.\n",
      "\n",
      "effective_metric_params_ : dict\n",
      "    Additional keyword arguments for the metric function. For most metrics\n",
      "    will be same with `metric_params` parameter, but may also contain the\n",
      "    `p` parameter value if the `effective_metric_` attribute is set to\n",
      "    'minkowski'.\n",
      "\n",
      "n_features_in_ : int\n",
      "    Number of features seen during :term:`fit`.\n",
      "\n",
      "    .. versionadded:: 0.24\n",
      "\n",
      "feature_names_in_ : ndarray of shape (`n_features_in_`,)\n",
      "    Names of features seen during :term:`fit`. Defined only when `X`\n",
      "    has feature names that are all strings.\n",
      "\n",
      "    .. versionadded:: 1.0\n",
      "\n",
      "n_samples_fit_ : int\n",
      "    Number of samples in the fitted data.\n",
      "\n",
      "outputs_2d_ : bool\n",
      "    False when `y`'s shape is (n_samples, ) or (n_samples, 1) during fit\n",
      "    otherwise True.\n",
      "\n",
      "See Also\n",
      "--------\n",
      "RadiusNeighborsClassifier: Classifier based on neighbors within a fixed radius.\n",
      "KNeighborsRegressor: Regression based on k-nearest neighbors.\n",
      "RadiusNeighborsRegressor: Regression based on neighbors within a fixed radius.\n",
      "NearestNeighbors: Unsupervised learner for implementing neighbor searches.\n",
      "\n",
      "Notes\n",
      "-----\n",
      "See :ref:`Nearest Neighbors <neighbors>` in the online documentation\n",
      "for a discussion of the choice of ``algorithm`` and ``leaf_size``.\n",
      "\n",
      ".. warning::\n",
      "\n",
      "   Regarding the Nearest Neighbors algorithms, if it is found that two\n",
      "   neighbors, neighbor `k+1` and `k`, have identical distances\n",
      "   but different labels, the results will depend on the ordering of the\n",
      "   training data.\n",
      "\n",
      "https://en.wikipedia.org/wiki/K-nearest_neighbor_algorithm\n",
      "\n",
      "Examples\n",
      "--------\n",
      ">>> X = [[0], [1], [2], [3]]\n",
      ">>> y = [0, 0, 1, 1]\n",
      ">>> from sklearn.neighbors import KNeighborsClassifier\n",
      ">>> neigh = KNeighborsClassifier(n_neighbors=3)\n",
      ">>> neigh.fit(X, y)\n",
      "KNeighborsClassifier(...)\n",
      ">>> print(neigh.predict([[1.1]]))\n",
      "[0]\n",
      ">>> print(neigh.predict_proba([[0.9]]))\n",
      "[[0.666... 0.333...]]\n",
      "\u001b[0;31mFile:\u001b[0m           ~/program_files/managers/conda/envs/hf_ai/lib/python3.10/site-packages/sklearn/neighbors/_classification.py\n",
      "\u001b[0;31mType:\u001b[0m           ABCMeta\n",
      "\u001b[0;31mSubclasses:\u001b[0m     "
     ]
    }
   ],
   "source": [
    "# help(KNeighborsClassifier)\n",
    "# 使用 ipython的 ? 可以更好地看到 函数和类的docstring信息。\n",
    "KNeighborsClassifier?"
   ]
  },
  {
   "cell_type": "markdown",
   "metadata": {},
   "source": [
    "其中这几个参数是和分类准确率有关的\n",
    "- `n_neighbors`, 也就是k\n",
    "- `weights`，检索出来的k个点用来决策，这些点一样重要吗？\n",
    "  - 我们李航书学的基础版本是uniform，而distance方法不一样在于\n",
    "  - 每一个点的投票权是距离的-1次方。（哈哈为什么不是像万有引力那样是-2次方）\n",
    "- `p`和`metric`和`metric_params`, 要怎么计算距离？\n",
    "\n",
    "而 `algorithm` `leaf_size` `n_jobs` 三个参数暂时和我们无关。"
   ]
  },
  {
   "cell_type": "code",
   "execution_count": null,
   "metadata": {},
   "outputs": [
    {
     "data": {
      "text/plain": [
       "dict_keys(['cityblock', 'cosine', 'euclidean', 'haversine', 'l2', 'l1', 'manhattan', 'precomputed', 'nan_euclidean'])"
      ]
     },
     "execution_count": 88,
     "metadata": {},
     "output_type": "execute_result"
    }
   ],
   "source": [
    "from sklearn.metrics.pairwise import distance_metrics\n",
    "distance_metrics().keys()"
   ]
  },
  {
   "cell_type": "markdown",
   "metadata": {},
   "source": [
    "#### 具体要怎么调参呢？\n",
    "\n",
    "如果我们就把调参问题当做搜索问题，那么它就是一个无梯度黑盒最优化问题。对于这类问题，最平凡（trivial）的搜索方法是全盘遍历（grid search），然而当搜索空间太大的时候，这就不是很高效了。一些基础的改进是贪心算法和随机化搜索方法，比如爬山法、随机采样法、模拟退火法等[@Russell_Norvig_2016]。而要想得到最先进（SOTA）的性能，演化计算和贝叶斯优化是两个最好的方法，也是目前人工智能仍然活跃的科研方向[@Russell_Norvig_2016]。\n",
    "\n",
    "然而调参问题并不完全是搜索问题。Google的《深度学习调优指南》[@tuningplaybookgithub]指出，调参是一个“探索与利用”（exploration and exploitation）的过程。我的理解是，在我们做深度学习研究的时候，我们其实更想知道，我们的方法对于那些超参数敏感，在其他方法也调到最优超参的情况下我的方法是否仍然显著优于其他方法，而不只是说我的方法在单单一个超参数上优于其他方法（选择“我的方法”还是“其他近期SOTA方法”就是一个离散型目标元参数）。因此，我们需要在调参的过程中理解不同的参数对于结果的影响。这其实也是作为科学家和研究者我们做科学实验的过程。调参的实质不是乱试，而是“控制变量”，参数就是自变量和无关变量，评价指标就是因变量。不过，与我们高中生物课学习的“控制变量法”稍有不同，无关变量不一定是控制相等，在计算资源充足时，无关变量应该控制到最优，所以这里有优化问题。\n",
    "\n",
    "对于具体的调参算法和代码而言，我们当然可以用sklearn默认提供的GridSearchCV、RandomizedSearchCV等方法，我猜做这个作业的大部分同学用的是这两个。但是刚才我们也说了，GridSearch代价太高，而RandomizedSearchCV以及贝叶斯优化、演化计算忙于“利用”，而没有进行单一变量原则，无法通过科学实验“探索”出我们想获得的insight。根据Google的建议，在探索阶段最适合的算法其实是准随机搜索算法（quasi random search）。\n",
    "\n",
    "因此，我们遵循google指南，使用Optuna+Ray Tune中的Quasi Random Search实现来进行调参。\n",
    "\n",
    "\n",
    "此外，我还实现了一个“学生实验算法”，这个算法从优化上来说是一种交替优化（alternating optimization）或者叫做多阶段优化（multi-stage optimization）的方法，即先固定一个超参数，然后在这个超参数下进行优化，再固定另一个超参数，再进行优化，以此类推，直到所有超参数都优化完毕。这个算法的好处是遵循了单一变量原则和无关变量控制相等原则，可以探索出很多结论。我把这个算法写成了一个pypi库，可见[github连接](https://github.com/2catycm/CosmicSelection.git)。\n",
    "\n",
    "\n",
    "在这里我们也做一个科学实验，实验假设是在其他参数最优时，使用\"distance\"的KNN比普通的\"uniform\"KNN的效果好。\n",
    "这样我们有一个研究的目标，相当于我们扮演那个提出\"distance\"方法的科学家，要和其他人的方法做比较才能发论文。"
   ]
  },
  {
   "cell_type": "markdown",
   "metadata": {},
   "source": [
    "#### 代码实现调优\n",
    "\n",
    "首先我们需要定义KNN元参数的分布空间"
   ]
  },
  {
   "cell_type": "code",
   "execution_count": null,
   "metadata": {},
   "outputs": [],
   "source": [
    "#| export\n",
    "from sklearn.metrics.pairwise import distance_metrics\n",
    "from ray import train, tune\n",
    "# https://docs.ray.io/en/latest/tune/tutorials/tune-search-spaces.html\n",
    "search_space = dict(\n",
    "    # weights = tune.grid_search([\"uniform\", \"distance\"]) \n",
    "    weights = tune.choice([\"uniform\", \"distance\"]) # 目标元参数， 我们的零假设是这两个distance不优于uniform，备择假设是distance更好。\n",
    "    ,n_neighbors = tune.randint(1, 20)  # 随机取整数。 TODO 我们还可以用左偏正态分布来建模这个参数的先验分布。\n",
    "    # ray tune也能处理条件分布，但是太复杂了，我们避免`p`参数依赖于`metric`参数生效的问题，我们换成choice来处理。\n",
    "    ,distance_metric = tune.choice([k for k in distance_metrics().keys() if k not in ['precomputed', 'haversine']]) # grid_search 是要求必须遍历的，而choice是随机选择。\n",
    ")"
   ]
  },
  {
   "cell_type": "markdown",
   "metadata": {},
   "source": [
    "然后我们定义评价函数"
   ]
  },
  {
   "cell_type": "code",
   "execution_count": 90,
   "metadata": {},
   "outputs": [],
   "source": [
    "#| hide\n",
    "    # random_seed = tune.grid_search([0, 1, 2]) # 做三次实验，因为KNN还是有随机性的（主要是验证集的划分；距离一样的时候选了谁、投票平票的时候决定是哪个类别，这两个sklearn中是确定的）\n",
    "    # ,\n",
    "    \n",
    "    \n",
    "    # np.random.seed(random_state)\n",
    "    # indices = np.arange(X_train.shape[0])\n",
    "    # np.random.shuffle(indices)\n",
    "    # scores = cross_val_score(knn, X_train, y_train, cv=5, scoring='accuracy')"
   ]
  },
  {
   "cell_type": "code",
   "execution_count": 91,
   "metadata": {},
   "outputs": [
    {
     "data": {
      "text/plain": [
       "[0.9826388888888888,\n",
       " 0.9861111111111112,\n",
       " 0.975609756097561,\n",
       " 0.975609756097561,\n",
       " 0.9930313588850174]"
      ]
     },
     "execution_count": 91,
     "metadata": {},
     "output_type": "execute_result"
    }
   ],
   "source": [
    "#| export\n",
    "# from sklearn.model_selection import cross_val_score\n",
    "from sklearn.neighbors import KNeighborsClassifier\n",
    "from sklearn.model_selection import KFold\n",
    "def evaluate_knn(weights:str, n_neighbors:int, distance_metric:str, random_seed:int = 42):\n",
    "    knn = KNeighborsClassifier(n_neighbors=n_neighbors, weights=weights, metric=distance_metric)\n",
    "\n",
    "    # 使用k fold交叉验证，相当于做了5次独立实验。\n",
    "    kf = KFold(n_splits=5, shuffle=True, random_state=random_seed)\n",
    "    \n",
    "    # 初始化存储每次交叉验证的分数\n",
    "    scores = []\n",
    "    \n",
    "    # 进行5折交叉验证\n",
    "    for train_index, test_index in kf.split(X_train):\n",
    "        # 分割训练集和测试集\n",
    "        X_train_fold, X_test_fold = X_train[train_index], X_train[test_index]\n",
    "        y_train_fold, y_test_fold = y_train[train_index], y_train[test_index]\n",
    "        \n",
    "        # 创建KNN分类器实例\n",
    "        knn = KNeighborsClassifier(n_neighbors=n_neighbors, weights=weights, metric=distance_metric)\n",
    "        \n",
    "        # 训练模型\n",
    "        knn.fit(X_train_fold, y_train_fold)\n",
    "        \n",
    "        # 预测测试集\n",
    "        y_pred = knn.predict(X_test_fold)\n",
    "        \n",
    "        # 计算准确率\n",
    "        score = accuracy_score(y_test_fold, y_pred)\n",
    "        scores.append(score)\n",
    "    return scores\n",
    "# 测试下函数能不能跑\n",
    "evaluate_knn(random_seed=43, weights='uniform', n_neighbors=5, distance_metric='euclidean')"
   ]
  },
  {
   "cell_type": "code",
   "execution_count": 92,
   "metadata": {},
   "outputs": [],
   "source": [
    "#| export\n",
    "# 符合optuna接口\n",
    "def objective(meta_parameters):\n",
    "    scores = evaluate_knn(**meta_parameters)\n",
    "    return dict(\n",
    "        mean_score=sum(scores)/len(scores),\n",
    "        std_score=np.std(scores),\n",
    "                )|{f\"score_{i}\":score for i,score in enumerate(scores)}"
   ]
  },
  {
   "cell_type": "markdown",
   "metadata": {},
   "source": [
    "接下来我们要定义使用的搜索算法。"
   ]
  },
  {
   "cell_type": "code",
   "execution_count": 93,
   "metadata": {},
   "outputs": [
    {
     "name": "stderr",
     "output_type": "stream",
     "text": [
      "/tmp/ipykernel_1950465/1902655269.py:6: ExperimentalWarning: QMCSampler is experimental (supported from v3.0.0). The interface can change in the future.\n",
      "  sampler = QMCSampler()\n"
     ]
    }
   ],
   "source": [
    "#| export\n",
    "from ray.tune.search import ConcurrencyLimiter\n",
    "from ray.tune.search.optuna import OptunaSearch\n",
    "from optuna.samplers import QMCSampler\n",
    "# quasi random search\n",
    "sampler = QMCSampler()\n",
    "algo = OptunaSearch(sampler=sampler)\n",
    "algo = ConcurrencyLimiter(algo, max_concurrent=4)"
   ]
  },
  {
   "cell_type": "code",
   "execution_count": null,
   "metadata": {},
   "outputs": [],
   "source": [
    "#| eval: false\n",
    "tuner = tune.Tuner(\n",
    "    objective,\n",
    "    tune_config=tune.TuneConfig(\n",
    "        metric=\"mean_score\",\n",
    "        mode=\"max\",\n",
    "        num_samples=100,\n",
    "        # num_samples=3,\n",
    "        search_alg=algo,\n",
    "    ),\n",
    "    param_space=search_space,\n",
    ")\n",
    "results:tune.ResultGrid  = tuner.fit()"
   ]
  },
  {
   "cell_type": "code",
   "execution_count": 95,
   "metadata": {},
   "outputs": [],
   "source": [
    "#| hide\n",
    "# import pickle\n",
    "# with open(f\"{experiment_dir}/tuner.pkl\", \"rb\") as f:\n",
    "#     tuner = pickle.load(f)\n",
    "# tuner"
   ]
  },
  {
   "cell_type": "code",
   "execution_count": 96,
   "metadata": {},
   "outputs": [],
   "source": [
    "experiment_dir = \"/home/ycm/ray_results/objective_2024-10-22_23-27-35\"\n",
    "# https://docs.ray.io/en/latest/tune/examples/tune_analyze_results.html\n",
    "restored_tuner = tune.Tuner.restore(experiment_dir, objective)\n",
    "results = restored_tuner.get_results()"
   ]
  },
  {
   "cell_type": "code",
   "execution_count": 97,
   "metadata": {},
   "outputs": [
    {
     "data": {
      "text/plain": [
       "[]"
      ]
     },
     "execution_count": 97,
     "metadata": {},
     "output_type": "execute_result"
    }
   ],
   "source": [
    "results.errors"
   ]
  },
  {
   "cell_type": "markdown",
   "metadata": {},
   "source": [
    "#### 调优结果分析"
   ]
  },
  {
   "cell_type": "code",
   "execution_count": 98,
   "metadata": {},
   "outputs": [
    {
     "data": {
      "text/plain": [
       "({'mean_score': 0.9860796554394116,\n",
       "  'std_score': 0.003124647521844644,\n",
       "  'score_0': 0.9861111111111112,\n",
       "  'score_1': 0.9895833333333334,\n",
       "  'score_2': 0.9825783972125436,\n",
       "  'score_3': 0.9825783972125436,\n",
       "  'score_4': 0.9895470383275261},\n",
       " {'weights': 'distance', 'n_neighbors': 1, 'distance_metric': 'euclidean'})"
      ]
     },
     "execution_count": 98,
     "metadata": {},
     "output_type": "execute_result"
    }
   ],
   "source": [
    "from ray.train import Result\n",
    "best_result:Result = results.get_best_result()\n",
    "{k:v for k,v in best_result.metrics.items() if \"score\" in k}, best_result.config"
   ]
  },
  {
   "cell_type": "code",
   "execution_count": 99,
   "metadata": {},
   "outputs": [
    {
     "data": {
      "text/html": [
       "<div>\n",
       "<style scoped>\n",
       "    .dataframe tbody tr th:only-of-type {\n",
       "        vertical-align: middle;\n",
       "    }\n",
       "\n",
       "    .dataframe tbody tr th {\n",
       "        vertical-align: top;\n",
       "    }\n",
       "\n",
       "    .dataframe thead th {\n",
       "        text-align: right;\n",
       "    }\n",
       "</style>\n",
       "<table border=\"1\" class=\"dataframe\">\n",
       "  <thead>\n",
       "    <tr style=\"text-align: right;\">\n",
       "      <th></th>\n",
       "      <th>mean_score</th>\n",
       "      <th>std_score</th>\n",
       "      <th>score_0</th>\n",
       "      <th>score_1</th>\n",
       "      <th>score_2</th>\n",
       "      <th>score_3</th>\n",
       "      <th>score_4</th>\n",
       "      <th>timestamp</th>\n",
       "      <th>checkpoint_dir_name</th>\n",
       "      <th>done</th>\n",
       "      <th>...</th>\n",
       "      <th>time_total_s</th>\n",
       "      <th>pid</th>\n",
       "      <th>hostname</th>\n",
       "      <th>node_ip</th>\n",
       "      <th>time_since_restore</th>\n",
       "      <th>iterations_since_restore</th>\n",
       "      <th>config/weights</th>\n",
       "      <th>config/n_neighbors</th>\n",
       "      <th>config/distance_metric</th>\n",
       "      <th>logdir</th>\n",
       "    </tr>\n",
       "  </thead>\n",
       "  <tbody>\n",
       "    <tr>\n",
       "      <th>0</th>\n",
       "      <td>0.978421</td>\n",
       "      <td>0.008356</td>\n",
       "      <td>0.972222</td>\n",
       "      <td>0.993056</td>\n",
       "      <td>0.972125</td>\n",
       "      <td>0.972125</td>\n",
       "      <td>0.982578</td>\n",
       "      <td>1729610862</td>\n",
       "      <td>None</td>\n",
       "      <td>False</td>\n",
       "      <td>...</td>\n",
       "      <td>0.142350</td>\n",
       "      <td>302368</td>\n",
       "      <td>amax</td>\n",
       "      <td>10.103.10.61</td>\n",
       "      <td>0.142350</td>\n",
       "      <td>1</td>\n",
       "      <td>uniform</td>\n",
       "      <td>8</td>\n",
       "      <td>l2</td>\n",
       "      <td>9db3a177</td>\n",
       "    </tr>\n",
       "    <tr>\n",
       "      <th>1</th>\n",
       "      <td>0.972854</td>\n",
       "      <td>0.006012</td>\n",
       "      <td>0.972222</td>\n",
       "      <td>0.982639</td>\n",
       "      <td>0.965157</td>\n",
       "      <td>0.968641</td>\n",
       "      <td>0.975610</td>\n",
       "      <td>1729610871</td>\n",
       "      <td>None</td>\n",
       "      <td>False</td>\n",
       "      <td>...</td>\n",
       "      <td>0.249111</td>\n",
       "      <td>303174</td>\n",
       "      <td>amax</td>\n",
       "      <td>10.103.10.61</td>\n",
       "      <td>0.249111</td>\n",
       "      <td>1</td>\n",
       "      <td>uniform</td>\n",
       "      <td>15</td>\n",
       "      <td>nan_euclidean</td>\n",
       "      <td>ad504238</td>\n",
       "    </tr>\n",
       "    <tr>\n",
       "      <th>2</th>\n",
       "      <td>0.978424</td>\n",
       "      <td>0.007435</td>\n",
       "      <td>0.972222</td>\n",
       "      <td>0.989583</td>\n",
       "      <td>0.968641</td>\n",
       "      <td>0.982578</td>\n",
       "      <td>0.979094</td>\n",
       "      <td>1729610864</td>\n",
       "      <td>None</td>\n",
       "      <td>False</td>\n",
       "      <td>...</td>\n",
       "      <td>0.072539</td>\n",
       "      <td>302745</td>\n",
       "      <td>amax</td>\n",
       "      <td>10.103.10.61</td>\n",
       "      <td>0.072539</td>\n",
       "      <td>1</td>\n",
       "      <td>distance</td>\n",
       "      <td>17</td>\n",
       "      <td>cosine</td>\n",
       "      <td>c0464454</td>\n",
       "    </tr>\n",
       "    <tr>\n",
       "      <th>3</th>\n",
       "      <td>0.986080</td>\n",
       "      <td>0.003125</td>\n",
       "      <td>0.986111</td>\n",
       "      <td>0.989583</td>\n",
       "      <td>0.982578</td>\n",
       "      <td>0.982578</td>\n",
       "      <td>0.989547</td>\n",
       "      <td>1729610866</td>\n",
       "      <td>None</td>\n",
       "      <td>False</td>\n",
       "      <td>...</td>\n",
       "      <td>0.051633</td>\n",
       "      <td>302934</td>\n",
       "      <td>amax</td>\n",
       "      <td>10.103.10.61</td>\n",
       "      <td>0.051633</td>\n",
       "      <td>1</td>\n",
       "      <td>distance</td>\n",
       "      <td>1</td>\n",
       "      <td>euclidean</td>\n",
       "      <td>5cc5dc31</td>\n",
       "    </tr>\n",
       "    <tr>\n",
       "      <th>4</th>\n",
       "      <td>0.974937</td>\n",
       "      <td>0.009465</td>\n",
       "      <td>0.975694</td>\n",
       "      <td>0.989583</td>\n",
       "      <td>0.961672</td>\n",
       "      <td>0.968641</td>\n",
       "      <td>0.979094</td>\n",
       "      <td>1729610869</td>\n",
       "      <td>None</td>\n",
       "      <td>False</td>\n",
       "      <td>...</td>\n",
       "      <td>0.401711</td>\n",
       "      <td>303051</td>\n",
       "      <td>amax</td>\n",
       "      <td>10.103.10.61</td>\n",
       "      <td>0.401711</td>\n",
       "      <td>1</td>\n",
       "      <td>uniform</td>\n",
       "      <td>10</td>\n",
       "      <td>nan_euclidean</td>\n",
       "      <td>8bd53b66</td>\n",
       "    </tr>\n",
       "  </tbody>\n",
       "</table>\n",
       "<p>5 rows × 24 columns</p>\n",
       "</div>"
      ],
      "text/plain": [
       "   mean_score  std_score   score_0   score_1   score_2   score_3   score_4  \\\n",
       "0    0.978421   0.008356  0.972222  0.993056  0.972125  0.972125  0.982578   \n",
       "1    0.972854   0.006012  0.972222  0.982639  0.965157  0.968641  0.975610   \n",
       "2    0.978424   0.007435  0.972222  0.989583  0.968641  0.982578  0.979094   \n",
       "3    0.986080   0.003125  0.986111  0.989583  0.982578  0.982578  0.989547   \n",
       "4    0.974937   0.009465  0.975694  0.989583  0.961672  0.968641  0.979094   \n",
       "\n",
       "    timestamp checkpoint_dir_name   done  ...  time_total_s     pid hostname  \\\n",
       "0  1729610862                None  False  ...      0.142350  302368     amax   \n",
       "1  1729610871                None  False  ...      0.249111  303174     amax   \n",
       "2  1729610864                None  False  ...      0.072539  302745     amax   \n",
       "3  1729610866                None  False  ...      0.051633  302934     amax   \n",
       "4  1729610869                None  False  ...      0.401711  303051     amax   \n",
       "\n",
       "        node_ip  time_since_restore  iterations_since_restore config/weights  \\\n",
       "0  10.103.10.61            0.142350                         1        uniform   \n",
       "1  10.103.10.61            0.249111                         1        uniform   \n",
       "2  10.103.10.61            0.072539                         1       distance   \n",
       "3  10.103.10.61            0.051633                         1       distance   \n",
       "4  10.103.10.61            0.401711                         1        uniform   \n",
       "\n",
       "  config/n_neighbors  config/distance_metric    logdir  \n",
       "0                  8                      l2  9db3a177  \n",
       "1                 15           nan_euclidean  ad504238  \n",
       "2                 17                  cosine  c0464454  \n",
       "3                  1               euclidean  5cc5dc31  \n",
       "4                 10           nan_euclidean  8bd53b66  \n",
       "\n",
       "[5 rows x 24 columns]"
      ]
     },
     "execution_count": 99,
     "metadata": {},
     "output_type": "execute_result"
    }
   ],
   "source": [
    "df = results.get_dataframe(\n",
    "    filter_metric=\"mean_score\", filter_mode=\"max\"\n",
    ")\n",
    "df.head()"
   ]
  },
  {
   "cell_type": "code",
   "execution_count": 100,
   "metadata": {},
   "outputs": [
    {
     "data": {
      "text/html": [
       "<div>\n",
       "<style scoped>\n",
       "    .dataframe tbody tr th:only-of-type {\n",
       "        vertical-align: middle;\n",
       "    }\n",
       "\n",
       "    .dataframe tbody tr th {\n",
       "        vertical-align: top;\n",
       "    }\n",
       "\n",
       "    .dataframe thead th {\n",
       "        text-align: right;\n",
       "    }\n",
       "</style>\n",
       "<table border=\"1\" class=\"dataframe\">\n",
       "  <thead>\n",
       "    <tr style=\"text-align: right;\">\n",
       "      <th></th>\n",
       "      <th>mean_score</th>\n",
       "      <th>std_score</th>\n",
       "      <th>score_0</th>\n",
       "      <th>score_1</th>\n",
       "      <th>score_2</th>\n",
       "      <th>score_3</th>\n",
       "      <th>score_4</th>\n",
       "      <th>config/weights</th>\n",
       "      <th>config/n_neighbors</th>\n",
       "      <th>config/distance_metric</th>\n",
       "    </tr>\n",
       "  </thead>\n",
       "  <tbody>\n",
       "    <tr>\n",
       "      <th>0</th>\n",
       "      <td>0.978421</td>\n",
       "      <td>0.008356</td>\n",
       "      <td>0.972222</td>\n",
       "      <td>0.993056</td>\n",
       "      <td>0.972125</td>\n",
       "      <td>0.972125</td>\n",
       "      <td>0.982578</td>\n",
       "      <td>uniform</td>\n",
       "      <td>8</td>\n",
       "      <td>l2</td>\n",
       "    </tr>\n",
       "    <tr>\n",
       "      <th>1</th>\n",
       "      <td>0.972854</td>\n",
       "      <td>0.006012</td>\n",
       "      <td>0.972222</td>\n",
       "      <td>0.982639</td>\n",
       "      <td>0.965157</td>\n",
       "      <td>0.968641</td>\n",
       "      <td>0.975610</td>\n",
       "      <td>uniform</td>\n",
       "      <td>15</td>\n",
       "      <td>nan_euclidean</td>\n",
       "    </tr>\n",
       "    <tr>\n",
       "      <th>2</th>\n",
       "      <td>0.978424</td>\n",
       "      <td>0.007435</td>\n",
       "      <td>0.972222</td>\n",
       "      <td>0.989583</td>\n",
       "      <td>0.968641</td>\n",
       "      <td>0.982578</td>\n",
       "      <td>0.979094</td>\n",
       "      <td>distance</td>\n",
       "      <td>17</td>\n",
       "      <td>cosine</td>\n",
       "    </tr>\n",
       "    <tr>\n",
       "      <th>3</th>\n",
       "      <td>0.986080</td>\n",
       "      <td>0.003125</td>\n",
       "      <td>0.986111</td>\n",
       "      <td>0.989583</td>\n",
       "      <td>0.982578</td>\n",
       "      <td>0.982578</td>\n",
       "      <td>0.989547</td>\n",
       "      <td>distance</td>\n",
       "      <td>1</td>\n",
       "      <td>euclidean</td>\n",
       "    </tr>\n",
       "    <tr>\n",
       "      <th>4</th>\n",
       "      <td>0.974937</td>\n",
       "      <td>0.009465</td>\n",
       "      <td>0.975694</td>\n",
       "      <td>0.989583</td>\n",
       "      <td>0.961672</td>\n",
       "      <td>0.968641</td>\n",
       "      <td>0.979094</td>\n",
       "      <td>uniform</td>\n",
       "      <td>10</td>\n",
       "      <td>nan_euclidean</td>\n",
       "    </tr>\n",
       "  </tbody>\n",
       "</table>\n",
       "</div>"
      ],
      "text/plain": [
       "   mean_score  std_score   score_0   score_1   score_2   score_3   score_4  \\\n",
       "0    0.978421   0.008356  0.972222  0.993056  0.972125  0.972125  0.982578   \n",
       "1    0.972854   0.006012  0.972222  0.982639  0.965157  0.968641  0.975610   \n",
       "2    0.978424   0.007435  0.972222  0.989583  0.968641  0.982578  0.979094   \n",
       "3    0.986080   0.003125  0.986111  0.989583  0.982578  0.982578  0.989547   \n",
       "4    0.974937   0.009465  0.975694  0.989583  0.961672  0.968641  0.979094   \n",
       "\n",
       "  config/weights  config/n_neighbors config/distance_metric  \n",
       "0        uniform                   8                     l2  \n",
       "1        uniform                  15          nan_euclidean  \n",
       "2       distance                  17                 cosine  \n",
       "3       distance                   1              euclidean  \n",
       "4        uniform                  10          nan_euclidean  "
      ]
     },
     "execution_count": 100,
     "metadata": {},
     "output_type": "execute_result"
    }
   ],
   "source": [
    "intersted_cols = [c for c in df.columns if c.startswith(\"config\") or \"score\" in c]\n",
    "dfi = df[intersted_cols]\n",
    "dfi.head()"
   ]
  },
  {
   "cell_type": "markdown",
   "metadata": {},
   "source": [
    "首先我们从整体上来看两个方法（distance和uniform）的性能差异。"
   ]
  },
  {
   "cell_type": "code",
   "execution_count": 101,
   "metadata": {},
   "outputs": [],
   "source": [
    "#|hide\n",
    "# import matplotlib.pyplot as plt\n",
    "\n",
    "# fig, ax = plt.subplots()\n",
    "# # 绘制每个配置的分数箱型图\n",
    "# # dfi.boxplot(by='config/weights', column=['mean_score'], ax=ax)\n",
    "# grouped = df.groupby('config/weights')\n",
    "# grouped\n",
    "# groups = [group['mean_score'] for name, group in grouped]\n",
    "# ax.boxplot(groups)\n",
    "# for name, group in grouped:\n",
    "#     plt.scatter([name]*len(group), group['mean_score'], marker='o', c='red')\n",
    "# # plt.scatter(dfi['config/weights'], dfi['mean_score'], marker='o', c='red')\n",
    "\n",
    "# plt.show()"
   ]
  },
  {
   "cell_type": "code",
   "execution_count": 102,
   "metadata": {},
   "outputs": [
    {
     "data": {
      "text/plain": [
       "<Axes: xlabel='config/weights', ylabel='mean_score'>"
      ]
     },
     "execution_count": 102,
     "metadata": {},
     "output_type": "execute_result"
    },
    {
     "data": {
      "image/png": "[encoded data removed]",
      "text/plain": [
       "<Figure size 640x480 with 1 Axes>"
      ]
     },
     "metadata": {},
     "output_type": "display_data"
    }
   ],
   "source": [
    "#| fig-cap: \"uniform与distance方法平均准确率箱线图对比\"\n",
    "#| fig-alt: \"每一个红点是一次实验结果，平均准确率是每一次实验中五折交叉验证的平均值。\"\n",
    "import matplotlib.pyplot as plt\n",
    "fig, ax = plt.subplots()\n",
    "import seaborn as sns\n",
    "sns.boxplot(data=dfi, x='config/weights', y='mean_score', ax=ax)\n",
    "dfi.plot(x='config/weights', y='mean_score', ax=ax, kind='scatter', c='red')"
   ]
  },
  {
   "cell_type": "markdown",
   "metadata": {},
   "source": [
    "以上的结果并没有控制变量，是直接进行了一个统计。相关性不代表因果性，所以上面的结果仅仅代表了在我们调参采样过程中，自变量“weights”与因变量“mean_score”的一定的相关性。\n",
    "如果我们不知道每一次实验具体的其他的无关变量，上面的图我们也可以做一个合理的假设检验（验证我们的实验假设的零假设是否要拒绝！）。\n",
    "\n",
    "根据论文[@Demšar_2006]，在机器学习中应该使用mann-whitney U检验和Wilcoxon signed-rank检验，因为这两个检验对样本的分布没有假定，而其他的一些检验比如t检验不太适用与样本分布不符合假设分布的情况。其中对于 “不知道每一次实验的其他无关变量是什么”的情况，也就是说自变量取“distance”和“uniform”得到的两列样本是独立（independent）的时候，应当使用mann-whitney U检验。"
   ]
  },
  {
   "cell_type": "code",
   "execution_count": 103,
   "metadata": {},
   "outputs": [
    {
     "name": "stdout",
     "output_type": "stream",
     "text": [
      "Reject null hypothesis! `distance` is significantly better than `uniform`\n"
     ]
    }
   ],
   "source": [
    "from scipy.stats import mannwhitneyu\n",
    "grouped = dfi.groupby('config/weights')\n",
    "group_mean_scores = {name:group['mean_score'] for name, group in grouped}\n",
    "scores_for_distance = group_mean_scores['distance']\n",
    "scores_for_uniform = group_mean_scores['uniform']\n",
    "u, p = mannwhitneyu(scores_for_distance, scores_for_uniform, \n",
    "                    alternative='greater' # 实验备则假设，distance 方法更好\n",
    "                    )\n",
    "if p < 0.05:\n",
    "    print(\"Reject null hypothesis! `distance` is significantly better than `uniform`\")"
   ]
  },
  {
   "cell_type": "markdown",
   "metadata": {},
   "source": [
    "刚才我们只是整体分析。\n",
    "接下来我们要寻找控制其他变量最优时，两个方法各自最优的参数是什么？以及这两个方法对哪些超参数比较敏感？\n",
    "\n",
    "我们先回答第一个问题，我们从刚才的表格筛选一下。"
   ]
  },
  {
   "cell_type": "code",
   "execution_count": 104,
   "metadata": {},
   "outputs": [
    {
     "data": {
      "text/html": [
       "<div>\n",
       "<style scoped>\n",
       "    .dataframe tbody tr th:only-of-type {\n",
       "        vertical-align: middle;\n",
       "    }\n",
       "\n",
       "    .dataframe tbody tr th {\n",
       "        vertical-align: top;\n",
       "    }\n",
       "\n",
       "    .dataframe thead th {\n",
       "        text-align: right;\n",
       "    }\n",
       "</style>\n",
       "<table border=\"1\" class=\"dataframe\">\n",
       "  <thead>\n",
       "    <tr style=\"text-align: right;\">\n",
       "      <th></th>\n",
       "      <th>mean_score</th>\n",
       "      <th>std_score</th>\n",
       "      <th>score_0</th>\n",
       "      <th>score_1</th>\n",
       "      <th>score_2</th>\n",
       "      <th>score_3</th>\n",
       "      <th>score_4</th>\n",
       "      <th>config/weights</th>\n",
       "      <th>config/n_neighbors</th>\n",
       "      <th>config/distance_metric</th>\n",
       "    </tr>\n",
       "  </thead>\n",
       "  <tbody>\n",
       "    <tr>\n",
       "      <th>3</th>\n",
       "      <td>0.98608</td>\n",
       "      <td>0.003125</td>\n",
       "      <td>0.986111</td>\n",
       "      <td>0.989583</td>\n",
       "      <td>0.982578</td>\n",
       "      <td>0.982578</td>\n",
       "      <td>0.989547</td>\n",
       "      <td>distance</td>\n",
       "      <td>1</td>\n",
       "      <td>euclidean</td>\n",
       "    </tr>\n",
       "    <tr>\n",
       "      <th>36</th>\n",
       "      <td>0.98608</td>\n",
       "      <td>0.003125</td>\n",
       "      <td>0.986111</td>\n",
       "      <td>0.989583</td>\n",
       "      <td>0.982578</td>\n",
       "      <td>0.982578</td>\n",
       "      <td>0.989547</td>\n",
       "      <td>uniform</td>\n",
       "      <td>1</td>\n",
       "      <td>l2</td>\n",
       "    </tr>\n",
       "  </tbody>\n",
       "</table>\n",
       "</div>"
      ],
      "text/plain": [
       "    mean_score  std_score   score_0   score_1   score_2   score_3   score_4  \\\n",
       "3      0.98608   0.003125  0.986111  0.989583  0.982578  0.982578  0.989547   \n",
       "36     0.98608   0.003125  0.986111  0.989583  0.982578  0.982578  0.989547   \n",
       "\n",
       "   config/weights  config/n_neighbors config/distance_metric  \n",
       "3        distance                   1              euclidean  \n",
       "36        uniform                   1                     l2  "
      ]
     },
     "execution_count": 104,
     "metadata": {},
     "output_type": "execute_result"
    }
   ],
   "source": [
    "max_rows = dfi.loc[df.groupby('config/weights')['mean_score'].idxmax()]\n",
    "max_rows"
   ]
  },
  {
   "cell_type": "markdown",
   "metadata": {},
   "source": [
    "这里我们可以对5次实验的结果进行统计分析，由于这五次实验是相关的，即这五次实验每一次用的同一个fold去训练，所以这里我们不应当用mann-whitney U检验，这一次我们要用Wilcoxon signed-rank检验。"
   ]
  },
  {
   "cell_type": "code",
   "execution_count": 105,
   "metadata": {},
   "outputs": [
    {
     "data": {
      "text/plain": [
       "[0.9861111111111112,\n",
       " 0.9895833333333334,\n",
       " 0.9825783972125436,\n",
       " 0.9825783972125436,\n",
       " 0.9895470383275261]"
      ]
     },
     "execution_count": 105,
     "metadata": {},
     "output_type": "execute_result"
    }
   ],
   "source": [
    "#| hide\n",
    "[v for k, v in max_rows.iloc[0].to_dict().items() if k.startswith('score_')]"
   ]
  },
  {
   "cell_type": "code",
   "execution_count": 106,
   "metadata": {},
   "outputs": [
    {
     "name": "stdout",
     "output_type": "stream",
     "text": [
      "Null hypothesis cannot be rejected, so I have to accept it. \n"
     ]
    },
    {
     "name": "stderr",
     "output_type": "stream",
     "text": [
      "/home/ycm/program_files/managers/conda/envs/hf_ai/lib/python3.10/site-packages/scipy/stats/_axis_nan_policy.py:531: UserWarning: Exact p-value calculation does not work if there are zeros. Switching to normal approximation.\n",
      "  res = hypotest_fun_out(*samples, **kwds)\n",
      "/home/ycm/program_files/managers/conda/envs/hf_ai/lib/python3.10/site-packages/scipy/stats/_axis_nan_policy.py:531: UserWarning: Sample size too small for normal approximation.\n",
      "  res = hypotest_fun_out(*samples, **kwds)\n"
     ]
    }
   ],
   "source": [
    "from scipy.stats import wilcoxon\n",
    "\n",
    "scores_for_distance = [v for k, v in max_rows.iloc[0].to_dict().items() if k.startswith('score_')]\n",
    "scores_for_uniform = [v for k, v in max_rows.iloc[1].to_dict().items() if k.startswith('score_')]\n",
    "u, p = wilcoxon(scores_for_distance, scores_for_uniform, \n",
    "                zero_method='zsplit',\n",
    "                    alternative='greater' # 实验备则假设，distance 方法更好\n",
    "                    )\n",
    "if p> 0.05:\n",
    "    print(\"Null hypothesis cannot be rejected, so I have to accept it. \")"
   ]
  },
  {
   "cell_type": "markdown",
   "metadata": {},
   "source": [
    "原来，当我们控制无关变量最优时，两个方法的性能能达到一致。具体来说，这里种找到的最优超参数正好是让knn的k为1，所以这个情况下distance方法和n_neighbors方法没有区别。按照谷歌调参手册的科研方法，对于这个数据集来说就无法说明这两个方法的优劣了。\n",
    "\n",
    "然而，我个人认为，一个方法之所以被学术界认为有价值，在于这个方法能被其他人follow和cite。什么样的方法能对其他人的工作有帮助，什么样的方法就有价值。形式化一点来说，对 “其他人的工作”这个随机分布而言，我们的方法“应用上去之后，比不应用我们的方法或者使用其他方法更好”这个随机变量的期望值就是我们做科研应该追求的价值。\n",
    "\n",
    "需要注意的是，“其他人的工作”由于他们计算资源以及研究者认知的局限，是比较不可能为你的方法调整整个实验流程其他的元参数或者说无关变量的。换句话说，如果你的方法需要其他人为你的方法来调参才能表现良好，那么你的方法的价值其实也是比较有限的。\n",
    "\n",
    "在这里我们就遇到这个情况，在大部分随机的无关变量上，我们看到假设检验拒绝了零假设，说明distance方法期望地来说是对其他研究人员有帮助的，然而当调参到最优时，他们又都能达到最好。\n"
   ]
  },
  {
   "cell_type": "markdown",
   "metadata": {},
   "source": [
    "现在我们回答第二个问题，这两个方法分别对其他元参数的敏感性如何?\n",
    "首先分析对n_neighbors的敏感性。这个是通过quasi random search采样的。"
   ]
  },
  {
   "cell_type": "code",
   "execution_count": 107,
   "metadata": {},
   "outputs": [],
   "source": [
    "import copy\n",
    "# 为了解决seaborn开发者不愿意支持用户看到拟合曲线参数的问题，我们查找到了下面的解决方案\n",
    "# 本代码参考 https://stackoverflow.com/questions/22852244/how-to-get-the-numerical-fitting-results-when-plotting-a-regression-in-seaborn\n",
    "def regplot(\n",
    "    *args,\n",
    "    line_kws=None,\n",
    "    marker=None,\n",
    "    scatter_kws=None,\n",
    "    **kwargs\n",
    "):\n",
    "    # this is the class that `sns.regplot` uses\n",
    "    plotter = sns.regression._RegressionPlotter(*args, **kwargs)\n",
    "\n",
    "    # this is essentially the code from `sns.regplot`\n",
    "    ax = kwargs.get(\"ax\", None)\n",
    "    if ax is None:\n",
    "        ax = plt.gca()\n",
    "\n",
    "    scatter_kws = {} if scatter_kws is None else copy.copy(scatter_kws)\n",
    "    scatter_kws[\"marker\"] = marker\n",
    "    line_kws = {} if line_kws is None else copy.copy(line_kws)\n",
    "\n",
    "    plotter.plot(ax, scatter_kws, line_kws)\n",
    "\n",
    "    # unfortunately the regression results aren't stored, so we rerun\n",
    "    grid, yhat, err_bands = plotter.fit_regression(plt.gca())\n",
    "\n",
    "    # also unfortunately, this doesn't return the parameters, so we infer them\n",
    "    slope = (yhat[-1] - yhat[0]) / (grid[-1] - grid[0])\n",
    "    intercept = yhat[0] - slope * grid[0]\n",
    "    return slope, intercept"
   ]
  },
  {
   "cell_type": "code",
   "execution_count": 108,
   "metadata": {},
   "outputs": [
    {
     "data": {
      "image/png": "[encoded data removed]",
      "text/plain": [
       "<Figure size 640x480 with 1 Axes>"
      ]
     },
     "metadata": {},
     "output_type": "display_data"
    },
    {
     "name": "stdout",
     "output_type": "stream",
     "text": [
      "For distance, the regression line is y = -9.18e-04x + 9.87e-01\n",
      "For uniform, the regression line is y = -9.86e-04x + 9.84e-01\n"
     ]
    }
   ],
   "source": [
    "#| label: fig-n_neighbors\n",
    "#| fig-cap: \"Relationship between n_neighbors and mean_score\"\n",
    "#| fig-alt: \"在图中我们画出了拟合的直线以及之前的95%置信区间。\"\n",
    "f = plt.figure()\n",
    "ax = f.add_subplot(1,1,1)\n",
    "line_dict = {}\n",
    "for name, group in grouped:\n",
    "    # plt.scatter(group['config/n_neighbors'], group['mean_score'], label=name)\n",
    "    # p = sns.regplot(x='config/n_neighbors', y='mean_score', data=dfi, fit_reg=True, ax=ax)\n",
    "    k, b = regplot(x='config/n_neighbors', y='mean_score', data=group, label=name, fit_reg=True)\n",
    "    line_dict[name] = (k, b)\n",
    "    \n",
    "\n",
    "# sns.lmplot(x='config/n_neighbors', y='mean_score', data=dfi, hue=\"config/weights\", fit_reg=True)\n",
    "# 使用整数x坐标轴\n",
    "plt.xticks(range(1, 21))\n",
    "# plt.xlabel('n_neighbors')\n",
    "# plt.ylabel('mean_score')\n",
    "plt.legend()\n",
    "# plt.title(\"Relationship between n_neighbors and mean_score\")\n",
    "plt.show()\n",
    "# p.get_lines()[0].get_xdata(), p.get_lines()[0].get_ydata()\n",
    "for name, (k, b) in line_dict.items():\n",
    "    print(f\"For {name}, the regression line is y = {k:.2e}x + {b:.2e}\")"
   ]
  },
  {
   "cell_type": "markdown",
   "metadata": {},
   "source": [
    "从图 @fig-n_neighbors 中可以看出，在数字识别问题上，无论是distance方法还是uniform方法，都是neighbors数量越多，精度反而越低。\n",
    "\n",
    "从斜率上来看可能会以为这个问题很小，只是稍微减少了精度，但是从视觉上好像确实下降地很明显。我们为了从统计上说明清楚到底下降地显不显著，可以进一步通过皮尔森相关系数以及斯皮尔曼相关系数对应的假设检验来验证这个问题。"
   ]
  },
  {
   "cell_type": "code",
   "execution_count": 109,
   "metadata": {},
   "outputs": [
    {
     "name": "stdout",
     "output_type": "stream",
     "text": [
      "pearsonr  correlation coefficient: between config/n_neighbors and mean_score: -0.8148057329177487, p-value: 6.1435506488484e-25\n",
      "The correlation is significant!\n",
      "spearmanr  correlation coefficient: between config/n_neighbors and mean_score: -0.8085147488740115, p-value: 2.6833127946483235e-24\n",
      "The correlation is significant!\n"
     ]
    }
   ],
   "source": [
    "def test_correlation_with(x, y, data, test_func, alpha=0.05):\n",
    "    correlation, p_value = test_func(data[x], data[y])\n",
    "    print(f\"{test_func.__name__}  correlation coefficient: between {x} and {y}: {correlation}, p-value: {p_value}\")\n",
    "    if p_value < alpha:\n",
    "        print(\"The correlation is significant!\")\n",
    "    else:\n",
    "        print(\"The correlation is not significant.\")\n",
    "\n",
    "from scipy.stats import pearsonr, spearmanr\n",
    "test_correlation_with('config/n_neighbors', 'mean_score', dfi, pearsonr)\n",
    "test_correlation_with('config/n_neighbors', 'mean_score', dfi, spearmanr)"
   ]
  },
  {
   "cell_type": "markdown",
   "metadata": {},
   "source": [
    "### 附加任务: 尝试使⽤不同的策略来构建 KD 树，使得在分类阶段可以有更快的分类效率\n",
    "\n",
    "注意我们这里探索要修改的目标是构建 KD 树的过程，也就是要改变KD树的结构，而不是修改KNN分类算法，主要也不是修改KD树的搜索算法。\n",
    "这里我们的目标是让搜索的效率更高。\n"
   ]
  },
  {
   "cell_type": "markdown",
   "metadata": {},
   "source": [
    "文献@KD-means中总结了KD树构造时的一些常见策略，其中最重要的就是splitting method。分割一个父节点的时候，我们需要决定1. 在哪个数据维度（𝑠𝑑）上进行划分 2. 这个维度上哪个值作为划分点。对于第一点，作者选择范围最广的维度（𝑚𝑎𝑥 − 𝑚𝑖𝑛）来进行划分。\n",
    "\n",
    "对于第二点，作者选择了滑动中点分割规则，因为它比其他经典规则提供了更优化的数据组织。这种规则不会产生空节点或数据空间非常稀疏的节点。与选择中位数作为切割值的经典规则不同，滑动中点分割规则选择点的中间值（（最大值𝑚𝑎𝑥 + 最小值𝑚𝑖𝑛）/ 2），这样做成本更低。\n",
    "\n",
    "作者还提到KD树的构建过程中可以限制KD树的深度。但是我不太懂如果限制了深度，不是叶子节点的地方在搜索时应该如何处理，退化为暴力吗？"
   ]
  },
  {
   "cell_type": "markdown",
   "metadata": {},
   "source": [
    "在我们实现新的算法之前，我们首先测试一下没改进之前的算法的速度。"
   ]
  },
  {
   "cell_type": "code",
   "execution_count": 110,
   "metadata": {},
   "outputs": [
    {
     "name": "stdout",
     "output_type": "stream",
     "text": [
      "5 s ± 100 ms per loop (mean ± std. dev. of 7 runs, 1 loop each)\n"
     ]
    }
   ],
   "source": [
    "%timeit y_pred = knn_classifier(X_train, y_train, X_test, k_neighbors)"
   ]
  },
  {
   "cell_type": "markdown",
   "metadata": {},
   "source": [
    "现在我们来实现更快的KD树。"
   ]
  },
  {
   "cell_type": "code",
   "execution_count": null,
   "metadata": {},
   "outputs": [
    {
     "data": {
      "text/plain": [
       "(__main__.Node, <function __main__.euclidean_distance(x1, x2)>)"
      ]
     },
     "execution_count": 111,
     "metadata": {},
     "output_type": "execute_result"
    }
   ],
   "source": [
    "# 复用上面的一些定义\n",
    "Node, euclidean_distance"
   ]
  },
  {
   "cell_type": "code",
   "execution_count": 196,
   "metadata": {},
   "outputs": [],
   "source": [
    "from typing import Callable\n",
    "verbose = False\n",
    "def fast_build_kd_tree(X, axis_order_list:list, strategy = \"median\", depth=0):\n",
    "    if len(X) == 0:\n",
    "        return None\n",
    "    k = X.shape[1]\n",
    "    # 根据当前深度，选择划分的维度\n",
    "    # 原本是 \n",
    "    # axis = depth % k \n",
    "    # axis = axis_order(depth, k)\n",
    "    assert len(axis_order_list)==k, f\"axis_order_list length should be equal to k, but got {len(axis_order_list)} with {axis_order_list}\"\n",
    "    axis = axis_order_list[depth % k]\n",
    "    if verbose:\n",
    "        print(\" \"*4*depth + f\"Building kd-tree of depth {depth} with {len(X)} points, axis is {axis}\")\n",
    "    \n",
    "    # 中位数策略\n",
    "    if strategy == \"median\":\n",
    "        X = X[X[:, axis].argsort()]\n",
    "        median = X.shape[0] // 2 #将当前结点数据一分为二\n",
    "        # assert len(np.where((X_train == X[median]).all(axis=1)))>0\n",
    "        return Node(data=X[median], left=fast_build_kd_tree(X[:median], axis_order_list, strategy, depth + 1),\n",
    "                    right=fast_build_kd_tree(X[median + 1:],axis_order_list, strategy,  depth + 1))\n",
    "    \n",
    "    # 中点策略\n",
    "    else:\n",
    "        x_axis = X[:, axis] # n个数\n",
    "        middle_point_value = (x_axis.max()-x_axis.min()) / 2\n",
    "        left_points = X[x_axis <= middle_point_value]\n",
    "        right_points = X[x_axis > middle_point_value]\n",
    "        distances_on_axis_to_middle = abs(x_axis - middle_point_value)\n",
    "        closest_point_to_middle = distances_on_axis_to_middle.argmin()\n",
    "        \n",
    "        return Node(data=X[closest_point_to_middle], left=fast_build_kd_tree(left_points, axis_order_list,strategy, depth + 1), right=fast_build_kd_tree(right_points, axis_order_list, strategy, depth + 1))\n",
    "    "
   ]
  },
  {
   "cell_type": "code",
   "execution_count": 202,
   "metadata": {},
   "outputs": [],
   "source": [
    "from queue import PriorityQueue\n",
    "def fast_search_kd_tree(tree, target, axis_order_list:list, k=3):\n",
    "    if tree is None:\n",
    "        return []\n",
    "    # k_nearest = [] #list用于储存target当前遍历到的k个k近邻\n",
    "    # 我们使用优先队列来储存k_nearest，从而提高效率，优先队列中的元素为(-距离, 节点)的元组，距离远的先取出来\n",
    "    # k_nearest_pq = PriorityQueue(maxsize=k)\n",
    "    k_nearest_pq = PriorityQueue()\n",
    "    entry_count = 0\n",
    "    stack = [(tree, 0)] #用于储存待遍历节点的stack\n",
    "    while stack:\n",
    "        node, depth = stack.pop() # 节点出栈\n",
    "        if node is None:\n",
    "            continue\n",
    "        # print(\" \"*4*depth + f\"node: {node.data}, depth: {depth}\")\n",
    "        distance = euclidean_distance(target, node.data) #计算需要分类的目标点与节点的距离\n",
    "        \n",
    "        # 调换到前面\n",
    "        axis = depth % target.shape[0] #计算当前深度对应的划分维度\n",
    "        axis = axis_order_list[axis] # 新增加\n",
    "        # print(axis)\n",
    "        \n",
    "        axis_diff = target[axis] - node.data[axis] #计算该维度下目标点与当前节点的差\n",
    "        \n",
    "        #如果k_nearest未装满或k_nearest中相距目标点最远的点与目标点的距离大于axis_diff的绝对值时，则另一边的子树也入栈\n",
    "        can_omit_another_side = True\n",
    "        # if len(k_nearest) < k: # 当k_nearest未装满时，直接将节点放入\n",
    "        # if k_nearest.qsize() < k: # 当k_nearest未装满时，直接将节点放入\n",
    "        if k_nearest_pq.qsize() < k: # 当k_nearest未装满时，直接将节点放入\n",
    "        # if not k_nearest_pq.full(): # 当k_nearest未装满时，直接将节点放入\n",
    "            # print(f\"not full, put {(-distance, node)}\")\n",
    "            pass #BLANK_1\n",
    "            # k_nearest.append((node, distance))\n",
    "            k_nearest_pq.put((-distance, entry_count, node))\n",
    "            entry_count+=1\n",
    "            can_omit_another_side = False\n",
    "        else: #当k_nearest装满时，对比该节点与k_nearest中与目标点距离最远的节点的距离，如果小于则替换，如果大于则不替换\n",
    "            pass #BLANK_2\n",
    "            farthest = k_nearest_pq.get()\n",
    "            farthest_distance = -farthest[0]\n",
    "            # print(f\"full, farthest: {farthest}\")\n",
    "            if distance < farthest_distance:\n",
    "                # print(f\"closer, put {(-distance, node)}\")\n",
    "                # assert isinstance(distance, float)\n",
    "                # print(k_nearest_pq.queue)\n",
    "                k_nearest_pq.put((-distance, entry_count, node))\n",
    "                entry_count+=1\n",
    "            else:\n",
    "                k_nearest_pq.put(farthest)\n",
    "            \n",
    "\n",
    "            if farthest_distance > abs(axis_diff): \n",
    "                can_omit_another_side = False\n",
    "        \n",
    "        if axis_diff <= 0: #当差小于0时则，该节点的左子树入栈 #如果k_nearest未装满或k_nearest中相距目标点最远的点与目标点的距离大于axis_diff的绝对值时，则右子树也入栈\n",
    "            pass #BLANK_3\n",
    "            stack.append((node.left, depth+1))\n",
    "            if not can_omit_another_side:\n",
    "                stack.append((node.right, depth+1))\n",
    "        else:#当差大于0时则，该节点的右子树入栈，#如果k_nearest未装满或k_nearest中相距目标点最远的点与目标点的距离大于axis_diff的绝对值时，则左子树也入栈\n",
    "            pass #BLANK_4\n",
    "            stack.append((node.right, depth+1))\n",
    "            if not can_omit_another_side:\n",
    "                stack.append((node.left, depth+1))\n",
    "    # return [data for data, _ in k_nearest] #返回遍历完的kd树后的k_nearest\n",
    "    # return [data for _, data in k_nearest] #返回遍历完的kd树后的k_nearest\n",
    "    return [k_nearest_pq.get()[-1].data for i in range(k_nearest_pq.qsize())] #返回遍历完的kd树后的k_nearest"
   ]
  },
  {
   "cell_type": "code",
   "execution_count": 219,
   "metadata": {},
   "outputs": [
    {
     "name": "stdout",
     "output_type": "stream",
     "text": [
      "[ 0 32 39 31 24 56 16  8 40 47 48 23  1 57 15 55 33 38  7  9 30 25 10  4\n",
      " 14 13 12 11  6  5  3  2 28 29 26 27 19 20 21 22 17 18 42 41 36 37 35 34\n",
      " 46 45 44 43 51 52 50 49 54 53 58 59 60 61 62 63]\n",
      "maximum recursion depth exceeded while calling a Python object\n"
     ]
    }
   ],
   "source": [
    "# 由于我们需要记录axis_order， 所以要写成类\n",
    "class FastKDTree:\n",
    "    def __init__(self, X, split_value_strategy='median', axis_order_strategy='range') -> None:\n",
    "        n, k = X.shape\n",
    "        # 决定一下划分维度的顺序\n",
    "        # 方差最大原则\n",
    "        if axis_order_strategy == 'variance':\n",
    "            self.axis_order_list = np.argsort(np.var(X, axis=0))\n",
    "        # 极差最大原则\n",
    "        elif axis_order_strategy == 'range':\n",
    "            self.axis_order_list = np.argsort(np.max(X, axis=0) - np.min(X, axis=0))\n",
    "        else:\n",
    "            self.axis_order_list = np.arange(k)\n",
    "        print(self.axis_order_list)\n",
    "        self.root = fast_build_kd_tree(X, self.axis_order_list, split_value_strategy, 0)\n",
    "    def search_kd_tree(self, point, k):\n",
    "        return fast_search_kd_tree(self.root, point, self.axis_order_list, k)\n",
    "    \n",
    "    # 使用KNN算法分类\n",
    "    def knn_classifier(self, X_train, y_train, X_test, k=3):\n",
    "        y_pred = []\n",
    "        for i, test_point in enumerate(X_test):\n",
    "            k_nearest = self.search_kd_tree(test_point, k)\n",
    "            # print(k_nearest)\n",
    "            # print(k_nearest[0])\n",
    "            # print(np.where((X_train == k_nearest[0]).all(axis=1)))\n",
    "            labels = [y_train[np.where((X_train == point).all(axis=1))[0][0]] for point in k_nearest]\n",
    "            counts = np.bincount(labels)#计算k_nearest中样本最多的标签，预测目标样本为该标签\n",
    "            y_pred.append(np.argmax(counts))\n",
    "        return y_pred\n",
    "try:\n",
    "    tree = FastKDTree(X_train, split_value_strategy='middle')\n",
    "except Exception as e:\n",
    "    print(e)"
   ]
  },
  {
   "cell_type": "markdown",
   "metadata": {},
   "source": [
    "我们发现如果是用middle策略，由于数字识别数据集的分布特性，中点能划分的点太少，无法成功建树。"
   ]
  },
  {
   "cell_type": "code",
   "execution_count": 214,
   "metadata": {},
   "outputs": [
    {
     "name": "stdout",
     "output_type": "stream",
     "text": [
      "[ 0 32 39 31 24 56 16  8 40 47 48 23  1 57 15 55 33 38  7  9 30 25 10  4\n",
      " 14 13 12 11  6  5  3  2 28 29 26 27 19 20 21 22 17 18 42 41 36 37 35 34\n",
      " 46 45 44 43 51 52 50 49 54 53 58 59 60 61 62 63]\n"
     ]
    }
   ],
   "source": [
    "# tree = FastKDTree(X, split_value_strategy=\"median\")\n",
    "tree = FastKDTree(X_train, split_value_strategy=\"median\")"
   ]
  },
  {
   "cell_type": "code",
   "execution_count": 216,
   "metadata": {},
   "outputs": [],
   "source": [
    "for i in range(len(X_train)):\n",
    "    k_nearest = tree.search_kd_tree(X_train[0], 1)\n",
    "    where = np.where((X_train == k_nearest[0]).all(axis=1))\n",
    "    where = where[0]\n",
    "    assert len(where) == 1"
   ]
  },
  {
   "cell_type": "code",
   "execution_count": null,
   "metadata": {},
   "outputs": [
    {
     "data": {
      "text/plain": [
       "0.9861111111111112"
      ]
     },
     "execution_count": 223,
     "metadata": {},
     "output_type": "execute_result"
    }
   ],
   "source": [
    "# k_nearest = tree.search_kd_tree(X_test[0], 2)\n",
    "# k_nearest = tree.search_kd_tree(X_train[0], 2)\n",
    "# k_nearest, X_train[0]\n",
    "# k_nearest = tree.search_kd_tree(X_test[0], 2)\n",
    "# k_nearest\n",
    "y_pred = tree.knn_classifier(X_train, y_train, X_test, k_neighbors)\n",
    "accuracy_score(y_test, y_pred) # 确保数值正确"
   ]
  },
  {
   "cell_type": "code",
   "execution_count": 212,
   "metadata": {},
   "outputs": [
    {
     "name": "stdout",
     "output_type": "stream",
     "text": [
      "5.15 s ± 107 ms per loop (mean ± std. dev. of 7 runs, 1 loop each)\n"
     ]
    }
   ],
   "source": [
    "%timeit y_pred = tree.knn_classifier(X_train, y_train, X_test, k_neighbors)"
   ]
  },
  {
   "cell_type": "markdown",
   "metadata": {},
   "source": [
    "我们发现速度变慢了！\n",
    "如果使用方差最大策略呢？会不会更好？"
   ]
  },
  {
   "cell_type": "code",
   "execution_count": 224,
   "metadata": {},
   "outputs": [
    {
     "name": "stdout",
     "output_type": "stream",
     "text": [
      "[ 0 32 39 56 24 16 31  8 40 48 47 23 15  1 57 55  7 63 49 41 25  9 22  6\n",
      " 33 17 38 14 30 11 62  3 46  4 59  2 12 54 60 58 51 52 10 45 50  5 18 19\n",
      " 37 29 61 36 27 53 13 28 26 20 21 35 34 44 43 42]\n"
     ]
    },
    {
     "data": {
      "text/plain": [
       "0.9861111111111112"
      ]
     },
     "execution_count": 224,
     "metadata": {},
     "output_type": "execute_result"
    }
   ],
   "source": [
    "tree = FastKDTree(X_train, split_value_strategy=\"median\", axis_order_strategy='variance')\n",
    "y_pred = tree.knn_classifier(X_train, y_train, X_test, k_neighbors)\n",
    "accuracy_score(y_test, y_pred) # 确保数值正确"
   ]
  },
  {
   "cell_type": "code",
   "execution_count": 221,
   "metadata": {},
   "outputs": [
    {
     "name": "stdout",
     "output_type": "stream",
     "text": [
      "5.5 s ± 217 ms per loop (mean ± std. dev. of 7 runs, 1 loop each)\n"
     ]
    }
   ],
   "source": [
    "%timeit y_pred = tree.knn_classifier(X_train, y_train, X_test, k_neighbors)"
   ]
  },
  {
   "cell_type": "markdown",
   "metadata": {},
   "source": [
    "甚至更慢！为了避免是因为我们实现新的方法有一定的overhead，我们对原本的划分策略也做一次测速。"
   ]
  },
  {
   "cell_type": "code",
   "execution_count": 222,
   "metadata": {},
   "outputs": [
    {
     "name": "stdout",
     "output_type": "stream",
     "text": [
      "[ 0  1  2  3  4  5  6  7  8  9 10 11 12 13 14 15 16 17 18 19 20 21 22 23\n",
      " 24 25 26 27 28 29 30 31 32 33 34 35 36 37 38 39 40 41 42 43 44 45 46 47\n",
      " 48 49 50 51 52 53 54 55 56 57 58 59 60 61 62 63]\n",
      "5.37 s ± 310 ms per loop (mean ± std. dev. of 7 runs, 1 loop each)\n"
     ]
    }
   ],
   "source": [
    "tree = FastKDTree(X_train, split_value_strategy=\"median\", axis_order_strategy='simple')\n",
    "%timeit y_pred = tree.knn_classifier(X_train, y_train, X_test, k_neighbors)"
   ]
  },
  {
   "cell_type": "code",
   "execution_count": 225,
   "metadata": {},
   "outputs": [
    {
     "data": {
      "text/plain": [
       "0.9861111111111112"
      ]
     },
     "execution_count": 225,
     "metadata": {},
     "output_type": "execute_result"
    }
   ],
   "source": [
    "y_pred = tree.knn_classifier(X_train, y_train, X_test, k_neighbors)\n",
    "accuracy_score(y_test, y_pred) # 确保数值正确"
   ]
  },
  {
   "cell_type": "markdown",
   "metadata": {},
   "source": [
    "根据以上结果，我们初步得出结论，range划分方法比simple方法快，而simple方法比variance方法快。"
   ]
  }
 ],
 "metadata": {
  "kernelspec": {
   "display_name": "hf_ai",
   "language": "python",
   "name": "python3"
  },
  "language_info": {
   "codemirror_mode": {
    "name": "ipython",
    "version": 3
   },
   "file_extension": ".py",
   "mimetype": "text/x-python",
   "name": "python",
   "nbconvert_exporter": "python",
   "pygments_lexer": "ipython3",
   "version": "3.10.14"
  }
 },
 "nbformat": 4,
 "nbformat_minor": 2
}
