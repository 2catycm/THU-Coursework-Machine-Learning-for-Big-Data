{
 "cells": [
  {
   "cell_type": "code",
   "execution_count": null,
   "metadata": {},
   "outputs": [],
   "source": [
    "#| export \n",
    "from fastcore.all import patch, store_attr\n",
    "class SupportVectorClassifier:\n",
    "    \"\"\"自己实现的支持向量机分类器。需要支持多分类。\n",
    "    \"\"\"\n",
    "    def __init__(self, config:SupportVectorClassifierConfig):\n",
    "        store_attr()\n",
    "        "
   ]
  }
 ],
 "metadata": {
  "language_info": {
   "name": "python"
  }
 },
 "nbformat": 4,
 "nbformat_minor": 2
}
