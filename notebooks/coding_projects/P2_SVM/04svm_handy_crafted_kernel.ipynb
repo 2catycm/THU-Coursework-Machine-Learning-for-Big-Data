{
 "cells": [
  {
   "cell_type": "markdown",
   "metadata": {},
   "source": [
    "<img src=\"../../thu_sigs_logo.png\" alt=\"清华深研院-横\" style=\"zoom:50%;\" />"
   ]
  },
  {
   "cell_type": "raw",
   "metadata": {
    "vscode": {
     "languageId": "raw"
    }
   },
   "source": [
    "---\n",
    "title: \"更高效的支持向量机算法实现及其在手写数字识别中的应用——04手动实现使用SMO的Kernel SVM\"\n",
    "subtitle: \"大数据机器学习课程第二次实验项目\"\n",
    "author: \"叶璨铭 (2024214500) \\n ycm24@mails.tsinghua.edu.cn\"\n",
    "date: \"2024-11-11\"\n",
    "toc: true\n",
    "number-sections: true\n",
    "highlight-style: pygments\n",
    "date-format: full\n",
    "lang: zh\n",
    "bibliography: [../../references.bib]\n",
    "format: \n",
    "  html:\n",
    "    code-fold: false\n",
    "  gfm: default\n",
    "  docx: default\n",
    "jupyter: python3\n",
    "---"
   ]
  },
  {
   "cell_type": "code",
   "execution_count": 1,
   "metadata": {},
   "outputs": [],
   "source": [
    "#| default_exp svm.handy_crafted.kernel"
   ]
  },
  {
   "cell_type": "code",
   "execution_count": null,
   "metadata": {},
   "outputs": [],
   "source": [
    "#|hide\n",
    "%load_ext autoreload\n",
    "%autoreload 2\n",
    "from thu_big_data_ml.help import plt"
   ]
  },
  {
   "cell_type": "markdown",
   "metadata": {},
   "source": [
    "本文是[更高效的支持向量机算法实现及其在手写数字识别中的应用](./00svm.html)系列文章第04篇——手动实现使用SMO的Kernel SVM。"
   ]
  },
  {
   "cell_type": "code",
   "execution_count": null,
   "metadata": {},
   "outputs": [
    {
     "name": "stderr",
     "output_type": "stream",
     "text": [
      "/home/ye_canming/repos/assignments/THU-Coursework-Machine-Learning-for-Big-Data/thu_big_data_ml/svm/kernel_hpo.py:220: ExperimentalWarning: QMCSampler is experimental (supported from v3.0.0). The interface can change in the future.\n",
      "  raise optuna.exceptions.TrialPruned()\n",
      "/home/ye_canming/repos/assignments/THU-Coursework-Machine-Learning-for-Big-Data/thu_big_data_ml/svm/kernel_hpo.py:221: ExperimentalWarning: WilcoxonPruner is experimental (supported from v3.6.0). The interface can change in the future.\n",
      "  return critical_result\n",
      "[I 2024-11-18 18:55:35,817] Using an existing study with name 'svm kernel hpo 11.17 3.0' instead of creating a new one.\n"
     ]
    }
   ],
   "source": [
    "#| exports\n",
    "from thu_big_data_ml.svm.kernel_hpo import SupportVectorClassifierConfig\n",
    "from fastcore.all import patch, store_attr"
   ]
  },
  {
   "cell_type": "code",
   "execution_count": null,
   "metadata": {},
   "outputs": [],
   "source": [
    "#| exports\n",
    "class KernelSupportVectorClassifier:\n",
    "    \"\"\"自己实现的支持向量机分类器。需要支持多分类。\n",
    "    \"\"\"\n",
    "    def __init__(self, config:SupportVectorClassifierConfig):\n",
    "        store_attr()\n",
    "        "
   ]
  },
  {
   "cell_type": "markdown",
   "metadata": {},
   "source": [
    "由于本次这次Project时间不足，而我们已经完美完成了项目的前4个要求，所以我们暂时没有时间探索这里如何实现。等我有时间了我将继续更新这里的`KernelSupportVectorClassifier` 敬请关注后续的实现，我将把完整代码开源到 [Open-Book-Studio/THU-Coursework-Machine-Learning-for-Big-Data 下的 svm_handy_crafted_kernel 笔记本](https://github.com/Open-Book-Studio/THU-Coursework-Machine-Learning-for-Big-Data/blob/main/notebooks/coding_projects/P2_SVM/04svm_handy_crafted_kernel.ipynb)中。"
   ]
  },
  {
   "cell_type": "code",
   "execution_count": 6,
   "metadata": {},
   "outputs": [],
   "source": [
    "#| hide\n",
    "import nbdev; nbdev.nbdev_export()"
   ]
  }
 ],
 "metadata": {
  "kernelspec": {
   "display_name": "yuequ",
   "language": "python",
   "name": "python3"
  },
  "language_info": {
   "codemirror_mode": {
    "name": "ipython",
    "version": 3
   },
   "file_extension": ".py",
   "mimetype": "text/x-python",
   "name": "python",
   "nbconvert_exporter": "python",
   "pygments_lexer": "ipython3",
   "version": "3.10.12"
  }
 },
 "nbformat": 4,
 "nbformat_minor": 2
}
