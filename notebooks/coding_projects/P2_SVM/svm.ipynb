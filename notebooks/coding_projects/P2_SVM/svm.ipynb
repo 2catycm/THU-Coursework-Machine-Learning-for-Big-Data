{
 "cells": [
  {
   "cell_type": "markdown",
   "metadata": {},
   "source": [
    "<img src=\"../../thu_sigs_logo.png\" alt=\"清华深研院-横\" style=\"zoom:50%;\" />"
   ]
  },
  {
   "cell_type": "raw",
   "metadata": {},
   "source": [
    "---\n",
    "title: \"更高效的支持向量机算法实现及其在手写数字识别中的应用\"\n",
    "subtitle: \"大数据机器学习课程第一次实验项目\"\n",
    "author: \"叶璨铭 (2024214500) \\n ycm24@mails.tsinghua.edu.cn\"\n",
    "date: \"2024-11-11\"\n",
    "toc: true\n",
    "number-sections: true\n",
    "highlight-style: pygments\n",
    "date-format: full\n",
    "lang: zh\n",
    "bibliography: [../../references.bib]\n",
    "format: \n",
    "  html:\n",
    "    code-fold: false\n",
    "  gfm: default\n",
    "  docx: default\n",
    "jupyter: python3\n",
    "---"
   ]
  },
  {
   "cell_type": "code",
   "execution_count": 1,
   "metadata": {
    "ExecuteTime": {
     "end_time": "2024-11-12T15:30:39.870282Z",
     "start_time": "2024-11-12T15:30:39.864209Z"
    }
   },
   "outputs": [],
   "source": [
    "#| default_exp svm"
   ]
  },
  {
   "cell_type": "code",
   "execution_count": 2,
   "metadata": {
    "ExecuteTime": {
     "end_time": "2024-11-12T15:30:40.141007Z",
     "start_time": "2024-11-12T15:30:40.108437Z"
    }
   },
   "outputs": [],
   "source": [
    "#|hide\n",
    "# autoreload\n",
    "%load_ext autoreload\n",
    "%autoreload 2\n",
    "# matplotlib\n",
    "import matplotlib.pyplot as plt\n",
    "plt.style.use('default')\n",
    "# 设置matplotlib支持中文显示\n",
    "# 参考网上资料，说要设为 SimHei\n",
    "# plt.rcParams['font.sans-serif'] = ['SimHei']  # 指定默认字体  \n",
    "plt.rcParams['axes.unicode_minus'] = False  # 解决保存图像是负号'-'显示为方块的问题\n",
    "# 但是SimHei这个linux上不存在，好像是微软的字体，不开源。\n",
    "# 参考另一篇博客解决这个问题 https://blog.csdn.net/MAO_TOU/article/details/93998905\n",
    "from matplotlib import font_manager\n",
    "font = font_manager.FontProperties(fname=\"/usr/share/fonts/opentype/noto/NotoSansCJK-Regular.ttc\")\n",
    "plt.rcParams['font.sans-serif'] = [font.get_name()]\n",
    "# proxy\n",
    "import os\n",
    "os.environ['http_proxy'] = 'http://127.0.0.1:7890'\n",
    "os.environ['https_proxy'] = 'http://127.0.0.1:7890'"
   ]
  },
  {
   "cell_type": "markdown",
   "metadata": {},
   "source": [
    "## 代码与文档格式说明\n",
    "\n",
    "本文档使用Jupyter Notebook编写，所以同时包括了实验文档和实验代码。\n",
    "\n",
    "本次实验项目采用了 Quarto + nbdev 的系统来发布Jupyter Notebook, 因而我们的实验文档导出为pdf和html格式可以进行阅读，而我们的代码也导出为python模块形式，可以作为代码库被其他项目使用。\n",
    "\n",
    "我们这样做的好处是，避免单独管理一堆 .py 文件，防止代码冗余和同步混乱，py文件和pdf文件都是从.ipynb文件导出的，可以保证实验文档和代码的一致性。"
   ]
  },
  {
   "cell_type": "markdown",
   "metadata": {},
   "source": [
    "::: {.callout-important}\n",
    "可以通过以下命令安装我们实验的代码：\n",
    "\n",
    "```shell\n",
    "pip install git+https://github.com/Open-Book-Studio/THU-Coursework-Machine-Learning-for-Big-Data.git\n",
    "```\n",
    "我们的代码导出为了python模块形式，通过以下命令导入：\n",
    "```python\n",
    "from thu_big_data_ml.svm import *\n",
    "```\n",
    ":::\n",
    "\n",
    "https://github.com/Open-Book-Studio/THU-Coursework-Machine-Learning-for-Big-Data.git 是本次实验的代码仓库地址，\n",
    "而这次作业中，我开发的另一个用于科研的开源项目[有名的分类框架 (NamableClassify)](https://github.com/2catycm/NamableClassify.git)也相应地进行了代码更新，把我们这次作业实现的SVM算法加入到了其中。接下来我们也会用到这个项目中的一些代码来完成本次作业。\n",
    "```shell\n",
    "pip install git+https://github.com/2catycm/NamableClassify.git\n",
    "```\n",
    "\n",
    "```python\n",
    "from namable_classify import *\n",
    "```"
   ]
  },
  {
   "cell_type": "markdown",
   "metadata": {},
   "source": [
    "::: {.callout-important}\n",
    "本文档具有一定的交互性，建议使用浏览器打开html文件，这样比pdf文件阅读体验更佳。\n",
    ":::"
   ]
  },
  {
   "cell_type": "code",
   "execution_count": 3,
   "metadata": {},
   "outputs": [],
   "source": [
    "#| hide\n",
    "import nbdev; nbdev.nbdev_export()"
   ]
  },
  {
   "cell_type": "markdown",
   "metadata": {},
   "source": [
    "## 实验目的\n",
    "> 老师给我们的要求是\n",
    "> 1. ⼿动实现一个 SVM 分类器，完成 MNIST 数据分类任务\n",
    ">\n",
    "> 2. 掌握 SVM 的基本原理以及优化流程\n",
    ">\n",
    "> 3. 对 SVM 分类器训练的超参数(包括收敛终止条件，学习率等)进行调优\n",
    ">\n",
    "\n",
    "\n",
    "~~作为Top1大学的学生~~，我们不仅需要完成以上内容，还需要进行一些深入的思考和探索。\n",
    "1. 现有最流行的SVM分类的实现是sklearn以及其背后的libsvm，由于C++编写，确实在CPU上运行很快。但是，如果我们需要在GPU上运行，是否可以考虑用CUDA来加速呢？我们决定尝试一下实现速度更快的SVM分类器。\n",
    "2. sklearn自带的调参GridSearchCV和RandomizedSearchCV都具有一定的局限性。参考谷歌调参手册，我们使用科学的实验设计来对SVM分类算法的元参数进行搜索，从而实现更高的分类精度，并且获得一些insight，便于我们后续科研中使用SVM。\n",
    "3. 实现自己的kernel方法。实现之后，不仅像2那样参考谷歌调参手册和假设检验来比较数值上的性能，还使用可视化工具来对不同核函数的效果进行比较。\n",
    "4. 参考前沿论文，探索一些更加新的SVM策略。\n",
    "\n",
    "\n",
    "事不宜迟，我们开始动手吧！"
   ]
  },
  {
   "cell_type": "markdown",
   "metadata": {},
   "source": [
    "## 实验数据\n",
    "> MNIST 数据库是由 Yann et. al. 提供的⼿写数字数据库⽂件, 官网地址为 http://yann.lecun.com/exdb/mnist/。\n",
    "> 主要包含了 60000 张的训练图像和 10000 张的测试图像\n",
    "\n",
    "类似于上一次Project（KD树实现KNN），我们使用 sklearn CI（持续集成）测试用例的load_digits数据集，而不是使用原始的MNIST数据集，来加快实验的效率。并且在划分数据集时，train_test_split应当使用stratify参数，以确保每一类样本的比例相同。"
   ]
  },
  {
   "cell_type": "code",
   "execution_count": 4,
   "metadata": {},
   "outputs": [],
   "source": [
    "#| hide\n",
    "# from namable_classify.data import ClassificationDataConfig, ClassificationDataModule, MNISTDataModule\n",
    "# # ClassificationDataConfig?\n",
    "# mnist_data = MNISTDataModule.from_config(ClassificationDataConfig(dataset_name='MNIST'))\n",
    "# mnist_data.prepare_data()\n",
    "# mnist_data.hparams"
   ]
  },
  {
   "cell_type": "code",
   "execution_count": 5,
   "metadata": {},
   "outputs": [
    {
     "data": {
      "text/html": [
       "<pre style=\"white-space:pre;overflow-x:auto;line-height:normal;font-family:Menlo,'DejaVu Sans Mono',consolas,'Courier New',monospace\"></pre>\n"
      ],
      "text/plain": []
     },
     "metadata": {},
     "output_type": "display_data"
    },
    {
     "data": {
      "text/plain": [
       "\n",
       "\u001b[1m(\u001b[0m\n",
       "    \u001b[1;35mdict_keys\u001b[0m\u001b[1m(\u001b[0m\u001b[1m[\u001b[0m\u001b[32m'data'\u001b[0m, \u001b[32m'target'\u001b[0m, \u001b[32m'frame'\u001b[0m, \u001b[32m'feature_names'\u001b[0m, \u001b[32m'target_names'\u001b[0m, \u001b[32m'images'\u001b[0m, \u001b[32m'DESCR'\u001b[0m\u001b[1m]\u001b[0m\u001b[1m)\u001b[0m,\n",
       "    \u001b[1;35mdict_keys\u001b[0m\u001b[1m(\u001b[0m\u001b[1m[\u001b[0m\u001b[32m'data'\u001b[0m, \u001b[32m'target'\u001b[0m, \u001b[32m'frame'\u001b[0m, \u001b[32m'categories'\u001b[0m, \u001b[32m'feature_names'\u001b[0m, \u001b[32m'target_names'\u001b[0m, \u001b[32m'DESCR'\u001b[0m, \u001b[32m'details'\u001b[0m, \u001b[32m'url'\u001b[0m\u001b[1m]\u001b[0m\u001b[1m)\u001b[0m\n",
       "\u001b[1m)\u001b[0m"
      ]
     },
     "execution_count": 5,
     "metadata": {},
     "output_type": "execute_result"
    }
   ],
   "source": [
    "from namable_classify.utils import logger, print\n",
    "from sklearn.datasets import load_digits, fetch_openml\n",
    "# dataset_dict_uci_digits = load_digits(as_frame=True)\n",
    "dataset_dict_uci_digits = load_digits(as_frame=False)\n",
    "dataset_dict_full_mnist = fetch_openml(\"mnist_784\", as_frame=True)\n",
    "dataset_dict_uci_digits.keys(), dataset_dict_full_mnist.keys()"
   ]
  },
  {
   "cell_type": "code",
   "execution_count": 6,
   "metadata": {},
   "outputs": [
    {
     "data": {
      "text/html": [
       "<pre style=\"white-space:pre;overflow-x:auto;line-height:normal;font-family:Menlo,'DejaVu Sans Mono',consolas,'Courier New',monospace\"></pre>\n"
      ],
      "text/plain": []
     },
     "metadata": {},
     "output_type": "display_data"
    },
    {
     "data": {
      "text/plain": [
       "\u001b[1;35marray\u001b[0m\u001b[1m(\u001b[0m\u001b[1m[\u001b[0m\u001b[1;36m0\u001b[0m, \u001b[1;36m1\u001b[0m, \u001b[1;36m2\u001b[0m, \u001b[1;36m3\u001b[0m, \u001b[1;36m4\u001b[0m, \u001b[1;36m5\u001b[0m, \u001b[1;36m6\u001b[0m, \u001b[1;36m7\u001b[0m, \u001b[1;36m8\u001b[0m, \u001b[1;36m9\u001b[0m\u001b[1m]\u001b[0m\u001b[1m)\u001b[0m"
      ]
     },
     "execution_count": 6,
     "metadata": {},
     "output_type": "execute_result"
    }
   ],
   "source": [
    "dataset_dict_uci_digits.target_names"
   ]
  },
  {
   "cell_type": "code",
   "execution_count": 7,
   "metadata": {},
   "outputs": [],
   "source": [
    "#| export\n",
    "import pandas as pd\n",
    "import numpy as np\n",
    "def sklearn_to_X_y_categories(dataset_dict):\n",
    "    X = dataset_dict['data']\n",
    "    y = dataset_dict['target']\n",
    "    if isinstance(X, pd.DataFrame):\n",
    "        X:np.array = X.values\n",
    "    if isinstance(y, pd.Series):\n",
    "        y:np.array = y.values\n",
    "    # if y.dtype.name == 'category':\n",
    "    #     categories = y.dtype.categories\n",
    "    # else:\n",
    "    X = X.astype(np.float32)\n",
    "    y = y.astype(np.int64)\n",
    "    categories = np.unique(y)\n",
    "    # print(str((X.shape, X.dtype, y.shape, y.dtype, categories)))\n",
    "    print(X.shape, X.dtype, y.shape, y.dtype, categories)\n",
    "    return X, y, categories\n"
   ]
  },
  {
   "cell_type": "code",
   "execution_count": 8,
   "metadata": {},
   "outputs": [
    {
     "data": {
      "text/html": [
       "<pre style=\"white-space:pre;overflow-x:auto;line-height:normal;font-family:Menlo,'DejaVu Sans Mono',consolas,'Courier New',monospace\"><span style=\"color: #7fbfbf; text-decoration-color: #7fbfbf\">Thu 2024-11-14 15:37:27.516579</span>\n",
       "</pre>\n"
      ],
      "text/plain": [
       "\u001b[2;36mThu 2024-11-14 15:37:27.516579\u001b[0m\n"
      ]
     },
     "metadata": {},
     "output_type": "display_data"
    },
    {
     "data": {
      "text/html": [
       "<pre style=\"white-space:pre;overflow-x:auto;line-height:normal;font-family:Menlo,'DejaVu Sans Mono',consolas,'Courier New',monospace\"><span style=\"color: #000080; text-decoration-color: #000080\">INFO    </span> <span style=\"font-weight: bold\">((</span><span style=\"color: #008080; text-decoration-color: #008080; font-weight: bold\">1797</span>, <span style=\"color: #008080; text-decoration-color: #008080; font-weight: bold\">64</span><span style=\"font-weight: bold\">)</span>, <span style=\"color: #800080; text-decoration-color: #800080; font-weight: bold\">dtype</span><span style=\"font-weight: bold\">(</span><span style=\"color: #008000; text-decoration-color: #008000\">'float32'</span><span style=\"font-weight: bold\">)</span>, <span style=\"font-weight: bold\">(</span><span style=\"color: #008080; text-decoration-color: #008080; font-weight: bold\">1797</span>,<span style=\"font-weight: bold\">)</span>, <span style=\"color: #800080; text-decoration-color: #800080; font-weight: bold\">dtype</span><span style=\"font-weight: bold\">(</span><span style=\"color: #008000; text-decoration-color: #008000\">'int64'</span><span style=\"font-weight: bold\">)</span>, <span style=\"color: #800080; text-decoration-color: #800080; font-weight: bold\">array</span><span style=\"font-weight: bold\">([</span><span style=\"color: #008080; text-decoration-color: #008080; font-weight: bold\">0</span>, <span style=\"color: #008080; text-decoration-color: #008080; font-weight: bold\">1</span>, <span style=\"color: #008080; text-decoration-color: #008080; font-weight: bold\">2</span>, <span style=\"color: #008080; text-decoration-color: #008080; font-weight: bold\">3</span>, <span style=\"color: #008080; text-decoration-color: #008080; font-weight: bold\">4</span>, <span style=\"color: #008080; text-decoration-color: #008080; font-weight: bold\">5</span>, <span style=\"color: #008080; text-decoration-color: #008080; font-weight: bold\">6</span>, <span style=\"color: #008080; text-decoration-color: #008080; font-weight: bold\">7</span>, <span style=\"color: #008080; text-decoration-color: #008080; font-weight: bold\">8</span>, <span style=\"color: #008080; text-decoration-color: #008080; font-weight: bold\">9</span><span style=\"font-weight: bold\">]))</span> <a href=\"file:///home/ye_canming/repos/novelties/cv/cls/NamableClassify/namable_classify/utils.py\" target=\"_blank\"><span style=\"color: #7f7f7f; text-decoration-color: #7f7f7f\">utils.py</span></a><span style=\"color: #7f7f7f; text-decoration-color: #7f7f7f\">:</span><a href=\"file:///home/ye_canming/repos/novelties/cv/cls/NamableClassify/namable_classify/utils.py#79\" target=\"_blank\"><span style=\"color: #7f7f7f; text-decoration-color: #7f7f7f\">79</span></a>\n",
       "</pre>\n"
      ],
      "text/plain": [
       "\u001b[34mINFO    \u001b[0m \u001b[1m(\u001b[0m\u001b[1m(\u001b[0m\u001b[1;36m1797\u001b[0m, \u001b[1;36m64\u001b[0m\u001b[1m)\u001b[0m, \u001b[1;35mdtype\u001b[0m\u001b[1m(\u001b[0m\u001b[32m'float32'\u001b[0m\u001b[1m)\u001b[0m, \u001b[1m(\u001b[0m\u001b[1;36m1797\u001b[0m,\u001b[1m)\u001b[0m, \u001b[1;35mdtype\u001b[0m\u001b[1m(\u001b[0m\u001b[32m'int64'\u001b[0m\u001b[1m)\u001b[0m, \u001b[1;35marray\u001b[0m\u001b[1m(\u001b[0m\u001b[1m[\u001b[0m\u001b[1;36m0\u001b[0m, \u001b[1;36m1\u001b[0m, \u001b[1;36m2\u001b[0m, \u001b[1;36m3\u001b[0m, \u001b[1;36m4\u001b[0m, \u001b[1;36m5\u001b[0m, \u001b[1;36m6\u001b[0m, \u001b[1;36m7\u001b[0m, \u001b[1;36m8\u001b[0m, \u001b[1;36m9\u001b[0m\u001b[1m]\u001b[0m\u001b[1m)\u001b[0m\u001b[1m)\u001b[0m \u001b]8;id=744489;file:///home/ye_canming/repos/novelties/cv/cls/NamableClassify/namable_classify/utils.py\u001b\\\u001b[2mutils.py\u001b[0m\u001b]8;;\u001b\\\u001b[2m:\u001b[0m\u001b]8;id=118429;file:///home/ye_canming/repos/novelties/cv/cls/NamableClassify/namable_classify/utils.py#79\u001b\\\u001b[2m79\u001b[0m\u001b]8;;\u001b\\\n"
      ]
     },
     "metadata": {},
     "output_type": "display_data"
    },
    {
     "data": {
      "text/html": [
       "<pre style=\"white-space:pre;overflow-x:auto;line-height:normal;font-family:Menlo,'DejaVu Sans Mono',consolas,'Courier New',monospace\"><span style=\"color: #7fbfbf; text-decoration-color: #7fbfbf\">Thu 2024-11-14 15:37:27.719045</span>\n",
       "</pre>\n"
      ],
      "text/plain": [
       "\u001b[2;36mThu 2024-11-14 15:37:27.719045\u001b[0m\n"
      ]
     },
     "metadata": {},
     "output_type": "display_data"
    },
    {
     "data": {
      "text/html": [
       "<pre style=\"white-space:pre;overflow-x:auto;line-height:normal;font-family:Menlo,'DejaVu Sans Mono',consolas,'Courier New',monospace\"><span style=\"color: #000080; text-decoration-color: #000080\">INFO    </span> <span style=\"font-weight: bold\">((</span><span style=\"color: #008080; text-decoration-color: #008080; font-weight: bold\">70000</span>, <span style=\"color: #008080; text-decoration-color: #008080; font-weight: bold\">784</span><span style=\"font-weight: bold\">)</span>, <span style=\"color: #800080; text-decoration-color: #800080; font-weight: bold\">dtype</span><span style=\"font-weight: bold\">(</span><span style=\"color: #008000; text-decoration-color: #008000\">'float32'</span><span style=\"font-weight: bold\">)</span>, <span style=\"font-weight: bold\">(</span><span style=\"color: #008080; text-decoration-color: #008080; font-weight: bold\">70000</span>,<span style=\"font-weight: bold\">)</span>, <span style=\"color: #800080; text-decoration-color: #800080; font-weight: bold\">dtype</span><span style=\"font-weight: bold\">(</span><span style=\"color: #008000; text-decoration-color: #008000\">'int64'</span><span style=\"font-weight: bold\">)</span>, <span style=\"color: #800080; text-decoration-color: #800080; font-weight: bold\">array</span><span style=\"font-weight: bold\">([</span><span style=\"color: #008080; text-decoration-color: #008080; font-weight: bold\">0</span>, <span style=\"color: #008080; text-decoration-color: #008080; font-weight: bold\">1</span>, <span style=\"color: #008080; text-decoration-color: #008080; font-weight: bold\">2</span>, <span style=\"color: #008080; text-decoration-color: #008080; font-weight: bold\">3</span>, <span style=\"color: #008080; text-decoration-color: #008080; font-weight: bold\">4</span>, <span style=\"color: #008080; text-decoration-color: #008080; font-weight: bold\">5</span>, <span style=\"color: #008080; text-decoration-color: #008080; font-weight: bold\">6</span>, <span style=\"color: #008080; text-decoration-color: #008080; font-weight: bold\">7</span>, <span style=\"color: #008080; text-decoration-color: #008080; font-weight: bold\">8</span>,   <a href=\"file:///home/ye_canming/repos/novelties/cv/cls/NamableClassify/namable_classify/utils.py\" target=\"_blank\"><span style=\"color: #7f7f7f; text-decoration-color: #7f7f7f\">utils.py</span></a><span style=\"color: #7f7f7f; text-decoration-color: #7f7f7f\">:</span><a href=\"file:///home/ye_canming/repos/novelties/cv/cls/NamableClassify/namable_classify/utils.py#79\" target=\"_blank\"><span style=\"color: #7f7f7f; text-decoration-color: #7f7f7f\">79</span></a>\n",
       "         <span style=\"color: #008080; text-decoration-color: #008080; font-weight: bold\">9</span><span style=\"font-weight: bold\">]))</span>                                                                                           <span style=\"color: #7f7f7f; text-decoration-color: #7f7f7f\">           </span>\n",
       "</pre>\n"
      ],
      "text/plain": [
       "\u001b[34mINFO    \u001b[0m \u001b[1m(\u001b[0m\u001b[1m(\u001b[0m\u001b[1;36m70000\u001b[0m, \u001b[1;36m784\u001b[0m\u001b[1m)\u001b[0m, \u001b[1;35mdtype\u001b[0m\u001b[1m(\u001b[0m\u001b[32m'float32'\u001b[0m\u001b[1m)\u001b[0m, \u001b[1m(\u001b[0m\u001b[1;36m70000\u001b[0m,\u001b[1m)\u001b[0m, \u001b[1;35mdtype\u001b[0m\u001b[1m(\u001b[0m\u001b[32m'int64'\u001b[0m\u001b[1m)\u001b[0m, \u001b[1;35marray\u001b[0m\u001b[1m(\u001b[0m\u001b[1m[\u001b[0m\u001b[1;36m0\u001b[0m, \u001b[1;36m1\u001b[0m, \u001b[1;36m2\u001b[0m, \u001b[1;36m3\u001b[0m, \u001b[1;36m4\u001b[0m, \u001b[1;36m5\u001b[0m, \u001b[1;36m6\u001b[0m, \u001b[1;36m7\u001b[0m, \u001b[1;36m8\u001b[0m,   \u001b]8;id=871088;file:///home/ye_canming/repos/novelties/cv/cls/NamableClassify/namable_classify/utils.py\u001b\\\u001b[2mutils.py\u001b[0m\u001b]8;;\u001b\\\u001b[2m:\u001b[0m\u001b]8;id=221855;file:///home/ye_canming/repos/novelties/cv/cls/NamableClassify/namable_classify/utils.py#79\u001b\\\u001b[2m79\u001b[0m\u001b]8;;\u001b\\\n",
       "         \u001b[1;36m9\u001b[0m\u001b[1m]\u001b[0m\u001b[1m)\u001b[0m\u001b[1m)\u001b[0m                                                                                           \u001b[2m           \u001b[0m\n"
      ]
     },
     "metadata": {},
     "output_type": "display_data"
    }
   ],
   "source": [
    "X, y, categories = sklearn_to_X_y_categories(dataset_dict_uci_digits)\n",
    "X_full, y_full, categories_full = sklearn_to_X_y_categories(dataset_dict_full_mnist)"
   ]
  },
  {
   "cell_type": "markdown",
   "metadata": {},
   "source": [
    "划分数据集为训练集和测试集。\n",
    "注意这里与官方的mnist划分有所不同，但是是合理而且科学的，因为正确使用了`stratify`参数。"
   ]
  },
  {
   "cell_type": "code",
   "execution_count": 12,
   "metadata": {},
   "outputs": [],
   "source": [
    "#| export\n",
    "from sklearn.model_selection import train_test_split\n",
    "from sklearn.preprocessing import StandardScaler\n",
    "\n",
    "\n",
    "def make_train_val_test(X, y, val_size=0.1, test_size=0.2, random_state=42, normalize=True):\n",
    "    X_train, X_test, y_train, y_test = train_test_split(X, y, test_size=0.2, random_state=42, \n",
    "                                                        stratify=y)\n",
    "    # print(len(X_train), len(X_test))\n",
    "    if normalize:\n",
    "        scaler = StandardScaler()\n",
    "        X_train = scaler.fit_transform(X_train)\n",
    "        X_test = scaler.transform(X_test)\n",
    "    # 进一步划分出验证集，用于调参、early stopping等。\n",
    "    X_train, X_val, y_train, y_val = train_test_split(X_train, y_train, test_size=0.1, random_state=42, \n",
    "                                                    stratify=y_train)\n",
    "    print(len(X_train), len(X_val), len(X_test))\n",
    "    return X_train, X_val, X_test, y_train, y_val, y_test\n"
   ]
  },
  {
   "cell_type": "code",
   "execution_count": 13,
   "metadata": {},
   "outputs": [
    {
     "data": {
      "text/html": [
       "<pre style=\"white-space:pre;overflow-x:auto;line-height:normal;font-family:Menlo,'DejaVu Sans Mono',consolas,'Courier New',monospace\"><span style=\"color: #7fbfbf; text-decoration-color: #7fbfbf\">Thu 2024-11-14 15:41:19.719548</span>\n",
       "</pre>\n"
      ],
      "text/plain": [
       "\u001b[2;36mThu 2024-11-14 15:41:19.719548\u001b[0m\n"
      ]
     },
     "metadata": {},
     "output_type": "display_data"
    },
    {
     "data": {
      "text/html": [
       "<pre style=\"white-space:pre;overflow-x:auto;line-height:normal;font-family:Menlo,'DejaVu Sans Mono',consolas,'Courier New',monospace\"><span style=\"color: #000080; text-decoration-color: #000080\">INFO    </span> <span style=\"font-weight: bold\">(</span><span style=\"color: #008080; text-decoration-color: #008080; font-weight: bold\">1293</span>, <span style=\"color: #008080; text-decoration-color: #008080; font-weight: bold\">144</span>, <span style=\"color: #008080; text-decoration-color: #008080; font-weight: bold\">360</span><span style=\"font-weight: bold\">)</span>                                                                               <a href=\"file:///home/ye_canming/repos/novelties/cv/cls/NamableClassify/namable_classify/utils.py\" target=\"_blank\"><span style=\"color: #7f7f7f; text-decoration-color: #7f7f7f\">utils.py</span></a><span style=\"color: #7f7f7f; text-decoration-color: #7f7f7f\">:</span><a href=\"file:///home/ye_canming/repos/novelties/cv/cls/NamableClassify/namable_classify/utils.py#79\" target=\"_blank\"><span style=\"color: #7f7f7f; text-decoration-color: #7f7f7f\">79</span></a>\n",
       "</pre>\n"
      ],
      "text/plain": [
       "\u001b[34mINFO    \u001b[0m \u001b[1m(\u001b[0m\u001b[1;36m1293\u001b[0m, \u001b[1;36m144\u001b[0m, \u001b[1;36m360\u001b[0m\u001b[1m)\u001b[0m                                                                               \u001b]8;id=543630;file:///home/ye_canming/repos/novelties/cv/cls/NamableClassify/namable_classify/utils.py\u001b\\\u001b[2mutils.py\u001b[0m\u001b]8;;\u001b\\\u001b[2m:\u001b[0m\u001b]8;id=289865;file:///home/ye_canming/repos/novelties/cv/cls/NamableClassify/namable_classify/utils.py#79\u001b\\\u001b[2m79\u001b[0m\u001b]8;;\u001b\\\n"
      ]
     },
     "metadata": {},
     "output_type": "display_data"
    },
    {
     "data": {
      "text/html": [
       "<pre style=\"white-space:pre;overflow-x:auto;line-height:normal;font-family:Menlo,'DejaVu Sans Mono',consolas,'Courier New',monospace\"><span style=\"color: #7fbfbf; text-decoration-color: #7fbfbf\">Thu 2024-11-14 15:41:23.278243</span>\n",
       "</pre>\n"
      ],
      "text/plain": [
       "\u001b[2;36mThu 2024-11-14 15:41:23.278243\u001b[0m\n"
      ]
     },
     "metadata": {},
     "output_type": "display_data"
    },
    {
     "data": {
      "text/html": [
       "<pre style=\"white-space:pre;overflow-x:auto;line-height:normal;font-family:Menlo,'DejaVu Sans Mono',consolas,'Courier New',monospace\"><span style=\"color: #000080; text-decoration-color: #000080\">INFO    </span> <span style=\"font-weight: bold\">(</span><span style=\"color: #008080; text-decoration-color: #008080; font-weight: bold\">50400</span>, <span style=\"color: #008080; text-decoration-color: #008080; font-weight: bold\">5600</span>, <span style=\"color: #008080; text-decoration-color: #008080; font-weight: bold\">14000</span><span style=\"font-weight: bold\">)</span>                                                                           <a href=\"file:///home/ye_canming/repos/novelties/cv/cls/NamableClassify/namable_classify/utils.py\" target=\"_blank\"><span style=\"color: #7f7f7f; text-decoration-color: #7f7f7f\">utils.py</span></a><span style=\"color: #7f7f7f; text-decoration-color: #7f7f7f\">:</span><a href=\"file:///home/ye_canming/repos/novelties/cv/cls/NamableClassify/namable_classify/utils.py#79\" target=\"_blank\"><span style=\"color: #7f7f7f; text-decoration-color: #7f7f7f\">79</span></a>\n",
       "</pre>\n"
      ],
      "text/plain": [
       "\u001b[34mINFO    \u001b[0m \u001b[1m(\u001b[0m\u001b[1;36m50400\u001b[0m, \u001b[1;36m5600\u001b[0m, \u001b[1;36m14000\u001b[0m\u001b[1m)\u001b[0m                                                                           \u001b]8;id=573876;file:///home/ye_canming/repos/novelties/cv/cls/NamableClassify/namable_classify/utils.py\u001b\\\u001b[2mutils.py\u001b[0m\u001b]8;;\u001b\\\u001b[2m:\u001b[0m\u001b]8;id=448748;file:///home/ye_canming/repos/novelties/cv/cls/NamableClassify/namable_classify/utils.py#79\u001b\\\u001b[2m79\u001b[0m\u001b]8;;\u001b\\\n"
      ]
     },
     "metadata": {},
     "output_type": "display_data"
    }
   ],
   "source": [
    "X_train, X_val, X_test, y_train, y_val, y_test = make_train_val_test(X, y)\n",
    "X_train_full, X_val_full, X_test_full, y_train_full, y_val_full, y_test_full = make_train_val_test(X_full, y_full)"
   ]
  },
  {
   "cell_type": "markdown",
   "metadata": {},
   "source": [
    "获得 PyTorch 格式 的Dataset，\n",
    "进一步得到 PyTorch Lightning 的 DataModule"
   ]
  },
  {
   "cell_type": "code",
   "execution_count": null,
   "metadata": {},
   "outputs": [],
   "source": [
    "#| export\n",
    "import torch\n",
    "import lightning as L\n",
    "def get_torch_dataset(X, y):\n",
    "    X_tensor = torch.tensor(X, dtype=torch.float32)\n",
    "    y_tensor = torch.tensor(y, dtype=torch.long)\n",
    "    dataset = torch.utils.data.TensorDataset(X_tensor, y_tensor)\n",
    "    return dataset"
   ]
  },
  {
   "cell_type": "code",
   "execution_count": 15,
   "metadata": {},
   "outputs": [],
   "source": [
    "train_set = get_torch_dataset(X_train, y_train)\n",
    "val_set = get_torch_dataset(X_val, y_val)\n",
    "test_set = get_torch_dataset(X_test, y_test)\n",
    "train_set_full = get_torch_dataset(X_train_full, y_train_full)\n",
    "val_set_full = get_torch_dataset(X_val_full, y_val_full)\n",
    "test_set_full = get_torch_dataset(X_test_full, y_test_full)"
   ]
  },
  {
   "cell_type": "code",
   "execution_count": 16,
   "metadata": {},
   "outputs": [
    {
     "name": "stderr",
     "output_type": "stream",
     "text": [
      "/home/ye_canming/program_files/managers/conda/envs/yuequ/lib/python3.10/site-packages/tqdm/auto.py:21: TqdmWarning: IProgress not found. Please update jupyter and ipywidgets. See https://ipywidgets.readthedocs.io/en/stable/user_install.html\n",
      "  from .autonotebook import tqdm as notebook_tqdm\n"
     ]
    }
   ],
   "source": [
    "import lightning as L\n",
    "data_module = L.LightningDataModule.from_datasets(\n",
    "    train_dataset=train_set, \n",
    "    val_dataset=val_set, \n",
    "    test_dataset=test_set, \n",
    "    predict_dataset=test_set, \n",
    "    batch_size=128,  \n",
    "    num_workers=4\n",
    ")\n",
    "data_module_full = L.LightningDataModule.from_datasets(\n",
    "    train_dataset=train_set_full, \n",
    "    val_dataset=val_set_full, \n",
    "    test_dataset=test_set_full, \n",
    "    predict_dataset=test_set_full, \n",
    "    batch_size=128,  \n",
    "    num_workers=4\n",
    ")"
   ]
  },
  {
   "cell_type": "code",
   "execution_count": 19,
   "metadata": {},
   "outputs": [],
   "source": [
    "#| export\n",
    "from typing import Literal\n",
    "ReturnType = Literal['numpy', 'torch', 'lightning', 'pandas']\n",
    "\n",
    "def process_sklearn_dataset_dict(dataset_dict:dict, return_type:ReturnType):\n",
    "    X, y, categories = sklearn_to_X_y_categories(dataset_dict)\n",
    "    X_train, X_val, X_test, y_train, y_val, y_test = make_train_val_test(X, y)\n",
    "    train_set = get_torch_dataset(X_train, y_train)\n",
    "    val_set = get_torch_dataset(X_val, y_val)\n",
    "    test_set = get_torch_dataset(X_test, y_test)\n",
    "    data_module = L.LightningDataModule.from_datasets(\n",
    "        train_dataset=train_set, \n",
    "            val_dataset=val_set, \n",
    "            test_dataset=test_set, \n",
    "            predict_dataset=test_set, \n",
    "            batch_size=128,  \n",
    "            num_workers=4\n",
    "        )\n",
    "    if return_type == 'numpy':\n",
    "        return X_train, X_val, X_test, y_train, y_val, y_test\n",
    "    elif return_type == 'torch':\n",
    "        return train_set, val_set, test_set\n",
    "    elif return_type == 'lightning':\n",
    "        return data_module  \n",
    "    elif return_type == 'pandas':\n",
    "        raise NotImplementedError(\"Pandas not implemented yet\") # 这里可以用 dataset_dict 的 frame, 但是 train test split 还有预处理。"
   ]
  },
  {
   "cell_type": "markdown",
   "metadata": {},
   "source": [
    "## 理论回顾\n",
    "### SVM有哪些优化形式？我们选择哪种来实现代码？\n",
    "\n",
    "\n",
    "支持向量机（SVM）的优化方法主要有两种：使用hinge loss进行梯度下降和通过求解对偶问题使用SMO算法。这是两个不同形式的问题。\n",
    "\n",
    "\n",
    "### SVM如何实现多分类？\n",
    "\n",
    "李航书上介绍的SVM是用于二分类问题的，然而本次项目我们需要做MNIST手写数字分类，这需要多分类，因而我们必须了解SVM如何实现多分类。\n",
    "\n",
    "周志华西瓜书告诉我们认为普通的二分类分类器，可以通过ovr或者ovo策略来实现多分类。那么SVM本身有没有更加独特的技巧去实现多分类呢？\n",
    "\n",
    "我们参考这个课件 https://www.mit.edu/~rakhlin/6.883/lectures/lecture05.pdf \n",
    "\n",
    "目前，构造SVM多类分类器的方法主要有两类：\n",
    "\n",
    "1. 直接法（也就是我说的独特的方法）：直接在目标函数上进行修改，将多个分类面的参数求解合并到一个最优化问题中，通过求解该最优化问题“一次性”实现多类分类。\n",
    "2. 间接法（所有二分类器都可以这么操作得到多分类器）：主要是通过组合多个二分类器来实现多分类器的构造，常见的方法有one-against-one（OvO）和one-against-all（OvR）两种。具体来说，\n",
    "    - 一对多法（One-Versus-Rest, OvR）：训练时依次把某个类别的样本归为一类，其他剩余的样本归为另一类，这样k个类别的样本就构造出了k个SVM。分类时将未知样本分类为具有最大分类函数值的那类。\n",
    "    - 一对一法（One-Versus-One, OvO）：将n个类别两两配对，产生n(n-1)/2个二分类任务，获得n(n-1)/2个分类器，新样本交给这些分类器，得到n(n-1)/2个结果，最终结果投票产生。\n",
    "\n",
    "### SVM如何实现概率输出？\n",
    "\n",
    "尽管李航书第一章把SVM是归类为非概率模型，实际上SVM经过一定的操作，是可以得到概率输出的。\n",
    "经典机器学习sklearn库的学习器有一个重要的API，`predict_proba()`，而sklearn中的SVC同样支持该API的调用。\n",
    "\n",
    "那么SVM概率输出有哪些方法呢？是否要用到点和分离超平面的几何间隔呢？经过资料查询，我发现SVM的概率输出几种方法：\n",
    "1. Sigmoid函数转换：可以将实轴上的数值投射到[0,1]上，即将一个输出实值抓化为一个概率值。比如一个分类器的分界线为0，大于0标为+1，小于0标为-1；如果使用sigmoid函数套一下输出值，我们就可以说，输出为0时标为+1的概率为0.5；输出为2时标为+1的概率为0.8等。\n",
    "2. Platt Scaling：这是libsvm中使用的一种方法，核心思想是把分类的结果作为新的训练集，用logistics回归再训练一个关系，得到具体的概率值。\n",
    "3. CalibratedClassifierCV：在scikit-learn中，可以使用专门的函数CalibratedClassifierCV对训练好的分类器模型进行校准，校准过程用到了cross-validation。\n",
    "在使用predict_proba()函数时，返回的是一个n行k列的数组，第i行第j列上的数值是模型预测第i个预测样本为某个标签的概率，并且每一行的概率和为1。\n"
   ]
  },
  {
   "cell_type": "markdown",
   "metadata": {},
   "source": [
    "\n",
    "### 相关工作\n",
    "\n",
    "类似于我们这次Project的，实现SVM的代码仓库有哪些？\n",
    "\n",
    "教育学习目的的库：\n",
    "- https://github.com/Kaslanarian/libsvm-sc-reading?tab=readme-ov-file\n",
    "    - 这篇文章写得非常用心，阅读libsvm源码解读地非常详细。\n",
    "- https://github.com/lzx1019056432/Be-Friendly-To-New-People/tree/master/SVM%E6%94%AF%E6%8C%81%E5%90%91%E9%87%8F%E6%9C%BA\n",
    "    - 作者历时一个月，终于实现了SMO版本的SVM。但是我们做这个Project只有一周，我们要站在巨人的肩膀上实现地更好。\n",
    "- https://github.com/Learner0x5a/SVM-SMO\n",
    "    - 作者推导良久，终于搞懂了SVM以及SMO的公式，实现了符合sklearn接口的SVM。\n",
    "- https://github.com/shicaiwei123/svm-smo?tab=readme-ov-file\n",
    "    - 作者使用numpy实现了 SMO，并且使用ovo策略实现了多分类。\n",
    "- https://github.com/kazuto1011/svm-pytorch\n",
    "    - 作者使用早期版本的PyTorch实现了SVM。\n",
    "- https://bytepawn.com/svm-with-pytorch.html\n",
    "    - 这篇文章实现了二分类情况下，更早期PyTorch版本下实现的SVM。并且开源到github jupyter notebook。\n",
    "\n",
    "\n",
    "实际部署在工业界的Python库：\n",
    "- sklearn 本质上调用了 libsvm\n",
    "    - 注意sklearn很长一段时间不会利用GPU优化SVM！ https://stackoverflow.com/questions/35292741/what-svm-python-modules-use-gpu\n",
    "- https://pypi.org/project/svmlight/\n",
    "\n",
    "非Python语言的库\n",
    "- C++ libsvm https://github.com/cjlin1/libsvm\n",
    "    - GPU升级版，基于CUDA/C++实现 https://mklab.iti.gr/results/gpu-accelerated-libsvm/\n",
    "- Rust https://athemathmo.github.io/rusty-machine/doc/rusty_machine/learning/svm/index.html\n",
    "- Rust https://docs.rs/linfa-svm/latest/linfa_svm/"
   ]
  },
  {
   "cell_type": "markdown",
   "metadata": {},
   "source": [
    "## 实验内容"
   ]
  },
  {
   "cell_type": "markdown",
   "metadata": {},
   "source": [
    "### 调库实现SVM\n",
    "\n",
    "为了给我们后面的实验一个参照，我们调用现有代码库的SVM，关注其精度与速度的情况。\n",
    "当然如果我们Project在此收尾，只能酌情被扣除分数。\n",
    "在本节之后，我们将使用 PyTorch 和 numpy 这样的基础科学计算库，来在GPU和CPU上实现SVM及其优化。\n",
    "\n",
    "::: {.callout-important}\n",
    "本次Project首先展示了几个常用的SVM库的精度与速度，并且对其进行调参；随后本次Project基于基础科学计算库手写实现了SVM及其优化，和前面的库的精度与速度进行了对比。\n",
    ":::\n",
    "\n",
    "\n",
    "#### sklearn实现的 SMO 形式的 RBF kernel SVM"
   ]
  },
  {
   "cell_type": "code",
   "execution_count": 20,
   "metadata": {},
   "outputs": [
    {
     "data": {
      "text/html": [
       "<style>#sk-container-id-1 {\n",
       "  /* Definition of color scheme common for light and dark mode */\n",
       "  --sklearn-color-text: black;\n",
       "  --sklearn-color-line: gray;\n",
       "  /* Definition of color scheme for unfitted estimators */\n",
       "  --sklearn-color-unfitted-level-0: #fff5e6;\n",
       "  --sklearn-color-unfitted-level-1: #f6e4d2;\n",
       "  --sklearn-color-unfitted-level-2: #ffe0b3;\n",
       "  --sklearn-color-unfitted-level-3: chocolate;\n",
       "  /* Definition of color scheme for fitted estimators */\n",
       "  --sklearn-color-fitted-level-0: #f0f8ff;\n",
       "  --sklearn-color-fitted-level-1: #d4ebff;\n",
       "  --sklearn-color-fitted-level-2: #b3dbfd;\n",
       "  --sklearn-color-fitted-level-3: cornflowerblue;\n",
       "\n",
       "  /* Specific color for light theme */\n",
       "  --sklearn-color-text-on-default-background: var(--sg-text-color, var(--theme-code-foreground, var(--jp-content-font-color1, black)));\n",
       "  --sklearn-color-background: var(--sg-background-color, var(--theme-background, var(--jp-layout-color0, white)));\n",
       "  --sklearn-color-border-box: var(--sg-text-color, var(--theme-code-foreground, var(--jp-content-font-color1, black)));\n",
       "  --sklearn-color-icon: #696969;\n",
       "\n",
       "  @media (prefers-color-scheme: dark) {\n",
       "    /* Redefinition of color scheme for dark theme */\n",
       "    --sklearn-color-text-on-default-background: var(--sg-text-color, var(--theme-code-foreground, var(--jp-content-font-color1, white)));\n",
       "    --sklearn-color-background: var(--sg-background-color, var(--theme-background, var(--jp-layout-color0, #111)));\n",
       "    --sklearn-color-border-box: var(--sg-text-color, var(--theme-code-foreground, var(--jp-content-font-color1, white)));\n",
       "    --sklearn-color-icon: #878787;\n",
       "  }\n",
       "}\n",
       "\n",
       "#sk-container-id-1 {\n",
       "  color: var(--sklearn-color-text);\n",
       "}\n",
       "\n",
       "#sk-container-id-1 pre {\n",
       "  padding: 0;\n",
       "}\n",
       "\n",
       "#sk-container-id-1 input.sk-hidden--visually {\n",
       "  border: 0;\n",
       "  clip: rect(1px 1px 1px 1px);\n",
       "  clip: rect(1px, 1px, 1px, 1px);\n",
       "  height: 1px;\n",
       "  margin: -1px;\n",
       "  overflow: hidden;\n",
       "  padding: 0;\n",
       "  position: absolute;\n",
       "  width: 1px;\n",
       "}\n",
       "\n",
       "#sk-container-id-1 div.sk-dashed-wrapped {\n",
       "  border: 1px dashed var(--sklearn-color-line);\n",
       "  margin: 0 0.4em 0.5em 0.4em;\n",
       "  box-sizing: border-box;\n",
       "  padding-bottom: 0.4em;\n",
       "  background-color: var(--sklearn-color-background);\n",
       "}\n",
       "\n",
       "#sk-container-id-1 div.sk-container {\n",
       "  /* jupyter's `normalize.less` sets `[hidden] { display: none; }`\n",
       "     but bootstrap.min.css set `[hidden] { display: none !important; }`\n",
       "     so we also need the `!important` here to be able to override the\n",
       "     default hidden behavior on the sphinx rendered scikit-learn.org.\n",
       "     See: https://github.com/scikit-learn/scikit-learn/issues/21755 */\n",
       "  display: inline-block !important;\n",
       "  position: relative;\n",
       "}\n",
       "\n",
       "#sk-container-id-1 div.sk-text-repr-fallback {\n",
       "  display: none;\n",
       "}\n",
       "\n",
       "div.sk-parallel-item,\n",
       "div.sk-serial,\n",
       "div.sk-item {\n",
       "  /* draw centered vertical line to link estimators */\n",
       "  background-image: linear-gradient(var(--sklearn-color-text-on-default-background), var(--sklearn-color-text-on-default-background));\n",
       "  background-size: 2px 100%;\n",
       "  background-repeat: no-repeat;\n",
       "  background-position: center center;\n",
       "}\n",
       "\n",
       "/* Parallel-specific style estimator block */\n",
       "\n",
       "#sk-container-id-1 div.sk-parallel-item::after {\n",
       "  content: \"\";\n",
       "  width: 100%;\n",
       "  border-bottom: 2px solid var(--sklearn-color-text-on-default-background);\n",
       "  flex-grow: 1;\n",
       "}\n",
       "\n",
       "#sk-container-id-1 div.sk-parallel {\n",
       "  display: flex;\n",
       "  align-items: stretch;\n",
       "  justify-content: center;\n",
       "  background-color: var(--sklearn-color-background);\n",
       "  position: relative;\n",
       "}\n",
       "\n",
       "#sk-container-id-1 div.sk-parallel-item {\n",
       "  display: flex;\n",
       "  flex-direction: column;\n",
       "}\n",
       "\n",
       "#sk-container-id-1 div.sk-parallel-item:first-child::after {\n",
       "  align-self: flex-end;\n",
       "  width: 50%;\n",
       "}\n",
       "\n",
       "#sk-container-id-1 div.sk-parallel-item:last-child::after {\n",
       "  align-self: flex-start;\n",
       "  width: 50%;\n",
       "}\n",
       "\n",
       "#sk-container-id-1 div.sk-parallel-item:only-child::after {\n",
       "  width: 0;\n",
       "}\n",
       "\n",
       "/* Serial-specific style estimator block */\n",
       "\n",
       "#sk-container-id-1 div.sk-serial {\n",
       "  display: flex;\n",
       "  flex-direction: column;\n",
       "  align-items: center;\n",
       "  background-color: var(--sklearn-color-background);\n",
       "  padding-right: 1em;\n",
       "  padding-left: 1em;\n",
       "}\n",
       "\n",
       "\n",
       "/* Toggleable style: style used for estimator/Pipeline/ColumnTransformer box that is\n",
       "clickable and can be expanded/collapsed.\n",
       "- Pipeline and ColumnTransformer use this feature and define the default style\n",
       "- Estimators will overwrite some part of the style using the `sk-estimator` class\n",
       "*/\n",
       "\n",
       "/* Pipeline and ColumnTransformer style (default) */\n",
       "\n",
       "#sk-container-id-1 div.sk-toggleable {\n",
       "  /* Default theme specific background. It is overwritten whether we have a\n",
       "  specific estimator or a Pipeline/ColumnTransformer */\n",
       "  background-color: var(--sklearn-color-background);\n",
       "}\n",
       "\n",
       "/* Toggleable label */\n",
       "#sk-container-id-1 label.sk-toggleable__label {\n",
       "  cursor: pointer;\n",
       "  display: block;\n",
       "  width: 100%;\n",
       "  margin-bottom: 0;\n",
       "  padding: 0.5em;\n",
       "  box-sizing: border-box;\n",
       "  text-align: center;\n",
       "}\n",
       "\n",
       "#sk-container-id-1 label.sk-toggleable__label-arrow:before {\n",
       "  /* Arrow on the left of the label */\n",
       "  content: \"▸\";\n",
       "  float: left;\n",
       "  margin-right: 0.25em;\n",
       "  color: var(--sklearn-color-icon);\n",
       "}\n",
       "\n",
       "#sk-container-id-1 label.sk-toggleable__label-arrow:hover:before {\n",
       "  color: var(--sklearn-color-text);\n",
       "}\n",
       "\n",
       "/* Toggleable content - dropdown */\n",
       "\n",
       "#sk-container-id-1 div.sk-toggleable__content {\n",
       "  max-height: 0;\n",
       "  max-width: 0;\n",
       "  overflow: hidden;\n",
       "  text-align: left;\n",
       "  /* unfitted */\n",
       "  background-color: var(--sklearn-color-unfitted-level-0);\n",
       "}\n",
       "\n",
       "#sk-container-id-1 div.sk-toggleable__content.fitted {\n",
       "  /* fitted */\n",
       "  background-color: var(--sklearn-color-fitted-level-0);\n",
       "}\n",
       "\n",
       "#sk-container-id-1 div.sk-toggleable__content pre {\n",
       "  margin: 0.2em;\n",
       "  border-radius: 0.25em;\n",
       "  color: var(--sklearn-color-text);\n",
       "  /* unfitted */\n",
       "  background-color: var(--sklearn-color-unfitted-level-0);\n",
       "}\n",
       "\n",
       "#sk-container-id-1 div.sk-toggleable__content.fitted pre {\n",
       "  /* unfitted */\n",
       "  background-color: var(--sklearn-color-fitted-level-0);\n",
       "}\n",
       "\n",
       "#sk-container-id-1 input.sk-toggleable__control:checked~div.sk-toggleable__content {\n",
       "  /* Expand drop-down */\n",
       "  max-height: 200px;\n",
       "  max-width: 100%;\n",
       "  overflow: auto;\n",
       "}\n",
       "\n",
       "#sk-container-id-1 input.sk-toggleable__control:checked~label.sk-toggleable__label-arrow:before {\n",
       "  content: \"▾\";\n",
       "}\n",
       "\n",
       "/* Pipeline/ColumnTransformer-specific style */\n",
       "\n",
       "#sk-container-id-1 div.sk-label input.sk-toggleable__control:checked~label.sk-toggleable__label {\n",
       "  color: var(--sklearn-color-text);\n",
       "  background-color: var(--sklearn-color-unfitted-level-2);\n",
       "}\n",
       "\n",
       "#sk-container-id-1 div.sk-label.fitted input.sk-toggleable__control:checked~label.sk-toggleable__label {\n",
       "  background-color: var(--sklearn-color-fitted-level-2);\n",
       "}\n",
       "\n",
       "/* Estimator-specific style */\n",
       "\n",
       "/* Colorize estimator box */\n",
       "#sk-container-id-1 div.sk-estimator input.sk-toggleable__control:checked~label.sk-toggleable__label {\n",
       "  /* unfitted */\n",
       "  background-color: var(--sklearn-color-unfitted-level-2);\n",
       "}\n",
       "\n",
       "#sk-container-id-1 div.sk-estimator.fitted input.sk-toggleable__control:checked~label.sk-toggleable__label {\n",
       "  /* fitted */\n",
       "  background-color: var(--sklearn-color-fitted-level-2);\n",
       "}\n",
       "\n",
       "#sk-container-id-1 div.sk-label label.sk-toggleable__label,\n",
       "#sk-container-id-1 div.sk-label label {\n",
       "  /* The background is the default theme color */\n",
       "  color: var(--sklearn-color-text-on-default-background);\n",
       "}\n",
       "\n",
       "/* On hover, darken the color of the background */\n",
       "#sk-container-id-1 div.sk-label:hover label.sk-toggleable__label {\n",
       "  color: var(--sklearn-color-text);\n",
       "  background-color: var(--sklearn-color-unfitted-level-2);\n",
       "}\n",
       "\n",
       "/* Label box, darken color on hover, fitted */\n",
       "#sk-container-id-1 div.sk-label.fitted:hover label.sk-toggleable__label.fitted {\n",
       "  color: var(--sklearn-color-text);\n",
       "  background-color: var(--sklearn-color-fitted-level-2);\n",
       "}\n",
       "\n",
       "/* Estimator label */\n",
       "\n",
       "#sk-container-id-1 div.sk-label label {\n",
       "  font-family: monospace;\n",
       "  font-weight: bold;\n",
       "  display: inline-block;\n",
       "  line-height: 1.2em;\n",
       "}\n",
       "\n",
       "#sk-container-id-1 div.sk-label-container {\n",
       "  text-align: center;\n",
       "}\n",
       "\n",
       "/* Estimator-specific */\n",
       "#sk-container-id-1 div.sk-estimator {\n",
       "  font-family: monospace;\n",
       "  border: 1px dotted var(--sklearn-color-border-box);\n",
       "  border-radius: 0.25em;\n",
       "  box-sizing: border-box;\n",
       "  margin-bottom: 0.5em;\n",
       "  /* unfitted */\n",
       "  background-color: var(--sklearn-color-unfitted-level-0);\n",
       "}\n",
       "\n",
       "#sk-container-id-1 div.sk-estimator.fitted {\n",
       "  /* fitted */\n",
       "  background-color: var(--sklearn-color-fitted-level-0);\n",
       "}\n",
       "\n",
       "/* on hover */\n",
       "#sk-container-id-1 div.sk-estimator:hover {\n",
       "  /* unfitted */\n",
       "  background-color: var(--sklearn-color-unfitted-level-2);\n",
       "}\n",
       "\n",
       "#sk-container-id-1 div.sk-estimator.fitted:hover {\n",
       "  /* fitted */\n",
       "  background-color: var(--sklearn-color-fitted-level-2);\n",
       "}\n",
       "\n",
       "/* Specification for estimator info (e.g. \"i\" and \"?\") */\n",
       "\n",
       "/* Common style for \"i\" and \"?\" */\n",
       "\n",
       ".sk-estimator-doc-link,\n",
       "a:link.sk-estimator-doc-link,\n",
       "a:visited.sk-estimator-doc-link {\n",
       "  float: right;\n",
       "  font-size: smaller;\n",
       "  line-height: 1em;\n",
       "  font-family: monospace;\n",
       "  background-color: var(--sklearn-color-background);\n",
       "  border-radius: 1em;\n",
       "  height: 1em;\n",
       "  width: 1em;\n",
       "  text-decoration: none !important;\n",
       "  margin-left: 1ex;\n",
       "  /* unfitted */\n",
       "  border: var(--sklearn-color-unfitted-level-1) 1pt solid;\n",
       "  color: var(--sklearn-color-unfitted-level-1);\n",
       "}\n",
       "\n",
       ".sk-estimator-doc-link.fitted,\n",
       "a:link.sk-estimator-doc-link.fitted,\n",
       "a:visited.sk-estimator-doc-link.fitted {\n",
       "  /* fitted */\n",
       "  border: var(--sklearn-color-fitted-level-1) 1pt solid;\n",
       "  color: var(--sklearn-color-fitted-level-1);\n",
       "}\n",
       "\n",
       "/* On hover */\n",
       "div.sk-estimator:hover .sk-estimator-doc-link:hover,\n",
       ".sk-estimator-doc-link:hover,\n",
       "div.sk-label-container:hover .sk-estimator-doc-link:hover,\n",
       ".sk-estimator-doc-link:hover {\n",
       "  /* unfitted */\n",
       "  background-color: var(--sklearn-color-unfitted-level-3);\n",
       "  color: var(--sklearn-color-background);\n",
       "  text-decoration: none;\n",
       "}\n",
       "\n",
       "div.sk-estimator.fitted:hover .sk-estimator-doc-link.fitted:hover,\n",
       ".sk-estimator-doc-link.fitted:hover,\n",
       "div.sk-label-container:hover .sk-estimator-doc-link.fitted:hover,\n",
       ".sk-estimator-doc-link.fitted:hover {\n",
       "  /* fitted */\n",
       "  background-color: var(--sklearn-color-fitted-level-3);\n",
       "  color: var(--sklearn-color-background);\n",
       "  text-decoration: none;\n",
       "}\n",
       "\n",
       "/* Span, style for the box shown on hovering the info icon */\n",
       ".sk-estimator-doc-link span {\n",
       "  display: none;\n",
       "  z-index: 9999;\n",
       "  position: relative;\n",
       "  font-weight: normal;\n",
       "  right: .2ex;\n",
       "  padding: .5ex;\n",
       "  margin: .5ex;\n",
       "  width: min-content;\n",
       "  min-width: 20ex;\n",
       "  max-width: 50ex;\n",
       "  color: var(--sklearn-color-text);\n",
       "  box-shadow: 2pt 2pt 4pt #999;\n",
       "  /* unfitted */\n",
       "  background: var(--sklearn-color-unfitted-level-0);\n",
       "  border: .5pt solid var(--sklearn-color-unfitted-level-3);\n",
       "}\n",
       "\n",
       ".sk-estimator-doc-link.fitted span {\n",
       "  /* fitted */\n",
       "  background: var(--sklearn-color-fitted-level-0);\n",
       "  border: var(--sklearn-color-fitted-level-3);\n",
       "}\n",
       "\n",
       ".sk-estimator-doc-link:hover span {\n",
       "  display: block;\n",
       "}\n",
       "\n",
       "/* \"?\"-specific style due to the `<a>` HTML tag */\n",
       "\n",
       "#sk-container-id-1 a.estimator_doc_link {\n",
       "  float: right;\n",
       "  font-size: 1rem;\n",
       "  line-height: 1em;\n",
       "  font-family: monospace;\n",
       "  background-color: var(--sklearn-color-background);\n",
       "  border-radius: 1rem;\n",
       "  height: 1rem;\n",
       "  width: 1rem;\n",
       "  text-decoration: none;\n",
       "  /* unfitted */\n",
       "  color: var(--sklearn-color-unfitted-level-1);\n",
       "  border: var(--sklearn-color-unfitted-level-1) 1pt solid;\n",
       "}\n",
       "\n",
       "#sk-container-id-1 a.estimator_doc_link.fitted {\n",
       "  /* fitted */\n",
       "  border: var(--sklearn-color-fitted-level-1) 1pt solid;\n",
       "  color: var(--sklearn-color-fitted-level-1);\n",
       "}\n",
       "\n",
       "/* On hover */\n",
       "#sk-container-id-1 a.estimator_doc_link:hover {\n",
       "  /* unfitted */\n",
       "  background-color: var(--sklearn-color-unfitted-level-3);\n",
       "  color: var(--sklearn-color-background);\n",
       "  text-decoration: none;\n",
       "}\n",
       "\n",
       "#sk-container-id-1 a.estimator_doc_link.fitted:hover {\n",
       "  /* fitted */\n",
       "  background-color: var(--sklearn-color-fitted-level-3);\n",
       "}\n",
       "</style><div id=\"sk-container-id-1\" class=\"sk-top-container\"><div class=\"sk-text-repr-fallback\"><pre>SVC(probability=True)</pre><b>In a Jupyter environment, please rerun this cell to show the HTML representation or trust the notebook. <br />On GitHub, the HTML representation is unable to render, please try loading this page with nbviewer.org.</b></div><div class=\"sk-container\" hidden><div class=\"sk-item\"><div class=\"sk-estimator fitted sk-toggleable\"><input class=\"sk-toggleable__control sk-hidden--visually\" id=\"sk-estimator-id-1\" type=\"checkbox\" checked><label for=\"sk-estimator-id-1\" class=\"sk-toggleable__label fitted sk-toggleable__label-arrow fitted\">&nbsp;&nbsp;SVC<a class=\"sk-estimator-doc-link fitted\" rel=\"noreferrer\" target=\"_blank\" href=\"https://scikit-learn.org/1.5/modules/generated/sklearn.svm.SVC.html\">?<span>Documentation for SVC</span></a><span class=\"sk-estimator-doc-link fitted\">i<span>Fitted</span></span></label><div class=\"sk-toggleable__content fitted\"><pre>SVC(probability=True)</pre></div> </div></div></div></div>"
      ],
      "text/plain": [
       "SVC(probability=True)"
      ]
     },
     "execution_count": 20,
     "metadata": {},
     "output_type": "execute_result"
    }
   ],
   "source": [
    "from sklearn.svm import SVC\n",
    "svc = SVC(kernel='rbf', probability=True)\n",
    "svc.fit(X_train, y_train)"
   ]
  },
  {
   "cell_type": "code",
   "execution_count": 21,
   "metadata": {},
   "outputs": [
    {
     "name": "stdout",
     "output_type": "stream",
     "text": [
      "\u001b[0;31mSignature:\u001b[0m\n",
      "\u001b[0mcompute_classification_metrics\u001b[0m\u001b[0;34m(\u001b[0m\u001b[0;34m\u001b[0m\n",
      "\u001b[0;34m\u001b[0m    \u001b[0my_true\u001b[0m\u001b[0;34m:\u001b[0m \u001b[0mnumpy\u001b[0m\u001b[0;34m.\u001b[0m\u001b[0mndarray\u001b[0m\u001b[0;34m,\u001b[0m\u001b[0;34m\u001b[0m\n",
      "\u001b[0;34m\u001b[0m    \u001b[0my_pred_logits\u001b[0m\u001b[0;34m:\u001b[0m \u001b[0mnumpy\u001b[0m\u001b[0;34m.\u001b[0m\u001b[0mndarray\u001b[0m \u001b[0;34m=\u001b[0m \u001b[0;32mNone\u001b[0m\u001b[0;34m,\u001b[0m\u001b[0;34m\u001b[0m\n",
      "\u001b[0;34m\u001b[0m    \u001b[0mlogits_to_prob\u001b[0m\u001b[0;34m:\u001b[0m \u001b[0mbool\u001b[0m \u001b[0;34m=\u001b[0m \u001b[0;32mFalse\u001b[0m\u001b[0;34m,\u001b[0m\u001b[0;34m\u001b[0m\n",
      "\u001b[0;34m\u001b[0m    \u001b[0my_pred\u001b[0m\u001b[0;34m:\u001b[0m \u001b[0mnumpy\u001b[0m\u001b[0;34m.\u001b[0m\u001b[0mndarray\u001b[0m \u001b[0;34m=\u001b[0m \u001b[0;32mNone\u001b[0m\u001b[0;34m,\u001b[0m\u001b[0;34m\u001b[0m\n",
      "\u001b[0;34m\u001b[0m    \u001b[0mlabels\u001b[0m\u001b[0;34m:\u001b[0m \u001b[0mlist\u001b[0m\u001b[0;34m[\u001b[0m\u001b[0mint\u001b[0m \u001b[0;34m|\u001b[0m \u001b[0mstr\u001b[0m\u001b[0;34m]\u001b[0m \u001b[0;34m|\u001b[0m \u001b[0;32mNone\u001b[0m \u001b[0;34m=\u001b[0m \u001b[0;32mNone\u001b[0m\u001b[0;34m,\u001b[0m\u001b[0;34m\u001b[0m\n",
      "\u001b[0;34m\u001b[0m    \u001b[0msupress_warnings\u001b[0m\u001b[0;34m:\u001b[0m \u001b[0mbool\u001b[0m \u001b[0;34m=\u001b[0m \u001b[0;32mTrue\u001b[0m\u001b[0;34m,\u001b[0m\u001b[0;34m\u001b[0m\n",
      "\u001b[0;34m\u001b[0m    \u001b[0my_pred_metrics_only\u001b[0m\u001b[0;34m:\u001b[0m \u001b[0mbool\u001b[0m \u001b[0;34m=\u001b[0m \u001b[0;32mFalse\u001b[0m\u001b[0;34m,\u001b[0m\u001b[0;34m\u001b[0m\n",
      "\u001b[0;34m\u001b[0m\u001b[0;34m)\u001b[0m\u001b[0;34m\u001b[0m\u001b[0;34m\u001b[0m\u001b[0m\n",
      "\u001b[0;31mDocstring:\u001b[0m <no docstring>\n",
      "\u001b[0;31mFile:\u001b[0m      ~/repos/novelties/cv/cls/NamableClassify/namable_classify/metrics.py\n",
      "\u001b[0;31mType:\u001b[0m      function"
     ]
    }
   ],
   "source": [
    "from namable_classify.metrics import compute_classification_metrics\n",
    "compute_classification_metrics?"
   ]
  },
  {
   "cell_type": "code",
   "execution_count": 22,
   "metadata": {},
   "outputs": [
    {
     "data": {
      "text/html": [
       "<pre style=\"white-space:pre;overflow-x:auto;line-height:normal;font-family:Menlo,'DejaVu Sans Mono',consolas,'Courier New',monospace\"></pre>\n"
      ],
      "text/plain": []
     },
     "metadata": {},
     "output_type": "display_data"
    },
    {
     "data": {
      "text/plain": [
       "\n",
       "\u001b[1m{\u001b[0m\n",
       "    \u001b[32m'acc1'\u001b[0m: \u001b[1;36m0.9722222222222222\u001b[0m,\n",
       "    \u001b[32m'acc2'\u001b[0m: \u001b[1;36m0.9833333333333333\u001b[0m,\n",
       "    \u001b[32m'acc3'\u001b[0m: \u001b[1;36m0.9888888888888889\u001b[0m,\n",
       "    \u001b[32m'acc5'\u001b[0m: \u001b[1;36m0.9916666666666667\u001b[0m,\n",
       "    \u001b[32m'acc10'\u001b[0m: \u001b[1;36m1.0\u001b[0m,\n",
       "    \u001b[32m'acc20'\u001b[0m: \u001b[1;36m1.0\u001b[0m,\n",
       "    \u001b[32m'matthews_corrcoef'\u001b[0m: \u001b[1;36m0.9692503039897137\u001b[0m,\n",
       "    \u001b[32m'f1'\u001b[0m: \u001b[1;36m0.972029880729665\u001b[0m,\n",
       "    \u001b[32m'precision'\u001b[0m: \u001b[1;36m0.973182392919235\u001b[0m,\n",
       "    \u001b[32m'recall'\u001b[0m: \u001b[1;36m0.971984126984127\u001b[0m,\n",
       "    \u001b[32m'balanced_accuracy'\u001b[0m: \u001b[1;36m0.971984126984127\u001b[0m,\n",
       "    \u001b[32m'cohen_kappa'\u001b[0m: \u001b[1;36m0.9691339500827382\u001b[0m,\n",
       "    \u001b[32m'roc_auc'\u001b[0m: \u001b[1;36m0.9993491543435988\u001b[0m,\n",
       "    \u001b[32m'hinge_loss'\u001b[0m: \u001b[1;36m0.11934175394353028\u001b[0m,\n",
       "    \u001b[32m'log_loss'\u001b[0m: \u001b[1;36m0.12848690020890388\u001b[0m,\n",
       "    \u001b[32m'acc1_pred'\u001b[0m: \u001b[1;36m0.9722222222222222\u001b[0m\n",
       "\u001b[1m}\u001b[0m"
      ]
     },
     "execution_count": 22,
     "metadata": {},
     "output_type": "execute_result"
    }
   ],
   "source": [
    "y_pred = svc.predict(X_test)\n",
    "y_pred_proba = svc.predict_proba(X_test)\n",
    "svc_res = compute_classification_metrics(y_test, y_pred_proba, logits_to_prob=False, y_pred=y_pred, labels=list(range(10)))\n",
    "svc_res"
   ]
  },
  {
   "cell_type": "markdown",
   "metadata": {},
   "source": [
    "需要注意的是，SVM的概率计算的机制较为特殊，所以用SVM的概率预测值进行决策的话，与SVM本身的预测是有所不同的。\n",
    "因此我们上面看到的结果中，根据`y_pred_proba`计算的`acc1`(top k 准确率) 与 根据 `y_pred`计算的`acc1`并不相同，SVM本身的预测比SVM的概率预测更加准确。\n",
    "\n",
    "为了更好理解，我们代码可以看到具体的区别在哪里："
   ]
  },
  {
   "cell_type": "code",
   "execution_count": 23,
   "metadata": {},
   "outputs": [
    {
     "data": {
      "text/html": [
       "<pre style=\"white-space:pre;overflow-x:auto;line-height:normal;font-family:Menlo,'DejaVu Sans Mono',consolas,'Courier New',monospace\"></pre>\n"
      ],
      "text/plain": []
     },
     "metadata": {},
     "output_type": "display_data"
    },
    {
     "data": {
      "text/plain": [
       "\n",
       "\u001b[1m(\u001b[0m\n",
       "    \u001b[1;35marray\u001b[0m\u001b[1m(\u001b[0m\u001b[1m[\u001b[0m\u001b[1m[\u001b[0m\u001b[1;36m0.04590906\u001b[0m, \u001b[1;36m0.06719998\u001b[0m, \u001b[1;36m0.01628176\u001b[0m, \u001b[1;36m0.01364999\u001b[0m, \u001b[1;36m0.04946972\u001b[0m,\n",
       "        \u001b[1;36m0.08474905\u001b[0m, \u001b[1;36m0.30344213\u001b[0m, \u001b[1;36m0.02468219\u001b[0m, \u001b[1;36m0.37951532\u001b[0m, \u001b[1;36m0.01510081\u001b[0m\u001b[1m]\u001b[0m,\n",
       "       \u001b[1m[\u001b[0m\u001b[1;36m0.00597448\u001b[0m, \u001b[1;36m0.04323558\u001b[0m, \u001b[1;36m0.01257333\u001b[0m, \u001b[1;36m0.04450807\u001b[0m, \u001b[1;36m0.01366449\u001b[0m,\n",
       "        \u001b[1;36m0.03308846\u001b[0m, \u001b[1;36m0.00392504\u001b[0m, \u001b[1;36m0.39258959\u001b[0m, \u001b[1;36m0.01278519\u001b[0m, \u001b[1;36m0.43765577\u001b[0m\u001b[1m]\u001b[0m,\n",
       "       \u001b[1m[\u001b[0m\u001b[1;36m0.13636537\u001b[0m, \u001b[1;36m0.0167463\u001b[0m , \u001b[1;36m0.16969029\u001b[0m, \u001b[1;36m0.17534658\u001b[0m, \u001b[1;36m0.05185654\u001b[0m,\n",
       "        \u001b[1;36m0.12893753\u001b[0m, \u001b[1;36m0.13739251\u001b[0m, \u001b[1;36m0.02586136\u001b[0m, \u001b[1;36m0.03807921\u001b[0m, \u001b[1;36m0.1197243\u001b[0m \u001b[1m]\u001b[0m\u001b[1m]\u001b[0m\u001b[1m)\u001b[0m,\n",
       "    \u001b[1;35marray\u001b[0m\u001b[1m(\u001b[0m\u001b[1m[\u001b[0m\u001b[1;36m8\u001b[0m, \u001b[1;36m9\u001b[0m, \u001b[1;36m3\u001b[0m\u001b[1m]\u001b[0m\u001b[1m)\u001b[0m,\n",
       "    \u001b[1;35marray\u001b[0m\u001b[1m(\u001b[0m\u001b[1m[\u001b[0m\u001b[1;36m6\u001b[0m, \u001b[1;36m7\u001b[0m, \u001b[1;36m2\u001b[0m\u001b[1m]\u001b[0m\u001b[1m)\u001b[0m\n",
       "\u001b[1m)\u001b[0m"
      ]
     },
     "execution_count": 23,
     "metadata": {},
     "output_type": "execute_result"
    }
   ],
   "source": [
    "interested = np.where(np.argmax(y_pred_proba, axis=1)!=y_pred)\n",
    "y_pred_proba[interested], np.argmax(y_pred_proba, axis=1)[interested], y_pred[interested]"
   ]
  },
  {
   "cell_type": "markdown",
   "metadata": {},
   "source": [
    "#### sklearn 实现的 SMO形式 的 linear SVM"
   ]
  },
  {
   "cell_type": "code",
   "execution_count": 24,
   "metadata": {},
   "outputs": [
    {
     "data": {
      "text/html": [
       "<style>#sk-container-id-2 {\n",
       "  /* Definition of color scheme common for light and dark mode */\n",
       "  --sklearn-color-text: black;\n",
       "  --sklearn-color-line: gray;\n",
       "  /* Definition of color scheme for unfitted estimators */\n",
       "  --sklearn-color-unfitted-level-0: #fff5e6;\n",
       "  --sklearn-color-unfitted-level-1: #f6e4d2;\n",
       "  --sklearn-color-unfitted-level-2: #ffe0b3;\n",
       "  --sklearn-color-unfitted-level-3: chocolate;\n",
       "  /* Definition of color scheme for fitted estimators */\n",
       "  --sklearn-color-fitted-level-0: #f0f8ff;\n",
       "  --sklearn-color-fitted-level-1: #d4ebff;\n",
       "  --sklearn-color-fitted-level-2: #b3dbfd;\n",
       "  --sklearn-color-fitted-level-3: cornflowerblue;\n",
       "\n",
       "  /* Specific color for light theme */\n",
       "  --sklearn-color-text-on-default-background: var(--sg-text-color, var(--theme-code-foreground, var(--jp-content-font-color1, black)));\n",
       "  --sklearn-color-background: var(--sg-background-color, var(--theme-background, var(--jp-layout-color0, white)));\n",
       "  --sklearn-color-border-box: var(--sg-text-color, var(--theme-code-foreground, var(--jp-content-font-color1, black)));\n",
       "  --sklearn-color-icon: #696969;\n",
       "\n",
       "  @media (prefers-color-scheme: dark) {\n",
       "    /* Redefinition of color scheme for dark theme */\n",
       "    --sklearn-color-text-on-default-background: var(--sg-text-color, var(--theme-code-foreground, var(--jp-content-font-color1, white)));\n",
       "    --sklearn-color-background: var(--sg-background-color, var(--theme-background, var(--jp-layout-color0, #111)));\n",
       "    --sklearn-color-border-box: var(--sg-text-color, var(--theme-code-foreground, var(--jp-content-font-color1, white)));\n",
       "    --sklearn-color-icon: #878787;\n",
       "  }\n",
       "}\n",
       "\n",
       "#sk-container-id-2 {\n",
       "  color: var(--sklearn-color-text);\n",
       "}\n",
       "\n",
       "#sk-container-id-2 pre {\n",
       "  padding: 0;\n",
       "}\n",
       "\n",
       "#sk-container-id-2 input.sk-hidden--visually {\n",
       "  border: 0;\n",
       "  clip: rect(1px 1px 1px 1px);\n",
       "  clip: rect(1px, 1px, 1px, 1px);\n",
       "  height: 1px;\n",
       "  margin: -1px;\n",
       "  overflow: hidden;\n",
       "  padding: 0;\n",
       "  position: absolute;\n",
       "  width: 1px;\n",
       "}\n",
       "\n",
       "#sk-container-id-2 div.sk-dashed-wrapped {\n",
       "  border: 1px dashed var(--sklearn-color-line);\n",
       "  margin: 0 0.4em 0.5em 0.4em;\n",
       "  box-sizing: border-box;\n",
       "  padding-bottom: 0.4em;\n",
       "  background-color: var(--sklearn-color-background);\n",
       "}\n",
       "\n",
       "#sk-container-id-2 div.sk-container {\n",
       "  /* jupyter's `normalize.less` sets `[hidden] { display: none; }`\n",
       "     but bootstrap.min.css set `[hidden] { display: none !important; }`\n",
       "     so we also need the `!important` here to be able to override the\n",
       "     default hidden behavior on the sphinx rendered scikit-learn.org.\n",
       "     See: https://github.com/scikit-learn/scikit-learn/issues/21755 */\n",
       "  display: inline-block !important;\n",
       "  position: relative;\n",
       "}\n",
       "\n",
       "#sk-container-id-2 div.sk-text-repr-fallback {\n",
       "  display: none;\n",
       "}\n",
       "\n",
       "div.sk-parallel-item,\n",
       "div.sk-serial,\n",
       "div.sk-item {\n",
       "  /* draw centered vertical line to link estimators */\n",
       "  background-image: linear-gradient(var(--sklearn-color-text-on-default-background), var(--sklearn-color-text-on-default-background));\n",
       "  background-size: 2px 100%;\n",
       "  background-repeat: no-repeat;\n",
       "  background-position: center center;\n",
       "}\n",
       "\n",
       "/* Parallel-specific style estimator block */\n",
       "\n",
       "#sk-container-id-2 div.sk-parallel-item::after {\n",
       "  content: \"\";\n",
       "  width: 100%;\n",
       "  border-bottom: 2px solid var(--sklearn-color-text-on-default-background);\n",
       "  flex-grow: 1;\n",
       "}\n",
       "\n",
       "#sk-container-id-2 div.sk-parallel {\n",
       "  display: flex;\n",
       "  align-items: stretch;\n",
       "  justify-content: center;\n",
       "  background-color: var(--sklearn-color-background);\n",
       "  position: relative;\n",
       "}\n",
       "\n",
       "#sk-container-id-2 div.sk-parallel-item {\n",
       "  display: flex;\n",
       "  flex-direction: column;\n",
       "}\n",
       "\n",
       "#sk-container-id-2 div.sk-parallel-item:first-child::after {\n",
       "  align-self: flex-end;\n",
       "  width: 50%;\n",
       "}\n",
       "\n",
       "#sk-container-id-2 div.sk-parallel-item:last-child::after {\n",
       "  align-self: flex-start;\n",
       "  width: 50%;\n",
       "}\n",
       "\n",
       "#sk-container-id-2 div.sk-parallel-item:only-child::after {\n",
       "  width: 0;\n",
       "}\n",
       "\n",
       "/* Serial-specific style estimator block */\n",
       "\n",
       "#sk-container-id-2 div.sk-serial {\n",
       "  display: flex;\n",
       "  flex-direction: column;\n",
       "  align-items: center;\n",
       "  background-color: var(--sklearn-color-background);\n",
       "  padding-right: 1em;\n",
       "  padding-left: 1em;\n",
       "}\n",
       "\n",
       "\n",
       "/* Toggleable style: style used for estimator/Pipeline/ColumnTransformer box that is\n",
       "clickable and can be expanded/collapsed.\n",
       "- Pipeline and ColumnTransformer use this feature and define the default style\n",
       "- Estimators will overwrite some part of the style using the `sk-estimator` class\n",
       "*/\n",
       "\n",
       "/* Pipeline and ColumnTransformer style (default) */\n",
       "\n",
       "#sk-container-id-2 div.sk-toggleable {\n",
       "  /* Default theme specific background. It is overwritten whether we have a\n",
       "  specific estimator or a Pipeline/ColumnTransformer */\n",
       "  background-color: var(--sklearn-color-background);\n",
       "}\n",
       "\n",
       "/* Toggleable label */\n",
       "#sk-container-id-2 label.sk-toggleable__label {\n",
       "  cursor: pointer;\n",
       "  display: block;\n",
       "  width: 100%;\n",
       "  margin-bottom: 0;\n",
       "  padding: 0.5em;\n",
       "  box-sizing: border-box;\n",
       "  text-align: center;\n",
       "}\n",
       "\n",
       "#sk-container-id-2 label.sk-toggleable__label-arrow:before {\n",
       "  /* Arrow on the left of the label */\n",
       "  content: \"▸\";\n",
       "  float: left;\n",
       "  margin-right: 0.25em;\n",
       "  color: var(--sklearn-color-icon);\n",
       "}\n",
       "\n",
       "#sk-container-id-2 label.sk-toggleable__label-arrow:hover:before {\n",
       "  color: var(--sklearn-color-text);\n",
       "}\n",
       "\n",
       "/* Toggleable content - dropdown */\n",
       "\n",
       "#sk-container-id-2 div.sk-toggleable__content {\n",
       "  max-height: 0;\n",
       "  max-width: 0;\n",
       "  overflow: hidden;\n",
       "  text-align: left;\n",
       "  /* unfitted */\n",
       "  background-color: var(--sklearn-color-unfitted-level-0);\n",
       "}\n",
       "\n",
       "#sk-container-id-2 div.sk-toggleable__content.fitted {\n",
       "  /* fitted */\n",
       "  background-color: var(--sklearn-color-fitted-level-0);\n",
       "}\n",
       "\n",
       "#sk-container-id-2 div.sk-toggleable__content pre {\n",
       "  margin: 0.2em;\n",
       "  border-radius: 0.25em;\n",
       "  color: var(--sklearn-color-text);\n",
       "  /* unfitted */\n",
       "  background-color: var(--sklearn-color-unfitted-level-0);\n",
       "}\n",
       "\n",
       "#sk-container-id-2 div.sk-toggleable__content.fitted pre {\n",
       "  /* unfitted */\n",
       "  background-color: var(--sklearn-color-fitted-level-0);\n",
       "}\n",
       "\n",
       "#sk-container-id-2 input.sk-toggleable__control:checked~div.sk-toggleable__content {\n",
       "  /* Expand drop-down */\n",
       "  max-height: 200px;\n",
       "  max-width: 100%;\n",
       "  overflow: auto;\n",
       "}\n",
       "\n",
       "#sk-container-id-2 input.sk-toggleable__control:checked~label.sk-toggleable__label-arrow:before {\n",
       "  content: \"▾\";\n",
       "}\n",
       "\n",
       "/* Pipeline/ColumnTransformer-specific style */\n",
       "\n",
       "#sk-container-id-2 div.sk-label input.sk-toggleable__control:checked~label.sk-toggleable__label {\n",
       "  color: var(--sklearn-color-text);\n",
       "  background-color: var(--sklearn-color-unfitted-level-2);\n",
       "}\n",
       "\n",
       "#sk-container-id-2 div.sk-label.fitted input.sk-toggleable__control:checked~label.sk-toggleable__label {\n",
       "  background-color: var(--sklearn-color-fitted-level-2);\n",
       "}\n",
       "\n",
       "/* Estimator-specific style */\n",
       "\n",
       "/* Colorize estimator box */\n",
       "#sk-container-id-2 div.sk-estimator input.sk-toggleable__control:checked~label.sk-toggleable__label {\n",
       "  /* unfitted */\n",
       "  background-color: var(--sklearn-color-unfitted-level-2);\n",
       "}\n",
       "\n",
       "#sk-container-id-2 div.sk-estimator.fitted input.sk-toggleable__control:checked~label.sk-toggleable__label {\n",
       "  /* fitted */\n",
       "  background-color: var(--sklearn-color-fitted-level-2);\n",
       "}\n",
       "\n",
       "#sk-container-id-2 div.sk-label label.sk-toggleable__label,\n",
       "#sk-container-id-2 div.sk-label label {\n",
       "  /* The background is the default theme color */\n",
       "  color: var(--sklearn-color-text-on-default-background);\n",
       "}\n",
       "\n",
       "/* On hover, darken the color of the background */\n",
       "#sk-container-id-2 div.sk-label:hover label.sk-toggleable__label {\n",
       "  color: var(--sklearn-color-text);\n",
       "  background-color: var(--sklearn-color-unfitted-level-2);\n",
       "}\n",
       "\n",
       "/* Label box, darken color on hover, fitted */\n",
       "#sk-container-id-2 div.sk-label.fitted:hover label.sk-toggleable__label.fitted {\n",
       "  color: var(--sklearn-color-text);\n",
       "  background-color: var(--sklearn-color-fitted-level-2);\n",
       "}\n",
       "\n",
       "/* Estimator label */\n",
       "\n",
       "#sk-container-id-2 div.sk-label label {\n",
       "  font-family: monospace;\n",
       "  font-weight: bold;\n",
       "  display: inline-block;\n",
       "  line-height: 1.2em;\n",
       "}\n",
       "\n",
       "#sk-container-id-2 div.sk-label-container {\n",
       "  text-align: center;\n",
       "}\n",
       "\n",
       "/* Estimator-specific */\n",
       "#sk-container-id-2 div.sk-estimator {\n",
       "  font-family: monospace;\n",
       "  border: 1px dotted var(--sklearn-color-border-box);\n",
       "  border-radius: 0.25em;\n",
       "  box-sizing: border-box;\n",
       "  margin-bottom: 0.5em;\n",
       "  /* unfitted */\n",
       "  background-color: var(--sklearn-color-unfitted-level-0);\n",
       "}\n",
       "\n",
       "#sk-container-id-2 div.sk-estimator.fitted {\n",
       "  /* fitted */\n",
       "  background-color: var(--sklearn-color-fitted-level-0);\n",
       "}\n",
       "\n",
       "/* on hover */\n",
       "#sk-container-id-2 div.sk-estimator:hover {\n",
       "  /* unfitted */\n",
       "  background-color: var(--sklearn-color-unfitted-level-2);\n",
       "}\n",
       "\n",
       "#sk-container-id-2 div.sk-estimator.fitted:hover {\n",
       "  /* fitted */\n",
       "  background-color: var(--sklearn-color-fitted-level-2);\n",
       "}\n",
       "\n",
       "/* Specification for estimator info (e.g. \"i\" and \"?\") */\n",
       "\n",
       "/* Common style for \"i\" and \"?\" */\n",
       "\n",
       ".sk-estimator-doc-link,\n",
       "a:link.sk-estimator-doc-link,\n",
       "a:visited.sk-estimator-doc-link {\n",
       "  float: right;\n",
       "  font-size: smaller;\n",
       "  line-height: 1em;\n",
       "  font-family: monospace;\n",
       "  background-color: var(--sklearn-color-background);\n",
       "  border-radius: 1em;\n",
       "  height: 1em;\n",
       "  width: 1em;\n",
       "  text-decoration: none !important;\n",
       "  margin-left: 1ex;\n",
       "  /* unfitted */\n",
       "  border: var(--sklearn-color-unfitted-level-1) 1pt solid;\n",
       "  color: var(--sklearn-color-unfitted-level-1);\n",
       "}\n",
       "\n",
       ".sk-estimator-doc-link.fitted,\n",
       "a:link.sk-estimator-doc-link.fitted,\n",
       "a:visited.sk-estimator-doc-link.fitted {\n",
       "  /* fitted */\n",
       "  border: var(--sklearn-color-fitted-level-1) 1pt solid;\n",
       "  color: var(--sklearn-color-fitted-level-1);\n",
       "}\n",
       "\n",
       "/* On hover */\n",
       "div.sk-estimator:hover .sk-estimator-doc-link:hover,\n",
       ".sk-estimator-doc-link:hover,\n",
       "div.sk-label-container:hover .sk-estimator-doc-link:hover,\n",
       ".sk-estimator-doc-link:hover {\n",
       "  /* unfitted */\n",
       "  background-color: var(--sklearn-color-unfitted-level-3);\n",
       "  color: var(--sklearn-color-background);\n",
       "  text-decoration: none;\n",
       "}\n",
       "\n",
       "div.sk-estimator.fitted:hover .sk-estimator-doc-link.fitted:hover,\n",
       ".sk-estimator-doc-link.fitted:hover,\n",
       "div.sk-label-container:hover .sk-estimator-doc-link.fitted:hover,\n",
       ".sk-estimator-doc-link.fitted:hover {\n",
       "  /* fitted */\n",
       "  background-color: var(--sklearn-color-fitted-level-3);\n",
       "  color: var(--sklearn-color-background);\n",
       "  text-decoration: none;\n",
       "}\n",
       "\n",
       "/* Span, style for the box shown on hovering the info icon */\n",
       ".sk-estimator-doc-link span {\n",
       "  display: none;\n",
       "  z-index: 9999;\n",
       "  position: relative;\n",
       "  font-weight: normal;\n",
       "  right: .2ex;\n",
       "  padding: .5ex;\n",
       "  margin: .5ex;\n",
       "  width: min-content;\n",
       "  min-width: 20ex;\n",
       "  max-width: 50ex;\n",
       "  color: var(--sklearn-color-text);\n",
       "  box-shadow: 2pt 2pt 4pt #999;\n",
       "  /* unfitted */\n",
       "  background: var(--sklearn-color-unfitted-level-0);\n",
       "  border: .5pt solid var(--sklearn-color-unfitted-level-3);\n",
       "}\n",
       "\n",
       ".sk-estimator-doc-link.fitted span {\n",
       "  /* fitted */\n",
       "  background: var(--sklearn-color-fitted-level-0);\n",
       "  border: var(--sklearn-color-fitted-level-3);\n",
       "}\n",
       "\n",
       ".sk-estimator-doc-link:hover span {\n",
       "  display: block;\n",
       "}\n",
       "\n",
       "/* \"?\"-specific style due to the `<a>` HTML tag */\n",
       "\n",
       "#sk-container-id-2 a.estimator_doc_link {\n",
       "  float: right;\n",
       "  font-size: 1rem;\n",
       "  line-height: 1em;\n",
       "  font-family: monospace;\n",
       "  background-color: var(--sklearn-color-background);\n",
       "  border-radius: 1rem;\n",
       "  height: 1rem;\n",
       "  width: 1rem;\n",
       "  text-decoration: none;\n",
       "  /* unfitted */\n",
       "  color: var(--sklearn-color-unfitted-level-1);\n",
       "  border: var(--sklearn-color-unfitted-level-1) 1pt solid;\n",
       "}\n",
       "\n",
       "#sk-container-id-2 a.estimator_doc_link.fitted {\n",
       "  /* fitted */\n",
       "  border: var(--sklearn-color-fitted-level-1) 1pt solid;\n",
       "  color: var(--sklearn-color-fitted-level-1);\n",
       "}\n",
       "\n",
       "/* On hover */\n",
       "#sk-container-id-2 a.estimator_doc_link:hover {\n",
       "  /* unfitted */\n",
       "  background-color: var(--sklearn-color-unfitted-level-3);\n",
       "  color: var(--sklearn-color-background);\n",
       "  text-decoration: none;\n",
       "}\n",
       "\n",
       "#sk-container-id-2 a.estimator_doc_link.fitted:hover {\n",
       "  /* fitted */\n",
       "  background-color: var(--sklearn-color-fitted-level-3);\n",
       "}\n",
       "</style><div id=\"sk-container-id-2\" class=\"sk-top-container\"><div class=\"sk-text-repr-fallback\"><pre>SVC(kernel=&#x27;linear&#x27;, probability=True)</pre><b>In a Jupyter environment, please rerun this cell to show the HTML representation or trust the notebook. <br />On GitHub, the HTML representation is unable to render, please try loading this page with nbviewer.org.</b></div><div class=\"sk-container\" hidden><div class=\"sk-item\"><div class=\"sk-estimator fitted sk-toggleable\"><input class=\"sk-toggleable__control sk-hidden--visually\" id=\"sk-estimator-id-2\" type=\"checkbox\" checked><label for=\"sk-estimator-id-2\" class=\"sk-toggleable__label fitted sk-toggleable__label-arrow fitted\">&nbsp;&nbsp;SVC<a class=\"sk-estimator-doc-link fitted\" rel=\"noreferrer\" target=\"_blank\" href=\"https://scikit-learn.org/1.5/modules/generated/sklearn.svm.SVC.html\">?<span>Documentation for SVC</span></a><span class=\"sk-estimator-doc-link fitted\">i<span>Fitted</span></span></label><div class=\"sk-toggleable__content fitted\"><pre>SVC(kernel=&#x27;linear&#x27;, probability=True)</pre></div> </div></div></div></div>"
      ],
      "text/plain": [
       "SVC(kernel='linear', probability=True)"
      ]
     },
     "execution_count": 24,
     "metadata": {},
     "output_type": "execute_result"
    }
   ],
   "source": [
    "from sklearn.svm import SVC\n",
    "svc_linear = SVC(kernel='linear', probability=True)\n",
    "svc_linear.fit(X_train, y_train)"
   ]
  },
  {
   "cell_type": "code",
   "execution_count": 25,
   "metadata": {},
   "outputs": [
    {
     "data": {
      "text/html": [
       "<pre style=\"white-space:pre;overflow-x:auto;line-height:normal;font-family:Menlo,'DejaVu Sans Mono',consolas,'Courier New',monospace\"></pre>\n"
      ],
      "text/plain": []
     },
     "metadata": {},
     "output_type": "display_data"
    },
    {
     "data": {
      "text/plain": [
       "\n",
       "\u001b[1m{\u001b[0m\n",
       "    \u001b[32m'acc1'\u001b[0m: \u001b[1;36m0.9777777777777777\u001b[0m,\n",
       "    \u001b[32m'acc2'\u001b[0m: \u001b[1;36m0.9972222222222222\u001b[0m,\n",
       "    \u001b[32m'acc3'\u001b[0m: \u001b[1;36m0.9972222222222222\u001b[0m,\n",
       "    \u001b[32m'acc5'\u001b[0m: \u001b[1;36m1.0\u001b[0m,\n",
       "    \u001b[32m'acc10'\u001b[0m: \u001b[1;36m1.0\u001b[0m,\n",
       "    \u001b[32m'acc20'\u001b[0m: \u001b[1;36m1.0\u001b[0m,\n",
       "    \u001b[32m'matthews_corrcoef'\u001b[0m: \u001b[1;36m0.9723041620958817\u001b[0m,\n",
       "    \u001b[32m'f1'\u001b[0m: \u001b[1;36m0.9748756231876998\u001b[0m,\n",
       "    \u001b[32m'precision'\u001b[0m: \u001b[1;36m0.9756801209103841\u001b[0m,\n",
       "    \u001b[32m'recall'\u001b[0m: \u001b[1;36m0.9748326898326898\u001b[0m,\n",
       "    \u001b[32m'balanced_accuracy'\u001b[0m: \u001b[1;36m0.9748326898326898\u001b[0m,\n",
       "    \u001b[32m'cohen_kappa'\u001b[0m: \u001b[1;36m0.9722207932506817\u001b[0m,\n",
       "    \u001b[32m'roc_auc'\u001b[0m: \u001b[1;36m0.9995052178959586\u001b[0m,\n",
       "    \u001b[32m'hinge_loss'\u001b[0m: \u001b[1;36m0.13536789001727356\u001b[0m,\n",
       "    \u001b[32m'log_loss'\u001b[0m: \u001b[1;36m0.12285249236410403\u001b[0m,\n",
       "    \u001b[32m'acc1_pred'\u001b[0m: \u001b[1;36m0.975\u001b[0m\n",
       "\u001b[1m}\u001b[0m"
      ]
     },
     "execution_count": 25,
     "metadata": {},
     "output_type": "execute_result"
    }
   ],
   "source": [
    "y_pred = svc_linear.predict(X_test)\n",
    "y_pred_proba = svc_linear.predict_proba(X_test)\n",
    "compute_classification_metrics(y_test, y_pred_proba, logits_to_prob=False, y_pred=y_pred, labels=list(range(10)))"
   ]
  },
  {
   "cell_type": "markdown",
   "metadata": {},
   "source": [
    "#### sklearn 实现的 基于 liblinear  库 的 Linear SVM\n",
    "\n",
    "The main differences between LinearSVC and SVC lie in the loss function used by default, and in the handling of intercept regularization between those two implementations."
   ]
  },
  {
   "cell_type": "code",
   "execution_count": 26,
   "metadata": {},
   "outputs": [
    {
     "data": {
      "text/html": [
       "<pre style=\"white-space:pre;overflow-x:auto;line-height:normal;font-family:Menlo,'DejaVu Sans Mono',consolas,'Courier New',monospace\"></pre>\n"
      ],
      "text/plain": []
     },
     "metadata": {},
     "output_type": "display_data"
    },
    {
     "data": {
      "text/plain": [
       "\u001b[1m(\u001b[0m\u001b[1;36m1293\u001b[0m, \u001b[1;36m64\u001b[0m, \u001b[3;91mFalse\u001b[0m\u001b[1m)\u001b[0m"
      ]
     },
     "execution_count": 26,
     "metadata": {},
     "output_type": "execute_result"
    }
   ],
   "source": [
    "n_samples, n_features = X_train.shape\n",
    "sklearn_will_use_dual_problem = n_samples < n_features\n",
    "n_samples, n_features, sklearn_will_use_dual_problem"
   ]
  },
  {
   "cell_type": "code",
   "execution_count": 27,
   "metadata": {},
   "outputs": [
    {
     "data": {
      "text/html": [
       "<style>#sk-container-id-3 {\n",
       "  /* Definition of color scheme common for light and dark mode */\n",
       "  --sklearn-color-text: black;\n",
       "  --sklearn-color-line: gray;\n",
       "  /* Definition of color scheme for unfitted estimators */\n",
       "  --sklearn-color-unfitted-level-0: #fff5e6;\n",
       "  --sklearn-color-unfitted-level-1: #f6e4d2;\n",
       "  --sklearn-color-unfitted-level-2: #ffe0b3;\n",
       "  --sklearn-color-unfitted-level-3: chocolate;\n",
       "  /* Definition of color scheme for fitted estimators */\n",
       "  --sklearn-color-fitted-level-0: #f0f8ff;\n",
       "  --sklearn-color-fitted-level-1: #d4ebff;\n",
       "  --sklearn-color-fitted-level-2: #b3dbfd;\n",
       "  --sklearn-color-fitted-level-3: cornflowerblue;\n",
       "\n",
       "  /* Specific color for light theme */\n",
       "  --sklearn-color-text-on-default-background: var(--sg-text-color, var(--theme-code-foreground, var(--jp-content-font-color1, black)));\n",
       "  --sklearn-color-background: var(--sg-background-color, var(--theme-background, var(--jp-layout-color0, white)));\n",
       "  --sklearn-color-border-box: var(--sg-text-color, var(--theme-code-foreground, var(--jp-content-font-color1, black)));\n",
       "  --sklearn-color-icon: #696969;\n",
       "\n",
       "  @media (prefers-color-scheme: dark) {\n",
       "    /* Redefinition of color scheme for dark theme */\n",
       "    --sklearn-color-text-on-default-background: var(--sg-text-color, var(--theme-code-foreground, var(--jp-content-font-color1, white)));\n",
       "    --sklearn-color-background: var(--sg-background-color, var(--theme-background, var(--jp-layout-color0, #111)));\n",
       "    --sklearn-color-border-box: var(--sg-text-color, var(--theme-code-foreground, var(--jp-content-font-color1, white)));\n",
       "    --sklearn-color-icon: #878787;\n",
       "  }\n",
       "}\n",
       "\n",
       "#sk-container-id-3 {\n",
       "  color: var(--sklearn-color-text);\n",
       "}\n",
       "\n",
       "#sk-container-id-3 pre {\n",
       "  padding: 0;\n",
       "}\n",
       "\n",
       "#sk-container-id-3 input.sk-hidden--visually {\n",
       "  border: 0;\n",
       "  clip: rect(1px 1px 1px 1px);\n",
       "  clip: rect(1px, 1px, 1px, 1px);\n",
       "  height: 1px;\n",
       "  margin: -1px;\n",
       "  overflow: hidden;\n",
       "  padding: 0;\n",
       "  position: absolute;\n",
       "  width: 1px;\n",
       "}\n",
       "\n",
       "#sk-container-id-3 div.sk-dashed-wrapped {\n",
       "  border: 1px dashed var(--sklearn-color-line);\n",
       "  margin: 0 0.4em 0.5em 0.4em;\n",
       "  box-sizing: border-box;\n",
       "  padding-bottom: 0.4em;\n",
       "  background-color: var(--sklearn-color-background);\n",
       "}\n",
       "\n",
       "#sk-container-id-3 div.sk-container {\n",
       "  /* jupyter's `normalize.less` sets `[hidden] { display: none; }`\n",
       "     but bootstrap.min.css set `[hidden] { display: none !important; }`\n",
       "     so we also need the `!important` here to be able to override the\n",
       "     default hidden behavior on the sphinx rendered scikit-learn.org.\n",
       "     See: https://github.com/scikit-learn/scikit-learn/issues/21755 */\n",
       "  display: inline-block !important;\n",
       "  position: relative;\n",
       "}\n",
       "\n",
       "#sk-container-id-3 div.sk-text-repr-fallback {\n",
       "  display: none;\n",
       "}\n",
       "\n",
       "div.sk-parallel-item,\n",
       "div.sk-serial,\n",
       "div.sk-item {\n",
       "  /* draw centered vertical line to link estimators */\n",
       "  background-image: linear-gradient(var(--sklearn-color-text-on-default-background), var(--sklearn-color-text-on-default-background));\n",
       "  background-size: 2px 100%;\n",
       "  background-repeat: no-repeat;\n",
       "  background-position: center center;\n",
       "}\n",
       "\n",
       "/* Parallel-specific style estimator block */\n",
       "\n",
       "#sk-container-id-3 div.sk-parallel-item::after {\n",
       "  content: \"\";\n",
       "  width: 100%;\n",
       "  border-bottom: 2px solid var(--sklearn-color-text-on-default-background);\n",
       "  flex-grow: 1;\n",
       "}\n",
       "\n",
       "#sk-container-id-3 div.sk-parallel {\n",
       "  display: flex;\n",
       "  align-items: stretch;\n",
       "  justify-content: center;\n",
       "  background-color: var(--sklearn-color-background);\n",
       "  position: relative;\n",
       "}\n",
       "\n",
       "#sk-container-id-3 div.sk-parallel-item {\n",
       "  display: flex;\n",
       "  flex-direction: column;\n",
       "}\n",
       "\n",
       "#sk-container-id-3 div.sk-parallel-item:first-child::after {\n",
       "  align-self: flex-end;\n",
       "  width: 50%;\n",
       "}\n",
       "\n",
       "#sk-container-id-3 div.sk-parallel-item:last-child::after {\n",
       "  align-self: flex-start;\n",
       "  width: 50%;\n",
       "}\n",
       "\n",
       "#sk-container-id-3 div.sk-parallel-item:only-child::after {\n",
       "  width: 0;\n",
       "}\n",
       "\n",
       "/* Serial-specific style estimator block */\n",
       "\n",
       "#sk-container-id-3 div.sk-serial {\n",
       "  display: flex;\n",
       "  flex-direction: column;\n",
       "  align-items: center;\n",
       "  background-color: var(--sklearn-color-background);\n",
       "  padding-right: 1em;\n",
       "  padding-left: 1em;\n",
       "}\n",
       "\n",
       "\n",
       "/* Toggleable style: style used for estimator/Pipeline/ColumnTransformer box that is\n",
       "clickable and can be expanded/collapsed.\n",
       "- Pipeline and ColumnTransformer use this feature and define the default style\n",
       "- Estimators will overwrite some part of the style using the `sk-estimator` class\n",
       "*/\n",
       "\n",
       "/* Pipeline and ColumnTransformer style (default) */\n",
       "\n",
       "#sk-container-id-3 div.sk-toggleable {\n",
       "  /* Default theme specific background. It is overwritten whether we have a\n",
       "  specific estimator or a Pipeline/ColumnTransformer */\n",
       "  background-color: var(--sklearn-color-background);\n",
       "}\n",
       "\n",
       "/* Toggleable label */\n",
       "#sk-container-id-3 label.sk-toggleable__label {\n",
       "  cursor: pointer;\n",
       "  display: block;\n",
       "  width: 100%;\n",
       "  margin-bottom: 0;\n",
       "  padding: 0.5em;\n",
       "  box-sizing: border-box;\n",
       "  text-align: center;\n",
       "}\n",
       "\n",
       "#sk-container-id-3 label.sk-toggleable__label-arrow:before {\n",
       "  /* Arrow on the left of the label */\n",
       "  content: \"▸\";\n",
       "  float: left;\n",
       "  margin-right: 0.25em;\n",
       "  color: var(--sklearn-color-icon);\n",
       "}\n",
       "\n",
       "#sk-container-id-3 label.sk-toggleable__label-arrow:hover:before {\n",
       "  color: var(--sklearn-color-text);\n",
       "}\n",
       "\n",
       "/* Toggleable content - dropdown */\n",
       "\n",
       "#sk-container-id-3 div.sk-toggleable__content {\n",
       "  max-height: 0;\n",
       "  max-width: 0;\n",
       "  overflow: hidden;\n",
       "  text-align: left;\n",
       "  /* unfitted */\n",
       "  background-color: var(--sklearn-color-unfitted-level-0);\n",
       "}\n",
       "\n",
       "#sk-container-id-3 div.sk-toggleable__content.fitted {\n",
       "  /* fitted */\n",
       "  background-color: var(--sklearn-color-fitted-level-0);\n",
       "}\n",
       "\n",
       "#sk-container-id-3 div.sk-toggleable__content pre {\n",
       "  margin: 0.2em;\n",
       "  border-radius: 0.25em;\n",
       "  color: var(--sklearn-color-text);\n",
       "  /* unfitted */\n",
       "  background-color: var(--sklearn-color-unfitted-level-0);\n",
       "}\n",
       "\n",
       "#sk-container-id-3 div.sk-toggleable__content.fitted pre {\n",
       "  /* unfitted */\n",
       "  background-color: var(--sklearn-color-fitted-level-0);\n",
       "}\n",
       "\n",
       "#sk-container-id-3 input.sk-toggleable__control:checked~div.sk-toggleable__content {\n",
       "  /* Expand drop-down */\n",
       "  max-height: 200px;\n",
       "  max-width: 100%;\n",
       "  overflow: auto;\n",
       "}\n",
       "\n",
       "#sk-container-id-3 input.sk-toggleable__control:checked~label.sk-toggleable__label-arrow:before {\n",
       "  content: \"▾\";\n",
       "}\n",
       "\n",
       "/* Pipeline/ColumnTransformer-specific style */\n",
       "\n",
       "#sk-container-id-3 div.sk-label input.sk-toggleable__control:checked~label.sk-toggleable__label {\n",
       "  color: var(--sklearn-color-text);\n",
       "  background-color: var(--sklearn-color-unfitted-level-2);\n",
       "}\n",
       "\n",
       "#sk-container-id-3 div.sk-label.fitted input.sk-toggleable__control:checked~label.sk-toggleable__label {\n",
       "  background-color: var(--sklearn-color-fitted-level-2);\n",
       "}\n",
       "\n",
       "/* Estimator-specific style */\n",
       "\n",
       "/* Colorize estimator box */\n",
       "#sk-container-id-3 div.sk-estimator input.sk-toggleable__control:checked~label.sk-toggleable__label {\n",
       "  /* unfitted */\n",
       "  background-color: var(--sklearn-color-unfitted-level-2);\n",
       "}\n",
       "\n",
       "#sk-container-id-3 div.sk-estimator.fitted input.sk-toggleable__control:checked~label.sk-toggleable__label {\n",
       "  /* fitted */\n",
       "  background-color: var(--sklearn-color-fitted-level-2);\n",
       "}\n",
       "\n",
       "#sk-container-id-3 div.sk-label label.sk-toggleable__label,\n",
       "#sk-container-id-3 div.sk-label label {\n",
       "  /* The background is the default theme color */\n",
       "  color: var(--sklearn-color-text-on-default-background);\n",
       "}\n",
       "\n",
       "/* On hover, darken the color of the background */\n",
       "#sk-container-id-3 div.sk-label:hover label.sk-toggleable__label {\n",
       "  color: var(--sklearn-color-text);\n",
       "  background-color: var(--sklearn-color-unfitted-level-2);\n",
       "}\n",
       "\n",
       "/* Label box, darken color on hover, fitted */\n",
       "#sk-container-id-3 div.sk-label.fitted:hover label.sk-toggleable__label.fitted {\n",
       "  color: var(--sklearn-color-text);\n",
       "  background-color: var(--sklearn-color-fitted-level-2);\n",
       "}\n",
       "\n",
       "/* Estimator label */\n",
       "\n",
       "#sk-container-id-3 div.sk-label label {\n",
       "  font-family: monospace;\n",
       "  font-weight: bold;\n",
       "  display: inline-block;\n",
       "  line-height: 1.2em;\n",
       "}\n",
       "\n",
       "#sk-container-id-3 div.sk-label-container {\n",
       "  text-align: center;\n",
       "}\n",
       "\n",
       "/* Estimator-specific */\n",
       "#sk-container-id-3 div.sk-estimator {\n",
       "  font-family: monospace;\n",
       "  border: 1px dotted var(--sklearn-color-border-box);\n",
       "  border-radius: 0.25em;\n",
       "  box-sizing: border-box;\n",
       "  margin-bottom: 0.5em;\n",
       "  /* unfitted */\n",
       "  background-color: var(--sklearn-color-unfitted-level-0);\n",
       "}\n",
       "\n",
       "#sk-container-id-3 div.sk-estimator.fitted {\n",
       "  /* fitted */\n",
       "  background-color: var(--sklearn-color-fitted-level-0);\n",
       "}\n",
       "\n",
       "/* on hover */\n",
       "#sk-container-id-3 div.sk-estimator:hover {\n",
       "  /* unfitted */\n",
       "  background-color: var(--sklearn-color-unfitted-level-2);\n",
       "}\n",
       "\n",
       "#sk-container-id-3 div.sk-estimator.fitted:hover {\n",
       "  /* fitted */\n",
       "  background-color: var(--sklearn-color-fitted-level-2);\n",
       "}\n",
       "\n",
       "/* Specification for estimator info (e.g. \"i\" and \"?\") */\n",
       "\n",
       "/* Common style for \"i\" and \"?\" */\n",
       "\n",
       ".sk-estimator-doc-link,\n",
       "a:link.sk-estimator-doc-link,\n",
       "a:visited.sk-estimator-doc-link {\n",
       "  float: right;\n",
       "  font-size: smaller;\n",
       "  line-height: 1em;\n",
       "  font-family: monospace;\n",
       "  background-color: var(--sklearn-color-background);\n",
       "  border-radius: 1em;\n",
       "  height: 1em;\n",
       "  width: 1em;\n",
       "  text-decoration: none !important;\n",
       "  margin-left: 1ex;\n",
       "  /* unfitted */\n",
       "  border: var(--sklearn-color-unfitted-level-1) 1pt solid;\n",
       "  color: var(--sklearn-color-unfitted-level-1);\n",
       "}\n",
       "\n",
       ".sk-estimator-doc-link.fitted,\n",
       "a:link.sk-estimator-doc-link.fitted,\n",
       "a:visited.sk-estimator-doc-link.fitted {\n",
       "  /* fitted */\n",
       "  border: var(--sklearn-color-fitted-level-1) 1pt solid;\n",
       "  color: var(--sklearn-color-fitted-level-1);\n",
       "}\n",
       "\n",
       "/* On hover */\n",
       "div.sk-estimator:hover .sk-estimator-doc-link:hover,\n",
       ".sk-estimator-doc-link:hover,\n",
       "div.sk-label-container:hover .sk-estimator-doc-link:hover,\n",
       ".sk-estimator-doc-link:hover {\n",
       "  /* unfitted */\n",
       "  background-color: var(--sklearn-color-unfitted-level-3);\n",
       "  color: var(--sklearn-color-background);\n",
       "  text-decoration: none;\n",
       "}\n",
       "\n",
       "div.sk-estimator.fitted:hover .sk-estimator-doc-link.fitted:hover,\n",
       ".sk-estimator-doc-link.fitted:hover,\n",
       "div.sk-label-container:hover .sk-estimator-doc-link.fitted:hover,\n",
       ".sk-estimator-doc-link.fitted:hover {\n",
       "  /* fitted */\n",
       "  background-color: var(--sklearn-color-fitted-level-3);\n",
       "  color: var(--sklearn-color-background);\n",
       "  text-decoration: none;\n",
       "}\n",
       "\n",
       "/* Span, style for the box shown on hovering the info icon */\n",
       ".sk-estimator-doc-link span {\n",
       "  display: none;\n",
       "  z-index: 9999;\n",
       "  position: relative;\n",
       "  font-weight: normal;\n",
       "  right: .2ex;\n",
       "  padding: .5ex;\n",
       "  margin: .5ex;\n",
       "  width: min-content;\n",
       "  min-width: 20ex;\n",
       "  max-width: 50ex;\n",
       "  color: var(--sklearn-color-text);\n",
       "  box-shadow: 2pt 2pt 4pt #999;\n",
       "  /* unfitted */\n",
       "  background: var(--sklearn-color-unfitted-level-0);\n",
       "  border: .5pt solid var(--sklearn-color-unfitted-level-3);\n",
       "}\n",
       "\n",
       ".sk-estimator-doc-link.fitted span {\n",
       "  /* fitted */\n",
       "  background: var(--sklearn-color-fitted-level-0);\n",
       "  border: var(--sklearn-color-fitted-level-3);\n",
       "}\n",
       "\n",
       ".sk-estimator-doc-link:hover span {\n",
       "  display: block;\n",
       "}\n",
       "\n",
       "/* \"?\"-specific style due to the `<a>` HTML tag */\n",
       "\n",
       "#sk-container-id-3 a.estimator_doc_link {\n",
       "  float: right;\n",
       "  font-size: 1rem;\n",
       "  line-height: 1em;\n",
       "  font-family: monospace;\n",
       "  background-color: var(--sklearn-color-background);\n",
       "  border-radius: 1rem;\n",
       "  height: 1rem;\n",
       "  width: 1rem;\n",
       "  text-decoration: none;\n",
       "  /* unfitted */\n",
       "  color: var(--sklearn-color-unfitted-level-1);\n",
       "  border: var(--sklearn-color-unfitted-level-1) 1pt solid;\n",
       "}\n",
       "\n",
       "#sk-container-id-3 a.estimator_doc_link.fitted {\n",
       "  /* fitted */\n",
       "  border: var(--sklearn-color-fitted-level-1) 1pt solid;\n",
       "  color: var(--sklearn-color-fitted-level-1);\n",
       "}\n",
       "\n",
       "/* On hover */\n",
       "#sk-container-id-3 a.estimator_doc_link:hover {\n",
       "  /* unfitted */\n",
       "  background-color: var(--sklearn-color-unfitted-level-3);\n",
       "  color: var(--sklearn-color-background);\n",
       "  text-decoration: none;\n",
       "}\n",
       "\n",
       "#sk-container-id-3 a.estimator_doc_link.fitted:hover {\n",
       "  /* fitted */\n",
       "  background-color: var(--sklearn-color-fitted-level-3);\n",
       "}\n",
       "</style><div id=\"sk-container-id-3\" class=\"sk-top-container\"><div class=\"sk-text-repr-fallback\"><pre>LinearSVC(dual=False)</pre><b>In a Jupyter environment, please rerun this cell to show the HTML representation or trust the notebook. <br />On GitHub, the HTML representation is unable to render, please try loading this page with nbviewer.org.</b></div><div class=\"sk-container\" hidden><div class=\"sk-item\"><div class=\"sk-estimator fitted sk-toggleable\"><input class=\"sk-toggleable__control sk-hidden--visually\" id=\"sk-estimator-id-3\" type=\"checkbox\" checked><label for=\"sk-estimator-id-3\" class=\"sk-toggleable__label fitted sk-toggleable__label-arrow fitted\">&nbsp;&nbsp;LinearSVC<a class=\"sk-estimator-doc-link fitted\" rel=\"noreferrer\" target=\"_blank\" href=\"https://scikit-learn.org/1.5/modules/generated/sklearn.svm.LinearSVC.html\">?<span>Documentation for LinearSVC</span></a><span class=\"sk-estimator-doc-link fitted\">i<span>Fitted</span></span></label><div class=\"sk-toggleable__content fitted\"><pre>LinearSVC(dual=False)</pre></div> </div></div></div></div>"
      ],
      "text/plain": [
       "LinearSVC(dual=False)"
      ]
     },
     "execution_count": 27,
     "metadata": {},
     "output_type": "execute_result"
    }
   ],
   "source": [
    "from sklearn.svm import LinearSVC\n",
    "linear_svc = LinearSVC(penalty='l2', loss='squared_hinge', dual=sklearn_will_use_dual_problem, \n",
    "                       tol=0.0001, C=1.0, multi_class='ovr', fit_intercept=True, intercept_scaling=1)\n",
    "linear_svc.fit(X_train, y_train)"
   ]
  },
  {
   "cell_type": "code",
   "execution_count": 28,
   "metadata": {},
   "outputs": [
    {
     "data": {
      "text/html": [
       "<pre style=\"white-space:pre;overflow-x:auto;line-height:normal;font-family:Menlo,'DejaVu Sans Mono',consolas,'Courier New',monospace\"></pre>\n"
      ],
      "text/plain": []
     },
     "metadata": {},
     "output_type": "display_data"
    },
    {
     "data": {
      "text/plain": [
       "\n",
       "\u001b[1m{\u001b[0m\n",
       "    \u001b[32m'matthews_corrcoef'\u001b[0m: \u001b[1;36m0.9507782171913305\u001b[0m,\n",
       "    \u001b[32m'f1'\u001b[0m: \u001b[1;36m0.9551493507947526\u001b[0m,\n",
       "    \u001b[32m'precision'\u001b[0m: \u001b[1;36m0.9564648995608748\u001b[0m,\n",
       "    \u001b[32m'recall'\u001b[0m: \u001b[1;36m0.9553131703131704\u001b[0m,\n",
       "    \u001b[32m'balanced_accuracy'\u001b[0m: \u001b[1;36m0.9553131703131704\u001b[0m,\n",
       "    \u001b[32m'cohen_kappa'\u001b[0m: \u001b[1;36m0.9506151669738929\u001b[0m,\n",
       "    \u001b[32m'acc1_pred'\u001b[0m: \u001b[1;36m0.9555555555555556\u001b[0m\n",
       "\u001b[1m}\u001b[0m"
      ]
     },
     "execution_count": 28,
     "metadata": {},
     "output_type": "execute_result"
    }
   ],
   "source": [
    "y_pred = linear_svc.predict(X_test)\n",
    "compute_classification_metrics(y_test, y_pred=y_pred, labels=list(range(10)), y_pred_metrics_only=True)"
   ]
  },
  {
   "cell_type": "markdown",
   "metadata": {},
   "source": [
    "#### sklearn 实现的 SGD优化Hinge Loss形式 的 linear SVM\n",
    "\n",
    "https://scikit-learn.org/1.5/modules/generated/sklearn.linear_model.SGDClassifier.html\n",
    "\n",
    "sklearn实现的 soft-margin linear Support Vector Machine 在 `from sklearn.linear_model import SGDClassifier`类中给出。\n",
    "sklearn使用的是 one versus all (OVA) scheme，文档摘录如下\n",
    "> For each of the classes, a binary classifier is learned that discriminates between that and all other classes. At testing time, we compute the confidence score (i.e. the signed distances to the hyperplane) for each classifier and choose the class with the highest confidence. \n",
    "\n",
    "sklearn文档指出这种形式的SVM的潜在优化，包括以下几点\n",
    "- modified_huber，这是一个平滑版本的hinge loss，有研究表明效果更好。\n",
    "- ASGD，这个似乎类似于深度学习中的 [Stochastic Weight Averaging (SWA)](https://pytorch.org/blog/stochastic-weight-averaging-in-pytorch/)、[Model Exponential moving average (Model EMA)](https://timm.fast.ai/training_modelEMA)和[Sharpness-Aware Minimization (SAM)](https://github.com/davda54/sam)，我们有空深入研究一下这里面的区别与联系。\n",
    "- Elastic Net, 结合了L1和L2的正则项，来控制模型复杂度。\n",
    "- optimal learning rate, 具体来说是 Leon Bottou 提出的一种方法，公式在[此处](https://stackoverflow.com/questions/52577305/the-formula-for-the-optimal-learning-rate-in-the-sgdclassifier-in-scikit-learn)可见。"
   ]
  },
  {
   "cell_type": "code",
   "execution_count": 29,
   "metadata": {},
   "outputs": [
    {
     "data": {
      "text/html": [
       "<style>#sk-container-id-4 {\n",
       "  /* Definition of color scheme common for light and dark mode */\n",
       "  --sklearn-color-text: black;\n",
       "  --sklearn-color-line: gray;\n",
       "  /* Definition of color scheme for unfitted estimators */\n",
       "  --sklearn-color-unfitted-level-0: #fff5e6;\n",
       "  --sklearn-color-unfitted-level-1: #f6e4d2;\n",
       "  --sklearn-color-unfitted-level-2: #ffe0b3;\n",
       "  --sklearn-color-unfitted-level-3: chocolate;\n",
       "  /* Definition of color scheme for fitted estimators */\n",
       "  --sklearn-color-fitted-level-0: #f0f8ff;\n",
       "  --sklearn-color-fitted-level-1: #d4ebff;\n",
       "  --sklearn-color-fitted-level-2: #b3dbfd;\n",
       "  --sklearn-color-fitted-level-3: cornflowerblue;\n",
       "\n",
       "  /* Specific color for light theme */\n",
       "  --sklearn-color-text-on-default-background: var(--sg-text-color, var(--theme-code-foreground, var(--jp-content-font-color1, black)));\n",
       "  --sklearn-color-background: var(--sg-background-color, var(--theme-background, var(--jp-layout-color0, white)));\n",
       "  --sklearn-color-border-box: var(--sg-text-color, var(--theme-code-foreground, var(--jp-content-font-color1, black)));\n",
       "  --sklearn-color-icon: #696969;\n",
       "\n",
       "  @media (prefers-color-scheme: dark) {\n",
       "    /* Redefinition of color scheme for dark theme */\n",
       "    --sklearn-color-text-on-default-background: var(--sg-text-color, var(--theme-code-foreground, var(--jp-content-font-color1, white)));\n",
       "    --sklearn-color-background: var(--sg-background-color, var(--theme-background, var(--jp-layout-color0, #111)));\n",
       "    --sklearn-color-border-box: var(--sg-text-color, var(--theme-code-foreground, var(--jp-content-font-color1, white)));\n",
       "    --sklearn-color-icon: #878787;\n",
       "  }\n",
       "}\n",
       "\n",
       "#sk-container-id-4 {\n",
       "  color: var(--sklearn-color-text);\n",
       "}\n",
       "\n",
       "#sk-container-id-4 pre {\n",
       "  padding: 0;\n",
       "}\n",
       "\n",
       "#sk-container-id-4 input.sk-hidden--visually {\n",
       "  border: 0;\n",
       "  clip: rect(1px 1px 1px 1px);\n",
       "  clip: rect(1px, 1px, 1px, 1px);\n",
       "  height: 1px;\n",
       "  margin: -1px;\n",
       "  overflow: hidden;\n",
       "  padding: 0;\n",
       "  position: absolute;\n",
       "  width: 1px;\n",
       "}\n",
       "\n",
       "#sk-container-id-4 div.sk-dashed-wrapped {\n",
       "  border: 1px dashed var(--sklearn-color-line);\n",
       "  margin: 0 0.4em 0.5em 0.4em;\n",
       "  box-sizing: border-box;\n",
       "  padding-bottom: 0.4em;\n",
       "  background-color: var(--sklearn-color-background);\n",
       "}\n",
       "\n",
       "#sk-container-id-4 div.sk-container {\n",
       "  /* jupyter's `normalize.less` sets `[hidden] { display: none; }`\n",
       "     but bootstrap.min.css set `[hidden] { display: none !important; }`\n",
       "     so we also need the `!important` here to be able to override the\n",
       "     default hidden behavior on the sphinx rendered scikit-learn.org.\n",
       "     See: https://github.com/scikit-learn/scikit-learn/issues/21755 */\n",
       "  display: inline-block !important;\n",
       "  position: relative;\n",
       "}\n",
       "\n",
       "#sk-container-id-4 div.sk-text-repr-fallback {\n",
       "  display: none;\n",
       "}\n",
       "\n",
       "div.sk-parallel-item,\n",
       "div.sk-serial,\n",
       "div.sk-item {\n",
       "  /* draw centered vertical line to link estimators */\n",
       "  background-image: linear-gradient(var(--sklearn-color-text-on-default-background), var(--sklearn-color-text-on-default-background));\n",
       "  background-size: 2px 100%;\n",
       "  background-repeat: no-repeat;\n",
       "  background-position: center center;\n",
       "}\n",
       "\n",
       "/* Parallel-specific style estimator block */\n",
       "\n",
       "#sk-container-id-4 div.sk-parallel-item::after {\n",
       "  content: \"\";\n",
       "  width: 100%;\n",
       "  border-bottom: 2px solid var(--sklearn-color-text-on-default-background);\n",
       "  flex-grow: 1;\n",
       "}\n",
       "\n",
       "#sk-container-id-4 div.sk-parallel {\n",
       "  display: flex;\n",
       "  align-items: stretch;\n",
       "  justify-content: center;\n",
       "  background-color: var(--sklearn-color-background);\n",
       "  position: relative;\n",
       "}\n",
       "\n",
       "#sk-container-id-4 div.sk-parallel-item {\n",
       "  display: flex;\n",
       "  flex-direction: column;\n",
       "}\n",
       "\n",
       "#sk-container-id-4 div.sk-parallel-item:first-child::after {\n",
       "  align-self: flex-end;\n",
       "  width: 50%;\n",
       "}\n",
       "\n",
       "#sk-container-id-4 div.sk-parallel-item:last-child::after {\n",
       "  align-self: flex-start;\n",
       "  width: 50%;\n",
       "}\n",
       "\n",
       "#sk-container-id-4 div.sk-parallel-item:only-child::after {\n",
       "  width: 0;\n",
       "}\n",
       "\n",
       "/* Serial-specific style estimator block */\n",
       "\n",
       "#sk-container-id-4 div.sk-serial {\n",
       "  display: flex;\n",
       "  flex-direction: column;\n",
       "  align-items: center;\n",
       "  background-color: var(--sklearn-color-background);\n",
       "  padding-right: 1em;\n",
       "  padding-left: 1em;\n",
       "}\n",
       "\n",
       "\n",
       "/* Toggleable style: style used for estimator/Pipeline/ColumnTransformer box that is\n",
       "clickable and can be expanded/collapsed.\n",
       "- Pipeline and ColumnTransformer use this feature and define the default style\n",
       "- Estimators will overwrite some part of the style using the `sk-estimator` class\n",
       "*/\n",
       "\n",
       "/* Pipeline and ColumnTransformer style (default) */\n",
       "\n",
       "#sk-container-id-4 div.sk-toggleable {\n",
       "  /* Default theme specific background. It is overwritten whether we have a\n",
       "  specific estimator or a Pipeline/ColumnTransformer */\n",
       "  background-color: var(--sklearn-color-background);\n",
       "}\n",
       "\n",
       "/* Toggleable label */\n",
       "#sk-container-id-4 label.sk-toggleable__label {\n",
       "  cursor: pointer;\n",
       "  display: block;\n",
       "  width: 100%;\n",
       "  margin-bottom: 0;\n",
       "  padding: 0.5em;\n",
       "  box-sizing: border-box;\n",
       "  text-align: center;\n",
       "}\n",
       "\n",
       "#sk-container-id-4 label.sk-toggleable__label-arrow:before {\n",
       "  /* Arrow on the left of the label */\n",
       "  content: \"▸\";\n",
       "  float: left;\n",
       "  margin-right: 0.25em;\n",
       "  color: var(--sklearn-color-icon);\n",
       "}\n",
       "\n",
       "#sk-container-id-4 label.sk-toggleable__label-arrow:hover:before {\n",
       "  color: var(--sklearn-color-text);\n",
       "}\n",
       "\n",
       "/* Toggleable content - dropdown */\n",
       "\n",
       "#sk-container-id-4 div.sk-toggleable__content {\n",
       "  max-height: 0;\n",
       "  max-width: 0;\n",
       "  overflow: hidden;\n",
       "  text-align: left;\n",
       "  /* unfitted */\n",
       "  background-color: var(--sklearn-color-unfitted-level-0);\n",
       "}\n",
       "\n",
       "#sk-container-id-4 div.sk-toggleable__content.fitted {\n",
       "  /* fitted */\n",
       "  background-color: var(--sklearn-color-fitted-level-0);\n",
       "}\n",
       "\n",
       "#sk-container-id-4 div.sk-toggleable__content pre {\n",
       "  margin: 0.2em;\n",
       "  border-radius: 0.25em;\n",
       "  color: var(--sklearn-color-text);\n",
       "  /* unfitted */\n",
       "  background-color: var(--sklearn-color-unfitted-level-0);\n",
       "}\n",
       "\n",
       "#sk-container-id-4 div.sk-toggleable__content.fitted pre {\n",
       "  /* unfitted */\n",
       "  background-color: var(--sklearn-color-fitted-level-0);\n",
       "}\n",
       "\n",
       "#sk-container-id-4 input.sk-toggleable__control:checked~div.sk-toggleable__content {\n",
       "  /* Expand drop-down */\n",
       "  max-height: 200px;\n",
       "  max-width: 100%;\n",
       "  overflow: auto;\n",
       "}\n",
       "\n",
       "#sk-container-id-4 input.sk-toggleable__control:checked~label.sk-toggleable__label-arrow:before {\n",
       "  content: \"▾\";\n",
       "}\n",
       "\n",
       "/* Pipeline/ColumnTransformer-specific style */\n",
       "\n",
       "#sk-container-id-4 div.sk-label input.sk-toggleable__control:checked~label.sk-toggleable__label {\n",
       "  color: var(--sklearn-color-text);\n",
       "  background-color: var(--sklearn-color-unfitted-level-2);\n",
       "}\n",
       "\n",
       "#sk-container-id-4 div.sk-label.fitted input.sk-toggleable__control:checked~label.sk-toggleable__label {\n",
       "  background-color: var(--sklearn-color-fitted-level-2);\n",
       "}\n",
       "\n",
       "/* Estimator-specific style */\n",
       "\n",
       "/* Colorize estimator box */\n",
       "#sk-container-id-4 div.sk-estimator input.sk-toggleable__control:checked~label.sk-toggleable__label {\n",
       "  /* unfitted */\n",
       "  background-color: var(--sklearn-color-unfitted-level-2);\n",
       "}\n",
       "\n",
       "#sk-container-id-4 div.sk-estimator.fitted input.sk-toggleable__control:checked~label.sk-toggleable__label {\n",
       "  /* fitted */\n",
       "  background-color: var(--sklearn-color-fitted-level-2);\n",
       "}\n",
       "\n",
       "#sk-container-id-4 div.sk-label label.sk-toggleable__label,\n",
       "#sk-container-id-4 div.sk-label label {\n",
       "  /* The background is the default theme color */\n",
       "  color: var(--sklearn-color-text-on-default-background);\n",
       "}\n",
       "\n",
       "/* On hover, darken the color of the background */\n",
       "#sk-container-id-4 div.sk-label:hover label.sk-toggleable__label {\n",
       "  color: var(--sklearn-color-text);\n",
       "  background-color: var(--sklearn-color-unfitted-level-2);\n",
       "}\n",
       "\n",
       "/* Label box, darken color on hover, fitted */\n",
       "#sk-container-id-4 div.sk-label.fitted:hover label.sk-toggleable__label.fitted {\n",
       "  color: var(--sklearn-color-text);\n",
       "  background-color: var(--sklearn-color-fitted-level-2);\n",
       "}\n",
       "\n",
       "/* Estimator label */\n",
       "\n",
       "#sk-container-id-4 div.sk-label label {\n",
       "  font-family: monospace;\n",
       "  font-weight: bold;\n",
       "  display: inline-block;\n",
       "  line-height: 1.2em;\n",
       "}\n",
       "\n",
       "#sk-container-id-4 div.sk-label-container {\n",
       "  text-align: center;\n",
       "}\n",
       "\n",
       "/* Estimator-specific */\n",
       "#sk-container-id-4 div.sk-estimator {\n",
       "  font-family: monospace;\n",
       "  border: 1px dotted var(--sklearn-color-border-box);\n",
       "  border-radius: 0.25em;\n",
       "  box-sizing: border-box;\n",
       "  margin-bottom: 0.5em;\n",
       "  /* unfitted */\n",
       "  background-color: var(--sklearn-color-unfitted-level-0);\n",
       "}\n",
       "\n",
       "#sk-container-id-4 div.sk-estimator.fitted {\n",
       "  /* fitted */\n",
       "  background-color: var(--sklearn-color-fitted-level-0);\n",
       "}\n",
       "\n",
       "/* on hover */\n",
       "#sk-container-id-4 div.sk-estimator:hover {\n",
       "  /* unfitted */\n",
       "  background-color: var(--sklearn-color-unfitted-level-2);\n",
       "}\n",
       "\n",
       "#sk-container-id-4 div.sk-estimator.fitted:hover {\n",
       "  /* fitted */\n",
       "  background-color: var(--sklearn-color-fitted-level-2);\n",
       "}\n",
       "\n",
       "/* Specification for estimator info (e.g. \"i\" and \"?\") */\n",
       "\n",
       "/* Common style for \"i\" and \"?\" */\n",
       "\n",
       ".sk-estimator-doc-link,\n",
       "a:link.sk-estimator-doc-link,\n",
       "a:visited.sk-estimator-doc-link {\n",
       "  float: right;\n",
       "  font-size: smaller;\n",
       "  line-height: 1em;\n",
       "  font-family: monospace;\n",
       "  background-color: var(--sklearn-color-background);\n",
       "  border-radius: 1em;\n",
       "  height: 1em;\n",
       "  width: 1em;\n",
       "  text-decoration: none !important;\n",
       "  margin-left: 1ex;\n",
       "  /* unfitted */\n",
       "  border: var(--sklearn-color-unfitted-level-1) 1pt solid;\n",
       "  color: var(--sklearn-color-unfitted-level-1);\n",
       "}\n",
       "\n",
       ".sk-estimator-doc-link.fitted,\n",
       "a:link.sk-estimator-doc-link.fitted,\n",
       "a:visited.sk-estimator-doc-link.fitted {\n",
       "  /* fitted */\n",
       "  border: var(--sklearn-color-fitted-level-1) 1pt solid;\n",
       "  color: var(--sklearn-color-fitted-level-1);\n",
       "}\n",
       "\n",
       "/* On hover */\n",
       "div.sk-estimator:hover .sk-estimator-doc-link:hover,\n",
       ".sk-estimator-doc-link:hover,\n",
       "div.sk-label-container:hover .sk-estimator-doc-link:hover,\n",
       ".sk-estimator-doc-link:hover {\n",
       "  /* unfitted */\n",
       "  background-color: var(--sklearn-color-unfitted-level-3);\n",
       "  color: var(--sklearn-color-background);\n",
       "  text-decoration: none;\n",
       "}\n",
       "\n",
       "div.sk-estimator.fitted:hover .sk-estimator-doc-link.fitted:hover,\n",
       ".sk-estimator-doc-link.fitted:hover,\n",
       "div.sk-label-container:hover .sk-estimator-doc-link.fitted:hover,\n",
       ".sk-estimator-doc-link.fitted:hover {\n",
       "  /* fitted */\n",
       "  background-color: var(--sklearn-color-fitted-level-3);\n",
       "  color: var(--sklearn-color-background);\n",
       "  text-decoration: none;\n",
       "}\n",
       "\n",
       "/* Span, style for the box shown on hovering the info icon */\n",
       ".sk-estimator-doc-link span {\n",
       "  display: none;\n",
       "  z-index: 9999;\n",
       "  position: relative;\n",
       "  font-weight: normal;\n",
       "  right: .2ex;\n",
       "  padding: .5ex;\n",
       "  margin: .5ex;\n",
       "  width: min-content;\n",
       "  min-width: 20ex;\n",
       "  max-width: 50ex;\n",
       "  color: var(--sklearn-color-text);\n",
       "  box-shadow: 2pt 2pt 4pt #999;\n",
       "  /* unfitted */\n",
       "  background: var(--sklearn-color-unfitted-level-0);\n",
       "  border: .5pt solid var(--sklearn-color-unfitted-level-3);\n",
       "}\n",
       "\n",
       ".sk-estimator-doc-link.fitted span {\n",
       "  /* fitted */\n",
       "  background: var(--sklearn-color-fitted-level-0);\n",
       "  border: var(--sklearn-color-fitted-level-3);\n",
       "}\n",
       "\n",
       ".sk-estimator-doc-link:hover span {\n",
       "  display: block;\n",
       "}\n",
       "\n",
       "/* \"?\"-specific style due to the `<a>` HTML tag */\n",
       "\n",
       "#sk-container-id-4 a.estimator_doc_link {\n",
       "  float: right;\n",
       "  font-size: 1rem;\n",
       "  line-height: 1em;\n",
       "  font-family: monospace;\n",
       "  background-color: var(--sklearn-color-background);\n",
       "  border-radius: 1rem;\n",
       "  height: 1rem;\n",
       "  width: 1rem;\n",
       "  text-decoration: none;\n",
       "  /* unfitted */\n",
       "  color: var(--sklearn-color-unfitted-level-1);\n",
       "  border: var(--sklearn-color-unfitted-level-1) 1pt solid;\n",
       "}\n",
       "\n",
       "#sk-container-id-4 a.estimator_doc_link.fitted {\n",
       "  /* fitted */\n",
       "  border: var(--sklearn-color-fitted-level-1) 1pt solid;\n",
       "  color: var(--sklearn-color-fitted-level-1);\n",
       "}\n",
       "\n",
       "/* On hover */\n",
       "#sk-container-id-4 a.estimator_doc_link:hover {\n",
       "  /* unfitted */\n",
       "  background-color: var(--sklearn-color-unfitted-level-3);\n",
       "  color: var(--sklearn-color-background);\n",
       "  text-decoration: none;\n",
       "}\n",
       "\n",
       "#sk-container-id-4 a.estimator_doc_link.fitted:hover {\n",
       "  /* fitted */\n",
       "  background-color: var(--sklearn-color-fitted-level-3);\n",
       "}\n",
       "</style><div id=\"sk-container-id-4\" class=\"sk-top-container\"><div class=\"sk-text-repr-fallback\"><pre>SGDClassifier(average=True, early_stopping=True, loss=&#x27;modified_huber&#x27;,\n",
       "              penalty=&#x27;elasticnet&#x27;, warm_start=True)</pre><b>In a Jupyter environment, please rerun this cell to show the HTML representation or trust the notebook. <br />On GitHub, the HTML representation is unable to render, please try loading this page with nbviewer.org.</b></div><div class=\"sk-container\" hidden><div class=\"sk-item\"><div class=\"sk-estimator fitted sk-toggleable\"><input class=\"sk-toggleable__control sk-hidden--visually\" id=\"sk-estimator-id-4\" type=\"checkbox\" checked><label for=\"sk-estimator-id-4\" class=\"sk-toggleable__label fitted sk-toggleable__label-arrow fitted\">&nbsp;&nbsp;SGDClassifier<a class=\"sk-estimator-doc-link fitted\" rel=\"noreferrer\" target=\"_blank\" href=\"https://scikit-learn.org/1.5/modules/generated/sklearn.linear_model.SGDClassifier.html\">?<span>Documentation for SGDClassifier</span></a><span class=\"sk-estimator-doc-link fitted\">i<span>Fitted</span></span></label><div class=\"sk-toggleable__content fitted\"><pre>SGDClassifier(average=True, early_stopping=True, loss=&#x27;modified_huber&#x27;,\n",
       "              penalty=&#x27;elasticnet&#x27;, warm_start=True)</pre></div> </div></div></div></div>"
      ],
      "text/plain": [
       "SGDClassifier(average=True, early_stopping=True, loss='modified_huber',\n",
       "              penalty='elasticnet', warm_start=True)"
      ]
     },
     "execution_count": 29,
     "metadata": {},
     "output_type": "execute_result"
    }
   ],
   "source": [
    "from sklearn.linear_model import SGDClassifier\n",
    "sgd_svm = SGDClassifier(\n",
    "    # loss=\"hinge\", \n",
    "# penalty=\"l2\", \n",
    "    loss=\"modified_huber\", \n",
    "                    penalty=\"elasticnet\", \n",
    "                    max_iter=1000, fit_intercept=True, \n",
    "                    learning_rate='optimal', \n",
    "                    early_stopping=True, validation_fraction=0.1, n_iter_no_change=5, warm_start=True, average=True)\n",
    "sgd_svm.fit(X_train, y_train)"
   ]
  },
  {
   "cell_type": "code",
   "execution_count": 30,
   "metadata": {},
   "outputs": [
    {
     "data": {
      "text/html": [
       "<pre style=\"white-space:pre;overflow-x:auto;line-height:normal;font-family:Menlo,'DejaVu Sans Mono',consolas,'Courier New',monospace\"></pre>\n"
      ],
      "text/plain": []
     },
     "metadata": {},
     "output_type": "display_data"
    },
    {
     "data": {
      "text/plain": [
       "\n",
       "\u001b[1m{\u001b[0m\n",
       "    \u001b[32m'matthews_corrcoef'\u001b[0m: \u001b[1;36m0.9477642973566051\u001b[0m,\n",
       "    \u001b[32m'f1'\u001b[0m: \u001b[1;36m0.9519196829960196\u001b[0m,\n",
       "    \u001b[32m'precision'\u001b[0m: \u001b[1;36m0.9535005042857335\u001b[0m,\n",
       "    \u001b[32m'recall'\u001b[0m: \u001b[1;36m0.9524603174603173\u001b[0m,\n",
       "    \u001b[32m'balanced_accuracy'\u001b[0m: \u001b[1;36m0.9524603174603173\u001b[0m,\n",
       "    \u001b[32m'cohen_kappa'\u001b[0m: \u001b[1;36m0.9475286149097613\u001b[0m,\n",
       "    \u001b[32m'acc1_pred'\u001b[0m: \u001b[1;36m0.9527777777777777\u001b[0m\n",
       "\u001b[1m}\u001b[0m"
      ]
     },
     "execution_count": 30,
     "metadata": {},
     "output_type": "execute_result"
    }
   ],
   "source": [
    "y_pred = sgd_svm.predict(X_test)\n",
    "compute_classification_metrics(y_test, y_pred=y_pred, labels=list(range(10)), y_pred_metrics_only=True)"
   ]
  },
  {
   "cell_type": "markdown",
   "metadata": {},
   "source": [
    "#### 使用更加高性能的SVM库来加速训练\n",
    "\n",
    "##### CPU上对SVM训练的加速\n",
    "我们首先尝试CPU上的加速。针对英特尔CPU，Intel对sklearn库进行了加速，我们通过下面的方式启用\n",
    "```bash\n",
    "pip install scikit-learn-intelex\n",
    "```\n",
    "参考 [博客](https://stackoverflow.com/questions/17310752/can-you-capture-the-output-of-ipythons-magic-methods-timeit) 进行测速。"
   ]
  },
  {
   "cell_type": "code",
   "execution_count": 31,
   "metadata": {},
   "outputs": [
    {
     "name": "stdout",
     "output_type": "stream",
     "text": [
      "189 ms ± 4.7 ms per loop (mean ± std. dev. of 7 runs, 10 loops each)\n",
      "76.7 ms ± 624 μs per loop (mean ± std. dev. of 7 runs, 10 loops each)\n",
      "201 ms ± 1.51 ms per loop (mean ± std. dev. of 7 runs, 1 loop each)\n",
      "46.8 ms ± 1.71 ms per loop (mean ± std. dev. of 7 runs, 10 loops each)\n"
     ]
    }
   ],
   "source": [
    "# 加速之前\n",
    "original_sklearn = [0]*4\n",
    "original_sklearn[0] = %timeit -o svc.fit(X_train, y_train)\n",
    "original_sklearn[1] = %timeit -o  svc_linear.fit(X_train, y_train)\n",
    "original_sklearn[2] = %timeit -o linear_svc.fit(X_train, y_train)\n",
    "original_sklearn[3] = %timeit -o sgd_svm.fit(X_train, y_train)"
   ]
  },
  {
   "cell_type": "code",
   "execution_count": 32,
   "metadata": {},
   "outputs": [],
   "source": [
    "from sklearnex import patch_sklearn\n",
    "patch_sklearn(verbose=False)\n",
    "import logging\n",
    "logging.disable(logging.INFO)\n",
    "# 因为存在JIT影响，先跑一遍\n",
    "svc.fit(X_train, y_train)\n",
    "svc_linear.fit(X_train, y_train)\n",
    "linear_svc.fit(X_train, y_train)\n",
    "sgd_svm.fit(X_train, y_train)\n",
    "pass"
   ]
  },
  {
   "cell_type": "code",
   "execution_count": 33,
   "metadata": {},
   "outputs": [
    {
     "name": "stdout",
     "output_type": "stream",
     "text": [
      "182 ms ± 3.73 ms per loop (mean ± std. dev. of 7 runs, 10 loops each)\n",
      "69.6 ms ± 2.28 ms per loop (mean ± std. dev. of 7 runs, 10 loops each)\n",
      "204 ms ± 1.87 ms per loop (mean ± std. dev. of 7 runs, 1 loop each)\n",
      "46 ms ± 872 μs per loop (mean ± std. dev. of 7 runs, 10 loops each)\n"
     ]
    }
   ],
   "source": [
    "# 加速之后\n",
    "intel_sklearn = [0]*4\n",
    "intel_sklearn[0] = %timeit -o svc.fit(X_train, y_train)\n",
    "intel_sklearn[1] = %timeit -o  svc_linear.fit(X_train, y_train)\n",
    "intel_sklearn[2] = %timeit -o linear_svc.fit(X_train, y_train)\n",
    "intel_sklearn[3] = %timeit -o sgd_svm.fit(X_train, y_train)"
   ]
  },
  {
   "cell_type": "markdown",
   "metadata": {},
   "source": [
    "[英特尔宣称](https://raw.githubusercontent.com/intel/scikit-learn-intelex/master/doc/sources/_static/scikit-learn-acceleration.PNG) 对SVC的加速可以达到203.7%，然而我们并没有看到这样的结果。\n",
    "我们使用假设检验来看看英特尔的sklearn是不是显著地块？这里由于结果是相关的，而且不能假设是正态分布，所以使用 `wilcoxon` signed rank 检验。"
   ]
  },
  {
   "cell_type": "code",
   "execution_count": 34,
   "metadata": {},
   "outputs": [
    {
     "data": {
      "text/html": [
       "<pre style=\"white-space:pre;overflow-x:auto;line-height:normal;font-family:Menlo,'DejaVu Sans Mono',consolas,'Courier New',monospace\"><span style=\"color: #7fbfbf; text-decoration-color: #7fbfbf\">Thu 2024-11-14 15:49:21.054609</span>\n",
       "</pre>\n"
      ],
      "text/plain": [
       "\u001b[2;36mThu 2024-11-14 15:49:21.054609\u001b[0m\n"
      ]
     },
     "metadata": {},
     "output_type": "display_data"
    },
    {
     "data": {
      "text/html": [
       "<pre style=\"white-space:pre;overflow-x:auto;line-height:normal;font-family:Menlo,'DejaVu Sans Mono',consolas,'Courier New',monospace\"><span style=\"color: #000080; text-decoration-color: #000080\">INFO    </span> Null hypothesis cannot be rejected, so I have to accept that intel_sklearn is not faster than  <a href=\"file:///home/ye_canming/repos/novelties/cv/cls/NamableClassify/namable_classify/utils.py\" target=\"_blank\"><span style=\"color: #7f7f7f; text-decoration-color: #7f7f7f\">utils.py</span></a><span style=\"color: #7f7f7f; text-decoration-color: #7f7f7f\">:</span><a href=\"file:///home/ye_canming/repos/novelties/cv/cls/NamableClassify/namable_classify/utils.py#77\" target=\"_blank\"><span style=\"color: #7f7f7f; text-decoration-color: #7f7f7f\">77</span></a>\n",
       "         original_sklearn.                                                                              <span style=\"color: #7f7f7f; text-decoration-color: #7f7f7f\">           </span>\n",
       "</pre>\n"
      ],
      "text/plain": [
       "\u001b[34mINFO    \u001b[0m Null hypothesis cannot be rejected, so I have to accept that intel_sklearn is not faster than  \u001b]8;id=534485;file:///home/ye_canming/repos/novelties/cv/cls/NamableClassify/namable_classify/utils.py\u001b\\\u001b[2mutils.py\u001b[0m\u001b]8;;\u001b\\\u001b[2m:\u001b[0m\u001b]8;id=44073;file:///home/ye_canming/repos/novelties/cv/cls/NamableClassify/namable_classify/utils.py#77\u001b\\\u001b[2m77\u001b[0m\u001b]8;;\u001b\\\n",
       "         original_sklearn.                                                                              \u001b[2m           \u001b[0m\n"
      ]
     },
     "metadata": {},
     "output_type": "display_data"
    },
    {
     "data": {
      "text/html": [
       "<pre style=\"white-space:pre;overflow-x:auto;line-height:normal;font-family:Menlo,'DejaVu Sans Mono',consolas,'Courier New',monospace\"></pre>\n"
      ],
      "text/plain": []
     },
     "metadata": {},
     "output_type": "display_data"
    },
    {
     "data": {
      "text/plain": [
       "\u001b[1m(\u001b[0m\u001b[1;35mWilcoxonResult\u001b[0m\u001b[1m(\u001b[0m\u001b[33mstatistic\u001b[0m=\u001b[1;36m2\u001b[0m\u001b[1;36m.0\u001b[0m, \u001b[33mpvalue\u001b[0m=\u001b[1;36m0\u001b[0m\u001b[1;36m.1875\u001b[0m\u001b[1m)\u001b[0m, \u001b[1;35mWilcoxonResult\u001b[0m\u001b[1m(\u001b[0m\u001b[33mstatistic\u001b[0m=\u001b[1;36m2\u001b[0m\u001b[1;36m.0\u001b[0m, \u001b[33mpvalue\u001b[0m=\u001b[1;36m0\u001b[0m\u001b[1;36m.875\u001b[0m\u001b[1m)\u001b[0m\u001b[1m)\u001b[0m"
      ]
     },
     "execution_count": 34,
     "metadata": {},
     "output_type": "execute_result"
    }
   ],
   "source": [
    "original_sklearn_time = [t.best for t in original_sklearn]\n",
    "intel_sklearn_time = [t.best for t in intel_sklearn]\n",
    "from scipy.stats import wilcoxon\n",
    "res_less = wilcoxon(intel_sklearn_time, original_sklearn_time, zero_method='zsplit',alternative='less' # 实验备则假设， intel_sklearn 用时更短\n",
    "                    )\n",
    "if res_less.pvalue > 0.05:\n",
    "    print(\"Null hypothesis cannot be rejected, so I have to accept that intel_sklearn is not faster than original_sklearn. \")\n",
    "res_less\n",
    "res_greater = wilcoxon(intel_sklearn_time, original_sklearn_time, zero_method='zsplit', alternative='greater' # 实验备则假设，intel_sklearn 用时更长\n",
    "                    )\n",
    "res_less, res_greater"
   ]
  },
  {
   "cell_type": "markdown",
   "metadata": {},
   "source": [
    "可以看出，不能显著地说哪个更快，都是在随机误差范围之内。可以认为这两个方法一样快。"
   ]
  },
  {
   "cell_type": "markdown",
   "metadata": {},
   "source": [
    "##### GPU上对SVM的加速\n",
    "\n",
    "```bash\n",
    "pip install thundersvm\n",
    "```"
   ]
  },
  {
   "cell_type": "code",
   "execution_count": 35,
   "metadata": {},
   "outputs": [
    {
     "data": {
      "text/html": [
       "<style>#sk-container-id-5 {\n",
       "  /* Definition of color scheme common for light and dark mode */\n",
       "  --sklearn-color-text: black;\n",
       "  --sklearn-color-line: gray;\n",
       "  /* Definition of color scheme for unfitted estimators */\n",
       "  --sklearn-color-unfitted-level-0: #fff5e6;\n",
       "  --sklearn-color-unfitted-level-1: #f6e4d2;\n",
       "  --sklearn-color-unfitted-level-2: #ffe0b3;\n",
       "  --sklearn-color-unfitted-level-3: chocolate;\n",
       "  /* Definition of color scheme for fitted estimators */\n",
       "  --sklearn-color-fitted-level-0: #f0f8ff;\n",
       "  --sklearn-color-fitted-level-1: #d4ebff;\n",
       "  --sklearn-color-fitted-level-2: #b3dbfd;\n",
       "  --sklearn-color-fitted-level-3: cornflowerblue;\n",
       "\n",
       "  /* Specific color for light theme */\n",
       "  --sklearn-color-text-on-default-background: var(--sg-text-color, var(--theme-code-foreground, var(--jp-content-font-color1, black)));\n",
       "  --sklearn-color-background: var(--sg-background-color, var(--theme-background, var(--jp-layout-color0, white)));\n",
       "  --sklearn-color-border-box: var(--sg-text-color, var(--theme-code-foreground, var(--jp-content-font-color1, black)));\n",
       "  --sklearn-color-icon: #696969;\n",
       "\n",
       "  @media (prefers-color-scheme: dark) {\n",
       "    /* Redefinition of color scheme for dark theme */\n",
       "    --sklearn-color-text-on-default-background: var(--sg-text-color, var(--theme-code-foreground, var(--jp-content-font-color1, white)));\n",
       "    --sklearn-color-background: var(--sg-background-color, var(--theme-background, var(--jp-layout-color0, #111)));\n",
       "    --sklearn-color-border-box: var(--sg-text-color, var(--theme-code-foreground, var(--jp-content-font-color1, white)));\n",
       "    --sklearn-color-icon: #878787;\n",
       "  }\n",
       "}\n",
       "\n",
       "#sk-container-id-5 {\n",
       "  color: var(--sklearn-color-text);\n",
       "}\n",
       "\n",
       "#sk-container-id-5 pre {\n",
       "  padding: 0;\n",
       "}\n",
       "\n",
       "#sk-container-id-5 input.sk-hidden--visually {\n",
       "  border: 0;\n",
       "  clip: rect(1px 1px 1px 1px);\n",
       "  clip: rect(1px, 1px, 1px, 1px);\n",
       "  height: 1px;\n",
       "  margin: -1px;\n",
       "  overflow: hidden;\n",
       "  padding: 0;\n",
       "  position: absolute;\n",
       "  width: 1px;\n",
       "}\n",
       "\n",
       "#sk-container-id-5 div.sk-dashed-wrapped {\n",
       "  border: 1px dashed var(--sklearn-color-line);\n",
       "  margin: 0 0.4em 0.5em 0.4em;\n",
       "  box-sizing: border-box;\n",
       "  padding-bottom: 0.4em;\n",
       "  background-color: var(--sklearn-color-background);\n",
       "}\n",
       "\n",
       "#sk-container-id-5 div.sk-container {\n",
       "  /* jupyter's `normalize.less` sets `[hidden] { display: none; }`\n",
       "     but bootstrap.min.css set `[hidden] { display: none !important; }`\n",
       "     so we also need the `!important` here to be able to override the\n",
       "     default hidden behavior on the sphinx rendered scikit-learn.org.\n",
       "     See: https://github.com/scikit-learn/scikit-learn/issues/21755 */\n",
       "  display: inline-block !important;\n",
       "  position: relative;\n",
       "}\n",
       "\n",
       "#sk-container-id-5 div.sk-text-repr-fallback {\n",
       "  display: none;\n",
       "}\n",
       "\n",
       "div.sk-parallel-item,\n",
       "div.sk-serial,\n",
       "div.sk-item {\n",
       "  /* draw centered vertical line to link estimators */\n",
       "  background-image: linear-gradient(var(--sklearn-color-text-on-default-background), var(--sklearn-color-text-on-default-background));\n",
       "  background-size: 2px 100%;\n",
       "  background-repeat: no-repeat;\n",
       "  background-position: center center;\n",
       "}\n",
       "\n",
       "/* Parallel-specific style estimator block */\n",
       "\n",
       "#sk-container-id-5 div.sk-parallel-item::after {\n",
       "  content: \"\";\n",
       "  width: 100%;\n",
       "  border-bottom: 2px solid var(--sklearn-color-text-on-default-background);\n",
       "  flex-grow: 1;\n",
       "}\n",
       "\n",
       "#sk-container-id-5 div.sk-parallel {\n",
       "  display: flex;\n",
       "  align-items: stretch;\n",
       "  justify-content: center;\n",
       "  background-color: var(--sklearn-color-background);\n",
       "  position: relative;\n",
       "}\n",
       "\n",
       "#sk-container-id-5 div.sk-parallel-item {\n",
       "  display: flex;\n",
       "  flex-direction: column;\n",
       "}\n",
       "\n",
       "#sk-container-id-5 div.sk-parallel-item:first-child::after {\n",
       "  align-self: flex-end;\n",
       "  width: 50%;\n",
       "}\n",
       "\n",
       "#sk-container-id-5 div.sk-parallel-item:last-child::after {\n",
       "  align-self: flex-start;\n",
       "  width: 50%;\n",
       "}\n",
       "\n",
       "#sk-container-id-5 div.sk-parallel-item:only-child::after {\n",
       "  width: 0;\n",
       "}\n",
       "\n",
       "/* Serial-specific style estimator block */\n",
       "\n",
       "#sk-container-id-5 div.sk-serial {\n",
       "  display: flex;\n",
       "  flex-direction: column;\n",
       "  align-items: center;\n",
       "  background-color: var(--sklearn-color-background);\n",
       "  padding-right: 1em;\n",
       "  padding-left: 1em;\n",
       "}\n",
       "\n",
       "\n",
       "/* Toggleable style: style used for estimator/Pipeline/ColumnTransformer box that is\n",
       "clickable and can be expanded/collapsed.\n",
       "- Pipeline and ColumnTransformer use this feature and define the default style\n",
       "- Estimators will overwrite some part of the style using the `sk-estimator` class\n",
       "*/\n",
       "\n",
       "/* Pipeline and ColumnTransformer style (default) */\n",
       "\n",
       "#sk-container-id-5 div.sk-toggleable {\n",
       "  /* Default theme specific background. It is overwritten whether we have a\n",
       "  specific estimator or a Pipeline/ColumnTransformer */\n",
       "  background-color: var(--sklearn-color-background);\n",
       "}\n",
       "\n",
       "/* Toggleable label */\n",
       "#sk-container-id-5 label.sk-toggleable__label {\n",
       "  cursor: pointer;\n",
       "  display: block;\n",
       "  width: 100%;\n",
       "  margin-bottom: 0;\n",
       "  padding: 0.5em;\n",
       "  box-sizing: border-box;\n",
       "  text-align: center;\n",
       "}\n",
       "\n",
       "#sk-container-id-5 label.sk-toggleable__label-arrow:before {\n",
       "  /* Arrow on the left of the label */\n",
       "  content: \"▸\";\n",
       "  float: left;\n",
       "  margin-right: 0.25em;\n",
       "  color: var(--sklearn-color-icon);\n",
       "}\n",
       "\n",
       "#sk-container-id-5 label.sk-toggleable__label-arrow:hover:before {\n",
       "  color: var(--sklearn-color-text);\n",
       "}\n",
       "\n",
       "/* Toggleable content - dropdown */\n",
       "\n",
       "#sk-container-id-5 div.sk-toggleable__content {\n",
       "  max-height: 0;\n",
       "  max-width: 0;\n",
       "  overflow: hidden;\n",
       "  text-align: left;\n",
       "  /* unfitted */\n",
       "  background-color: var(--sklearn-color-unfitted-level-0);\n",
       "}\n",
       "\n",
       "#sk-container-id-5 div.sk-toggleable__content.fitted {\n",
       "  /* fitted */\n",
       "  background-color: var(--sklearn-color-fitted-level-0);\n",
       "}\n",
       "\n",
       "#sk-container-id-5 div.sk-toggleable__content pre {\n",
       "  margin: 0.2em;\n",
       "  border-radius: 0.25em;\n",
       "  color: var(--sklearn-color-text);\n",
       "  /* unfitted */\n",
       "  background-color: var(--sklearn-color-unfitted-level-0);\n",
       "}\n",
       "\n",
       "#sk-container-id-5 div.sk-toggleable__content.fitted pre {\n",
       "  /* unfitted */\n",
       "  background-color: var(--sklearn-color-fitted-level-0);\n",
       "}\n",
       "\n",
       "#sk-container-id-5 input.sk-toggleable__control:checked~div.sk-toggleable__content {\n",
       "  /* Expand drop-down */\n",
       "  max-height: 200px;\n",
       "  max-width: 100%;\n",
       "  overflow: auto;\n",
       "}\n",
       "\n",
       "#sk-container-id-5 input.sk-toggleable__control:checked~label.sk-toggleable__label-arrow:before {\n",
       "  content: \"▾\";\n",
       "}\n",
       "\n",
       "/* Pipeline/ColumnTransformer-specific style */\n",
       "\n",
       "#sk-container-id-5 div.sk-label input.sk-toggleable__control:checked~label.sk-toggleable__label {\n",
       "  color: var(--sklearn-color-text);\n",
       "  background-color: var(--sklearn-color-unfitted-level-2);\n",
       "}\n",
       "\n",
       "#sk-container-id-5 div.sk-label.fitted input.sk-toggleable__control:checked~label.sk-toggleable__label {\n",
       "  background-color: var(--sklearn-color-fitted-level-2);\n",
       "}\n",
       "\n",
       "/* Estimator-specific style */\n",
       "\n",
       "/* Colorize estimator box */\n",
       "#sk-container-id-5 div.sk-estimator input.sk-toggleable__control:checked~label.sk-toggleable__label {\n",
       "  /* unfitted */\n",
       "  background-color: var(--sklearn-color-unfitted-level-2);\n",
       "}\n",
       "\n",
       "#sk-container-id-5 div.sk-estimator.fitted input.sk-toggleable__control:checked~label.sk-toggleable__label {\n",
       "  /* fitted */\n",
       "  background-color: var(--sklearn-color-fitted-level-2);\n",
       "}\n",
       "\n",
       "#sk-container-id-5 div.sk-label label.sk-toggleable__label,\n",
       "#sk-container-id-5 div.sk-label label {\n",
       "  /* The background is the default theme color */\n",
       "  color: var(--sklearn-color-text-on-default-background);\n",
       "}\n",
       "\n",
       "/* On hover, darken the color of the background */\n",
       "#sk-container-id-5 div.sk-label:hover label.sk-toggleable__label {\n",
       "  color: var(--sklearn-color-text);\n",
       "  background-color: var(--sklearn-color-unfitted-level-2);\n",
       "}\n",
       "\n",
       "/* Label box, darken color on hover, fitted */\n",
       "#sk-container-id-5 div.sk-label.fitted:hover label.sk-toggleable__label.fitted {\n",
       "  color: var(--sklearn-color-text);\n",
       "  background-color: var(--sklearn-color-fitted-level-2);\n",
       "}\n",
       "\n",
       "/* Estimator label */\n",
       "\n",
       "#sk-container-id-5 div.sk-label label {\n",
       "  font-family: monospace;\n",
       "  font-weight: bold;\n",
       "  display: inline-block;\n",
       "  line-height: 1.2em;\n",
       "}\n",
       "\n",
       "#sk-container-id-5 div.sk-label-container {\n",
       "  text-align: center;\n",
       "}\n",
       "\n",
       "/* Estimator-specific */\n",
       "#sk-container-id-5 div.sk-estimator {\n",
       "  font-family: monospace;\n",
       "  border: 1px dotted var(--sklearn-color-border-box);\n",
       "  border-radius: 0.25em;\n",
       "  box-sizing: border-box;\n",
       "  margin-bottom: 0.5em;\n",
       "  /* unfitted */\n",
       "  background-color: var(--sklearn-color-unfitted-level-0);\n",
       "}\n",
       "\n",
       "#sk-container-id-5 div.sk-estimator.fitted {\n",
       "  /* fitted */\n",
       "  background-color: var(--sklearn-color-fitted-level-0);\n",
       "}\n",
       "\n",
       "/* on hover */\n",
       "#sk-container-id-5 div.sk-estimator:hover {\n",
       "  /* unfitted */\n",
       "  background-color: var(--sklearn-color-unfitted-level-2);\n",
       "}\n",
       "\n",
       "#sk-container-id-5 div.sk-estimator.fitted:hover {\n",
       "  /* fitted */\n",
       "  background-color: var(--sklearn-color-fitted-level-2);\n",
       "}\n",
       "\n",
       "/* Specification for estimator info (e.g. \"i\" and \"?\") */\n",
       "\n",
       "/* Common style for \"i\" and \"?\" */\n",
       "\n",
       ".sk-estimator-doc-link,\n",
       "a:link.sk-estimator-doc-link,\n",
       "a:visited.sk-estimator-doc-link {\n",
       "  float: right;\n",
       "  font-size: smaller;\n",
       "  line-height: 1em;\n",
       "  font-family: monospace;\n",
       "  background-color: var(--sklearn-color-background);\n",
       "  border-radius: 1em;\n",
       "  height: 1em;\n",
       "  width: 1em;\n",
       "  text-decoration: none !important;\n",
       "  margin-left: 1ex;\n",
       "  /* unfitted */\n",
       "  border: var(--sklearn-color-unfitted-level-1) 1pt solid;\n",
       "  color: var(--sklearn-color-unfitted-level-1);\n",
       "}\n",
       "\n",
       ".sk-estimator-doc-link.fitted,\n",
       "a:link.sk-estimator-doc-link.fitted,\n",
       "a:visited.sk-estimator-doc-link.fitted {\n",
       "  /* fitted */\n",
       "  border: var(--sklearn-color-fitted-level-1) 1pt solid;\n",
       "  color: var(--sklearn-color-fitted-level-1);\n",
       "}\n",
       "\n",
       "/* On hover */\n",
       "div.sk-estimator:hover .sk-estimator-doc-link:hover,\n",
       ".sk-estimator-doc-link:hover,\n",
       "div.sk-label-container:hover .sk-estimator-doc-link:hover,\n",
       ".sk-estimator-doc-link:hover {\n",
       "  /* unfitted */\n",
       "  background-color: var(--sklearn-color-unfitted-level-3);\n",
       "  color: var(--sklearn-color-background);\n",
       "  text-decoration: none;\n",
       "}\n",
       "\n",
       "div.sk-estimator.fitted:hover .sk-estimator-doc-link.fitted:hover,\n",
       ".sk-estimator-doc-link.fitted:hover,\n",
       "div.sk-label-container:hover .sk-estimator-doc-link.fitted:hover,\n",
       ".sk-estimator-doc-link.fitted:hover {\n",
       "  /* fitted */\n",
       "  background-color: var(--sklearn-color-fitted-level-3);\n",
       "  color: var(--sklearn-color-background);\n",
       "  text-decoration: none;\n",
       "}\n",
       "\n",
       "/* Span, style for the box shown on hovering the info icon */\n",
       ".sk-estimator-doc-link span {\n",
       "  display: none;\n",
       "  z-index: 9999;\n",
       "  position: relative;\n",
       "  font-weight: normal;\n",
       "  right: .2ex;\n",
       "  padding: .5ex;\n",
       "  margin: .5ex;\n",
       "  width: min-content;\n",
       "  min-width: 20ex;\n",
       "  max-width: 50ex;\n",
       "  color: var(--sklearn-color-text);\n",
       "  box-shadow: 2pt 2pt 4pt #999;\n",
       "  /* unfitted */\n",
       "  background: var(--sklearn-color-unfitted-level-0);\n",
       "  border: .5pt solid var(--sklearn-color-unfitted-level-3);\n",
       "}\n",
       "\n",
       ".sk-estimator-doc-link.fitted span {\n",
       "  /* fitted */\n",
       "  background: var(--sklearn-color-fitted-level-0);\n",
       "  border: var(--sklearn-color-fitted-level-3);\n",
       "}\n",
       "\n",
       ".sk-estimator-doc-link:hover span {\n",
       "  display: block;\n",
       "}\n",
       "\n",
       "/* \"?\"-specific style due to the `<a>` HTML tag */\n",
       "\n",
       "#sk-container-id-5 a.estimator_doc_link {\n",
       "  float: right;\n",
       "  font-size: 1rem;\n",
       "  line-height: 1em;\n",
       "  font-family: monospace;\n",
       "  background-color: var(--sklearn-color-background);\n",
       "  border-radius: 1rem;\n",
       "  height: 1rem;\n",
       "  width: 1rem;\n",
       "  text-decoration: none;\n",
       "  /* unfitted */\n",
       "  color: var(--sklearn-color-unfitted-level-1);\n",
       "  border: var(--sklearn-color-unfitted-level-1) 1pt solid;\n",
       "}\n",
       "\n",
       "#sk-container-id-5 a.estimator_doc_link.fitted {\n",
       "  /* fitted */\n",
       "  border: var(--sklearn-color-fitted-level-1) 1pt solid;\n",
       "  color: var(--sklearn-color-fitted-level-1);\n",
       "}\n",
       "\n",
       "/* On hover */\n",
       "#sk-container-id-5 a.estimator_doc_link:hover {\n",
       "  /* unfitted */\n",
       "  background-color: var(--sklearn-color-unfitted-level-3);\n",
       "  color: var(--sklearn-color-background);\n",
       "  text-decoration: none;\n",
       "}\n",
       "\n",
       "#sk-container-id-5 a.estimator_doc_link.fitted:hover {\n",
       "  /* fitted */\n",
       "  background-color: var(--sklearn-color-fitted-level-3);\n",
       "}\n",
       "</style><div id=\"sk-container-id-5\" class=\"sk-top-container\"><div class=\"sk-text-repr-fallback\"><pre>SVC(probability=True)</pre><b>In a Jupyter environment, please rerun this cell to show the HTML representation or trust the notebook. <br />On GitHub, the HTML representation is unable to render, please try loading this page with nbviewer.org.</b></div><div class=\"sk-container\" hidden><div class=\"sk-item\"><div class=\"sk-estimator fitted sk-toggleable\"><input class=\"sk-toggleable__control sk-hidden--visually\" id=\"sk-estimator-id-5\" type=\"checkbox\" checked><label for=\"sk-estimator-id-5\" class=\"sk-toggleable__label fitted sk-toggleable__label-arrow fitted\">&nbsp;SVC<span class=\"sk-estimator-doc-link fitted\">i<span>Fitted</span></span></label><div class=\"sk-toggleable__content fitted\"><pre>SVC(probability=True)</pre></div> </div></div></div></div>"
      ],
      "text/plain": [
       "SVC(probability=True)"
      ]
     },
     "execution_count": 35,
     "metadata": {},
     "output_type": "execute_result"
    }
   ],
   "source": [
    "from thundersvm import SVC\n",
    "# SVC?\n",
    "from sklearn.svm import SVC\n",
    "thunder_svc = SVC(kernel='rbf', probability=True)\n",
    "thunder_svc.fit(X_train, y_train)"
   ]
  },
  {
   "cell_type": "code",
   "execution_count": 37,
   "metadata": {},
   "outputs": [
    {
     "data": {
      "text/html": [
       "<pre style=\"white-space:pre;overflow-x:auto;line-height:normal;font-family:Menlo,'DejaVu Sans Mono',consolas,'Courier New',monospace\"></pre>\n"
      ],
      "text/plain": []
     },
     "metadata": {},
     "output_type": "display_data"
    },
    {
     "data": {
      "text/html": [
       "<div>\n",
       "<style scoped>\n",
       "    .dataframe tbody tr th:only-of-type {\n",
       "        vertical-align: middle;\n",
       "    }\n",
       "\n",
       "    .dataframe tbody tr th {\n",
       "        vertical-align: top;\n",
       "    }\n",
       "\n",
       "    .dataframe thead th {\n",
       "        text-align: right;\n",
       "    }\n",
       "</style>\n",
       "<table border=\"1\" class=\"dataframe\">\n",
       "  <thead>\n",
       "    <tr style=\"text-align: right;\">\n",
       "      <th></th>\n",
       "      <th>metric</th>\n",
       "      <th>value</th>\n",
       "      <th>delta</th>\n",
       "    </tr>\n",
       "  </thead>\n",
       "  <tbody>\n",
       "    <tr>\n",
       "      <th>0</th>\n",
       "      <td>acc1</td>\n",
       "      <td>0.972222</td>\n",
       "      <td>0.000000</td>\n",
       "    </tr>\n",
       "    <tr>\n",
       "      <th>1</th>\n",
       "      <td>acc2</td>\n",
       "      <td>0.988889</td>\n",
       "      <td>0.005556</td>\n",
       "    </tr>\n",
       "    <tr>\n",
       "      <th>2</th>\n",
       "      <td>acc3</td>\n",
       "      <td>0.991667</td>\n",
       "      <td>0.002778</td>\n",
       "    </tr>\n",
       "    <tr>\n",
       "      <th>3</th>\n",
       "      <td>acc5</td>\n",
       "      <td>0.994444</td>\n",
       "      <td>0.002778</td>\n",
       "    </tr>\n",
       "    <tr>\n",
       "      <th>4</th>\n",
       "      <td>acc10</td>\n",
       "      <td>1.000000</td>\n",
       "      <td>0.000000</td>\n",
       "    </tr>\n",
       "    <tr>\n",
       "      <th>5</th>\n",
       "      <td>acc20</td>\n",
       "      <td>1.000000</td>\n",
       "      <td>0.000000</td>\n",
       "    </tr>\n",
       "    <tr>\n",
       "      <th>6</th>\n",
       "      <td>matthews_corrcoef</td>\n",
       "      <td>0.969250</td>\n",
       "      <td>0.000000</td>\n",
       "    </tr>\n",
       "    <tr>\n",
       "      <th>7</th>\n",
       "      <td>f1</td>\n",
       "      <td>0.972030</td>\n",
       "      <td>0.000000</td>\n",
       "    </tr>\n",
       "    <tr>\n",
       "      <th>8</th>\n",
       "      <td>precision</td>\n",
       "      <td>0.973182</td>\n",
       "      <td>0.000000</td>\n",
       "    </tr>\n",
       "    <tr>\n",
       "      <th>9</th>\n",
       "      <td>recall</td>\n",
       "      <td>0.971984</td>\n",
       "      <td>0.000000</td>\n",
       "    </tr>\n",
       "    <tr>\n",
       "      <th>10</th>\n",
       "      <td>balanced_accuracy</td>\n",
       "      <td>0.971984</td>\n",
       "      <td>0.000000</td>\n",
       "    </tr>\n",
       "    <tr>\n",
       "      <th>11</th>\n",
       "      <td>cohen_kappa</td>\n",
       "      <td>0.969134</td>\n",
       "      <td>0.000000</td>\n",
       "    </tr>\n",
       "    <tr>\n",
       "      <th>12</th>\n",
       "      <td>roc_auc</td>\n",
       "      <td>0.992732</td>\n",
       "      <td>-0.006617</td>\n",
       "    </tr>\n",
       "    <tr>\n",
       "      <th>13</th>\n",
       "      <td>hinge_loss</td>\n",
       "      <td>0.124893</td>\n",
       "      <td>0.005551</td>\n",
       "    </tr>\n",
       "    <tr>\n",
       "      <th>14</th>\n",
       "      <td>log_loss</td>\n",
       "      <td>0.370853</td>\n",
       "      <td>0.242366</td>\n",
       "    </tr>\n",
       "    <tr>\n",
       "      <th>15</th>\n",
       "      <td>acc1_pred</td>\n",
       "      <td>0.972222</td>\n",
       "      <td>0.000000</td>\n",
       "    </tr>\n",
       "  </tbody>\n",
       "</table>\n",
       "</div>"
      ],
      "text/plain": [
       "\n",
       "               metric     value     delta\n",
       "\u001b[1;36m0\u001b[0m                acc1  \u001b[1;36m0.972222\u001b[0m  \u001b[1;36m0.000000\u001b[0m\n",
       "\u001b[1;36m1\u001b[0m                acc2  \u001b[1;36m0.988889\u001b[0m  \u001b[1;36m0.005556\u001b[0m\n",
       "\u001b[1;36m2\u001b[0m                acc3  \u001b[1;36m0.991667\u001b[0m  \u001b[1;36m0.002778\u001b[0m\n",
       "\u001b[1;36m3\u001b[0m                acc5  \u001b[1;36m0.994444\u001b[0m  \u001b[1;36m0.002778\u001b[0m\n",
       "\u001b[1;36m4\u001b[0m               acc10  \u001b[1;36m1.000000\u001b[0m  \u001b[1;36m0.000000\u001b[0m\n",
       "\u001b[1;36m5\u001b[0m               acc20  \u001b[1;36m1.000000\u001b[0m  \u001b[1;36m0.000000\u001b[0m\n",
       "\u001b[1;36m6\u001b[0m   matthews_corrcoef  \u001b[1;36m0.969250\u001b[0m  \u001b[1;36m0.000000\u001b[0m\n",
       "\u001b[1;36m7\u001b[0m                  f1  \u001b[1;36m0.972030\u001b[0m  \u001b[1;36m0.000000\u001b[0m\n",
       "\u001b[1;36m8\u001b[0m           precision  \u001b[1;36m0.973182\u001b[0m  \u001b[1;36m0.000000\u001b[0m\n",
       "\u001b[1;36m9\u001b[0m              recall  \u001b[1;36m0.971984\u001b[0m  \u001b[1;36m0.000000\u001b[0m\n",
       "\u001b[1;36m10\u001b[0m  balanced_accuracy  \u001b[1;36m0.971984\u001b[0m  \u001b[1;36m0.000000\u001b[0m\n",
       "\u001b[1;36m11\u001b[0m        cohen_kappa  \u001b[1;36m0.969134\u001b[0m  \u001b[1;36m0.000000\u001b[0m\n",
       "\u001b[1;36m12\u001b[0m            roc_auc  \u001b[1;36m0.992732\u001b[0m \u001b[1;36m-0.006617\u001b[0m\n",
       "\u001b[1;36m13\u001b[0m         hinge_loss  \u001b[1;36m0.124893\u001b[0m  \u001b[1;36m0.005551\u001b[0m\n",
       "\u001b[1;36m14\u001b[0m           log_loss  \u001b[1;36m0.370853\u001b[0m  \u001b[1;36m0.242366\u001b[0m\n",
       "\u001b[1;36m15\u001b[0m          acc1_pred  \u001b[1;36m0.972222\u001b[0m  \u001b[1;36m0.000000\u001b[0m"
      ]
     },
     "execution_count": 37,
     "metadata": {},
     "output_type": "execute_result"
    }
   ],
   "source": [
    "y_pred = thunder_svc.predict(X_test)\n",
    "y_pred_proba = thunder_svc.predict_proba(X_test)\n",
    "thunder_svc_res = compute_classification_metrics(y_test, y_pred_proba, logits_to_prob=False, y_pred=y_pred, labels=list(range(10)))\n",
    "# thunder_svc_res, svc_res\n",
    "res = []\n",
    "for k, v in thunder_svc_res.items():\n",
    "    delta = v - svc_res[k]\n",
    "    # print(f\"{k}: {v:.4f} ({delta:+.4f})\")\n",
    "    res.append(dict(metric=k, value=v, delta=delta))\n",
    "import pandas as pd \n",
    "pd.DataFrame(res)"
   ]
  },
  {
   "cell_type": "markdown",
   "metadata": {},
   "source": [
    "看来精度上和sklearn的SVC基本一致，基本没有差别，除了`log_loss`多一点。"
   ]
  },
  {
   "cell_type": "code",
   "execution_count": 38,
   "metadata": {},
   "outputs": [
    {
     "name": "stdout",
     "output_type": "stream",
     "text": [
      "135 ms ± 43.1 ms per loop (mean ± std. dev. of 7 runs, 1 loop each)\n"
     ]
    }
   ],
   "source": [
    "thunder_svc_time = %timeit -o thunder_svc.fit(X_train, y_train)"
   ]
  },
  {
   "cell_type": "code",
   "execution_count": 39,
   "metadata": {},
   "outputs": [
    {
     "name": "stdout",
     "output_type": "stream",
     "text": [
      "197 ms ± 31.5 ms per loop (mean ± std. dev. of 7 runs, 1 loop each)\n"
     ]
    }
   ],
   "source": [
    "svc_time = %timeit -o svc.fit(X_train, y_train)"
   ]
  },
  {
   "cell_type": "markdown",
   "metadata": {},
   "source": [
    "这里时间是不相关的，所以使用 `mannwhitneyu` 检验。"
   ]
  },
  {
   "cell_type": "code",
   "execution_count": 41,
   "metadata": {},
   "outputs": [
    {
     "data": {
      "text/html": [
       "<pre style=\"white-space:pre;overflow-x:auto;line-height:normal;font-family:Menlo,'DejaVu Sans Mono',consolas,'Courier New',monospace\"><span style=\"color: #7fbfbf; text-decoration-color: #7fbfbf\">Thu 2024-11-14 15:52:03.012247</span>\n",
       "</pre>\n"
      ],
      "text/plain": [
       "\u001b[2;36mThu 2024-11-14 15:52:03.012247\u001b[0m\n"
      ]
     },
     "metadata": {},
     "output_type": "display_data"
    },
    {
     "data": {
      "text/html": [
       "<pre style=\"white-space:pre;overflow-x:auto;line-height:normal;font-family:Menlo,'DejaVu Sans Mono',consolas,'Courier New',monospace\"><span style=\"color: #000080; text-decoration-color: #000080\">INFO    </span> Null hypothesis rejected! ThunderSVC is significantly faster than SVC.                         <a href=\"file:///home/ye_canming/repos/novelties/cv/cls/NamableClassify/namable_classify/utils.py\" target=\"_blank\"><span style=\"color: #7f7f7f; text-decoration-color: #7f7f7f\">utils.py</span></a><span style=\"color: #7f7f7f; text-decoration-color: #7f7f7f\">:</span><a href=\"file:///home/ye_canming/repos/novelties/cv/cls/NamableClassify/namable_classify/utils.py#77\" target=\"_blank\"><span style=\"color: #7f7f7f; text-decoration-color: #7f7f7f\">77</span></a>\n",
       "</pre>\n"
      ],
      "text/plain": [
       "\u001b[34mINFO    \u001b[0m Null hypothesis rejected! ThunderSVC is significantly faster than SVC.                         \u001b]8;id=697805;file:///home/ye_canming/repos/novelties/cv/cls/NamableClassify/namable_classify/utils.py\u001b\\\u001b[2mutils.py\u001b[0m\u001b]8;;\u001b\\\u001b[2m:\u001b[0m\u001b]8;id=691885;file:///home/ye_canming/repos/novelties/cv/cls/NamableClassify/namable_classify/utils.py#77\u001b\\\u001b[2m77\u001b[0m\u001b]8;;\u001b\\\n"
      ]
     },
     "metadata": {},
     "output_type": "display_data"
    },
    {
     "data": {
      "text/html": [
       "<pre style=\"white-space:pre;overflow-x:auto;line-height:normal;font-family:Menlo,'DejaVu Sans Mono',consolas,'Courier New',monospace\"></pre>\n"
      ],
      "text/plain": []
     },
     "metadata": {},
     "output_type": "display_data"
    },
    {
     "data": {
      "text/plain": [
       "\u001b[1;35mMannwhitneyuResult\u001b[0m\u001b[1m(\u001b[0m\u001b[33mstatistic\u001b[0m=\u001b[1;36m5\u001b[0m\u001b[1;36m.0\u001b[0m, \u001b[33mpvalue\u001b[0m=\u001b[1;36m0\u001b[0m\u001b[1;36m.005536130536130536\u001b[0m\u001b[1m)\u001b[0m"
      ]
     },
     "execution_count": 41,
     "metadata": {},
     "output_type": "execute_result"
    }
   ],
   "source": [
    "from scipy.stats import mannwhitneyu\n",
    "res_less = mannwhitneyu(thunder_svc_time.all_runs, svc_time.all_runs, alternative='less' # 实验备则假设， intel_sklearn mannwhitneyu\n",
    "                    )\n",
    "if res_less.pvalue > 0.05:\n",
    "    print(\"We cannot reject the null hypothesis! \")\n",
    "else:\n",
    "    print(\"Null hypothesis rejected! ThunderSVC is significantly faster than SVC.\")\n",
    "res_less"
   ]
  },
  {
   "cell_type": "markdown",
   "metadata": {},
   "source": [
    "看来`thundersvm`在GPU上加速还是显著地更快一些。"
   ]
  },
  {
   "cell_type": "markdown",
   "metadata": {},
   "source": [
    "### 实现 Hinge Loss+SGD 版本的 Soft Margin Linear SVM\n",
    "\n",
    "我们现在来实现与`from sklearn.linear_model import SGDClassifier`等价的 SVM，但是我们基于PyTorch实现，在GPU上面运行，期望能比sklearn的实现快很多。\n",
    "\n",
    "#### Hinge Loss 二分类实现\n",
    "\n",
    "首先回顾二分类情况下，李航《统计学习方法》131页的优化目标：\n",
    "$$\n",
    "\\min_{w, b} \\sum_{i=1}^N \\left[ 1 - y_i(w \\cdot x_i + b) \\right]_+ + \\lambda \\lVert w \\rVert^2\n",
    "$$\n",
    "\n",
    "李航随即给出了证明，证明这个无约束最优化问题等价于优化软间隔线性支持向量机的原始问题。我感觉上面的式子有点丑，莫名其妙地引入了没有物理意义的超参数$\\lambda$, 让读者无法与软间隔问题中的$C$联系起来。所以我们使用李航证明中用来说明这两个问题等效性的式子:\n",
    "$$\n",
    "\\min_{w, b}  \\frac{1}{2} \\lVert w \\rVert^2 + C \\sum_{i=1}^N \\left[ 1 - y_i(w \\cdot x_i + b) \\right]_+\n",
    "$$\n",
    "\n",
    "其中 $\\xi_i = \\left[ 1 - y_i(w \\cdot x_i + b) \\right]_+ $ 是松弛变量，$[]_+$ 自动地让松弛变量满足了约束。\n",
    "\n",
    "我们现在就可以用 PyTorch 实现这个 二分类情况下的 Hinge Loss了。"
   ]
  },
  {
   "cell_type": "markdown",
   "metadata": {},
   "source": [
    "注意，在下面的代码中我们不会去实现$\\frac{1}{2} \\lVert w \\rVert^2$! \n",
    "\n",
    "因为在实际PyTorch项目中，这个是写在 Optimizer的 weight decay里面的。 1/2 其实和 C 、学习率等 只是相对比例关系。\n",
    "\n",
    "这是因为 PyTorch 的设计哲学中，loss 函数的输入就是 logits 和 labels，不会包括模型的参数，这样才能把逻辑解耦开来。\n",
    "\n",
    "所以如果我们在loss就实现 l2 regularization，是很麻烦而且没有必要的。\n",
    "\n",
    "Optimizer 有权限访问到 model 的参数，所以我们待会可以精确控制，只对 weight 而非 bias 做 l2 regularization，从而满足 SVM 的要求。\n"
   ]
  },
  {
   "cell_type": "code",
   "execution_count": 162,
   "metadata": {},
   "outputs": [],
   "source": [
    "#| export\n",
    "import torch.nn as nn\n",
    "from fastcore.all import store_attr\n",
    "class BinaryHingeLoss(nn.Module):\n",
    "    \"\"\"\n",
    "    Binary Hinge Loss. \n",
    "    For SVM, \n",
    "    $$\n",
    "    \\min_{w, b}  \\frac{1}{2} \\lVert w \\rVert^2 + C \\sum_{i=1}^N \\left[ 1 - y_i(w \\cdot x_i + b) \\right]_+\n",
    "    $$\n",
    "    we compute \n",
    "    $$\n",
    "    C \\sum_{i=1}^N \\left[ 1 - y_i(w \\cdot x_i + b) \\right]_+\n",
    "    $$\n",
    "    \"\"\"\n",
    "    def __init__(self, C=1.0, \n",
    "                 squared = False, \n",
    "                 margin = 1.0,\n",
    "                #  *args, **kwargs\n",
    "\n",
    "                 ):\n",
    "        super().__init__()\n",
    "        store_attr() # 保存参数到实例变量中\n",
    "\n",
    "    def forward(self, y_pred_logits:torch.Tensor, y_true:torch.Tensor)->torch.Tensor:\n",
    "        functional_margin = y_true * y_pred_logits # 函数间隔\n",
    "        how_small_than_required_margin = self.margin - functional_margin\n",
    "        xi = torch.clamp(how_small_than_required_margin, min=0) # 计算 xi 也就是 松弛变量\n",
    "        if self.squared:\n",
    "            xi = xi ** 2\n",
    "        return self.C * xi.sum()\n"
   ]
  },
  {
   "cell_type": "markdown",
   "metadata": {},
   "source": [
    "其中 `squared` 参数表示是否使用 squared hinge loss。\n",
    "什么叫做 squared hinge loss 呢？我们做过理论作业，李航《统计学习方法》153页例题 7.3 提到了 (但是书上没有给出Reference)\n",
    "$$\n",
    "\\min_{w, b}  \\frac{1}{2} \\lVert w \\rVert^2 + C \\sum_{i=1}^N \\xi_i^2\n",
    "$$ \n",
    "来取代\n",
    "$$\n",
    "\\min_{w, b}  \\frac{1}{2} \\lVert w \\rVert^2 + C \\sum_{i=1}^N \\xi_i\n",
    "$$ \n",
    "其实上面那个式子就是 squared hinge loss。"
   ]
  },
  {
   "cell_type": "code",
   "execution_count": 49,
   "metadata": {},
   "outputs": [],
   "source": [
    "# 尝试一下\n",
    "from fastcore.test import test_eq\n",
    "critierion = BinaryHingeLoss(margin=1, C=1, squared=False)\n",
    "y_pred_logits = torch.tensor([1.0, 2.0, 3.0], requires_grad=True)\n",
    "y_true = torch.tensor([1.0, -1.0, 1.0])\n",
    "test_eq(critierion(y_pred_logits, y_true).item(), 1-(-1.0)*2.0) # 第二个样本分类错误，函数间隔为 -2， 差了 3"
   ]
  },
  {
   "cell_type": "markdown",
   "metadata": {},
   "source": [
    "#### Hinge Loss 多分类实现\n",
    "\n",
    "现在我们已经成功实现 BinaryHingeLoss， 接下来我们要考虑 多分类情况下 要如何变化。\n",
    "\n",
    "参考 \n",
    "- https://lightning.ai/docs/torchmetrics/stable/classification/hinge_loss.html\n",
    "- https://pytorch.org/docs/stable/generated/torch.nn.MultiMarginLoss.html\n",
    "\n",
    "按照我们上文 理论回顾 一节说的，有两类方法。首先是直接法，具体来说 [Crammer and Singer在论文中](https://jmlr.csail.mit.edu/papers/volume2/crammer01a/crammer01a.pdf) 提出， 对于每一个样本$x_i, y_i, t_i $ (y_i 是 one hot vector, t_i 是 标签，假如是第k类也就是$t_i = k $，$y_i^{t_i} = 1, y_i^{k!=t_i} = 0$), 使用这一个公式来作为 多分类的 Hinge Loss\n",
    "$$\n",
    "L_i = \\left[ 1 - (\\hat{y_i}^{t_i} - \\max_{k \\neq t_i} \\hat{y_i}^k)) \\right]_+\n",
    "$$\n",
    "其中 $\\hat{y_i}^k = (w^k \\cdot x_i + b^k)$ 是针对第k个类的那一个SVM($w^k, b^k$表示)预测出来的值，不是函数间隔哦，没有乘$y_i^k$。"
   ]
  },
  {
   "cell_type": "markdown",
   "metadata": {},
   "source": [
    "而间接法则是使用 one vs all(a.k.a., rest) 来计算 hinge loss。（one vs one 比较少见）\n",
    "\n",
    "具体而言，首先 $t_i = k $，$y_i^{t_i} = 1, y_i^{k!=t_i} = -1$, $\\hat{y_i}^k = (w^k \\cdot x_i + b^k)$ 表示 是否为 第k个类。\n",
    "对于每一个样本i，对于每一个样本k都能计算出一个binary loss：\n",
    "\n",
    "$$L_i^k = \\left[ 1 - y_i^k (w^k \\cdot x_i + b^k) \\right]_+ $$\n",
    "\n",
    "相当于同时在训练K个分类器，所以这些loss都可以加在一起，反向传播训练对于$w^k, b^k$独立操作。\n",
    "\n",
    "所以推导一下，如果每一个 $1 - y_i^k (w^k \\cdot x_i + b^k)$ 都 $\\gt 0$ 就相当于\n",
    "\n",
    "$$L_i = \\sum_{k=1}^{K} L_i^k \\approx \\left[ K - (\\hat{y_i}^{t_i} - \\sum_{k \\neq t_i} \\hat{y_i}^k)) \\right]_+ $$\n",
    "\n",
    "但是并不是都>0的，没法这样进去推导，所以还是得老老实实相加。\n",
    "\n",
    "理论清晰之后，现在我们开始实现代码："
   ]
  },
  {
   "cell_type": "code",
   "execution_count": 163,
   "metadata": {},
   "outputs": [],
   "source": [
    "#| export\n",
    "from fastcore.all import patch\n",
    "Strategy = Literal['crammer_singer', 'one_vs_all']\n",
    "class MultiClassHingeLoss(nn.Module):\n",
    "    \"\"\"MultiClassHingeLoss\"\"\"\n",
    "    def __init__(self, C=1.0, \n",
    "                 squared = False, \n",
    "                 margin = 1.0,\n",
    "                 strategy: Strategy = 'crammer_singer',\n",
    "                #  *args, **kwargs\n",
    "                 ):\n",
    "        super().__init__()\n",
    "        store_attr()\n",
    "        self.binary_critieria = None\n",
    "    def forward(self, y_pred_logits:torch.Tensor, \n",
    "                y_true:torch.Tensor # 并非 one hot 编码，而是 int/long 类型 的 label\n",
    "                )->torch.Tensor:\n",
    "        if self.strategy == 'crammer_singer':\n",
    "            return self.forward_crammer_singer(y_pred_logits, y_true)\n",
    "        elif self.strategy == 'one_vs_all':\n",
    "            return self.forward_one_vs_all(y_pred_logits, y_true)\n",
    "        else:\n",
    "            raise ValueError(f\"Invalid strategy: {self.strategy}\")\n",
    "    def forward_one_vs_all(self, y_pred_logits:torch.Tensor, y_true:torch.Tensor)->torch.Tensor:\n",
    "        num_of_classes = y_pred_logits.size(1)\n",
    "        if self.binary_critieria is None:\n",
    "            self.binary_critieria = nn.ModuleList([\n",
    "                BinaryHingeLoss(C=self.C, squared=self.squared, margin=self.margin)\n",
    "                for _ in range(num_of_classes)\n",
    "                ])\n",
    "        losses = []\n",
    "        for k, critierion in enumerate(self.binary_critieria):\n",
    "            y_true_binary = 2 * (y_true == k) - 1 # 转换为 -1/1 编码、\n",
    "            y_pred_that_class = y_pred_logits[:, k]\n",
    "            loss = critierion(y_pred_that_class, y_true_binary)\n",
    "            losses.append(loss)\n",
    "        return sum(losses)\n",
    "    def forward_crammer_singer(self, y_pred_logits:torch.Tensor, y_true:torch.Tensor)->torch.Tensor: ..."
   ]
  },
  {
   "cell_type": "markdown",
   "metadata": {},
   "source": [
    "我们调用已经实现的`BinaryHingeLoss`来实现`forward_one_vs_all`。\n",
    "\n",
    "为了方便实现 `forward_crammer_singer` 方法，首先我们实现一个辅助函数，"
   ]
  },
  {
   "cell_type": "code",
   "execution_count": 149,
   "metadata": {},
   "outputs": [],
   "source": [
    "#| export\n",
    "import torch\n",
    "def get_max_values_without_true(y_pred_logits, y_true):\n",
    "    \"\"\"\n",
    "    获取去掉y_true对应元素后，y_pred_logits每行的最大值。\n",
    "\n",
    "    参数:\n",
    "    y_pred_logits: torch.Tensor, 形状为 (N, K)\n",
    "    y_true: torch.Tensor, 形状为 (N,)\n",
    "\n",
    "    返回:\n",
    "    torch.Tensor, 形状为 (N,), 去掉y_true对应元素后每行的最大值\n",
    "    \"\"\"\n",
    "    # 将y_true转换为适当的索引格式\n",
    "    indices = y_true.unsqueeze(1).expand_as(y_pred_logits)\n",
    "\n",
    "    # 创建一个与y_pred_logits形状相同的掩码，真实标签位置为False，其余为True\n",
    "    mask = torch.ones_like(y_pred_logits, dtype=torch.bool)\n",
    "    mask.scatter_(1, indices, False)\n",
    "\n",
    "    # 使用掩码来排除y_true对应的列，并计算每一行的最大值\n",
    "    max_values = y_pred_logits[mask].view(y_pred_logits.size(0), -1).max(dim=1)[0]\n",
    "\n",
    "    return max_values"
   ]
  },
  {
   "cell_type": "markdown",
   "metadata": {},
   "source": [
    "注意 PyTorch中的索引有广播机制，我们刚才编程的时候遇到这个问题，实现了一阵才正确实现逻辑。\n",
    "\n",
    "下面的代码是说明这个问题的最小重现单元，它的运行结果可能超出你的预期，所以编程的时候我们刚才特别注意了这一点。"
   ]
  },
  {
   "cell_type": "code",
   "execution_count": 150,
   "metadata": {},
   "outputs": [
    {
     "data": {
      "text/html": [
       "<pre style=\"white-space:pre;overflow-x:auto;line-height:normal;font-family:Menlo,'DejaVu Sans Mono',consolas,'Courier New',monospace\"></pre>\n"
      ],
      "text/plain": []
     },
     "metadata": {},
     "output_type": "display_data"
    },
    {
     "data": {
      "text/plain": [
       "\n",
       "\u001b[1;35mtensor\u001b[0m\u001b[1m(\u001b[0m\u001b[1m[\u001b[0m\u001b[1m[\u001b[0m\u001b[1;36m1\u001b[0m., \u001b[1;36m1\u001b[0m.\u001b[1m]\u001b[0m,\n",
       "        \u001b[1m[\u001b[0m\u001b[1;36m1\u001b[0m., \u001b[1;36m1\u001b[0m.\u001b[1m]\u001b[0m\u001b[1m]\u001b[0m\u001b[1m)\u001b[0m"
      ]
     },
     "execution_count": 150,
     "metadata": {},
     "output_type": "execute_result"
    }
   ],
   "source": [
    "# \n",
    "y_pred = torch.ones(2, 10)\n",
    "y_true = torch.zeros(2).to(int)\n",
    "y_pred[:, y_true] # 很多人以为会是 [1, 1], 实际输出 [[1., 1.], [1., 1.]]"
   ]
  },
  {
   "cell_type": "markdown",
   "metadata": {},
   "source": [
    "测试一下函数正确性"
   ]
  },
  {
   "cell_type": "code",
   "execution_count": 151,
   "metadata": {},
   "outputs": [
    {
     "data": {
      "text/html": [
       "<pre style=\"white-space:pre;overflow-x:auto;line-height:normal;font-family:Menlo,'DejaVu Sans Mono',consolas,'Courier New',monospace\"></pre>\n"
      ],
      "text/plain": []
     },
     "metadata": {},
     "output_type": "display_data"
    },
    {
     "data": {
      "text/plain": [
       "\u001b[1;35mtensor\u001b[0m\u001b[1m(\u001b[0m\u001b[1m[\u001b[0m \u001b[1;36m4\u001b[0m.,  \u001b[1;36m9\u001b[0m., \u001b[1;36m14\u001b[0m., \u001b[1;36m19\u001b[0m.\u001b[1m]\u001b[0m\u001b[1m)\u001b[0m"
      ]
     },
     "execution_count": 151,
     "metadata": {},
     "output_type": "execute_result"
    }
   ],
   "source": [
    "y_pred_logits = torch.tensor([[1, 2, 3, 4, 5],\n",
    "                             [6, 7, 8, 9, 10],\n",
    "                             [11, 12, 13, 14, 15],\n",
    "                             [16, 17, 18, 19, 20]], dtype=torch.float)\n",
    "y_true = torch.tensor([4, 4, 4, 4])\n",
    "\n",
    "# 函数调用\n",
    "max_values = get_max_values_without_true(y_pred_logits, y_true)\n",
    "max_values"
   ]
  },
  {
   "cell_type": "markdown",
   "metadata": {},
   "source": [
    "正确。\n",
    "现在我们继续实现 `MultiClassHingeLoss.forward_crammer_singer`, fastcore 提供 `patch` 扩展了 Python 的能力，可以支持 Mixin 风格的软件编程。"
   ]
  },
  {
   "cell_type": "code",
   "execution_count": 152,
   "metadata": {},
   "outputs": [],
   "source": [
    "#| export\n",
    "@patch\n",
    "def forward_crammer_singer(self:MultiClassHingeLoss, y_pred_logits:torch.Tensor, y_true:torch.Tensor)->torch.Tensor:\n",
    "    \"\"\"L_i = \\left[ 1 - (\\hat{y_i}^{t_i} - \\max_{k \\neq t_i} \\hat{y_i}^k)) \\right]_+\"\"\"\n",
    "    batch_size, num_classes = y_pred_logits.size()\n",
    "    y_true_one_hot = torch.eye(num_classes)[y_true].to(y_pred_logits.device)\n",
    "    \n",
    "    # 计算真实类别的预测值\n",
    "    y_true_logits = (y_pred_logits * y_true_one_hot).sum(dim=1)\n",
    "    # y_true_logits = y_pred_logits[:, y_true]\n",
    "\n",
    "    max_other_logits = get_max_values_without_true(y_pred_logits, y_true)\n",
    "    \n",
    "    functional_margin_differences = (y_true_logits - max_other_logits)\n",
    "    \n",
    "    # 计算hinge loss\n",
    "    xi = torch.clamp(self.margin - functional_margin_differences, min=0)\n",
    "    \n",
    "    if self.squared:\n",
    "        xi = xi ** 2\n",
    "    return self.C * xi.sum()"
   ]
  },
  {
   "cell_type": "markdown",
   "metadata": {},
   "source": [
    "现在我们简单测试一下上面实现的两个Loss是否计算正确，与理论公式一样。"
   ]
  },
  {
   "cell_type": "code",
   "execution_count": 153,
   "metadata": {},
   "outputs": [
    {
     "data": {
      "text/html": [
       "<pre style=\"white-space:pre;overflow-x:auto;line-height:normal;font-family:Menlo,'DejaVu Sans Mono',consolas,'Courier New',monospace\"></pre>\n"
      ],
      "text/plain": []
     },
     "metadata": {},
     "output_type": "display_data"
    },
    {
     "data": {
      "text/plain": [
       "\u001b[1;35mtensor\u001b[0m\u001b[1m(\u001b[0m\u001b[1;36m0\u001b[0m.\u001b[1m)\u001b[0m"
      ]
     },
     "execution_count": 153,
     "metadata": {},
     "output_type": "execute_result"
    }
   ],
   "source": [
    "y_pred_logits = torch.tensor([[0.5, -0.5], [-0.5, 0.5]])\n",
    "y_true = torch.tensor([0, 1])\n",
    "critierion = MultiClassHingeLoss(strategy=\"crammer_singer\")\n",
    "loss = critierion(y_pred_logits, y_true)\n",
    "loss"
   ]
  },
  {
   "cell_type": "markdown",
   "metadata": {},
   "source": [
    "上面的结果是正确的，因为 自己这个类别的 预测值 是 0.5, 其他类别的最大预测值是 -0.5, 比它大1, 正好是margin，所以loss为0"
   ]
  },
  {
   "cell_type": "code",
   "execution_count": 154,
   "metadata": {},
   "outputs": [
    {
     "data": {
      "text/html": [
       "<pre style=\"white-space:pre;overflow-x:auto;line-height:normal;font-family:Menlo,'DejaVu Sans Mono',consolas,'Courier New',monospace\"></pre>\n"
      ],
      "text/plain": []
     },
     "metadata": {},
     "output_type": "display_data"
    },
    {
     "data": {
      "text/plain": [
       "\u001b[1;35mtensor\u001b[0m\u001b[1m(\u001b[0m\u001b[1;36m2\u001b[0m.\u001b[1m)\u001b[0m"
      ]
     },
     "execution_count": 154,
     "metadata": {},
     "output_type": "execute_result"
    }
   ],
   "source": [
    "critierion = MultiClassHingeLoss(strategy=\"one_vs_all\")\n",
    "loss = critierion(y_pred_logits, y_true)\n",
    "loss"
   ]
  },
  {
   "cell_type": "markdown",
   "metadata": {},
   "source": [
    "上面的结果也是正确的，这两个数据都是 正确的那个类 自己只有0.5的值，不到1， 而错误的类不到-1，所以有正负类两个样本各有0.5的loss，一共为2。"
   ]
  },
  {
   "cell_type": "markdown",
   "metadata": {},
   "source": [
    "以上我们实现的Loss在真实情况中会使用哪个组合呢？这也是个值得探讨的问题。\n",
    "\n",
    "对于多类别的情况，[论文](https://www.csie.ntu.edu.tw/~cjlin/papers/l2mcsvm/l2mcsvm.pdf) 详细研究了  crammer_singer 方法 +  squared hinge loss 的有效性，所以这两者是可以结合的。 "
   ]
  },
  {
   "cell_type": "markdown",
   "metadata": {},
   "source": [
    "#### SVM 模型与训练算法实现\n",
    "\n",
    "在 crammer_singer 方法 和 one vs all 的情况下，SVM的参数$w, b$的大小是 `(n_features, n_classes), (n_classes,)`，这与多分类的感知机、Linear+Softmax是一样的。"
   ]
  },
  {
   "cell_type": "code",
   "execution_count": 164,
   "metadata": {},
   "outputs": [],
   "source": [
    "from overrides import override\n",
    "from lightning.pytorch.utilities.types import EVAL_DATALOADERS, TRAIN_DATALOADERS, STEP_OUTPUT, OptimizerLRScheduler\n",
    "import torch.optim as optim\n",
    "class HingeSupportVectorClassifier(L.LightningModule):\n",
    "    def __init__(self, \n",
    "                #  model related\n",
    "                 input_dim, num_classes,  \n",
    "                #  optimization related\n",
    "                 learning_rate=0.01, weight_decay=0.5, \n",
    "                 optimizer_type = optim.SGD, \n",
    "                #  loss related\n",
    "                 C: float = 1,\n",
    "                    squared: bool = False,\n",
    "                    margin: float = 1,\n",
    "                    strategy: Strategy = 'crammer_singer',\n",
    "                #  experiment related\n",
    "                 experiment_index=0,  \n",
    "                 ):\n",
    "        super().__init__()\n",
    "        self.save_hyperparameters()\n",
    "        L.seed_everything(experiment_index)\n",
    "        self.model = nn.Linear(input_dim, num_classes)\n",
    "        self.loss_fn = MultiClassHingeLoss()\n",
    "        \n",
    "        self.example_input_array = torch.randn(1, input_dim)\n",
    "        self.dummy_inputs = dict(input_ids=self.example_input_array) # for opendelta and huggingface\n",
    "        self.automatic_optimization = True\n",
    "    @override\n",
    "    def forward(self, image_tensor:torch.Tensor, *args, **kwargs)-> torch.Tensor:\n",
    "        \"\"\"\n",
    "        Returns:\n",
    "            torch.Tensor: the predicted functional margin to each class's decision hyperplane   \n",
    "        \"\"\"\n",
    "        return self.model(image_tensor)\n",
    "    \n",
    "    def predict_geometric_margin(self, image_tensor:torch.Tensor)->torch.Tensor:\n",
    "        w_norm_each_line = torch.norm(self.model.weight, dim=1)\n",
    "        return torch.clamp(self(image_tensor) / w_norm_each_line, min=0)\n",
    "    \n",
    "    def predict_class(self, image_tensor:torch.Tensor)->torch.Tensor:\n",
    "        return torch.argmax(self(image_tensor), dim=1)\n",
    "\n",
    "    def forward_loss(self, image_tensor: torch.Tensor, label_tensor:torch.Tensor)->torch.Tensor:\n",
    "        logits = self(image_tensor)\n",
    "        return self.loss_fn(logits, label_tensor)\n",
    "        \n",
    "    @override\n",
    "    def training_step(self, batch, batch_idx=None, *args, **kwargs)-> STEP_OUTPUT:\n",
    "        loss = self.forward_loss(*batch)\n",
    "        self.log(\"train_loss\", loss, prog_bar=True)\n",
    "        return loss"
   ]
  },
  {
   "cell_type": "code",
   "execution_count": 165,
   "metadata": {},
   "outputs": [
    {
     "data": {
      "text/html": [
       "<pre style=\"white-space:pre;overflow-x:auto;line-height:normal;font-family:Menlo,'DejaVu Sans Mono',consolas,'Courier New',monospace\"><span style=\"color: #7fbfbf; text-decoration-color: #7fbfbf\">Thu 2024-11-14 21:58:29.495192</span>\n",
       "</pre>\n"
      ],
      "text/plain": [
       "\u001b[2;36mThu 2024-11-14 21:58:29.495192\u001b[0m\n"
      ]
     },
     "metadata": {},
     "output_type": "display_data"
    },
    {
     "data": {
      "text/html": [
       "<pre style=\"white-space:pre;overflow-x:auto;line-height:normal;font-family:Menlo,'DejaVu Sans Mono',consolas,'Courier New',monospace\"><span style=\"color: #000080; text-decoration-color: #000080\">INFO    </span> ╭─────────────────────── Model Tree for HingeSupportVectorClassifier ───────────────────────╮ <a href=\"file:///home/ye_canming/repos/novelties/cv/cls/NamableClassify/namable_classify/utils.py\" target=\"_blank\"><span style=\"color: #7f7f7f; text-decoration-color: #7f7f7f\">utils.py</span></a><span style=\"color: #7f7f7f; text-decoration-color: #7f7f7f\">:</span><a href=\"file:///home/ye_canming/repos/novelties/cv/cls/NamableClassify/namable_classify/utils.py#142\" target=\"_blank\"><span style=\"color: #7f7f7f; text-decoration-color: #7f7f7f\">142</span></a>\n",
       "         │ <span style=\"color: #c0c0c0; text-decoration-color: #c0c0c0\">root</span>                                                                                      │ <span style=\"color: #7f7f7f; text-decoration-color: #7f7f7f\">            </span>\n",
       "         │ └── <span style=\"color: #c0c0c0; text-decoration-color: #c0c0c0\">model </span><span style=\"color: #008000; text-decoration-color: #008000\">(Linear) </span><span style=\"color: #008080; text-decoration-color: #008080\">weight:[10, 784] bias:[10]</span>                                             │ <span style=\"color: #7f7f7f; text-decoration-color: #7f7f7f\">            </span>\n",
       "         ╰───────────────────────────────────────────────────────────────────────────────────────────╯ <span style=\"color: #7f7f7f; text-decoration-color: #7f7f7f\">            </span>\n",
       "</pre>\n"
      ],
      "text/plain": [
       "\u001b[34mINFO    \u001b[0m ╭─────────────────────── Model Tree for HingeSupportVectorClassifier ───────────────────────╮ \u001b]8;id=441001;file:///home/ye_canming/repos/novelties/cv/cls/NamableClassify/namable_classify/utils.py\u001b\\\u001b[2mutils.py\u001b[0m\u001b]8;;\u001b\\\u001b[2m:\u001b[0m\u001b]8;id=42450;file:///home/ye_canming/repos/novelties/cv/cls/NamableClassify/namable_classify/utils.py#142\u001b\\\u001b[2m142\u001b[0m\u001b]8;;\u001b\\\n",
       "         │ \u001b[37mroot\u001b[0m                                                                                      │ \u001b[2m            \u001b[0m\n",
       "         │ └── \u001b[37mmodel \u001b[0m\u001b[32m(Linear) \u001b[0m\u001b[36mweight:[10, 784] \u001b[0m\u001b[36mbias:[10]\u001b[0m                                             │ \u001b[2m            \u001b[0m\n",
       "         ╰───────────────────────────────────────────────────────────────────────────────────────────╯ \u001b[2m            \u001b[0m\n"
      ]
     },
     "metadata": {},
     "output_type": "display_data"
    }
   ],
   "source": [
    "from namable_classify.utils import print_model_pretty\n",
    "test_model = HingeSupportVectorClassifier(28*28, 10)\n",
    "test_model.print_model_pretty()\n",
    "y_pred_logits =test_model(test_model.example_input_array)\n",
    "test_model.predict_class(test_model.example_input_array)\n",
    "test_model.predict_geometric_margin(test_model.example_input_array)\n",
    "# y_pred_logits\n",
    "# test_model.loss_fn(y_pred_logits, torch.tensor([0]))\n",
    "test_model.forward_loss(test_model.example_input_array, torch.tensor([0]))"
   ]
  },
  {
   "cell_type": "markdown",
   "metadata": {},
   "source": [
    "我们定义好了 loss 和 model（w与b的参数，以及决策超平面如何用于决策）。\n",
    "现在我们要定义训练算法，不要忘了刚才还有 $\\frac{1}{2} ||w||^2$ 项。"
   ]
  },
  {
   "cell_type": "markdown",
   "metadata": {},
   "source": [
    "首先我们来首先一下 上文我们提到的sklearn使用的 Leon Bottou optimal learning rate。从现代深度学习的角度来看，Leon Bottou 本质上是提出了一个 learning rate scheduler。\n",
    "\n",
    "参照 [Leon Bottou 的SVM网站](https://leon.bottou.org/projects/sgd),\n",
    "他对学习率的规划如下\n",
    "\n",
    "SGD\n",
    "\n",
    "$$\n",
    "\\eta_t = \\frac{\\eta_0}{(1 + \\lambda \\eta_0 t)}\n",
    "$$\n",
    "\n",
    "ASGD\n",
    "\n",
    "$$\n",
    "\\eta_t = \\frac{\\eta_0}{(1 + \\lambda \\eta_0 t)^{0.75}}\n",
    "$$\n",
    "\n",
    "其中对于第一个形式，是否是一个特殊的[指数/gamma 衰减的学习率]？(https://pytorch.org/docs/stable/generated/torch.optim.lr_scheduler.ExponentialLR.html)。\n",
    "$$\n",
    "\\eta_{t+1} = \\frac{\\eta_0}{(1 + \\lambda \\eta_0 (t+1) )} \\\\\n",
    "\\gamma = \\frac{\\eta_{t+1}}{\\eta_t} = \\frac{1}{1+\\frac{1}{t + \\frac{1}{\\lambda \\eta_0}}} \n",
    "$$\n",
    "答案是否定的，因为 $\\gamma$ 推导出来不是和t无关的常数。 所以Leon Bottou不是 gamma衰减的特殊情况。"
   ]
  },
  {
   "cell_type": "code",
   "execution_count": 167,
   "metadata": {},
   "outputs": [],
   "source": [
    "@override    \n",
    "@patch\n",
    "def configure_optimizers(self:HingeSupportVectorClassifier) -> OptimizerLRScheduler:\n",
    "    init_lr = self.hparams.learning_rate\n",
    "    # lmd = self.hparams.weight_decay / self.hparams.C \n",
    "    lmd = self.hparams.weight_decay # 需要考证，Leon Bottou的lamda 是什么情况下推导的。\n",
    "\n",
    "    \n",
    "    \n",
    "    if self.hparams.optimizer_type == torch.optim.ASGD:\n",
    "        optimizer = torch.optim.ASGD(self.parameters(), \n",
    "                                    lr=init_lr,  # 刚才 save_hyperparameters() 保存了，这是为了方便是使用 Lightning 调学习率\n",
    "                                    weight_decay = self.hparams.weight_decay, # 李航书上的 hinge loss的第一项\n",
    "                                    ) \n",
    "        scheduler = torch.optim.lr_scheduler.LambdaLR(optimizer,\n",
    "                lr_lambda=lambda epoch: init_lr / (1+ lmd*init_lr*epoch)**0.75)\n",
    "    elif self.hparams.optimizer_type == torch.optim.SGD:\n",
    "        optimizer = torch.optim.SGD(self.parameters(), \n",
    "                                    lr=init_lr,\n",
    "                                    weight_decay=self.hparams.weight_decay)\n",
    "        scheduler = torch.optim.lr_scheduler.LambdaLR(optimizer,\n",
    "                lr_lambda=lambda epoch: init_lr / (1+ lmd*init_lr*epoch))\n",
    "    else:\n",
    "        return self.hparams.optimizer_type(self.parameters(), lr=init_lr, weight_decay=self.hparams.weight_decay) # 只 return optimizer\n",
    "        \n",
    "    return ([optimizer], [scheduler])\n"
   ]
  },
  {
   "cell_type": "markdown",
   "metadata": {},
   "source": [
    "### 实现 SMO 版本的 Kernel SVM\n",
    "\n",
    "#### 需求分析与接口设计"
   ]
  },
  {
   "cell_type": "markdown",
   "metadata": {},
   "source": [
    "我们使用dataclass，要求传入函数的参数是强类型，而且有一个随机概率分布，这样方便后面定义调参。"
   ]
  },
  {
   "cell_type": "code",
   "execution_count": 9,
   "metadata": {},
   "outputs": [
    {
     "name": "stderr",
     "output_type": "stream",
     "text": [
      "/home/ye_canming/program_files/managers/conda/envs/yuequ/lib/python3.10/site-packages/tqdm/auto.py:21: TqdmWarning: IProgress not found. Please update jupyter and ipywidgets. See https://ipywidgets.readthedocs.io/en/stable/user_install.html\n",
      "  from .autonotebook import tqdm as notebook_tqdm\n"
     ]
    }
   ],
   "source": [
    "#| export\n",
    "from dataclasses import dataclass, field, MISSING, _MISSING_TYPE, fields\n",
    "from typing import List, Dict, Any, Type, Optional, Callable, Union\n",
    "from optuna.distributions import BaseDistribution, distribution_to_json, json_to_distribution\n",
    "\n",
    "rv_dataclass_metadata_key = \"thu_rv\"\n",
    "rv_missing_value = \"thu_rv_missing\"\n",
    "\n",
    "@dataclass\n",
    "class PythonField:\n",
    "    default:Any = rv_missing_value# The default value of the field\n",
    "    default_factory:Callable[[], Any] = rv_missing_value# A function to generate the default value of the field\n",
    "    init:bool=True\n",
    "    repr:bool=True\n",
    "    hash:Union[None, bool]=None\n",
    "    compare:bool=True\n",
    "    metadata:Union[Dict[str, Any], None]=None\n",
    "    # kw_only:Union[_MISSING_TYPE, bool]=MISSING\n",
    "    kw_only:Union[None, bool]=rv_missing_value\n",
    "    def __post_init__(self):\n",
    "        # print(self)\n",
    "        if self.default == rv_missing_value:\n",
    "            self.default = MISSING\n",
    "        if self.default_factory == rv_missing_value:\n",
    "            self.default_factory = MISSING\n",
    "        if self.kw_only == rv_missing_value:\n",
    "            self.kw_only = MISSING\n",
    "        # self.default = self.default or MISSING\n",
    "        # self.default_factory = self.default_factory or MISSING\n",
    "        # self.kw_only = self.kw_only or MISSING\n",
    "    def __call__(self, **kwargs: Any) -> Any:\n",
    "        if self.metadata is None:\n",
    "            # self.metadata = {**kwargs}\n",
    "            metadata = {**kwargs}\n",
    "        \n",
    "        return field(default=self.default, \n",
    "                     default_factory=self.default_factory, \n",
    "                     init=self.init, \n",
    "                     repr=self.repr, \n",
    "                     hash=self.hash, \n",
    "                     compare=self.compare, \n",
    "                     metadata=metadata, \n",
    "                     kw_only=self.kw_only)\n",
    "    def __invert__(self):\n",
    "        return self()\n",
    "\n",
    "@dataclass\n",
    "class RandomVariable(PythonField):\n",
    "    description: str = \"MISSING description. \"# The description of the field\n",
    "    distribution:BaseDistribution = \"MISSING distribution. \"# The distribution of the data\n",
    "    def __call__(self, **kwargs: Any) -> Any:\n",
    "        return super().__call__(description=self.description, distribution=self.distribution, \n",
    "                                **{rv_dataclass_metadata_key: self}, \n",
    "                                **kwargs)\n",
    "    def __invert__(self):\n",
    "        return self()"
   ]
  },
  {
   "cell_type": "code",
   "execution_count": 10,
   "metadata": {},
   "outputs": [],
   "source": [
    "# RandomVariable()()\n",
    "# RandomVariable()().metadata[rv_dataclass_metadata_key]\n",
    "# asdict(RandomVariable()().metadata[rv_dataclass_metadata_key])"
   ]
  },
  {
   "cell_type": "code",
   "execution_count": 11,
   "metadata": {},
   "outputs": [],
   "source": [
    "#| export \n",
    "from decorator import decorator\n",
    "from fastcore.basics import patch_to\n",
    "from dataclasses import asdict\n",
    "import pandas as pd\n",
    "from optuna import Trial\n",
    "\n",
    "def is_experiment_setting(cls):\n",
    "    for field in fields(cls):\n",
    "        if not isinstance(field.metadata.get(rv_dataclass_metadata_key, None), RandomVariable):\n",
    "           return False\n",
    "    return True\n",
    "        \n",
    "def show_dataframe_doc(cls):\n",
    "    results = []\n",
    "    for field in fields(cls):\n",
    "        rv = field.metadata.get(rv_dataclass_metadata_key, None)\n",
    "        if rv is None:\n",
    "            raise ValueError(\"Class decorated with @experiment_setting needs to use ~RandomVariable fields. \")\n",
    "        field_info = dict(name=field.name, type=field.type) | asdict(rv)\n",
    "        results.append(field_info)\n",
    "    return pd.DataFrame(results)\n",
    "\n",
    "\n",
    "def get_optuna_search_space(cls, frozen_rvs:set = None):\n",
    "    search_space = {}\n",
    "    for field in fields(cls):\n",
    "        field_name = field.name\n",
    "        if frozen_rvs is not None and field_name in frozen_rvs:\n",
    "            continue\n",
    "        rv = field.metadata.get(rv_dataclass_metadata_key, None)\n",
    "        if rv is None:\n",
    "            raise ValueError(\"Class decorated with @experiment_setting needs to use ~RandomVariable fields. \")\n",
    "        search_space[field_name] = rv.distribution\n",
    "    return search_space\n",
    "\n",
    "from copy import deepcopy\n",
    "def optuna_suggest(cls:Type, trial:Trial, fixed_meta_params, suggest_params_only_in: set = None):\n",
    "    suggested_params = deepcopy(fixed_meta_params)\n",
    "    if suggest_only_in is None:\n",
    "        suggest_only_in = set(field.name for field in fields(cls))\n",
    "    # fixed_meta_params is dataclass\n",
    "    if not isinstance(fixed_meta_params, cls):\n",
    "        raise ValueError(f\"fixed_meta_params should be an instance of the {cls.__name__} class.\")\n",
    "    for field in fields(cls):\n",
    "        if field.name not in suggest_only_in:\n",
    "            continue\n",
    "        rv = field.metadata.get(rv_dataclass_metadata_key, None)\n",
    "        if rv is None:\n",
    "            raise ValueError(\"Class decorated with @experiment_setting needs to use ~RandomVariable fields. \")\n",
    "        suggested_value = trial._suggest(field.name, rv.distribution)\n",
    "        setattr(suggested_params, field.name, suggested_value)\n",
    "    return suggested_params\n",
    "    \n",
    "\n",
    "\n",
    "@decorator\n",
    "def experiment_setting_decorator(dataclass_func, *args, **kwargs):\n",
    "    result_cls = dataclass_func(*args, **kwargs)\n",
    "    if not is_experiment_setting(result_cls):\n",
    "        raise ValueError(\"Class decorated with @experiment_setting needs to use ~RandomVariable fields. \")\n",
    "    patch_to(result_cls, cls_method=True)(show_dataframe_doc)\n",
    "    patch_to(result_cls, cls_method=True)(get_optuna_search_space)\n",
    "    patch_to(result_cls, cls_method=True)(optuna_suggest)\n",
    "    return result_cls\n",
    "\n",
    "experiment_setting = experiment_setting_decorator(dataclass)"
   ]
  },
  {
   "cell_type": "code",
   "execution_count": 12,
   "metadata": {},
   "outputs": [
    {
     "data": {
      "text/html": [
       "<div>\n",
       "<style scoped>\n",
       "    .dataframe tbody tr th:only-of-type {\n",
       "        vertical-align: middle;\n",
       "    }\n",
       "\n",
       "    .dataframe tbody tr th {\n",
       "        vertical-align: top;\n",
       "    }\n",
       "\n",
       "    .dataframe thead th {\n",
       "        text-align: right;\n",
       "    }\n",
       "</style>\n",
       "<table border=\"1\" class=\"dataframe\">\n",
       "  <thead>\n",
       "    <tr style=\"text-align: right;\">\n",
       "      <th></th>\n",
       "      <th>name</th>\n",
       "      <th>type</th>\n",
       "      <th>default</th>\n",
       "      <th>default_factory</th>\n",
       "      <th>init</th>\n",
       "      <th>repr</th>\n",
       "      <th>hash</th>\n",
       "      <th>compare</th>\n",
       "      <th>metadata</th>\n",
       "      <th>kw_only</th>\n",
       "      <th>description</th>\n",
       "      <th>distribution</th>\n",
       "    </tr>\n",
       "  </thead>\n",
       "  <tbody>\n",
       "    <tr>\n",
       "      <th>0</th>\n",
       "      <td>C</td>\n",
       "      <td>&lt;class 'float'&gt;</td>\n",
       "      <td>1.0</td>\n",
       "      <td>&lt;dataclasses._MISSING_TYPE object at 0x7fc3932...</td>\n",
       "      <td>True</td>\n",
       "      <td>True</td>\n",
       "      <td>None</td>\n",
       "      <td>True</td>\n",
       "      <td>None</td>\n",
       "      <td>&lt;dataclasses._MISSING_TYPE object at 0x7fc3932...</td>\n",
       "      <td>Regularization parameter. The strength of the ...</td>\n",
       "      <td>FloatDistribution(high=100.0, log=True, low=1e...</td>\n",
       "    </tr>\n",
       "  </tbody>\n",
       "</table>\n",
       "</div>"
      ],
      "text/plain": [
       "  name             type default  \\\n",
       "0    C  <class 'float'>     1.0   \n",
       "\n",
       "                                     default_factory  init  repr  hash  \\\n",
       "0  <dataclasses._MISSING_TYPE object at 0x7fc3932...  True  True  None   \n",
       "\n",
       "   compare metadata                                            kw_only  \\\n",
       "0     True     None  <dataclasses._MISSING_TYPE object at 0x7fc3932...   \n",
       "\n",
       "                                         description  \\\n",
       "0  Regularization parameter. The strength of the ...   \n",
       "\n",
       "                                        distribution  \n",
       "0  FloatDistribution(high=100.0, log=True, low=1e...  "
      ]
     },
     "execution_count": 12,
     "metadata": {},
     "output_type": "execute_result"
    }
   ],
   "source": [
    "#| export \n",
    "from optuna.distributions import IntDistribution, FloatDistribution, CategoricalDistribution\n",
    "from typing import Optional, Union\n",
    "from pydantic import BaseModel\n",
    "@experiment_setting\n",
    "class SupportVectorClassifierConfig:\n",
    "    # 惩罚系数 C\n",
    "    C: float = ~RandomVariable(\n",
    "        default=1.0,\n",
    "        description=\"Regularization parameter. The strength of the regularization is inversely proportional to C.\",\n",
    "        distribution=FloatDistribution(1e-5, 1e2, log=True)\n",
    "    )\n",
    "    \n",
    "    # 核函数类型\n",
    "    kernel: str = ~RandomVariable(\n",
    "        default=\"rbf\",\n",
    "        description=\"Kernel type to be used in the algorithm.\",\n",
    "        distribution=CategoricalDistribution(choices=[\"linear\", \"poly\", \"rbf\", \"sigmoid\", \"precomputed\"])\n",
    "    )\n",
    "    \n",
    "    # 多项式核函数的度数\n",
    "    degree: int = ~RandomVariable(\n",
    "        default=3,\n",
    "        description=\"Degree of the polynomial kernel function ('poly').\",\n",
    "        distribution=IntDistribution(1, 10, log=False)\n",
    "    )\n",
    "    \n",
    "    # 核函数系数 gamma\n",
    "    gamma: Union[str, float] = ~RandomVariable(\n",
    "        default=\"scale\",\n",
    "        description=\"Kernel coefficient for 'rbf', 'poly' and 'sigmoid'.\",\n",
    "        distribution=CategoricalDistribution(choices=[\"scale\", \"auto\"])  # 可以添加浮点数分布视需求\n",
    "    )\n",
    "    \n",
    "    # 核函数独立项 coef0\n",
    "    coef0: float = ~RandomVariable(\n",
    "        default=0.0,\n",
    "        description=\"Independent term in kernel function. It is significant in 'poly' and 'sigmoid'.\",\n",
    "        distribution=FloatDistribution(0, 1)\n",
    "    )\n",
    "    \n",
    "    # 收缩启发式算法\n",
    "    shrinking: bool = ~RandomVariable(\n",
    "        default=True,\n",
    "        description=\"Whether to use the shrinking heuristic.\",\n",
    "        distribution=CategoricalDistribution(choices=[True, False])\n",
    "    )\n",
    "    \n",
    "    # 是否启用概率估计\n",
    "    probability: bool = ~RandomVariable(\n",
    "        default=False,\n",
    "        description=\"Whether to enable probability estimates. Slows down fit when enabled.\",\n",
    "        distribution=CategoricalDistribution(choices=[True, False])\n",
    "    )\n",
    "    \n",
    "    # 停止准则的容差 tol\n",
    "    tol: float = ~RandomVariable(\n",
    "        default=1e-3,\n",
    "        description=\"Tolerance for stopping criterion.\",\n",
    "        distribution=FloatDistribution(1e-6, 1e-1, log=True)\n",
    "    )\n",
    "    \n",
    "    # 内核缓存的大小（MB）\n",
    "    cache_size: float = ~RandomVariable(\n",
    "        default=200,\n",
    "        description=\"Specify the size of the kernel cache (in MB).\",\n",
    "        distribution=FloatDistribution(50, 500, log=False)\n",
    "    )\n",
    "    \n",
    "    # 类别权重 class_weight\n",
    "    class_weight: Optional[Union[dict, str]] = ~RandomVariable(\n",
    "        default=None,\n",
    "        description=\"Set C of class i to class_weight[i]*C or use 'balanced' to adjust weights inversely to class frequencies.\",\n",
    "        distribution=CategoricalDistribution(choices=[None, \"balanced\"])\n",
    "    )\n",
    "    \n",
    "    # 是否启用详细输出\n",
    "    verbose: bool = ~RandomVariable(\n",
    "        default=False,\n",
    "        description=\"Enable verbose output (may not work properly in a multithreaded context).\",\n",
    "        distribution=CategoricalDistribution(choices=[True, False])\n",
    "    )\n",
    "    \n",
    "    # 最大迭代次数\n",
    "    max_iter: int = ~RandomVariable(\n",
    "        default=-1,\n",
    "        description=\"Hard limit on iterations within solver, or -1 for no limit.\",\n",
    "        distribution=IntDistribution(-1, 1000, log=False)\n",
    "    )\n",
    "    \n",
    "    # 决策函数形状\n",
    "    decision_function_shape: str = ~RandomVariable(\n",
    "        default=\"ovr\",\n",
    "        description=\"Whether to return a one-vs-rest ('ovr') decision function or original one-vs-one ('ovo').\",\n",
    "        distribution=CategoricalDistribution(choices=[\"ovo\", \"ovr\"])\n",
    "    )\n",
    "    \n",
    "    # 是否打破决策函数平局\n",
    "    break_ties: bool = ~RandomVariable(\n",
    "        default=False,\n",
    "        description=\"If True, break ties according to the confidence values of decision_function when decision_function_shape='ovr'.\",\n",
    "        distribution=CategoricalDistribution(choices=[True, False])\n",
    "    )\n",
    "    \n",
    "    # 随机种子 random_state\n",
    "    random_state: Optional[int] = ~RandomVariable(\n",
    "        default=None,\n",
    "        description=\"Controls random number generation for probability estimates. Ignored when probability=False.\",\n",
    "        distribution=IntDistribution(0, 100)  # 根据需求设置范围\n",
    "    )\n",
    "# show_dataframe_doc(SupportVectorClassifierConfig)[:1]\n",
    "SupportVectorClassifierConfig.show_dataframe_doc()[:1]\n",
    "# SupportVectorClassifierConfig.get_optuna_search_space(frozen_rvs={\"verbose\", \"cache_size\", \"random_state\"})"
   ]
  },
  {
   "cell_type": "code",
   "execution_count": null,
   "metadata": {},
   "outputs": [
    {
     "name": "stdout",
     "output_type": "stream",
     "text": [
      "Object `BaseSVC` not found.\n"
     ]
    }
   ],
   "source": [
    "# nbdev.show_doc(SupportVectorClassifierConfig)\n",
    "# SVC?\n",
    "from sklearn import BaseSVC\n",
    "BaseSVC?\n"
   ]
  },
  {
   "cell_type": "code",
   "execution_count": null,
   "metadata": {},
   "outputs": [],
   "source": [
    "#| export \n",
    "from fastcore.all import patch, store_attr\n",
    "class SupportVectorClassifier:\n",
    "    \"\"\"自己实现的支持向量机分类器。需要支持多分类。\n",
    "    \"\"\"\n",
    "    def __init__(self, config:SupportVectorClassifierConfig):\n",
    "        store_attr()\n",
    "        "
   ]
  },
  {
   "cell_type": "markdown",
   "metadata": {},
   "source": [
    "### 自己实现SVM算法"
   ]
  },
  {
   "cell_type": "code",
   "execution_count": null,
   "metadata": {},
   "outputs": [],
   "source": [
    "#| export\n",
    "\n",
    "# 定义KD树节点类\n",
    "class Node:\n",
    "    def __init__(self, data, left=None, right=None):\n",
    "        self.data = data #节点本身的数据\n",
    "        self.left = left #节点的左子树\n",
    "        self.right = right #节点右子树\n",
    "\n",
    "# 递归方法构建KD树\n",
    "\n",
    "def build_kd_tree(X, depth=0):\n",
    "    if len(X) == 0:\n",
    "        return None\n",
    "    k = X.shape[1]\n",
    "    axis = depth % k #根据当前深度，选择划分的维度\n",
    "    X = X[X[:, axis].argsort()]\n",
    "    median = X.shape[0] // 2 #将当前结点数据一分为二\n",
    "    return Node(data=X[median], left=build_kd_tree(X[:median], depth + 1), right=build_kd_tree(X[median + 1:], depth + 1))\n",
    "\n",
    "# 计算点之间的距离，这里使用欧几里得距离\n",
    "def euclidean_distance(x1, x2):\n",
    "    return np.sqrt(np.sum((x1 - x2) ** 2))"
   ]
  },
  {
   "cell_type": "code",
   "execution_count": null,
   "metadata": {},
   "outputs": [],
   "source": [
    "#| export\n",
    "from queue import PriorityQueue"
   ]
  },
  {
   "cell_type": "code",
   "execution_count": null,
   "metadata": {},
   "outputs": [
    {
     "name": "stdout",
     "output_type": "stream",
     "text": [
      "(-13.30413469565007, 1.2)\n",
      "(0, <__main__.TestNode object>)\n"
     ]
    }
   ],
   "source": [
    "# 这里我们需要注意使用PriorityQueue的一个坑点，same priority 下 会崩溃； PriorityQueue文档没写，heapq写了\n",
    "# https://docs.python.org/3/library/heapq.html\n",
    "class TestNode:\n",
    "    def __init__(self, point):\n",
    "        self.point = point\n",
    "\n",
    "\n",
    "test1 = [\n",
    "    (-13.30413469565007, 1.2),\n",
    "    (-9.327379053088816, 0.0),\n",
    "    (-13.30413469565007, 1.4),\n",
    "]\n",
    "test2 = [\n",
    "    (-13.30413469565007, TestNode(1.2)),\n",
    "    (-9.327379053088816, TestNode(0.0)),\n",
    "    (-13.30413469565007, TestNode(1.4)),\n",
    "]\n",
    "\n",
    "test3 = [\n",
    "    (0, TestNode(1.2)),\n",
    "    (1, TestNode(0.0)),\n",
    "    (2, TestNode(1.4)),\n",
    "]\n",
    "\n",
    "test_pq = PriorityQueue()\n",
    "for t in test1:\n",
    "    test_pq.put(t)\n",
    "print(test_pq.get())\n",
    "test_pq = PriorityQueue()\n",
    "for t in test3:\n",
    "    test_pq.put(t)\n",
    "print(test_pq.get())\n",
    "# 注意这种情况下报错\n",
    "# for t in test2:\n",
    "#     test_pq.put(t)\n",
    "# print(test_pq.get())"
   ]
  },
  {
   "cell_type": "code",
   "execution_count": null,
   "metadata": {},
   "outputs": [],
   "source": [
    "#| export\n",
    "# 搜索KD树\n",
    "def search_kd_tree(tree, target, k=3):\n",
    "    if tree is None:\n",
    "        return []\n",
    "    # k_nearest = [] #list用于储存target当前遍历到的k个k近邻\n",
    "    # 我们使用优先队列来储存k_nearest，从而提高效率，优先队列中的元素为(-距离, 节点)的元组，距离远的先取出来\n",
    "    # k_nearest_pq = PriorityQueue(maxsize=k)\n",
    "    k_nearest_pq = PriorityQueue()\n",
    "    entry_count = 0\n",
    "    stack = [(tree, 0)] #用于储存待遍历节点的stack\n",
    "    while stack:\n",
    "        node, depth = stack.pop() # 节点出栈\n",
    "        if node is None:\n",
    "            continue\n",
    "        # print(\" \"*4*depth + f\"node: {node.data}, depth: {depth}\")\n",
    "        distance = euclidean_distance(target, node.data) #计算需要分类的目标点与节点的距离\n",
    "        \n",
    "        # 调换到前面\n",
    "        axis = depth % target.shape[0] #计算当前深度对应的划分维度\n",
    "        axis_diff = target[axis] - node.data[axis] #计算该维度下目标点与当前节点的差\n",
    "        \n",
    "        #如果k_nearest未装满或k_nearest中相距目标点最远的点与目标点的距离大于axis_diff的绝对值时，则另一边的子树也入栈\n",
    "        can_omit_another_side = True\n",
    "        # if len(k_nearest) < k: # 当k_nearest未装满时，直接将节点放入\n",
    "        # if k_nearest.qsize() < k: # 当k_nearest未装满时，直接将节点放入\n",
    "        if k_nearest_pq.qsize() < k: # 当k_nearest未装满时，直接将节点放入\n",
    "        # if not k_nearest_pq.full(): # 当k_nearest未装满时，直接将节点放入\n",
    "            # print(f\"not full, put {(-distance, node)}\")\n",
    "            pass #BLANK_1\n",
    "            # k_nearest.append((node, distance))\n",
    "            k_nearest_pq.put((-distance, entry_count, node))\n",
    "            entry_count+=1\n",
    "            can_omit_another_side = False\n",
    "        else: #当k_nearest装满时，对比该节点与k_nearest中与目标点距离最远的节点的距离，如果小于则替换，如果大于则不替换\n",
    "            pass #BLANK_2\n",
    "            farthest = k_nearest_pq.get()\n",
    "            farthest_distance = -farthest[0]\n",
    "            # print(f\"full, farthest: {farthest}\")\n",
    "            if distance < farthest_distance:\n",
    "                # print(f\"closer, put {(-distance, node)}\")\n",
    "                # assert isinstance(distance, float)\n",
    "                # print(k_nearest_pq.queue)\n",
    "                k_nearest_pq.put((-distance, entry_count, node))\n",
    "                entry_count+=1\n",
    "            else:\n",
    "                k_nearest_pq.put(farthest)\n",
    "            \n",
    "\n",
    "            if farthest_distance > abs(axis_diff): \n",
    "                can_omit_another_side = False\n",
    "        \n",
    "        if axis_diff <= 0: #当差小于0时则，该节点的左子树入栈 #如果k_nearest未装满或k_nearest中相距目标点最远的点与目标点的距离大于axis_diff的绝对值时，则右子树也入栈\n",
    "            pass #BLANK_3\n",
    "            stack.append((node.left, depth+1))\n",
    "            if not can_omit_another_side:\n",
    "                stack.append((node.right, depth+1))\n",
    "        else:#当差大于0时则，该节点的右子树入栈，#如果k_nearest未装满或k_nearest中相距目标点最远的点与目标点的距离大于axis_diff的绝对值时，则左子树也入栈\n",
    "            pass #BLANK_4\n",
    "            stack.append((node.right, depth+1))\n",
    "            if not can_omit_another_side:\n",
    "                stack.append((node.left, depth+1))\n",
    "    # return [data for data, _ in k_nearest] #返回遍历完的kd树后的k_nearest\n",
    "    # return [data for _, data in k_nearest] #返回遍历完的kd树后的k_nearest\n",
    "    return [k_nearest_pq.get()[-1].data for i in range(k_nearest_pq.qsize())] #返回遍历完的kd树后的k_nearest\n",
    "\n",
    "# 使用KNN算法分类\n",
    "def knn_classifier(X_train, y_train, X_test, k=3):\n",
    "    y_pred = []\n",
    "    for i, test_point in enumerate(X_test):\n",
    "        k_nearest = search_kd_tree(kd_tree, test_point, k)\n",
    "        # print(k_nearest)\n",
    "        # print(i)\n",
    "        labels = [y_train[np.where((X_train == point).all(axis=1))[0][0]] for point in k_nearest]\n",
    "        counts = np.bincount(labels)#计算k_nearest中样本最多的标签，预测目标样本为该标签\n",
    "        y_pred.append(np.argmax(counts))\n",
    "    return y_pred\n"
   ]
  },
  {
   "cell_type": "code",
   "execution_count": null,
   "metadata": {},
   "outputs": [],
   "source": [
    "# 构建KD树\n",
    "kd_tree = build_kd_tree(X_train)"
   ]
  },
  {
   "cell_type": "code",
   "execution_count": null,
   "metadata": {},
   "outputs": [
    {
     "name": "stdout",
     "output_type": "stream",
     "text": [
      "KNN Accuracy: 98.61%\n"
     ]
    }
   ],
   "source": [
    "# 使用KNN算法进行分类\n",
    "k_neighbors = 3\n",
    "y_pred = knn_classifier(X_train, y_train, X_test, k_neighbors)\n",
    "\n",
    "# 评估分类性能\n",
    "accuracy = accuracy_score(y_test, y_pred)\n",
    "print(f\"KNN Accuracy: {accuracy * 100:.2f}%\")"
   ]
  },
  {
   "cell_type": "markdown",
   "metadata": {},
   "source": [
    "### 超参数调优"
   ]
  },
  {
   "cell_type": "markdown",
   "metadata": {},
   "source": [
    "实验题目要求我们对 knn 进⾏超参数的搜索。那么什么是超参数搜索呢？为此我们需要理解两个概念——超参数和搜索。\n",
    "\n",
    "#### 什么是参数？什么是超参数？什么是元参数？\n",
    "\n",
    "在大数据分析中，我们往往不知道数据的总体，只能获得数据的一个采样。然而我们对数据的总体是什么分布非常感兴趣，这些未知的分布，我们假设可能是由一些参数来决定的，我们需要根据采样出来的数据对总体的参数进行参数估计（Parameter Estimation）。比如说总体是高斯分布，那么高斯分布的均值和方差就是参数。\n",
    "\n",
    "刚才我们说了参数是什么，那么什么是超参数呢？参数估计我们通常会用极大似然估计方法，但是相比于贝叶斯参数估计来说有一定的局限性。在贝叶斯机器学习中，我们认为参数本身也是有一个概率分布的，而不是确定的值，而描述参数分布的参数，我们称之为超参数。当然，我们可以认为超参数也有其分布，那么就有对应的超超参数，这种多层嵌套的结构称为贝叶斯网络。\n",
    "\n",
    "对应到机器学习和深度学习中，参数是指参数化模型的权重。但是我们没有在使用贝叶斯估计，并没有说这些模型权重具有一定的分布，那么超参数是怎么一回事呢？事实上，根据谷歌团队提出的《深度学习调优指南》[@tuningplaybookgithub]，深度学习社区错误地把学习率、批处理大小、正则化系数等参数叫做超参数，这是错误的。他们确实决定了模型的假设空间的不同，决定了最终的性能，而且在模型训练过程中不发生变化，而是决定了训练过程，但是他们本身并不是先验分布的参数，严格来说不应该叫做超参数，应该叫做元参数。\n",
    "\n",
    "#### 什么是搜索？\n",
    "\n",
    "搜索是人工智能中的重要的方法[@Russell_Norvig_2016]。搜索包括约束可满足问题和最优化问题，以及带有约束的优化问题。\n",
    "这里我们说的超参数优化，一般来说是带有约束的优化问题。\n",
    "其中约束是指，有些超参数组合如果错误地选择，会导致机器学习系统崩溃，或者算法无法收敛。\n",
    "\n",
    "然而这些约束我们很可能是不知道的，需要调参算法本身尝试。\n",
    "有时候我们发现的约束可能暗示着代码存在错误，或者深度学习模型本身的优化过程不够稳定，如果是后者，可以通过Gradient Clip, 降低学习率等方法来缓解。"
   ]
  },
  {
   "cell_type": "markdown",
   "metadata": {},
   "source": [
    "#### KNN和KD树有哪些元参数？\n",
    "上文我们辨析了KNN和KD树的关系，即是否选用KD树作为KNN的近邻搜索算法，本身是KNN的一个元参数，KNN也可以选择Ball Tree、Brute Force等其他近邻搜索算法。\n",
    "\n",
    "KD树本身也有一些元参数，比如分割方式、节点的选择方式等，这些元参数会影响KD树的构建和搜索的系统性能（时间复杂度、空间复杂度），但是不会影响到机器学习的性能（分类准确率、ROC-AUC等指标）。因为不影响机器学习的性能，在本节我们不讨论KD树的元参数如何调优。我们会在下一节，附加题中，讨论不同的KD树构建方式对搜索速度的影响。\n",
    "\n",
    "那么KNN作为一个机器学习算法，有哪些元参数需要调优呢？参考sklearn的KNeighborsClassifier类的参数说明，我们可以看到以下参数"
   ]
  },
  {
   "cell_type": "code",
   "execution_count": null,
   "metadata": {},
   "outputs": [
    {
     "name": "stdout",
     "output_type": "stream",
     "text": [
      "\u001b[0;31mInit signature:\u001b[0m\n",
      "\u001b[0mKNeighborsClassifier\u001b[0m\u001b[0;34m(\u001b[0m\u001b[0;34m\u001b[0m\n",
      "\u001b[0;34m\u001b[0m    \u001b[0mn_neighbors\u001b[0m\u001b[0;34m=\u001b[0m\u001b[0;36m5\u001b[0m\u001b[0;34m,\u001b[0m\u001b[0;34m\u001b[0m\n",
      "\u001b[0;34m\u001b[0m    \u001b[0;34m*\u001b[0m\u001b[0;34m,\u001b[0m\u001b[0;34m\u001b[0m\n",
      "\u001b[0;34m\u001b[0m    \u001b[0mweights\u001b[0m\u001b[0;34m=\u001b[0m\u001b[0;34m'uniform'\u001b[0m\u001b[0;34m,\u001b[0m\u001b[0;34m\u001b[0m\n",
      "\u001b[0;34m\u001b[0m    \u001b[0malgorithm\u001b[0m\u001b[0;34m=\u001b[0m\u001b[0;34m'auto'\u001b[0m\u001b[0;34m,\u001b[0m\u001b[0;34m\u001b[0m\n",
      "\u001b[0;34m\u001b[0m    \u001b[0mleaf_size\u001b[0m\u001b[0;34m=\u001b[0m\u001b[0;36m30\u001b[0m\u001b[0;34m,\u001b[0m\u001b[0;34m\u001b[0m\n",
      "\u001b[0;34m\u001b[0m    \u001b[0mp\u001b[0m\u001b[0;34m=\u001b[0m\u001b[0;36m2\u001b[0m\u001b[0;34m,\u001b[0m\u001b[0;34m\u001b[0m\n",
      "\u001b[0;34m\u001b[0m    \u001b[0mmetric\u001b[0m\u001b[0;34m=\u001b[0m\u001b[0;34m'minkowski'\u001b[0m\u001b[0;34m,\u001b[0m\u001b[0;34m\u001b[0m\n",
      "\u001b[0;34m\u001b[0m    \u001b[0mmetric_params\u001b[0m\u001b[0;34m=\u001b[0m\u001b[0;32mNone\u001b[0m\u001b[0;34m,\u001b[0m\u001b[0;34m\u001b[0m\n",
      "\u001b[0;34m\u001b[0m    \u001b[0mn_jobs\u001b[0m\u001b[0;34m=\u001b[0m\u001b[0;32mNone\u001b[0m\u001b[0;34m,\u001b[0m\u001b[0;34m\u001b[0m\n",
      "\u001b[0;34m\u001b[0m\u001b[0;34m)\u001b[0m\u001b[0;34m\u001b[0m\u001b[0;34m\u001b[0m\u001b[0m\n",
      "\u001b[0;31mDocstring:\u001b[0m     \n",
      "Classifier implementing the k-nearest neighbors vote.\n",
      "\n",
      "Read more in the :ref:`User Guide <classification>`.\n",
      "\n",
      "Parameters\n",
      "----------\n",
      "n_neighbors : int, default=5\n",
      "    Number of neighbors to use by default for :meth:`kneighbors` queries.\n",
      "\n",
      "weights : {'uniform', 'distance'}, callable or None, default='uniform'\n",
      "    Weight function used in prediction.  Possible values:\n",
      "\n",
      "    - 'uniform' : uniform weights.  All points in each neighborhood\n",
      "      are weighted equally.\n",
      "    - 'distance' : weight points by the inverse of their distance.\n",
      "      in this case, closer neighbors of a query point will have a\n",
      "      greater influence than neighbors which are further away.\n",
      "    - [callable] : a user-defined function which accepts an\n",
      "      array of distances, and returns an array of the same shape\n",
      "      containing the weights.\n",
      "\n",
      "    Refer to the example entitled\n",
      "    :ref:`sphx_glr_auto_examples_neighbors_plot_classification.py`\n",
      "    showing the impact of the `weights` parameter on the decision\n",
      "    boundary.\n",
      "\n",
      "algorithm : {'auto', 'ball_tree', 'kd_tree', 'brute'}, default='auto'\n",
      "    Algorithm used to compute the nearest neighbors:\n",
      "\n",
      "    - 'ball_tree' will use :class:`BallTree`\n",
      "    - 'kd_tree' will use :class:`KDTree`\n",
      "    - 'brute' will use a brute-force search.\n",
      "    - 'auto' will attempt to decide the most appropriate algorithm\n",
      "      based on the values passed to :meth:`fit` method.\n",
      "\n",
      "    Note: fitting on sparse input will override the setting of\n",
      "    this parameter, using brute force.\n",
      "\n",
      "leaf_size : int, default=30\n",
      "    Leaf size passed to BallTree or KDTree.  This can affect the\n",
      "    speed of the construction and query, as well as the memory\n",
      "    required to store the tree.  The optimal value depends on the\n",
      "    nature of the problem.\n",
      "\n",
      "p : float, default=2\n",
      "    Power parameter for the Minkowski metric. When p = 1, this is equivalent\n",
      "    to using manhattan_distance (l1), and euclidean_distance (l2) for p = 2.\n",
      "    For arbitrary p, minkowski_distance (l_p) is used. This parameter is expected\n",
      "    to be positive.\n",
      "\n",
      "metric : str or callable, default='minkowski'\n",
      "    Metric to use for distance computation. Default is \"minkowski\", which\n",
      "    results in the standard Euclidean distance when p = 2. See the\n",
      "    documentation of `scipy.spatial.distance\n",
      "    <https://docs.scipy.org/doc/scipy/reference/spatial.distance.html>`_ and\n",
      "    the metrics listed in\n",
      "    :class:`~sklearn.metrics.pairwise.distance_metrics` for valid metric\n",
      "    values.\n",
      "\n",
      "    If metric is \"precomputed\", X is assumed to be a distance matrix and\n",
      "    must be square during fit. X may be a :term:`sparse graph`, in which\n",
      "    case only \"nonzero\" elements may be considered neighbors.\n",
      "\n",
      "    If metric is a callable function, it takes two arrays representing 1D\n",
      "    vectors as inputs and must return one value indicating the distance\n",
      "    between those vectors. This works for Scipy's metrics, but is less\n",
      "    efficient than passing the metric name as a string.\n",
      "\n",
      "metric_params : dict, default=None\n",
      "    Additional keyword arguments for the metric function.\n",
      "\n",
      "n_jobs : int, default=None\n",
      "    The number of parallel jobs to run for neighbors search.\n",
      "    ``None`` means 1 unless in a :obj:`joblib.parallel_backend` context.\n",
      "    ``-1`` means using all processors. See :term:`Glossary <n_jobs>`\n",
      "    for more details.\n",
      "    Doesn't affect :meth:`fit` method.\n",
      "\n",
      "Attributes\n",
      "----------\n",
      "classes_ : array of shape (n_classes,)\n",
      "    Class labels known to the classifier\n",
      "\n",
      "effective_metric_ : str or callble\n",
      "    The distance metric used. It will be same as the `metric` parameter\n",
      "    or a synonym of it, e.g. 'euclidean' if the `metric` parameter set to\n",
      "    'minkowski' and `p` parameter set to 2.\n",
      "\n",
      "effective_metric_params_ : dict\n",
      "    Additional keyword arguments for the metric function. For most metrics\n",
      "    will be same with `metric_params` parameter, but may also contain the\n",
      "    `p` parameter value if the `effective_metric_` attribute is set to\n",
      "    'minkowski'.\n",
      "\n",
      "n_features_in_ : int\n",
      "    Number of features seen during :term:`fit`.\n",
      "\n",
      "    .. versionadded:: 0.24\n",
      "\n",
      "feature_names_in_ : ndarray of shape (`n_features_in_`,)\n",
      "    Names of features seen during :term:`fit`. Defined only when `X`\n",
      "    has feature names that are all strings.\n",
      "\n",
      "    .. versionadded:: 1.0\n",
      "\n",
      "n_samples_fit_ : int\n",
      "    Number of samples in the fitted data.\n",
      "\n",
      "outputs_2d_ : bool\n",
      "    False when `y`'s shape is (n_samples, ) or (n_samples, 1) during fit\n",
      "    otherwise True.\n",
      "\n",
      "See Also\n",
      "--------\n",
      "RadiusNeighborsClassifier: Classifier based on neighbors within a fixed radius.\n",
      "KNeighborsRegressor: Regression based on k-nearest neighbors.\n",
      "RadiusNeighborsRegressor: Regression based on neighbors within a fixed radius.\n",
      "NearestNeighbors: Unsupervised learner for implementing neighbor searches.\n",
      "\n",
      "Notes\n",
      "-----\n",
      "See :ref:`Nearest Neighbors <neighbors>` in the online documentation\n",
      "for a discussion of the choice of ``algorithm`` and ``leaf_size``.\n",
      "\n",
      ".. warning::\n",
      "\n",
      "   Regarding the Nearest Neighbors algorithms, if it is found that two\n",
      "   neighbors, neighbor `k+1` and `k`, have identical distances\n",
      "   but different labels, the results will depend on the ordering of the\n",
      "   training data.\n",
      "\n",
      "https://en.wikipedia.org/wiki/K-nearest_neighbor_algorithm\n",
      "\n",
      "Examples\n",
      "--------\n",
      ">>> X = [[0], [1], [2], [3]]\n",
      ">>> y = [0, 0, 1, 1]\n",
      ">>> from sklearn.neighbors import KNeighborsClassifier\n",
      ">>> neigh = KNeighborsClassifier(n_neighbors=3)\n",
      ">>> neigh.fit(X, y)\n",
      "KNeighborsClassifier(...)\n",
      ">>> print(neigh.predict([[1.1]]))\n",
      "[0]\n",
      ">>> print(neigh.predict_proba([[0.9]]))\n",
      "[[0.666... 0.333...]]\n",
      "\u001b[0;31mFile:\u001b[0m           ~/program_files/managers/conda/envs/hf_ai/lib/python3.10/site-packages/sklearn/neighbors/_classification.py\n",
      "\u001b[0;31mType:\u001b[0m           ABCMeta\n",
      "\u001b[0;31mSubclasses:\u001b[0m     "
     ]
    }
   ],
   "source": [
    "# help(KNeighborsClassifier)\n",
    "# 使用 ipython的 ? 可以更好地看到 函数和类的docstring信息。\n",
    "KNeighborsClassifier?"
   ]
  },
  {
   "cell_type": "markdown",
   "metadata": {},
   "source": [
    "其中这几个参数是和分类准确率有关的\n",
    "- `n_neighbors`, 也就是k\n",
    "- `weights`，检索出来的k个点用来决策，这些点一样重要吗？\n",
    "  - 我们李航书学的基础版本是uniform，而distance方法不一样在于\n",
    "  - 每一个点的投票权是距离的-1次方。（哈哈为什么不是像万有引力那样是-2次方）\n",
    "- `p`和`metric`和`metric_params`, 要怎么计算距离？\n",
    "\n",
    "而 `algorithm` `leaf_size` `n_jobs` 三个参数暂时和我们无关。"
   ]
  },
  {
   "cell_type": "code",
   "execution_count": null,
   "metadata": {},
   "outputs": [
    {
     "data": {
      "text/plain": [
       "dict_keys(['cityblock', 'cosine', 'euclidean', 'haversine', 'l2', 'l1', 'manhattan', 'precomputed', 'nan_euclidean'])"
      ]
     },
     "execution_count": null,
     "metadata": {},
     "output_type": "execute_result"
    }
   ],
   "source": [
    "from sklearn.metrics.pairwise import distance_metrics\n",
    "distance_metrics().keys()"
   ]
  },
  {
   "cell_type": "markdown",
   "metadata": {},
   "source": [
    "#### 具体要怎么调参呢？\n",
    "\n",
    "如果我们就把调参问题当做搜索问题，那么它就是一个无梯度黑盒最优化问题。对于这类问题，最平凡（trivial）的搜索方法是全盘遍历（grid search），然而当搜索空间太大的时候，这就不是很高效了。一些基础的改进是贪心算法和随机化搜索方法，比如爬山法、随机采样法、模拟退火法等[@Russell_Norvig_2016]。而要想得到最先进（SOTA）的性能，演化计算和贝叶斯优化是两个最好的方法，也是目前人工智能仍然活跃的科研方向[@Russell_Norvig_2016]。\n",
    "\n",
    "然而调参问题并不完全是搜索问题。Google的《深度学习调优指南》[@tuningplaybookgithub]指出，调参是一个“探索与利用”（exploration and exploitation）的过程。我的理解是，在我们做深度学习研究的时候，我们其实更想知道，我们的方法对于那些超参数敏感，在其他方法也调到最优超参的情况下我的方法是否仍然显著优于其他方法，而不只是说我的方法在单单一个超参数上优于其他方法（选择“我的方法”还是“其他近期SOTA方法”就是一个离散型目标元参数）。因此，我们需要在调参的过程中理解不同的参数对于结果的影响。这其实也是作为科学家和研究者我们做科学实验的过程。调参的实质不是乱试，而是“控制变量”，参数就是自变量和无关变量，评价指标就是因变量。不过，与我们高中生物课学习的“控制变量法”稍有不同，无关变量不一定是控制相等，在计算资源充足时，无关变量应该控制到最优，所以这里有优化问题。\n",
    "\n",
    "对于具体的调参算法和代码而言，我们当然可以用sklearn默认提供的GridSearchCV、RandomizedSearchCV等方法，我猜做这个作业的大部分同学用的是这两个。但是刚才我们也说了，GridSearch代价太高，而RandomizedSearchCV以及贝叶斯优化、演化计算忙于“利用”，而没有进行单一变量原则，无法通过科学实验“探索”出我们想获得的insight。根据Google的建议，在探索阶段最适合的算法其实是准随机搜索算法（quasi random search）。\n",
    "\n",
    "因此，我们遵循google指南，使用Optuna+Ray Tune中的Quasi Random Search实现来进行调参。\n",
    "\n",
    "\n",
    "此外，我还实现了一个“学生实验算法”，这个算法从优化上来说是一种交替优化（alternating optimization）或者叫做多阶段优化（multi-stage optimization）的方法，即先固定一个超参数，然后在这个超参数下进行优化，再固定另一个超参数，再进行优化，以此类推，直到所有超参数都优化完毕。这个算法的好处是遵循了单一变量原则和无关变量控制相等原则，可以探索出很多结论。我把这个算法写成了一个pypi库，可见[github连接](https://github.com/2catycm/CosmicSelection.git)。\n",
    "\n",
    "\n",
    "在这里我们也做一个科学实验，实验假设是在其他参数最优时，使用\"distance\"的KNN比普通的\"uniform\"KNN的效果好。\n",
    "这样我们有一个研究的目标，相当于我们扮演那个提出\"distance\"方法的科学家，要和其他人的方法做比较才能发论文。"
   ]
  },
  {
   "cell_type": "markdown",
   "metadata": {},
   "source": [
    "#### 代码实现调优\n",
    "\n",
    "首先我们需要定义KNN元参数的分布空间"
   ]
  },
  {
   "cell_type": "code",
   "execution_count": null,
   "metadata": {},
   "outputs": [],
   "source": [
    "#| export\n",
    "from sklearn.metrics.pairwise import distance_metrics\n",
    "from ray import train, tune\n",
    "# https://docs.ray.io/en/latest/tune/tutorials/tune-search-spaces.html\n",
    "search_space = dict(\n",
    "    # weights = tune.grid_search([\"uniform\", \"distance\"]) \n",
    "    weights = tune.choice([\"uniform\", \"distance\"]) # 目标元参数， 我们的零假设是这两个distance不优于uniform，备择假设是distance更好。\n",
    "    ,n_neighbors = tune.randint(1, 20)  # 随机取整数。 TODO 我们还可以用左偏正态分布来建模这个参数的先验分布。\n",
    "    # ray tune也能处理条件分布，但是太复杂了，我们避免`p`参数依赖于`metric`参数生效的问题，我们换成choice来处理。\n",
    "    ,distance_metric = tune.choice([k for k in distance_metrics().keys() if k not in ['precomputed', 'haversine']]) # grid_search 是要求必须遍历的，而choice是随机选择。\n",
    ")"
   ]
  },
  {
   "cell_type": "markdown",
   "metadata": {},
   "source": [
    "然后我们定义评价函数"
   ]
  },
  {
   "cell_type": "code",
   "execution_count": null,
   "metadata": {},
   "outputs": [],
   "source": [
    "#| hide\n",
    "    # random_seed = tune.grid_search([0, 1, 2]) # 做三次实验，因为KNN还是有随机性的（主要是验证集的划分；距离一样的时候选了谁、投票平票的时候决定是哪个类别，这两个sklearn中是确定的）\n",
    "    # ,\n",
    "    \n",
    "    \n",
    "    # np.random.seed(random_state)\n",
    "    # indices = np.arange(X_train.shape[0])\n",
    "    # np.random.shuffle(indices)\n",
    "    # scores = cross_val_score(knn, X_train, y_train, cv=5, scoring='accuracy')"
   ]
  },
  {
   "cell_type": "code",
   "execution_count": null,
   "metadata": {},
   "outputs": [
    {
     "data": {
      "text/plain": [
       "[0.9826388888888888,\n",
       " 0.9861111111111112,\n",
       " 0.975609756097561,\n",
       " 0.975609756097561,\n",
       " 0.9930313588850174]"
      ]
     },
     "execution_count": null,
     "metadata": {},
     "output_type": "execute_result"
    }
   ],
   "source": [
    "#| export\n",
    "# from sklearn.model_selection import cross_val_score\n",
    "from sklearn.neighbors import KNeighborsClassifier\n",
    "from sklearn.model_selection import KFold\n",
    "def evaluate_knn(weights:str, n_neighbors:int, distance_metric:str, random_seed:int = 42):\n",
    "    knn = KNeighborsClassifier(n_neighbors=n_neighbors, weights=weights, metric=distance_metric)\n",
    "\n",
    "    # 使用k fold交叉验证，相当于做了5次独立实验。\n",
    "    kf = KFold(n_splits=5, shuffle=True, random_state=random_seed)\n",
    "    \n",
    "    # 初始化存储每次交叉验证的分数\n",
    "    scores = []\n",
    "    \n",
    "    # 进行5折交叉验证\n",
    "    for train_index, test_index in kf.split(X_train):\n",
    "        # 分割训练集和测试集\n",
    "        X_train_fold, X_test_fold = X_train[train_index], X_train[test_index]\n",
    "        y_train_fold, y_test_fold = y_train[train_index], y_train[test_index]\n",
    "        \n",
    "        # 创建KNN分类器实例\n",
    "        knn = KNeighborsClassifier(n_neighbors=n_neighbors, weights=weights, metric=distance_metric)\n",
    "        \n",
    "        # 训练模型\n",
    "        knn.fit(X_train_fold, y_train_fold)\n",
    "        \n",
    "        # 预测测试集\n",
    "        y_pred = knn.predict(X_test_fold)\n",
    "        \n",
    "        # 计算准确率\n",
    "        score = accuracy_score(y_test_fold, y_pred)\n",
    "        scores.append(score)\n",
    "    return scores\n",
    "# 测试下函数能不能跑\n",
    "evaluate_knn(random_seed=43, weights='uniform', n_neighbors=5, distance_metric='euclidean')"
   ]
  },
  {
   "cell_type": "code",
   "execution_count": null,
   "metadata": {},
   "outputs": [],
   "source": [
    "#| export\n",
    "# 符合optuna接口\n",
    "def objective(meta_parameters):\n",
    "    scores = evaluate_knn(**meta_parameters)\n",
    "    return dict(\n",
    "        mean_score=sum(scores)/len(scores),\n",
    "        std_score=np.std(scores),\n",
    "                )|{f\"score_{i}\":score for i,score in enumerate(scores)}"
   ]
  },
  {
   "cell_type": "markdown",
   "metadata": {},
   "source": [
    "接下来我们要定义使用的搜索算法。"
   ]
  },
  {
   "cell_type": "code",
   "execution_count": null,
   "metadata": {},
   "outputs": [
    {
     "name": "stderr",
     "output_type": "stream",
     "text": [
      "/tmp/ipykernel_2299020/1646428652.py:5: ExperimentalWarning: QMCSampler is experimental (supported from v3.0.0). The interface can change in the future.\n",
      "  sampler = QMCSampler()\n"
     ]
    }
   ],
   "source": [
    "from ray.tune.search import ConcurrencyLimiter\n",
    "from ray.tune.search.optuna import OptunaSearch\n",
    "from optuna.samplers import QMCSampler\n",
    "# quasi random search\n",
    "sampler = QMCSampler()\n",
    "algo = OptunaSearch(sampler=sampler)\n",
    "algo = ConcurrencyLimiter(algo, max_concurrent=4)"
   ]
  },
  {
   "cell_type": "markdown",
   "metadata": {},
   "source": [
    "```python\n",
    "tuner = tune.Tuner(\n",
    "    objective,\n",
    "    tune_config=tune.TuneConfig(\n",
    "        metric=\"mean_score\",\n",
    "        mode=\"max\",\n",
    "        num_samples=100,\n",
    "        # num_samples=3,\n",
    "        search_alg=algo,\n",
    "    ),\n",
    "    param_space=search_space,\n",
    ")\n",
    "results:tune.ResultGrid  = tuner.fit()\n",
    "```"
   ]
  },
  {
   "cell_type": "code",
   "execution_count": null,
   "metadata": {},
   "outputs": [],
   "source": [
    "#| hide\n",
    "#| eval: false\n",
    "# import pickle\n",
    "# with open(f\"{experiment_dir}/tuner.pkl\", \"rb\") as f:\n",
    "#     tuner = pickle.load(f)\n",
    "# tuner"
   ]
  },
  {
   "cell_type": "code",
   "execution_count": null,
   "metadata": {},
   "outputs": [],
   "source": [
    "experiment_dir = \"/home/ycm/ray_results/objective_2024-10-22_23-27-35\"\n",
    "# https://docs.ray.io/en/latest/tune/examples/tune_analyze_results.html\n",
    "restored_tuner = tune.Tuner.restore(experiment_dir, objective)\n",
    "results = restored_tuner.get_results()"
   ]
  },
  {
   "cell_type": "code",
   "execution_count": null,
   "metadata": {},
   "outputs": [
    {
     "data": {
      "text/plain": [
       "[]"
      ]
     },
     "execution_count": null,
     "metadata": {},
     "output_type": "execute_result"
    }
   ],
   "source": [
    "results.errors"
   ]
  },
  {
   "cell_type": "markdown",
   "metadata": {},
   "source": [
    "#### 调优结果分析"
   ]
  },
  {
   "cell_type": "code",
   "execution_count": null,
   "metadata": {},
   "outputs": [
    {
     "data": {
      "text/plain": [
       "({'mean_score': 0.9860796554394116,\n",
       "  'std_score': 0.003124647521844644,\n",
       "  'score_0': 0.9861111111111112,\n",
       "  'score_1': 0.9895833333333334,\n",
       "  'score_2': 0.9825783972125436,\n",
       "  'score_3': 0.9825783972125436,\n",
       "  'score_4': 0.9895470383275261},\n",
       " {'weights': 'distance', 'n_neighbors': 1, 'distance_metric': 'euclidean'})"
      ]
     },
     "execution_count": null,
     "metadata": {},
     "output_type": "execute_result"
    }
   ],
   "source": [
    "#| eval: false\n",
    "from ray.train import Result\n",
    "best_result:Result = results.get_best_result()\n",
    "{k:v for k,v in best_result.metrics.items() if \"score\" in k}, best_result.config"
   ]
  },
  {
   "cell_type": "code",
   "execution_count": null,
   "metadata": {},
   "outputs": [
    {
     "data": {
      "text/html": [
       "<div>\n",
       "<style scoped>\n",
       "    .dataframe tbody tr th:only-of-type {\n",
       "        vertical-align: middle;\n",
       "    }\n",
       "\n",
       "    .dataframe tbody tr th {\n",
       "        vertical-align: top;\n",
       "    }\n",
       "\n",
       "    .dataframe thead th {\n",
       "        text-align: right;\n",
       "    }\n",
       "</style>\n",
       "<table border=\"1\" class=\"dataframe\">\n",
       "  <thead>\n",
       "    <tr style=\"text-align: right;\">\n",
       "      <th></th>\n",
       "      <th>mean_score</th>\n",
       "      <th>std_score</th>\n",
       "      <th>score_0</th>\n",
       "      <th>score_1</th>\n",
       "      <th>score_2</th>\n",
       "      <th>score_3</th>\n",
       "      <th>score_4</th>\n",
       "      <th>timestamp</th>\n",
       "      <th>checkpoint_dir_name</th>\n",
       "      <th>done</th>\n",
       "      <th>...</th>\n",
       "      <th>time_total_s</th>\n",
       "      <th>pid</th>\n",
       "      <th>hostname</th>\n",
       "      <th>node_ip</th>\n",
       "      <th>time_since_restore</th>\n",
       "      <th>iterations_since_restore</th>\n",
       "      <th>config/weights</th>\n",
       "      <th>config/n_neighbors</th>\n",
       "      <th>config/distance_metric</th>\n",
       "      <th>logdir</th>\n",
       "    </tr>\n",
       "  </thead>\n",
       "  <tbody>\n",
       "    <tr>\n",
       "      <th>0</th>\n",
       "      <td>0.978421</td>\n",
       "      <td>0.008356</td>\n",
       "      <td>0.972222</td>\n",
       "      <td>0.993056</td>\n",
       "      <td>0.972125</td>\n",
       "      <td>0.972125</td>\n",
       "      <td>0.982578</td>\n",
       "      <td>1729610862</td>\n",
       "      <td>None</td>\n",
       "      <td>False</td>\n",
       "      <td>...</td>\n",
       "      <td>0.142350</td>\n",
       "      <td>302368</td>\n",
       "      <td>amax</td>\n",
       "      <td>10.103.10.61</td>\n",
       "      <td>0.142350</td>\n",
       "      <td>1</td>\n",
       "      <td>uniform</td>\n",
       "      <td>8</td>\n",
       "      <td>l2</td>\n",
       "      <td>9db3a177</td>\n",
       "    </tr>\n",
       "    <tr>\n",
       "      <th>1</th>\n",
       "      <td>0.972854</td>\n",
       "      <td>0.006012</td>\n",
       "      <td>0.972222</td>\n",
       "      <td>0.982639</td>\n",
       "      <td>0.965157</td>\n",
       "      <td>0.968641</td>\n",
       "      <td>0.975610</td>\n",
       "      <td>1729610871</td>\n",
       "      <td>None</td>\n",
       "      <td>False</td>\n",
       "      <td>...</td>\n",
       "      <td>0.249111</td>\n",
       "      <td>303174</td>\n",
       "      <td>amax</td>\n",
       "      <td>10.103.10.61</td>\n",
       "      <td>0.249111</td>\n",
       "      <td>1</td>\n",
       "      <td>uniform</td>\n",
       "      <td>15</td>\n",
       "      <td>nan_euclidean</td>\n",
       "      <td>ad504238</td>\n",
       "    </tr>\n",
       "    <tr>\n",
       "      <th>2</th>\n",
       "      <td>0.978424</td>\n",
       "      <td>0.007435</td>\n",
       "      <td>0.972222</td>\n",
       "      <td>0.989583</td>\n",
       "      <td>0.968641</td>\n",
       "      <td>0.982578</td>\n",
       "      <td>0.979094</td>\n",
       "      <td>1729610864</td>\n",
       "      <td>None</td>\n",
       "      <td>False</td>\n",
       "      <td>...</td>\n",
       "      <td>0.072539</td>\n",
       "      <td>302745</td>\n",
       "      <td>amax</td>\n",
       "      <td>10.103.10.61</td>\n",
       "      <td>0.072539</td>\n",
       "      <td>1</td>\n",
       "      <td>distance</td>\n",
       "      <td>17</td>\n",
       "      <td>cosine</td>\n",
       "      <td>c0464454</td>\n",
       "    </tr>\n",
       "    <tr>\n",
       "      <th>3</th>\n",
       "      <td>0.986080</td>\n",
       "      <td>0.003125</td>\n",
       "      <td>0.986111</td>\n",
       "      <td>0.989583</td>\n",
       "      <td>0.982578</td>\n",
       "      <td>0.982578</td>\n",
       "      <td>0.989547</td>\n",
       "      <td>1729610866</td>\n",
       "      <td>None</td>\n",
       "      <td>False</td>\n",
       "      <td>...</td>\n",
       "      <td>0.051633</td>\n",
       "      <td>302934</td>\n",
       "      <td>amax</td>\n",
       "      <td>10.103.10.61</td>\n",
       "      <td>0.051633</td>\n",
       "      <td>1</td>\n",
       "      <td>distance</td>\n",
       "      <td>1</td>\n",
       "      <td>euclidean</td>\n",
       "      <td>5cc5dc31</td>\n",
       "    </tr>\n",
       "    <tr>\n",
       "      <th>4</th>\n",
       "      <td>0.974937</td>\n",
       "      <td>0.009465</td>\n",
       "      <td>0.975694</td>\n",
       "      <td>0.989583</td>\n",
       "      <td>0.961672</td>\n",
       "      <td>0.968641</td>\n",
       "      <td>0.979094</td>\n",
       "      <td>1729610869</td>\n",
       "      <td>None</td>\n",
       "      <td>False</td>\n",
       "      <td>...</td>\n",
       "      <td>0.401711</td>\n",
       "      <td>303051</td>\n",
       "      <td>amax</td>\n",
       "      <td>10.103.10.61</td>\n",
       "      <td>0.401711</td>\n",
       "      <td>1</td>\n",
       "      <td>uniform</td>\n",
       "      <td>10</td>\n",
       "      <td>nan_euclidean</td>\n",
       "      <td>8bd53b66</td>\n",
       "    </tr>\n",
       "  </tbody>\n",
       "</table>\n",
       "<p>5 rows × 24 columns</p>\n",
       "</div>"
      ],
      "text/plain": [
       "   mean_score  std_score   score_0   score_1   score_2   score_3   score_4  \\\n",
       "0    0.978421   0.008356  0.972222  0.993056  0.972125  0.972125  0.982578   \n",
       "1    0.972854   0.006012  0.972222  0.982639  0.965157  0.968641  0.975610   \n",
       "2    0.978424   0.007435  0.972222  0.989583  0.968641  0.982578  0.979094   \n",
       "3    0.986080   0.003125  0.986111  0.989583  0.982578  0.982578  0.989547   \n",
       "4    0.974937   0.009465  0.975694  0.989583  0.961672  0.968641  0.979094   \n",
       "\n",
       "    timestamp checkpoint_dir_name   done  ...  time_total_s     pid hostname  \\\n",
       "0  1729610862                None  False  ...      0.142350  302368     amax   \n",
       "1  1729610871                None  False  ...      0.249111  303174     amax   \n",
       "2  1729610864                None  False  ...      0.072539  302745     amax   \n",
       "3  1729610866                None  False  ...      0.051633  302934     amax   \n",
       "4  1729610869                None  False  ...      0.401711  303051     amax   \n",
       "\n",
       "        node_ip  time_since_restore  iterations_since_restore config/weights  \\\n",
       "0  10.103.10.61            0.142350                         1        uniform   \n",
       "1  10.103.10.61            0.249111                         1        uniform   \n",
       "2  10.103.10.61            0.072539                         1       distance   \n",
       "3  10.103.10.61            0.051633                         1       distance   \n",
       "4  10.103.10.61            0.401711                         1        uniform   \n",
       "\n",
       "  config/n_neighbors  config/distance_metric    logdir  \n",
       "0                  8                      l2  9db3a177  \n",
       "1                 15           nan_euclidean  ad504238  \n",
       "2                 17                  cosine  c0464454  \n",
       "3                  1               euclidean  5cc5dc31  \n",
       "4                 10           nan_euclidean  8bd53b66  \n",
       "\n",
       "[5 rows x 24 columns]"
      ]
     },
     "execution_count": null,
     "metadata": {},
     "output_type": "execute_result"
    }
   ],
   "source": [
    "df = results.get_dataframe(\n",
    "    filter_metric=\"mean_score\", filter_mode=\"max\"\n",
    ")\n",
    "df.head()"
   ]
  },
  {
   "cell_type": "code",
   "execution_count": null,
   "metadata": {},
   "outputs": [
    {
     "data": {
      "text/html": [
       "<div>\n",
       "<style scoped>\n",
       "    .dataframe tbody tr th:only-of-type {\n",
       "        vertical-align: middle;\n",
       "    }\n",
       "\n",
       "    .dataframe tbody tr th {\n",
       "        vertical-align: top;\n",
       "    }\n",
       "\n",
       "    .dataframe thead th {\n",
       "        text-align: right;\n",
       "    }\n",
       "</style>\n",
       "<table border=\"1\" class=\"dataframe\">\n",
       "  <thead>\n",
       "    <tr style=\"text-align: right;\">\n",
       "      <th></th>\n",
       "      <th>mean_score</th>\n",
       "      <th>std_score</th>\n",
       "      <th>score_0</th>\n",
       "      <th>score_1</th>\n",
       "      <th>score_2</th>\n",
       "      <th>score_3</th>\n",
       "      <th>score_4</th>\n",
       "      <th>config/weights</th>\n",
       "      <th>config/n_neighbors</th>\n",
       "      <th>config/distance_metric</th>\n",
       "    </tr>\n",
       "  </thead>\n",
       "  <tbody>\n",
       "    <tr>\n",
       "      <th>0</th>\n",
       "      <td>0.978421</td>\n",
       "      <td>0.008356</td>\n",
       "      <td>0.972222</td>\n",
       "      <td>0.993056</td>\n",
       "      <td>0.972125</td>\n",
       "      <td>0.972125</td>\n",
       "      <td>0.982578</td>\n",
       "      <td>uniform</td>\n",
       "      <td>8</td>\n",
       "      <td>l2</td>\n",
       "    </tr>\n",
       "    <tr>\n",
       "      <th>1</th>\n",
       "      <td>0.972854</td>\n",
       "      <td>0.006012</td>\n",
       "      <td>0.972222</td>\n",
       "      <td>0.982639</td>\n",
       "      <td>0.965157</td>\n",
       "      <td>0.968641</td>\n",
       "      <td>0.975610</td>\n",
       "      <td>uniform</td>\n",
       "      <td>15</td>\n",
       "      <td>nan_euclidean</td>\n",
       "    </tr>\n",
       "    <tr>\n",
       "      <th>2</th>\n",
       "      <td>0.978424</td>\n",
       "      <td>0.007435</td>\n",
       "      <td>0.972222</td>\n",
       "      <td>0.989583</td>\n",
       "      <td>0.968641</td>\n",
       "      <td>0.982578</td>\n",
       "      <td>0.979094</td>\n",
       "      <td>distance</td>\n",
       "      <td>17</td>\n",
       "      <td>cosine</td>\n",
       "    </tr>\n",
       "    <tr>\n",
       "      <th>3</th>\n",
       "      <td>0.986080</td>\n",
       "      <td>0.003125</td>\n",
       "      <td>0.986111</td>\n",
       "      <td>0.989583</td>\n",
       "      <td>0.982578</td>\n",
       "      <td>0.982578</td>\n",
       "      <td>0.989547</td>\n",
       "      <td>distance</td>\n",
       "      <td>1</td>\n",
       "      <td>euclidean</td>\n",
       "    </tr>\n",
       "    <tr>\n",
       "      <th>4</th>\n",
       "      <td>0.974937</td>\n",
       "      <td>0.009465</td>\n",
       "      <td>0.975694</td>\n",
       "      <td>0.989583</td>\n",
       "      <td>0.961672</td>\n",
       "      <td>0.968641</td>\n",
       "      <td>0.979094</td>\n",
       "      <td>uniform</td>\n",
       "      <td>10</td>\n",
       "      <td>nan_euclidean</td>\n",
       "    </tr>\n",
       "  </tbody>\n",
       "</table>\n",
       "</div>"
      ],
      "text/plain": [
       "   mean_score  std_score   score_0   score_1   score_2   score_3   score_4  \\\n",
       "0    0.978421   0.008356  0.972222  0.993056  0.972125  0.972125  0.982578   \n",
       "1    0.972854   0.006012  0.972222  0.982639  0.965157  0.968641  0.975610   \n",
       "2    0.978424   0.007435  0.972222  0.989583  0.968641  0.982578  0.979094   \n",
       "3    0.986080   0.003125  0.986111  0.989583  0.982578  0.982578  0.989547   \n",
       "4    0.974937   0.009465  0.975694  0.989583  0.961672  0.968641  0.979094   \n",
       "\n",
       "  config/weights  config/n_neighbors config/distance_metric  \n",
       "0        uniform                   8                     l2  \n",
       "1        uniform                  15          nan_euclidean  \n",
       "2       distance                  17                 cosine  \n",
       "3       distance                   1              euclidean  \n",
       "4        uniform                  10          nan_euclidean  "
      ]
     },
     "execution_count": null,
     "metadata": {},
     "output_type": "execute_result"
    }
   ],
   "source": [
    "intersted_cols = [c for c in df.columns if c.startswith(\"config\") or \"score\" in c]\n",
    "dfi = df[intersted_cols]\n",
    "dfi.head()"
   ]
  },
  {
   "cell_type": "markdown",
   "metadata": {},
   "source": [
    "首先我们从整体上来看两个方法（distance和uniform）的性能差异。"
   ]
  },
  {
   "cell_type": "code",
   "execution_count": null,
   "metadata": {},
   "outputs": [],
   "source": [
    "#|hide\n",
    "# import matplotlib.pyplot as plt\n",
    "\n",
    "# fig, ax = plt.subplots()\n",
    "# # 绘制每个配置的分数箱型图\n",
    "# # dfi.boxplot(by='config/weights', column=['mean_score'], ax=ax)\n",
    "# grouped = df.groupby('config/weights')\n",
    "# grouped\n",
    "# groups = [group['mean_score'] for name, group in grouped]\n",
    "# ax.boxplot(groups)\n",
    "# for name, group in grouped:\n",
    "#     plt.scatter([name]*len(group), group['mean_score'], marker='o', c='red')\n",
    "# # plt.scatter(dfi['config/weights'], dfi['mean_score'], marker='o', c='red')\n",
    "\n",
    "# plt.show()"
   ]
  },
  {
   "cell_type": "code",
   "execution_count": null,
   "metadata": {},
   "outputs": [],
   "source": [
    "import matplotlib.pyplot as plt\n",
    "import seaborn as sns"
   ]
  },
  {
   "cell_type": "code",
   "execution_count": null,
   "metadata": {},
   "outputs": [
    {
     "data": {
      "text/plain": [
       "<Axes: xlabel='config/weights', ylabel='mean_score'>"
      ]
     },
     "execution_count": null,
     "metadata": {},
     "output_type": "execute_result"
    },
    {
     "data": {
      "image/png": "[encoded data removed]",
      "text/plain": [
       "<Figure size 640x480 with 1 Axes>"
      ]
     },
     "metadata": {},
     "output_type": "display_data"
    }
   ],
   "source": [
    "#| fig-cap: \"uniform与distance方法平均准确率箱线图对比\"\n",
    "#| fig-alt: \"每一个红点是一次实验结果，平均准确率是每一次实验中五折交叉验证的平均值。\"\n",
    "fig, ax = plt.subplots()\n",
    "sns.boxplot(data=dfi, x='config/weights', y='mean_score', ax=ax)\n",
    "dfi.plot(x='config/weights', y='mean_score', ax=ax, kind='scatter', c='red')"
   ]
  },
  {
   "cell_type": "markdown",
   "metadata": {},
   "source": [
    "以上的结果并没有控制变量，是直接进行了一个统计。相关性不代表因果性，所以上面的结果仅仅代表了在我们调参采样过程中，自变量“weights”与因变量“mean_score”的一定的相关性。\n",
    "如果我们不知道每一次实验具体的其他的无关变量，上面的图我们也可以做一个合理的假设检验（验证我们的实验假设的零假设是否要拒绝！）。\n",
    "\n",
    "根据论文[@Demšar_2006]，在机器学习中应该使用mann-whitney U检验和Wilcoxon signed-rank检验，因为这两个检验对样本的分布没有假定，而其他的一些检验比如t检验不太适用与样本分布不符合假设分布的情况。其中对于 “不知道每一次实验的其他无关变量是什么”的情况，也就是说自变量取“distance”和“uniform”得到的两列样本是独立（independent）的时候，应当使用mann-whitney U检验。"
   ]
  },
  {
   "cell_type": "code",
   "execution_count": null,
   "metadata": {},
   "outputs": [],
   "source": [
    "from scipy.stats import mannwhitneyu"
   ]
  },
  {
   "cell_type": "code",
   "execution_count": null,
   "metadata": {},
   "outputs": [
    {
     "name": "stdout",
     "output_type": "stream",
     "text": [
      "Reject null hypothesis! `distance` is significantly better than `uniform`\n"
     ]
    }
   ],
   "source": [
    "grouped = dfi.groupby('config/weights')\n",
    "group_mean_scores = {name:group['mean_score'] for name, group in grouped}\n",
    "scores_for_distance = group_mean_scores['distance']\n",
    "scores_for_uniform = group_mean_scores['uniform']\n",
    "u, p = mannwhitneyu(scores_for_distance, scores_for_uniform, \n",
    "                    alternative='greater' # 实验备则假设，distance 方法更好\n",
    "                    )\n",
    "if p < 0.05:\n",
    "    print(\"Reject null hypothesis! `distance` is significantly better than `uniform`\")"
   ]
  },
  {
   "cell_type": "markdown",
   "metadata": {},
   "source": [
    "刚才我们只是整体分析。\n",
    "接下来我们要寻找控制其他变量最优时，两个方法各自最优的参数是什么？以及这两个方法对哪些超参数比较敏感？\n",
    "\n",
    "我们先回答第一个问题，我们从刚才的表格筛选一下。"
   ]
  },
  {
   "cell_type": "code",
   "execution_count": null,
   "metadata": {},
   "outputs": [
    {
     "data": {
      "text/html": [
       "<div>\n",
       "<style scoped>\n",
       "    .dataframe tbody tr th:only-of-type {\n",
       "        vertical-align: middle;\n",
       "    }\n",
       "\n",
       "    .dataframe tbody tr th {\n",
       "        vertical-align: top;\n",
       "    }\n",
       "\n",
       "    .dataframe thead th {\n",
       "        text-align: right;\n",
       "    }\n",
       "</style>\n",
       "<table border=\"1\" class=\"dataframe\">\n",
       "  <thead>\n",
       "    <tr style=\"text-align: right;\">\n",
       "      <th></th>\n",
       "      <th>mean_score</th>\n",
       "      <th>std_score</th>\n",
       "      <th>score_0</th>\n",
       "      <th>score_1</th>\n",
       "      <th>score_2</th>\n",
       "      <th>score_3</th>\n",
       "      <th>score_4</th>\n",
       "      <th>config/weights</th>\n",
       "      <th>config/n_neighbors</th>\n",
       "      <th>config/distance_metric</th>\n",
       "    </tr>\n",
       "  </thead>\n",
       "  <tbody>\n",
       "    <tr>\n",
       "      <th>3</th>\n",
       "      <td>0.98608</td>\n",
       "      <td>0.003125</td>\n",
       "      <td>0.986111</td>\n",
       "      <td>0.989583</td>\n",
       "      <td>0.982578</td>\n",
       "      <td>0.982578</td>\n",
       "      <td>0.989547</td>\n",
       "      <td>distance</td>\n",
       "      <td>1</td>\n",
       "      <td>euclidean</td>\n",
       "    </tr>\n",
       "    <tr>\n",
       "      <th>36</th>\n",
       "      <td>0.98608</td>\n",
       "      <td>0.003125</td>\n",
       "      <td>0.986111</td>\n",
       "      <td>0.989583</td>\n",
       "      <td>0.982578</td>\n",
       "      <td>0.982578</td>\n",
       "      <td>0.989547</td>\n",
       "      <td>uniform</td>\n",
       "      <td>1</td>\n",
       "      <td>l2</td>\n",
       "    </tr>\n",
       "  </tbody>\n",
       "</table>\n",
       "</div>"
      ],
      "text/plain": [
       "    mean_score  std_score   score_0   score_1   score_2   score_3   score_4  \\\n",
       "3      0.98608   0.003125  0.986111  0.989583  0.982578  0.982578  0.989547   \n",
       "36     0.98608   0.003125  0.986111  0.989583  0.982578  0.982578  0.989547   \n",
       "\n",
       "   config/weights  config/n_neighbors config/distance_metric  \n",
       "3        distance                   1              euclidean  \n",
       "36        uniform                   1                     l2  "
      ]
     },
     "execution_count": null,
     "metadata": {},
     "output_type": "execute_result"
    }
   ],
   "source": [
    "max_rows = dfi.loc[df.groupby('config/weights')['mean_score'].idxmax()]\n",
    "max_rows"
   ]
  },
  {
   "cell_type": "markdown",
   "metadata": {},
   "source": [
    "这里我们可以对5次实验的结果进行统计分析，由于这五次实验是相关的，即这五次实验每一次用的同一个fold去训练，所以这里我们不应当用mann-whitney U检验，这一次我们要用Wilcoxon signed-rank检验。"
   ]
  },
  {
   "cell_type": "code",
   "execution_count": null,
   "metadata": {},
   "outputs": [],
   "source": [
    "from scipy.stats import wilcoxon"
   ]
  },
  {
   "cell_type": "code",
   "execution_count": null,
   "metadata": {},
   "outputs": [
    {
     "data": {
      "text/plain": [
       "[0.9861111111111112,\n",
       " 0.9895833333333334,\n",
       " 0.9825783972125436,\n",
       " 0.9825783972125436,\n",
       " 0.9895470383275261]"
      ]
     },
     "execution_count": null,
     "metadata": {},
     "output_type": "execute_result"
    }
   ],
   "source": [
    "#| hide\n",
    "[v for k, v in max_rows.iloc[0].to_dict().items() if k.startswith('score_')]"
   ]
  },
  {
   "cell_type": "code",
   "execution_count": null,
   "metadata": {},
   "outputs": [
    {
     "name": "stdout",
     "output_type": "stream",
     "text": [
      "Null hypothesis cannot be rejected, so I have to accept it. \n"
     ]
    },
    {
     "name": "stderr",
     "output_type": "stream",
     "text": [
      "/home/ycm/program_files/managers/conda/envs/hf_ai/lib/python3.10/site-packages/scipy/stats/_axis_nan_policy.py:531: UserWarning: Exact p-value calculation does not work if there are zeros. Switching to normal approximation.\n",
      "  res = hypotest_fun_out(*samples, **kwds)\n",
      "/home/ycm/program_files/managers/conda/envs/hf_ai/lib/python3.10/site-packages/scipy/stats/_axis_nan_policy.py:531: UserWarning: Sample size too small for normal approximation.\n",
      "  res = hypotest_fun_out(*samples, **kwds)\n"
     ]
    }
   ],
   "source": [
    "\n",
    "scores_for_distance = [v for k, v in max_rows.iloc[0].to_dict().items() if k.startswith('score_')]\n",
    "scores_for_uniform = [v for k, v in max_rows.iloc[1].to_dict().items() if k.startswith('score_')]\n",
    "u, p = wilcoxon(scores_for_distance, scores_for_uniform, \n",
    "                zero_method='zsplit',\n",
    "                    alternative='greater' # 实验备则假设，distance 方法更好\n",
    "                    )\n",
    "if p> 0.05:\n",
    "    print(\"Null hypothesis cannot be rejected, so I have to accept it. \")"
   ]
  },
  {
   "cell_type": "markdown",
   "metadata": {},
   "source": [
    "原来，当我们控制无关变量最优时，两个方法的性能能达到一致。具体来说，这里种找到的最优超参数正好是让knn的k为1，所以这个情况下distance方法和n_neighbors方法没有区别。按照谷歌调参手册的科研方法，对于这个数据集来说就无法说明这两个方法的优劣了。\n",
    "\n",
    "然而，我个人认为，一个方法之所以被学术界认为有价值，在于这个方法能被其他人follow和cite。什么样的方法能对其他人的工作有帮助，什么样的方法就有价值。形式化一点来说，对 “其他人的工作”这个随机分布而言，我们的方法“应用上去之后，比不应用我们的方法或者使用其他方法更好”这个随机变量的期望值就是我们做科研应该追求的价值。\n",
    "\n",
    "需要注意的是，“其他人的工作”由于他们计算资源以及研究者认知的局限，是比较不可能为你的方法调整整个实验流程其他的元参数或者说无关变量的。换句话说，如果你的方法需要其他人为你的方法来调参才能表现良好，那么你的方法的价值其实也是比较有限的。\n",
    "\n",
    "在这里我们就遇到这个情况，在大部分随机的无关变量上，我们看到假设检验拒绝了零假设，说明distance方法期望地来说是对其他研究人员有帮助的，然而当调参到最优时，他们又都能达到最好。\n"
   ]
  },
  {
   "cell_type": "markdown",
   "metadata": {},
   "source": [
    "现在我们回答第二个问题，这两个方法分别对其他元参数的敏感性如何?\n",
    "首先分析对n_neighbors的敏感性。这个是通过quasi random search采样的。"
   ]
  },
  {
   "cell_type": "code",
   "execution_count": null,
   "metadata": {},
   "outputs": [],
   "source": [
    "import copy"
   ]
  },
  {
   "cell_type": "code",
   "execution_count": null,
   "metadata": {},
   "outputs": [],
   "source": [
    "#| export\n",
    "# 为了解决seaborn开发者不愿意支持用户看到拟合曲线参数的问题，我们查找到了下面的解决方案\n",
    "# 本代码参考 https://stackoverflow.com/questions/22852244/how-to-get-the-numerical-fitting-results-when-plotting-a-regression-in-seaborn\n",
    "def regplot(\n",
    "    *args,\n",
    "    line_kws=None,\n",
    "    marker=None,\n",
    "    scatter_kws=None,\n",
    "    **kwargs\n",
    "):\n",
    "    # this is the class that `sns.regplot` uses\n",
    "    plotter = sns.regression._RegressionPlotter(*args, **kwargs)\n",
    "\n",
    "    # this is essentially the code from `sns.regplot`\n",
    "    ax = kwargs.get(\"ax\", None)\n",
    "    if ax is None:\n",
    "        ax = plt.gca()\n",
    "\n",
    "    scatter_kws = {} if scatter_kws is None else copy.copy(scatter_kws)\n",
    "    scatter_kws[\"marker\"] = marker\n",
    "    line_kws = {} if line_kws is None else copy.copy(line_kws)\n",
    "\n",
    "    plotter.plot(ax, scatter_kws, line_kws)\n",
    "\n",
    "    # unfortunately the regression results aren't stored, so we rerun\n",
    "    grid, yhat, err_bands = plotter.fit_regression(plt.gca())\n",
    "\n",
    "    # also unfortunately, this doesn't return the parameters, so we infer them\n",
    "    slope = (yhat[-1] - yhat[0]) / (grid[-1] - grid[0])\n",
    "    intercept = yhat[0] - slope * grid[0]\n",
    "    return slope, intercept"
   ]
  },
  {
   "cell_type": "code",
   "execution_count": null,
   "metadata": {},
   "outputs": [
    {
     "data": {
      "image/png": "[encoded data removed]",
      "text/plain": [
       "<Figure size 640x480 with 1 Axes>"
      ]
     },
     "metadata": {},
     "output_type": "display_data"
    },
    {
     "name": "stdout",
     "output_type": "stream",
     "text": [
      "For distance, the regression line is y = -9.18e-04x + 9.87e-01\n",
      "For uniform, the regression line is y = -9.86e-04x + 9.84e-01\n"
     ]
    }
   ],
   "source": [
    "#| label: fig-n_neighbors\n",
    "#| fig-cap: \"Relationship between n_neighbors and mean_score\"\n",
    "#| fig-alt: \"在图中我们画出了拟合的直线以及之前的95%置信区间。\"\n",
    "f = plt.figure()\n",
    "ax = f.add_subplot(1,1,1)\n",
    "line_dict = {}\n",
    "for name, group in grouped:\n",
    "    # plt.scatter(group['config/n_neighbors'], group['mean_score'], label=name)\n",
    "    # p = sns.regplot(x='config/n_neighbors', y='mean_score', data=dfi, fit_reg=True, ax=ax)\n",
    "    k, b = regplot(x='config/n_neighbors', y='mean_score', data=group, label=name, fit_reg=True)\n",
    "    line_dict[name] = (k, b)\n",
    "    \n",
    "\n",
    "# sns.lmplot(x='config/n_neighbors', y='mean_score', data=dfi, hue=\"config/weights\", fit_reg=True)\n",
    "# 使用整数x坐标轴\n",
    "plt.xticks(range(1, 21))\n",
    "# plt.xlabel('n_neighbors')\n",
    "# plt.ylabel('mean_score')\n",
    "plt.legend()\n",
    "# plt.title(\"Relationship between n_neighbors and mean_score\")\n",
    "plt.show()\n",
    "# p.get_lines()[0].get_xdata(), p.get_lines()[0].get_ydata()\n",
    "for name, (k, b) in line_dict.items():\n",
    "    print(f\"For {name}, the regression line is y = {k:.2e}x + {b:.2e}\")"
   ]
  },
  {
   "cell_type": "markdown",
   "metadata": {},
   "source": [
    "从图 @fig-n_neighbors 中可以看出，在数字识别问题上，无论是distance方法还是uniform方法，都是neighbors数量越多，精度反而越低。\n",
    "\n",
    "从斜率上来看可能会以为这个问题很小，只是稍微减少了精度，但是从视觉上好像确实下降地很明显。我们为了从统计上说明清楚到底下降地显不显著，可以进一步通过皮尔森相关系数以及斯皮尔曼相关系数对应的假设检验来验证这个问题。"
   ]
  },
  {
   "cell_type": "code",
   "execution_count": null,
   "metadata": {},
   "outputs": [],
   "source": [
    "from scipy.stats import pearsonr, spearmanr"
   ]
  },
  {
   "cell_type": "code",
   "execution_count": null,
   "metadata": {},
   "outputs": [
    {
     "name": "stdout",
     "output_type": "stream",
     "text": [
      "pearsonr  correlation coefficient: between config/n_neighbors and mean_score: -0.8148057329177487, p-value: 6.1435506488484e-25\n",
      "The correlation is significant!\n",
      "spearmanr  correlation coefficient: between config/n_neighbors and mean_score: -0.8085147488740115, p-value: 2.6833127946483235e-24\n",
      "The correlation is significant!\n"
     ]
    }
   ],
   "source": [
    "def test_correlation_with(x, y, data, test_func, alpha=0.05):\n",
    "    correlation, p_value = test_func(data[x], data[y])\n",
    "    print(f\"{test_func.__name__}  correlation coefficient: between {x} and {y}: {correlation}, p-value: {p_value}\")\n",
    "    if p_value < alpha:\n",
    "        print(\"The correlation is significant!\")\n",
    "    else:\n",
    "        print(\"The correlation is not significant.\")\n",
    "\n",
    "test_correlation_with('config/n_neighbors', 'mean_score', dfi, pearsonr)\n",
    "test_correlation_with('config/n_neighbors', 'mean_score', dfi, spearmanr)"
   ]
  },
  {
   "cell_type": "markdown",
   "metadata": {},
   "source": [
    "### 附加任务: 尝试使⽤不同的策略来构建 KD 树，使得在分类阶段可以有更快的分类效率\n",
    "\n",
    "注意我们这里探索要修改的目标是构建 KD 树的过程，也就是要改变KD树的结构，而不是修改KNN分类算法，主要也不是修改KD树的搜索算法。\n",
    "这里我们的目标是让搜索的效率更高。\n"
   ]
  },
  {
   "cell_type": "markdown",
   "metadata": {},
   "source": [
    "文献@KD-means中总结了KD树构造时的一些常见策略，其中最重要的就是splitting method。分割一个父节点的时候，我们需要决定1. 在哪个数据维度（𝑠𝑑）上进行划分 2. 这个维度上哪个值作为划分点。对于第一点，作者选择范围最广的维度（𝑚𝑎𝑥 − 𝑚𝑖𝑛）来进行划分。\n",
    "\n",
    "对于第二点，作者选择了滑动中点分割规则，因为它比其他经典规则提供了更优化的数据组织。这种规则不会产生空节点或数据空间非常稀疏的节点。与选择中位数作为切割值的经典规则不同，滑动中点分割规则选择点的中间值（（最大值𝑚𝑎𝑥 + 最小值𝑚𝑖𝑛）/ 2），这样做成本更低。\n",
    "\n",
    "作者还提到KD树的构建过程中可以限制KD树的深度。但是我不太懂如果限制了深度，不是叶子节点的地方在搜索时应该如何处理，退化为暴力吗？"
   ]
  },
  {
   "cell_type": "markdown",
   "metadata": {},
   "source": [
    "在我们实现新的算法之前，我们首先测试一下没改进之前的算法的速度。"
   ]
  },
  {
   "cell_type": "code",
   "execution_count": null,
   "metadata": {},
   "outputs": [
    {
     "name": "stdout",
     "output_type": "stream",
     "text": [
      "5.07 s ± 100 ms per loop (mean ± std. dev. of 7 runs, 1 loop each)\n"
     ]
    }
   ],
   "source": [
    "#| eval: false\n",
    "%timeit y_pred = knn_classifier(X_train, y_train, X_test, k_neighbors)"
   ]
  },
  {
   "cell_type": "markdown",
   "metadata": {},
   "source": [
    "现在我们来实现更快的KD树。"
   ]
  },
  {
   "cell_type": "code",
   "execution_count": null,
   "metadata": {},
   "outputs": [
    {
     "data": {
      "text/plain": [
       "(__main__.Node, <function __main__.euclidean_distance(x1, x2)>)"
      ]
     },
     "execution_count": null,
     "metadata": {},
     "output_type": "execute_result"
    }
   ],
   "source": [
    "# 复用上面的一些定义\n",
    "Node, euclidean_distance"
   ]
  },
  {
   "cell_type": "code",
   "execution_count": null,
   "metadata": {},
   "outputs": [],
   "source": [
    "#| export\n",
    "from typing import Callable"
   ]
  },
  {
   "cell_type": "code",
   "execution_count": null,
   "metadata": {},
   "outputs": [],
   "source": [
    "#| export\n",
    "verbose = False\n",
    "def fast_build_kd_tree(X, axis_order_list:list, strategy = \"median\", depth=0):\n",
    "    if len(X) == 0:\n",
    "        return None\n",
    "    k = X.shape[1]\n",
    "    # 根据当前深度，选择划分的维度\n",
    "    # 原本是 \n",
    "    # axis = depth % k \n",
    "    # axis = axis_order(depth, k)\n",
    "    assert len(axis_order_list)==k, f\"axis_order_list length should be equal to k, but got {len(axis_order_list)} with {axis_order_list}\"\n",
    "    axis = axis_order_list[depth % k]\n",
    "    if verbose:\n",
    "        print(\" \"*4*depth + f\"Building kd-tree of depth {depth} with {len(X)} points, axis is {axis}\")\n",
    "    \n",
    "    # 中位数策略\n",
    "    if strategy == \"median\":\n",
    "        X = X[X[:, axis].argsort()]\n",
    "        median = X.shape[0] // 2 #将当前结点数据一分为二\n",
    "        # assert len(np.where((X_train == X[median]).all(axis=1)))>0\n",
    "        return Node(data=X[median], left=fast_build_kd_tree(X[:median], axis_order_list, strategy, depth + 1),\n",
    "                    right=fast_build_kd_tree(X[median + 1:],axis_order_list, strategy,  depth + 1))\n",
    "    \n",
    "    # 中点策略\n",
    "    else:\n",
    "        x_axis = X[:, axis] # n个数\n",
    "        middle_point_value = (x_axis.max()-x_axis.min()) / 2\n",
    "        left_points = X[x_axis <= middle_point_value]\n",
    "        right_points = X[x_axis > middle_point_value]\n",
    "        distances_on_axis_to_middle = abs(x_axis - middle_point_value)\n",
    "        closest_point_to_middle = distances_on_axis_to_middle.argmin()\n",
    "        \n",
    "        return Node(data=X[closest_point_to_middle], left=fast_build_kd_tree(left_points, axis_order_list,strategy, depth + 1), right=fast_build_kd_tree(right_points, axis_order_list, strategy, depth + 1))\n",
    "    "
   ]
  },
  {
   "cell_type": "code",
   "execution_count": null,
   "metadata": {},
   "outputs": [],
   "source": [
    "#| export\n",
    "from queue import PriorityQueue"
   ]
  },
  {
   "cell_type": "code",
   "execution_count": null,
   "metadata": {},
   "outputs": [],
   "source": [
    "#| export\n",
    "def fast_search_kd_tree(tree, target, axis_order_list:list, k=3):\n",
    "    if tree is None:\n",
    "        return []\n",
    "    # k_nearest = [] #list用于储存target当前遍历到的k个k近邻\n",
    "    # 我们使用优先队列来储存k_nearest，从而提高效率，优先队列中的元素为(-距离, 节点)的元组，距离远的先取出来\n",
    "    # k_nearest_pq = PriorityQueue(maxsize=k)\n",
    "    k_nearest_pq = PriorityQueue()\n",
    "    entry_count = 0\n",
    "    stack = [(tree, 0)] #用于储存待遍历节点的stack\n",
    "    while stack:\n",
    "        node, depth = stack.pop() # 节点出栈\n",
    "        if node is None:\n",
    "            continue\n",
    "        # print(\" \"*4*depth + f\"node: {node.data}, depth: {depth}\")\n",
    "        distance = euclidean_distance(target, node.data) #计算需要分类的目标点与节点的距离\n",
    "        \n",
    "        # 调换到前面\n",
    "        axis = depth % target.shape[0] #计算当前深度对应的划分维度\n",
    "        axis = axis_order_list[axis] # 新增加\n",
    "        # print(axis)\n",
    "        \n",
    "        axis_diff = target[axis] - node.data[axis] #计算该维度下目标点与当前节点的差\n",
    "        \n",
    "        #如果k_nearest未装满或k_nearest中相距目标点最远的点与目标点的距离大于axis_diff的绝对值时，则另一边的子树也入栈\n",
    "        can_omit_another_side = True\n",
    "        # if len(k_nearest) < k: # 当k_nearest未装满时，直接将节点放入\n",
    "        # if k_nearest.qsize() < k: # 当k_nearest未装满时，直接将节点放入\n",
    "        if k_nearest_pq.qsize() < k: # 当k_nearest未装满时，直接将节点放入\n",
    "        # if not k_nearest_pq.full(): # 当k_nearest未装满时，直接将节点放入\n",
    "            # print(f\"not full, put {(-distance, node)}\")\n",
    "            pass #BLANK_1\n",
    "            # k_nearest.append((node, distance))\n",
    "            k_nearest_pq.put((-distance, entry_count, node))\n",
    "            entry_count+=1\n",
    "            can_omit_another_side = False\n",
    "        else: #当k_nearest装满时，对比该节点与k_nearest中与目标点距离最远的节点的距离，如果小于则替换，如果大于则不替换\n",
    "            pass #BLANK_2\n",
    "            farthest = k_nearest_pq.get()\n",
    "            farthest_distance = -farthest[0]\n",
    "            # print(f\"full, farthest: {farthest}\")\n",
    "            if distance < farthest_distance:\n",
    "                # print(f\"closer, put {(-distance, node)}\")\n",
    "                # assert isinstance(distance, float)\n",
    "                # print(k_nearest_pq.queue)\n",
    "                k_nearest_pq.put((-distance, entry_count, node))\n",
    "                entry_count+=1\n",
    "            else:\n",
    "                k_nearest_pq.put(farthest)\n",
    "            \n",
    "\n",
    "            if farthest_distance > abs(axis_diff): \n",
    "                can_omit_another_side = False\n",
    "        \n",
    "        if axis_diff <= 0: #当差小于0时则，该节点的左子树入栈 #如果k_nearest未装满或k_nearest中相距目标点最远的点与目标点的距离大于axis_diff的绝对值时，则右子树也入栈\n",
    "            pass #BLANK_3\n",
    "            stack.append((node.left, depth+1))\n",
    "            if not can_omit_another_side:\n",
    "                stack.append((node.right, depth+1))\n",
    "        else:#当差大于0时则，该节点的右子树入栈，#如果k_nearest未装满或k_nearest中相距目标点最远的点与目标点的距离大于axis_diff的绝对值时，则左子树也入栈\n",
    "            pass #BLANK_4\n",
    "            stack.append((node.right, depth+1))\n",
    "            if not can_omit_another_side:\n",
    "                stack.append((node.left, depth+1))\n",
    "    # return [data for data, _ in k_nearest] #返回遍历完的kd树后的k_nearest\n",
    "    # return [data for _, data in k_nearest] #返回遍历完的kd树后的k_nearest\n",
    "    return [k_nearest_pq.get()[-1].data for i in range(k_nearest_pq.qsize())] #返回遍历完的kd树后的k_nearest"
   ]
  },
  {
   "cell_type": "code",
   "execution_count": null,
   "metadata": {},
   "outputs": [
    {
     "name": "stdout",
     "output_type": "stream",
     "text": [
      "[ 0 32 39 31 24 56 16  8 40 47 48 23  1 57 15 55 33 38  7  9 30 25 10  4\n",
      " 14 13 12 11  6  5  3  2 28 29 26 27 19 20 21 22 17 18 42 41 36 37 35 34\n",
      " 46 45 44 43 51 52 50 49 54 53 58 59 60 61 62 63]\n",
      "maximum recursion depth exceeded while calling a Python object\n"
     ]
    }
   ],
   "source": [
    "#| export\n",
    "# 由于我们需要记录axis_order， 所以要写成类\n",
    "class FastKDTree:\n",
    "    def __init__(self, X, split_value_strategy='median', axis_order_strategy='range') -> None:\n",
    "        n, k = X.shape\n",
    "        # 决定一下划分维度的顺序\n",
    "        # 方差最大原则\n",
    "        if axis_order_strategy == 'variance':\n",
    "            self.axis_order_list = np.argsort(np.var(X, axis=0))\n",
    "        # 极差最大原则\n",
    "        elif axis_order_strategy == 'range':\n",
    "            self.axis_order_list = np.argsort(np.max(X, axis=0) - np.min(X, axis=0))\n",
    "        else:\n",
    "            self.axis_order_list = np.arange(k)\n",
    "        print(self.axis_order_list)\n",
    "        self.root = fast_build_kd_tree(X, self.axis_order_list, split_value_strategy, 0)\n",
    "    def search_kd_tree(self, point, k):\n",
    "        return fast_search_kd_tree(self.root, point, self.axis_order_list, k)\n",
    "    \n",
    "    # 使用KNN算法分类\n",
    "    def knn_classifier(self, X_train, y_train, X_test, k=3):\n",
    "        y_pred = []\n",
    "        for i, test_point in enumerate(X_test):\n",
    "            k_nearest = self.search_kd_tree(test_point, k)\n",
    "            # print(k_nearest)\n",
    "            # print(k_nearest[0])\n",
    "            # print(np.where((X_train == k_nearest[0]).all(axis=1)))\n",
    "            labels = [y_train[np.where((X_train == point).all(axis=1))[0][0]] for point in k_nearest]\n",
    "            counts = np.bincount(labels)#计算k_nearest中样本最多的标签，预测目标样本为该标签\n",
    "            y_pred.append(np.argmax(counts))\n",
    "        return y_pred\n",
    "try:\n",
    "    tree = FastKDTree(X_train, split_value_strategy='middle')\n",
    "except Exception as e:\n",
    "    print(e)"
   ]
  },
  {
   "cell_type": "markdown",
   "metadata": {},
   "source": [
    "我们发现如果是用middle策略，由于数字识别数据集的分布特性，中点能划分的点太少，无法成功建树。"
   ]
  },
  {
   "cell_type": "code",
   "execution_count": null,
   "metadata": {},
   "outputs": [
    {
     "name": "stdout",
     "output_type": "stream",
     "text": [
      "[ 0 32 39 31 24 56 16  8 40 47 48 23  1 57 15 55 33 38  7  9 30 25 10  4\n",
      " 14 13 12 11  6  5  3  2 28 29 26 27 19 20 21 22 17 18 42 41 36 37 35 34\n",
      " 46 45 44 43 51 52 50 49 54 53 58 59 60 61 62 63]\n"
     ]
    }
   ],
   "source": [
    "# tree = FastKDTree(X, split_value_strategy=\"median\")\n",
    "tree = FastKDTree(X_train, split_value_strategy=\"median\")"
   ]
  },
  {
   "cell_type": "code",
   "execution_count": null,
   "metadata": {},
   "outputs": [],
   "source": [
    "for i in range(len(X_train)):\n",
    "    k_nearest = tree.search_kd_tree(X_train[0], 1)\n",
    "    where = np.where((X_train == k_nearest[0]).all(axis=1))\n",
    "    where = where[0]\n",
    "    assert len(where) == 1"
   ]
  },
  {
   "cell_type": "code",
   "execution_count": null,
   "metadata": {},
   "outputs": [
    {
     "data": {
      "text/plain": [
       "0.9861111111111112"
      ]
     },
     "execution_count": null,
     "metadata": {},
     "output_type": "execute_result"
    }
   ],
   "source": [
    "# k_nearest = tree.search_kd_tree(X_test[0], 2)\n",
    "# k_nearest = tree.search_kd_tree(X_train[0], 2)\n",
    "# k_nearest, X_train[0]\n",
    "# k_nearest = tree.search_kd_tree(X_test[0], 2)\n",
    "# k_nearest\n",
    "y_pred = tree.knn_classifier(X_train, y_train, X_test, k_neighbors)\n",
    "accuracy_score(y_test, y_pred) # 确保数值正确"
   ]
  },
  {
   "cell_type": "code",
   "execution_count": null,
   "metadata": {},
   "outputs": [
    {
     "name": "stdout",
     "output_type": "stream",
     "text": [
      "5.15 s ± 107 ms per loop (mean ± std. dev. of 7 runs, 1 loop each)\n"
     ]
    }
   ],
   "source": [
    "#| eval: false\n",
    "%timeit y_pred = tree.knn_classifier(X_train, y_train, X_test, k_neighbors)"
   ]
  },
  {
   "cell_type": "markdown",
   "metadata": {},
   "source": [
    "我们发现速度变慢了！\n",
    "如果使用方差最大策略呢？会不会更好？"
   ]
  },
  {
   "cell_type": "code",
   "execution_count": null,
   "metadata": {},
   "outputs": [
    {
     "name": "stdout",
     "output_type": "stream",
     "text": [
      "[ 0 32 39 56 24 16 31  8 40 48 47 23 15  1 57 55  7 63 49 41 25  9 22  6\n",
      " 33 17 38 14 30 11 62  3 46  4 59  2 12 54 60 58 51 52 10 45 50  5 18 19\n",
      " 37 29 61 36 27 53 13 28 26 20 21 35 34 44 43 42]\n"
     ]
    },
    {
     "data": {
      "text/plain": [
       "0.9861111111111112"
      ]
     },
     "execution_count": null,
     "metadata": {},
     "output_type": "execute_result"
    }
   ],
   "source": [
    "tree = FastKDTree(X_train, split_value_strategy=\"median\", axis_order_strategy='variance')\n",
    "y_pred = tree.knn_classifier(X_train, y_train, X_test, k_neighbors)\n",
    "accuracy_score(y_test, y_pred) # 确保数值正确"
   ]
  },
  {
   "cell_type": "code",
   "execution_count": null,
   "metadata": {},
   "outputs": [
    {
     "name": "stdout",
     "output_type": "stream",
     "text": [
      "5.5 s ± 217 ms per loop (mean ± std. dev. of 7 runs, 1 loop each)\n"
     ]
    }
   ],
   "source": [
    "#| eval: false\n",
    "%timeit y_pred = tree.knn_classifier(X_train, y_train, X_test, k_neighbors)"
   ]
  },
  {
   "cell_type": "markdown",
   "metadata": {},
   "source": [
    "甚至更慢！为了避免是因为我们实现新的方法有一定的overhead，我们对原本的划分策略也做一次测速。"
   ]
  },
  {
   "cell_type": "code",
   "execution_count": null,
   "metadata": {},
   "outputs": [
    {
     "name": "stdout",
     "output_type": "stream",
     "text": [
      "[ 0  1  2  3  4  5  6  7  8  9 10 11 12 13 14 15 16 17 18 19 20 21 22 23\n",
      " 24 25 26 27 28 29 30 31 32 33 34 35 36 37 38 39 40 41 42 43 44 45 46 47\n",
      " 48 49 50 51 52 53 54 55 56 57 58 59 60 61 62 63]\n",
      "5.37 s ± 310 ms per loop (mean ± std. dev. of 7 runs, 1 loop each)\n"
     ]
    }
   ],
   "source": [
    "#| eval: false\n",
    "tree = FastKDTree(X_train, split_value_strategy=\"median\", axis_order_strategy='simple')\n",
    "%timeit y_pred = tree.knn_classifier(X_train, y_train, X_test, k_neighbors)"
   ]
  },
  {
   "cell_type": "code",
   "execution_count": null,
   "metadata": {},
   "outputs": [
    {
     "data": {
      "text/plain": [
       "0.9861111111111112"
      ]
     },
     "execution_count": null,
     "metadata": {},
     "output_type": "execute_result"
    }
   ],
   "source": [
    "y_pred = tree.knn_classifier(X_train, y_train, X_test, k_neighbors)\n",
    "accuracy_score(y_test, y_pred) # 确保数值正确"
   ]
  },
  {
   "cell_type": "markdown",
   "metadata": {},
   "source": [
    "根据以上结果，我们初步得出结论，range划分方法比simple方法快，而simple方法比variance方法快。"
   ]
  }
 ],
 "metadata": {
  "kernelspec": {
   "display_name": "yuequ",
   "language": "python",
   "name": "python3"
  },
  "language_info": {
   "codemirror_mode": {
    "name": "ipython",
    "version": 3
   },
   "file_extension": ".py",
   "mimetype": "text/x-python",
   "name": "python",
   "nbconvert_exporter": "python",
   "pygments_lexer": "ipython3",
   "version": "3.10.12"
  }
 },
 "nbformat": 4,
 "nbformat_minor": 2
}
