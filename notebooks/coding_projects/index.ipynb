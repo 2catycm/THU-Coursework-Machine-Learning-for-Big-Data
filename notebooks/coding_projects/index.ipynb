{
 "cells": [
  {
   "cell_type": "markdown",
   "metadata": {},
   "source": [
    "# 代码项目 Coding Projects\n",
    "\n",
    "> 这个学期会有好几次实验作业，授课老师会让我们实际写代码，完成一些小项目。"
   ]
  }
 ],
 "metadata": {},
 "nbformat": 4,
 "nbformat_minor": 2
}
