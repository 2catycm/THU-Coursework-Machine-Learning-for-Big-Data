{
 "cells": [
  {
   "cell_type": "markdown",
   "metadata": {},
   "source": [
    "# Library Information\n",
    "\n",
    "> 本库的一些信息"
   ]
  },
  {
   "cell_type": "code",
   "execution_count": 1,
   "metadata": {},
   "outputs": [],
   "source": [
    "#| default_exp help"
   ]
  },
  {
   "cell_type": "code",
   "execution_count": 1,
   "metadata": {
    "ExecuteTime": {
     "end_time": "2024-11-12T15:29:55.443670Z",
     "start_time": "2024-11-12T15:29:55.305152Z"
    }
   },
   "outputs": [],
   "source": [
    "#| hide\n",
    "%load_ext autoreload\n",
    "%autoreload 2\n",
    "from nbdev.showdoc import *"
   ]
  },
  {
   "cell_type": "code",
   "execution_count": 2,
   "metadata": {
    "ExecuteTime": {
     "end_time": "2024-11-12T15:29:56.440592Z",
     "start_time": "2024-11-12T15:29:56.427062Z"
    }
   },
   "outputs": [],
   "source": [
    "#| hide\n",
    "import os\n",
    "os.environ['HF_ENDPOINT'] = \"https://hf-mirror.com\""
   ]
  },
  {
   "cell_type": "code",
   "execution_count": 3,
   "metadata": {
    "ExecuteTime": {
     "end_time": "2024-11-12T15:29:57.984687Z",
     "start_time": "2024-11-12T15:29:57.971576Z"
    }
   },
   "outputs": [],
   "source": [
    "#| export\n",
    "from pathlib import Path\n",
    "import inspect\n",
    "import thu_big_data_ml as this_library\n",
    "lib_init_path = Path(inspect.getfile(this_library))\n",
    "lib_directory_path = lib_init_path.parent\n",
    "lib_repo_path = lib_directory_path.parent\n",
    "runs_path = lib_repo_path/'runs'\n",
    "runs_path.mkdir(exist_ok=True, parents=True)\n",
    "runs_figs_path = runs_path/'figs'\n",
    "runs_figs_path.mkdir(exist_ok=True, parents=True)\n",
    "data_path = lib_repo_path/'data'\n",
    "data_path.mkdir(exist_ok=True, parents=True)"
   ]
  },
  {
   "cell_type": "code",
   "execution_count": null,
   "metadata": {},
   "outputs": [],
   "source": [
    "#| export\n",
    "# matplotlib\n",
    "import matplotlib.pyplot as plt\n",
    "plt.style.use('default')\n",
    "# 设置matplotlib支持中文显示\n",
    "# 参考网上资料，说要设为 SimHei\n",
    "# plt.rcParams['font.sans-serif'] = ['SimHei']  # 指定默认字体  \n",
    "plt.rcParams['axes.unicode_minus'] = False  # 解决保存图像是负号'-'显示为方块的问题\n",
    "# 但是SimHei这个linux上不存在，好像是微软的字体，不开源。\n",
    "# 参考另一篇博客解决这个问题 https://blog.csdn.net/MAO_TOU/article/details/93998905\n",
    "from matplotlib import font_manager\n",
    "font = font_manager.FontProperties(fname=\"/usr/share/fonts/opentype/noto/NotoSansCJK-Regular.ttc\")\n",
    "plt.rcParams['font.sans-serif'] = [font.get_name()]\n",
    "# proxy\n",
    "import os\n",
    "os.environ['http_proxy'] = 'http://127.0.0.1:7890'\n",
    "os.environ['https_proxy'] = 'http://127.0.0.1:7890'"
   ]
  },
  {
   "cell_type": "code",
   "execution_count": null,
   "metadata": {},
   "outputs": [
    {
     "ename": "NameError",
     "evalue": "name 'runs_path' is not defined",
     "output_type": "error",
     "traceback": [
      "\u001b[0;31m---------------------------------------------------------------------------\u001b[0m",
      "\u001b[0;31mNameError\u001b[0m                                 Traceback (most recent call last)",
      "Cell \u001b[0;32mIn[1], line 3\u001b[0m\n\u001b[1;32m      1\u001b[0m \u001b[38;5;66;03m#| export\u001b[39;00m\n\u001b[1;32m      2\u001b[0m \u001b[38;5;28;01mimport\u001b[39;00m \u001b[38;5;21;01mjoblib\u001b[39;00m\n\u001b[0;32m----> 3\u001b[0m cache \u001b[38;5;241m=\u001b[39m joblib\u001b[38;5;241m.\u001b[39mMemory(cachedir\u001b[38;5;241m=\u001b[39m\u001b[43mruns_path\u001b[49m\u001b[38;5;241m/\u001b[39m\u001b[38;5;124m'\u001b[39m\u001b[38;5;124mcache\u001b[39m\u001b[38;5;124m'\u001b[39m)\n",
      "\u001b[0;31mNameError\u001b[0m: name 'runs_path' is not defined"
     ]
    }
   ],
   "source": [
    "#| export\n",
    "import joblib\n",
    "joblib_memory = joblib.Memory(runs_path/'cache')"
   ]
  },
  {
   "cell_type": "code",
   "execution_count": 1,
   "metadata": {},
   "outputs": [],
   "source": [
    "#| hide\n",
    "import nbdev; nbdev.nbdev_export()"
   ]
  }
 ],
 "metadata": {
  "kernelspec": {
   "display_name": "yuequ",
   "language": "python",
   "name": "python3"
  },
  "language_info": {
   "codemirror_mode": {
    "name": "ipython",
    "version": 3
   },
   "file_extension": ".py",
   "mimetype": "text/x-python",
   "name": "python",
   "nbconvert_exporter": "python",
   "pygments_lexer": "ipython3",
   "version": "3.10.12"
  }
 },
 "nbformat": 4,
 "nbformat_minor": 4
}
