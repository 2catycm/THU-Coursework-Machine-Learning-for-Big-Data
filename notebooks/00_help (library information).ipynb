{
 "cells": [
  {
   "cell_type": "markdown",
   "metadata": {},
   "source": [
    "# Library Information\n",
    "\n",
    "> 本库的一些信息"
   ]
  },
  {
   "cell_type": "code",
   "execution_count": 1,
   "metadata": {},
   "outputs": [],
   "source": [
    "#| default_exp help"
   ]
  },
  {
   "cell_type": "code",
   "metadata": {
    "ExecuteTime": {
     "end_time": "2024-11-12T15:29:55.443670Z",
     "start_time": "2024-11-12T15:29:55.305152Z"
    }
   },
   "source": [
    "#| hide\n",
    "%load_ext autoreload\n",
    "%autoreload 2\n",
    "from nbdev.showdoc import *"
   ],
   "outputs": [],
   "execution_count": 1
  },
  {
   "cell_type": "code",
   "metadata": {
    "ExecuteTime": {
     "end_time": "2024-11-12T15:29:56.440592Z",
     "start_time": "2024-11-12T15:29:56.427062Z"
    }
   },
   "source": [
    "#| hide\n",
    "import os\n",
    "os.environ['HF_ENDPOINT'] = \"https://hf-mirror.com\""
   ],
   "outputs": [],
   "execution_count": 2
  },
  {
   "cell_type": "code",
   "metadata": {
    "ExecuteTime": {
     "end_time": "2024-11-12T15:29:57.984687Z",
     "start_time": "2024-11-12T15:29:57.971576Z"
    }
   },
   "source": [
    "#| export\n",
    "from pathlib import Path\n",
    "import inspect\n",
    "import thu_big_data_ml as this_library\n",
    "lib_init_path = Path(inspect.getfile(this_library))\n",
    "lib_directory_path = lib_init_path.parent\n",
    "lib_repo_path = lib_directory_path.parent\n",
    "runs_path = lib_repo_path/'runs'\n",
    "runs_path.mkdir(exist_ok=True, parents=True)\n",
    "runs_figs_path = runs_path/'figs'\n",
    "runs_figs_path.mkdir(exist_ok=True, parents=True)\n",
    "data_path = lib_repo_path/'data'\n",
    "data_path.mkdir(exist_ok=True, parents=True)"
   ],
   "outputs": [],
   "execution_count": 3
  },
  {
   "cell_type": "code",
   "execution_count": 8,
   "metadata": {},
   "outputs": [],
   "source": [
    "#| hide\n",
    "import nbdev; nbdev.nbdev_export()"
   ]
  }
 ],
 "metadata": {
  "kernelspec": {
   "display_name": "fastai",
   "language": "python",
   "name": "python3"
  },
  "language_info": {
   "codemirror_mode": {
    "name": "ipython",
    "version": 3
   },
   "file_extension": ".py",
   "mimetype": "text/x-python",
   "name": "python",
   "nbconvert_exporter": "python",
   "pygments_lexer": "ipython3",
   "version": "3.10.14"
  }
 },
 "nbformat": 4,
 "nbformat_minor": 4
}
