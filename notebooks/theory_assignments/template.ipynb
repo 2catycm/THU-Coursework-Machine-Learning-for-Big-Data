{
 "cells": [
  {
   "cell_type": "markdown",
   "metadata": {},
   "source": [
    "<img src=\"../../thu_sigs_logo.png\" alt=\"清华深研院-横\" style=\"zoom:50%;\" />"
   ]
  },
  {
   "cell_type": "raw",
   "metadata": {},
   "source": [
    "---\n",
    "title: \"支持向量机的深入理解\"\n",
    "subtitle: \"大数据机器学习课程第五次作业\"\n",
    "author: \"叶璨铭 (2024214500) \\n ycm24@mails.tsinghua.edu.cn\"\n",
    "date: \"2024-10-20\"\n",
    "toc: true\n",
    "number-sections: true\n",
    "highlight-style: pygments\n",
    "date-format: full\n",
    "lang: zh\n",
    "bibliography: [../../references.bib]\n",
    "format: \n",
    "  html:\n",
    "    code-fold: true\n",
    "  gfm: default\n",
    "jupyter: python3\n",
    "---"
   ]
  },
  {
   "cell_type": "code",
   "execution_count": null,
   "metadata": {
    "vscode": {
     "languageId": "python"
    }
   },
   "outputs": [],
   "source": [
    "#| hide\n",
    "#| default_exp template\n",
    "# pdf:\n",
    "#   toc: true\n",
    "#   docx: default"
   ]
  },
  {
   "cell_type": "code",
   "execution_count": null,
   "metadata": {
    "vscode": {
     "languageId": "python"
    }
   },
   "outputs": [],
   "source": [
    "#|hide\n",
    "%load_ext autoreload\n",
    "%autoreload 2\n",
    "import matplotlib.pyplot as plt\n",
    "plt.style.use('default')"
   ]
  },
  {
   "cell_type": "markdown",
   "metadata": {},
   "source": [
    "::: {.callout-important}\n",
    "本文档具有一定的交互性，建议使用浏览器打开html文件，这样比pdf文件阅读体验更佳。\n",
    ":::"
   ]
  },
  {
   "cell_type": "markdown",
   "metadata": {},
   "source": [
    "## 第一题——一个例子理解支持向量机 {#sec-1}\n",
    "\n",
    "题目如下\n",
    "\n",
    "> 已知正例点 $x_1=(1,2)^T$, $x_2=(2,3)^T$, $x_3=(3,3)^T$, 负例点$x_4=(2,1)^T$, $x_5=(3,2)^T$, 试求最大间隔分离超平面和分类决策函数，并在图上画出分离超平面、间隔边界及支持向量。\n",
    "\n",
    "\n",
    "\n"
   ]
  },
  {
   "cell_type": "markdown",
   "metadata": {},
   "source": [
    "## 第二题——一个例子理解支持向量机 {#sec-2}\n",
    "\n",
    "题目如下\n",
    "> 线性支持向量机还可以定义为以下形式:\n",
    "> $\\min_{w,b,\\xi}\\frac{1}{2}||w||^2+C\\sum_{i=1}^{N}\\xi_i^2$\n",
    "> $s.t.$\n",
    "> $y_i(w\\cdot x_i+b)\\geq1-\\xi_i,i=1,2,\\cdots,N$\n",
    "> $\\xi_i\\geq0,i=1,2,\\cdots,N$\n",
    "> 试求其对偶形式。\n"
   ]
  },
  {
   "cell_type": "markdown",
   "metadata": {},
   "source": [
    "### 题目扩展问题\n",
    "\n",
    "\n",
    "\n"
   ]
  },
  {
   "cell_type": "code",
   "execution_count": null,
   "metadata": {
    "vscode": {
     "languageId": "python"
    }
   },
   "outputs": [],
   "source": [
    "#| hide\n",
    "import nbdev; nbdev.nbdev_export()"
   ]
  }
 ],
 "metadata": {
  "kernelspec": {
   "display_name": "python3",
   "language": "python",
   "name": "python3"
  }
 },
 "nbformat": 4,
 "nbformat_minor": 2
}
