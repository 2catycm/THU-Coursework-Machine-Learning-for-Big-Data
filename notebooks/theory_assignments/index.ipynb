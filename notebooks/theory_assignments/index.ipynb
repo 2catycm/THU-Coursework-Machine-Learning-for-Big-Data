{
 "cells": [
  {
   "cell_type": "markdown",
   "metadata": {},
   "source": [
    "# 理论作业 Theory Assignments\n",
    "\n",
    "> 每周授课老师都会布置一个理论作业。"
   ]
  }
 ],
 "metadata": {},
 "nbformat": 4,
 "nbformat_minor": 2
}
