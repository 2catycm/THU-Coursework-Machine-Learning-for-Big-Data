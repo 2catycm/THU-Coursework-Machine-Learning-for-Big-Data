{
 "cells": [
  {
   "cell_type": "markdown",
   "metadata": {},
   "source": [
    "<img src=\"../../thu_sigs_logo.png\" alt=\"清华深研院-横\" style=\"zoom:50%;\" />"
   ]
  },
  {
   "cell_type": "raw",
   "metadata": {
    "vscode": {
     "languageId": "raw"
    }
   },
   "source": [
    "---\n",
    "title: \"AdaBoost算法的深入理解\"\n",
    "subtitle: \"大数据机器学习课程第六次作业\"\n",
    "author: \"叶璨铭 (2024214500) \\n ycm24@mails.tsinghua.edu.cn\"\n",
    "date: \"2024-11-24\"\n",
    "toc: true\n",
    "number-sections: true\n",
    "highlight-style: pygments\n",
    "date-format: full\n",
    "lang: zh\n",
    "bibliography: [../../references.bib]\n",
    "format: \n",
    "  html:\n",
    "    code-fold: false\n",
    "  gfm: default\n",
    "  docx: default\n",
    "jupyter: python3\n",
    "---"
   ]
  },
  {
   "cell_type": "code",
   "execution_count": 1,
   "metadata": {
    "ExecuteTime": {
     "end_time": "2024-11-12T15:21:13.204845Z",
     "start_time": "2024-11-12T15:21:13.201287Z"
    }
   },
   "outputs": [],
   "source": [
    "#| hide\n",
    "#| default_exp adaboost.vis\n",
    "# pdf:\n",
    "#   toc: true\n",
    "#   docx: default"
   ]
  },
  {
   "cell_type": "code",
   "execution_count": null,
   "metadata": {},
   "outputs": [],
   "source": [
    "#|hide\n",
    "from thu_big_data_ml.help import plt"
   ]
  },
  {
   "cell_type": "code",
   "execution_count": null,
   "metadata": {},
   "outputs": [],
   "source": [
    "#|hide\n",
    "%load_ext autoreload\n",
    "%autoreload 2"
   ]
  },
  {
   "cell_type": "markdown",
   "metadata": {},
   "source": [
    "::: {.callout-important}\n",
    "本文档具有一定的交互性，建议使用浏览器打开html文件，这样比pdf文件阅读体验更佳。\n",
    ":::"
   ]
  },
  {
   "cell_type": "markdown",
   "metadata": {},
   "source": [
    "## 第一题——一个例子理解 AdaBoost {#sec-1}\n",
    "题目如下\n",
    "\n",
    "> 某公司招聘职员考查身体、业务能力、发展潜力这3项。身体分为合格1、不合格0两级，业务能力和发展潜力分为上1、中2、下3三级。分类为合格1、不合格-1两类。\n",
    "> \n",
    "> 已知10个人的数据，如表格1所示。假设弱分类器为决策树桩。试用AdaBoost算法学习一个强分类器。"
   ]
  },
  {
   "cell_type": "markdown",
   "metadata": {},
   "source": [
    "\n",
    "表1：应聘人员情况数据表\n",
    "\n",
    "| 列 | 1  | 2  | 3  | 4  | 5  | 6  | 7  | 8  | 9  | 10 |\n",
    "|---|----|----|----|----|----|----|----|----|----|----|\n",
    "| 身体 | 0  | 0  | 1  | 1  | 1  | 0  | 1  | 1  | 1  | 0  |\n",
    "| 业务能力 | 1  | 3  | 2  | 1  | 2  | 1  | 1  | 1  | 3  | 2  |\n",
    "| 发展潜力 | 3  | 1  | 2  | 3  | 3  | 2  | 2  | 1  | 1  | 1  |\n",
    "| 分类  | -1 | -1 | -1 | -1 | -1 | -1 | 1  | 1  | -1 | -1 |\n"
   ]
  },
  {
   "cell_type": "markdown",
   "metadata": {},
   "source": [
    "### 审题 {#sec-1-analysis}\n",
    "\n",
    "我们首先复习一下李航书上的内容。\n",
    "\n",
    "- 什么是 Boosting？\n",
    "    - 李航书上boost是提升的意思,指的是把一个弱学习算法提升为强学习算法。因为PAC框架下被证明,如果前者存在,后者必定存在,反之亦然。\n",
    "    - 我们如果已经找到弱学习算法，那当然是说明强学习算法存在，但是找到强学习算法的算法未必存在，但是我们可以尝试构造。\n",
    "    - 强就是准确率高，具体多高书上没定义，弱就是比随机猜测（最大熵模型？）好。\n",
    "    - 注意学习算法不是学习器，弱学习算法是说，多项式时间内训练出一个弱学习器的算法。boost操作的对象是“弱学习算法”，那个多项式时间复杂度的算法，不一定是通过操作弱学习器，当然如果你的boost只需要操作弱学习器，构造出强学习器，这个步骤本身构成了强学习算法，那这个当然也是boost。\n",
    "    - ？难道其他ensemble learning算法不是把弱学习提升为强学习吗\n",
    "    - 李航书上说“大多数的boosting方法”是改变训练数据的概率分布来解决提升的问题。这个或许就是和其他集成学习的区别。\n",
    "\n",
    "\n",
    "    \n",
    "- 什么是 AdaBoost 算法？    \n",
    "    - 多轮学习多个弱学习分类器，每一轮的数据概率分布有所不同，依赖于上一轮的结果。\n",
    "    - 上一轮若分类器错误分类的样本权值变大，正确的权值变小，权值加起来始终为1, 变化规则是 $w_{m+1, i} = w_{mi} \\frac{1}{Z_m} exp(-\\alpha_m y_i G_m(x_i))$，其中$y_i \\in \\{1, -1\\}$\n",
    "    - 集成分类器 $G(x) = sign(\\sum_{m=1}^{M}\\alpha_m G_m(x)) $, 注意 $\\alpha_m$ 加在一起并不是1。这个很奇怪？\n",
    "    - 其中 $\\alpha_m = \\frac{1}{2} log\\frac{1-e_m}{e_m}$, 而$e_m$是按照 $w_m$加权后$G_m$的错误率，$\\alpha_m$ 像是 分类器加权正确率的logodds的一半。不知道为什么这样设计？\n",
    "\n",
    "- AdaBoost 的第二解释如何理解？\n",
    "    - 李航书上给出了8.3节，认为 AdaBoost 也是加法模型在指数函数下使用前向分步算法进行二分类的学习方法。\n",
    "\n",
    "    <!-- TODO -->\n",
    "\n",
    "\n",
    "- 什么是决策树桩？\n",
    "    - 李航统计学习方法166页给出了这个概念。\n",
    "    - 决策树桩（Decision Stump）是就是只有一个分裂节点和两个叶节点的决策树，也就是只有单个特征（假如是连续型随机变量），根据阈值分割为两个集合，然后集合内哪个类别多就是哪个。\n",
    "    - 在二分类的情况下，使用决策树桩作为基本分类器的 AdaBoost 又叫做boosting tree提升树算法。多分类和回归的话提升树就有一些新的方法。\n",
    "\n",
    "- 什么是概率近似正确框架？\n"
   ]
  },
  {
   "cell_type": "markdown",
   "metadata": {},
   "source": [
    "复习之后，我们来看看题目询问的问题。\n",
    "\n",
    "首先对 表格 可视化"
   ]
  },
  {
   "cell_type": "code",
   "execution_count": null,
   "metadata": {},
   "outputs": [],
   "source": [
    "import pandas as pd\n",
    "import numpy as np"
   ]
  },
  {
   "cell_type": "code",
   "execution_count": null,
   "metadata": {},
   "outputs": [
    {
     "data": {
      "text/html": [
       "<div>\n",
       "<style scoped>\n",
       "    .dataframe tbody tr th:only-of-type {\n",
       "        vertical-align: middle;\n",
       "    }\n",
       "\n",
       "    .dataframe tbody tr th {\n",
       "        vertical-align: top;\n",
       "    }\n",
       "\n",
       "    .dataframe thead th {\n",
       "        text-align: right;\n",
       "    }\n",
       "</style>\n",
       "<table border=\"1\" class=\"dataframe\">\n",
       "  <thead>\n",
       "    <tr style=\"text-align: right;\">\n",
       "      <th></th>\n",
       "      <th>身体</th>\n",
       "      <th>业务能力</th>\n",
       "      <th>发展潜力</th>\n",
       "      <th>分类</th>\n",
       "    </tr>\n",
       "  </thead>\n",
       "  <tbody>\n",
       "    <tr>\n",
       "      <th>0</th>\n",
       "      <td>0</td>\n",
       "      <td>1</td>\n",
       "      <td>3</td>\n",
       "      <td>-1</td>\n",
       "    </tr>\n",
       "    <tr>\n",
       "      <th>1</th>\n",
       "      <td>0</td>\n",
       "      <td>3</td>\n",
       "      <td>1</td>\n",
       "      <td>-1</td>\n",
       "    </tr>\n",
       "    <tr>\n",
       "      <th>2</th>\n",
       "      <td>1</td>\n",
       "      <td>2</td>\n",
       "      <td>2</td>\n",
       "      <td>-1</td>\n",
       "    </tr>\n",
       "    <tr>\n",
       "      <th>3</th>\n",
       "      <td>1</td>\n",
       "      <td>1</td>\n",
       "      <td>3</td>\n",
       "      <td>-1</td>\n",
       "    </tr>\n",
       "    <tr>\n",
       "      <th>4</th>\n",
       "      <td>1</td>\n",
       "      <td>2</td>\n",
       "      <td>3</td>\n",
       "      <td>-1</td>\n",
       "    </tr>\n",
       "    <tr>\n",
       "      <th>5</th>\n",
       "      <td>0</td>\n",
       "      <td>1</td>\n",
       "      <td>2</td>\n",
       "      <td>-1</td>\n",
       "    </tr>\n",
       "    <tr>\n",
       "      <th>6</th>\n",
       "      <td>1</td>\n",
       "      <td>1</td>\n",
       "      <td>2</td>\n",
       "      <td>1</td>\n",
       "    </tr>\n",
       "    <tr>\n",
       "      <th>7</th>\n",
       "      <td>1</td>\n",
       "      <td>1</td>\n",
       "      <td>1</td>\n",
       "      <td>1</td>\n",
       "    </tr>\n",
       "    <tr>\n",
       "      <th>8</th>\n",
       "      <td>1</td>\n",
       "      <td>3</td>\n",
       "      <td>1</td>\n",
       "      <td>-1</td>\n",
       "    </tr>\n",
       "    <tr>\n",
       "      <th>9</th>\n",
       "      <td>0</td>\n",
       "      <td>2</td>\n",
       "      <td>1</td>\n",
       "      <td>-1</td>\n",
       "    </tr>\n",
       "  </tbody>\n",
       "</table>\n",
       "</div>"
      ],
      "text/plain": [
       "   身体  业务能力  发展潜力  分类\n",
       "0   0     1     3  -1\n",
       "1   0     3     1  -1\n",
       "2   1     2     2  -1\n",
       "3   1     1     3  -1\n",
       "4   1     2     3  -1\n",
       "5   0     1     2  -1\n",
       "6   1     1     2   1\n",
       "7   1     1     1   1\n",
       "8   1     3     1  -1\n",
       "9   0     2     1  -1"
      ]
     },
     "execution_count": 6,
     "metadata": {},
     "output_type": "execute_result"
    }
   ],
   "source": [
    "# 创建原始数据的np array\n",
    "data = np.array([\n",
    "    [0, 1, 3, -1],\n",
    "    [0, 3, 1, -1],\n",
    "    [1, 2, 2, -1],\n",
    "    [1, 1, 3, -1],\n",
    "    [1, 2, 3, -1],\n",
    "    [0, 1, 2, -1],\n",
    "    [1, 1, 2, 1],\n",
    "    [1, 1, 1, 1],\n",
    "    [1, 3, 1, -1],\n",
    "    [0, 2, 1, -1]\n",
    "])\n",
    "\n",
    "# 将np array转换为DataFrame\n",
    "df = pd.DataFrame(data, columns=['身体', '业务能力', '发展潜力', '分类'])\n",
    "\n",
    "df"
   ]
  },
  {
   "cell_type": "code",
   "execution_count": null,
   "metadata": {},
   "outputs": [],
   "source": [
    "#| export\n",
    "import matplotlib.pyplot as plt\n",
    "from mpl_toolkits.mplot3d import Axes3D"
   ]
  },
  {
   "cell_type": "code",
   "execution_count": null,
   "metadata": {},
   "outputs": [],
   "source": [
    "#| export\n",
    "# 创建图表，\n",
    "# 需要有网格线，\n",
    "# 需要有文本标注点的名字和坐标\n",
    "# 坐标轴名称和正负例的图例要和李航书的一样\n",
    "# 正负例的形状不同（黑白打印的审稿人），颜色不同\n",
    "\n",
    "def plot_binary_classification_3d(X, y, labels=[1, -1], label_names=['正例', '负例'],\n",
    "                                  label_colors=['blue', 'red'],\n",
    "                                  label_markers=['o', 'x'], \n",
    "                                  x_names=['x(1)', 'x(2)', 'x(3)'], \n",
    "                                  point_size=100,\n",
    "                                  text_offset=(0.1, 0.1, 0.1), \n",
    "                                  point_names=None, \n",
    "                                  title='数据点可视化', \n",
    "                                  size=(9, 6), \n",
    "                                  ):\n",
    "    fig = plt.figure()\n",
    "    ax = fig.add_subplot(111, projection='3d')\n",
    "\n",
    "    if point_names is None:\n",
    "        point_names = [f'x{i+1}' for i in range(len(X))]\n",
    "\n",
    "    # 绘制正例和负例，并标注点名和坐标\n",
    "    label_has_drawn = set()\n",
    "    for i, (x, label) in enumerate(zip(X, y)):\n",
    "        \n",
    "        label_idx = labels.index(label)\n",
    "        if label_idx in label_has_drawn:\n",
    "            label_name = ''\n",
    "        else:\n",
    "            label_has_drawn.add(label_idx)\n",
    "            label_name = label_names[label_idx]\n",
    "        \n",
    "        ax.scatter(x[0], x[1], x[2], color=label_colors[label_idx], marker=label_markers[label_idx], \n",
    "                   label=label_name, \n",
    "                   s=point_size)\n",
    "        ax.text(x[0] + text_offset[0], x[1] + text_offset[1], x[2] + text_offset[2], f' {point_names[i]} ({x[0]}, {x[1]}, {x[2]})', fontsize=12, ha='left')\n",
    "\n",
    "    # 添加网格线\n",
    "    ax.grid(True)\n",
    "\n",
    "    # 添加图例\n",
    "    ax.legend()\n",
    "\n",
    "    # 修改坐标轴名称\n",
    "    ax.set_xlabel(x_names[0])\n",
    "    ax.set_ylabel(x_names[1])\n",
    "    ax.set_zlabel(x_names[2])\n",
    "    ax.set_title(title)\n",
    "    fig.set_size_inches(*size)\n",
    "    \n",
    "    ax.set_box_aspect((1,1,1))\n",
    "    \n",
    "    return fig, ax"
   ]
  },
  {
   "cell_type": "code",
   "execution_count": 9,
   "metadata": {},
   "outputs": [
    {
     "data": {
      "image/png": "[encoded data removed]",
      "text/plain": [
       "<Figure size 900x600 with 1 Axes>"
      ]
     },
     "metadata": {},
     "output_type": "display_data"
    }
   ],
   "source": [
    "X_columns = ['身体', '业务能力', '发展潜力']\n",
    "y_column = '分类'\n",
    "X = df[X_columns].values\n",
    "y = df[y_column].values\n",
    "fig, ax = plot_binary_classification_3d(X, y,x_names=X_columns)\n",
    "plt.show()\n"
   ]
  },
  {
   "cell_type": "markdown",
   "metadata": {},
   "source": [
    "接下来尝试使用 AdaBoost算法"
   ]
  },
  {
   "cell_type": "markdown",
   "metadata": {},
   "source": [
    "### 解题 {#sec-1-solution}\n",
    "\n"
   ]
  },
  {
   "cell_type": "markdown",
   "metadata": {},
   "source": [
    "#### 解法一：手算推导法（考试写解答题）"
   ]
  },
  {
   "cell_type": "markdown",
   "metadata": {},
   "source": [
    "初始化权值分布 $D_1 = (w_{1, 1}, w_{1, 2}, \\cdots, w_{1, 10}) = (\\frac{1}{10}, \\frac{1}{10}, \\cdots, \\frac{1}{10})$\n",
    "\n",
    "1. 首先我们在 $D_1$ 上学习决策树桩。决策树桩有很多种学习准则，比较常用的 AdaBoost-SAMME 方法选择的是 CART 决策树的分类树,[参考](https://scikit-learn.org/dev/modules/ensemble.html#adaboost)，也就是用 gini 系数来做特征选择，同时选择最优二值切分点。\n",
    "\n",
    "首先计算“身体”这个属性的基尼指数。\n",
    "\n",
    " $$Gini(D_1, 身体=0 or not) = \\frac{4}{10}(1- (1^2 + 0^2)) + \\frac{6}{10}( 1- (\\frac{4}{6}^2 + \\frac{2}{6}^2)) = \\frac{4}{15}$$\n",
    " \n",
    " ， 最优切分点是“是否 身体=0”，因为没有别的选择。\n",
    "\n",
    " 注意这里 李航书上的表示是具有误导性的，李航书上写的  $Gini(D_1, 身体=0)$ 表示的是 身体=0这个子集上的基尼指数，而我们这里是在说 身体==0 这个特征，严谨的表述是 $Gini(D_1, 身体==0)$\n",
    " <!-- 因为0更小最优切分点是“是否 身体=0”，当然这里只有两个取值，所以不用选，算基尼指数是为了和别的属性比较。 -->\n",
    "\n",
    "同理可得\n",
    "$$Gini(D_1, 业务能力==1), Gini(D_1, 业务能力==2),Gini(D_1, 业务能力==3)$$\n",
    "\n",
    "$$Gini(D_1, 发展潜力==1), Gini(D_1, 发展潜力==2), Gini(D_1, 发展潜力==3)$$\n",
    "\n",
    "由于 Gini(D_1, 业务能力==1) 最小，\n",
    "\n",
    "$$\n",
    "G_1 = \n",
    "\\begin{cases}\n",
    "1, & \\text{如果 } 业务能力==1; \\\\\n",
    "-1, & \\text{如果 } 业务能力!=1 .\n",
    "\\end{cases}\n",
    "$$\n",
    "\n",
    "注意这里是不平衡二分类，所以我们对CART做了调整，要不然两个树桩都是-1.\n"
   ]
  },
  {
   "cell_type": "code",
   "execution_count": 10,
   "metadata": {},
   "outputs": [],
   "source": [
    "#| export\n",
    "def calculate_gini_index_for_subset(df_subset):\n",
    "    \"\"\"\n",
    "    计算给定 DataFrame 子集的 Gini 指数。\n",
    "    \n",
    "    参数:\n",
    "    df_subset (pd.DataFrame): 包含类别标签的 DataFrame 子集。\n",
    "    \n",
    "    返回:\n",
    "    float: Gini 指数。\n",
    "    \"\"\"\n",
    "    # 获取类别标签的频率\n",
    "    class_counts = df_subset.iloc[:, -1].value_counts()\n",
    "    total_instances = len(df_subset)\n",
    "    \n",
    "    # 计算 Gini 指数\n",
    "    gini_index = 1.0 - sum((count / total_instances) ** 2 for count in class_counts)\n",
    "    \n",
    "    return gini_index\n",
    "\n",
    "def calculate_gini_index(df, feature, value):\n",
    "    # 提取特征等于特定值的数据子集\n",
    "    equal_set = df[df[feature] == value]\n",
    "    ne_set = df[df[feature] != value]\n",
    "    \n",
    "    equal_ratio = len(equal_set) / len(df)\n",
    "    ne_ratio = len(ne_set) / len(df)\n",
    "    \n",
    "    equal_set_gini_index = calculate_gini_index_for_subset(equal_set)\n",
    "    ne_set_gini_index = calculate_gini_index_for_subset(ne_set)\n",
    "    \n",
    "    return (equal_ratio * equal_set_gini_index) + (ne_ratio * ne_set_gini_index)\n",
    "    \n",
    "    "
   ]
  },
  {
   "cell_type": "code",
   "execution_count": 11,
   "metadata": {},
   "outputs": [
    {
     "data": {
      "text/plain": [
       "(0.26666666666666666,\n",
       " 0.24,\n",
       " 0.2857142857142857,\n",
       " 0.30000000000000004,\n",
       " 0.31666666666666665,\n",
       " 0.3047619047619048,\n",
       " 0.2857142857142857)"
      ]
     },
     "execution_count": 11,
     "metadata": {},
     "output_type": "execute_result"
    }
   ],
   "source": [
    "gini_body_0 = calculate_gini_index(df, '身体', 0)\n",
    "gini_yewu_1 = calculate_gini_index(df, '业务能力', 1)\n",
    "gini_yewu_2 = calculate_gini_index(df, '业务能力', 2)\n",
    "gini_yewu_3 = calculate_gini_index(df, '业务能力', 3)\n",
    "gini_fazhan_1 = calculate_gini_index(df, '发展潜力', 1)\n",
    "gini_fazhan_2 = calculate_gini_index(df, '发展潜力', 2)\n",
    "gini_fazhan_3 = calculate_gini_index(df, '发展潜力', 3)\n",
    "\n",
    "gini_body_0, gini_yewu_1, gini_yewu_2, gini_yewu_3, gini_fazhan_1, gini_fazhan_2, gini_fazhan_3"
   ]
  },
  {
   "cell_type": "markdown",
   "metadata": {},
   "source": [
    "\n",
    "2. 训练数据集上的分类误差率是 $e_1 = P(G_1(x_i) \\ne y_i) = 0.3$ , 因为样本 1,4,6 都分错了\n",
    "\n",
    "3. $G_1(x)$ 的 系数 \\alpha_1 = \\frac{1}{2} \\log (\\frac｛ 1-0.3 ｝｛ 0.3 ｝)\n",
    "\n",
    "更新 $D_2$, 分类错误的1, 4, 6 权重提升为 0.16667,  其他样本分类正确，降低为 0.07143\n"
   ]
  },
  {
   "cell_type": "code",
   "execution_count": 13,
   "metadata": {},
   "outputs": [
    {
     "data": {
      "text/plain": [
       "0.42364893019360184"
      ]
     },
     "execution_count": 13,
     "metadata": {},
     "output_type": "execute_result"
    }
   ],
   "source": [
    "e = 0.3\n",
    "alpha = 0.5 * np.log((1 - e) / e)\n",
    "alpha"
   ]
  },
  {
   "cell_type": "markdown",
   "metadata": {},
   "source": [
    "同理我们可以在 $D_2$ 上学习决策树桩。\n",
    "三轮之后，我们可以得到分类正确率 100% 的集成模型。"
   ]
  },
  {
   "cell_type": "markdown",
   "metadata": {},
   "source": [
    "#### 解法二：使用Python和机器学习库（科研使用）\n",
    "\n",
    "参考 https://scikit-learn.org/dev/modules/generated/sklearn.ensemble.AdaBoostClassifier.html#sklearn.ensemble.AdaBoostClassifier"
   ]
  },
  {
   "cell_type": "code",
   "execution_count": null,
   "metadata": {},
   "outputs": [],
   "source": [
    "from sklearn.ensemble import AdaBoostClassifier\n",
    "import numpy as np"
   ]
  },
  {
   "cell_type": "code",
   "execution_count": null,
   "metadata": {},
   "outputs": [
    {
     "name": "stderr",
     "output_type": "stream",
     "text": [
      "/home/ye_canming/program_files/managers/conda/envs/yuequ/lib/python3.10/site-packages/sklearn/ensemble/_weight_boosting.py:527: FutureWarning: The SAMME.R algorithm (the default) is deprecated and will be removed in 1.6. Use the SAMME algorithm to circumvent this warning.\n",
      "  warnings.warn(\n"
     ]
    },
    {
     "data": {
      "text/plain": [
       "1.0"
      ]
     },
     "execution_count": 19,
     "metadata": {},
     "output_type": "execute_result"
    }
   ],
   "source": [
    "clf = AdaBoostClassifier(n_estimators=3)\n",
    "clf.fit(X, y)\n",
    "y_predict = clf.predict(X)\n",
    "score = clf.score(X, y)\n",
    "score"
   ]
  },
  {
   "cell_type": "code",
   "execution_count": 20,
   "metadata": {},
   "outputs": [
    {
     "data": {
      "text/plain": [
       "[DecisionTreeClassifier(max_depth=1, random_state=1986558224),\n",
       " DecisionTreeClassifier(max_depth=1, random_state=209715172),\n",
       " DecisionTreeClassifier(max_depth=1, random_state=1797073605)]"
      ]
     },
     "execution_count": 20,
     "metadata": {},
     "output_type": "execute_result"
    }
   ],
   "source": [
    "clf.estimators_"
   ]
  },
  {
   "cell_type": "code",
   "execution_count": 21,
   "metadata": {},
   "outputs": [
    {
     "data": {
      "text/plain": [
       "array([2.00000000e-01, 1.66666673e-01, 2.25517146e-08])"
      ]
     },
     "execution_count": 21,
     "metadata": {},
     "output_type": "execute_result"
    }
   ],
   "source": [
    "clf.estimator_errors_"
   ]
  },
  {
   "cell_type": "code",
   "execution_count": 22,
   "metadata": {},
   "outputs": [
    {
     "data": {
      "text/plain": [
       "array([1., 1., 1.])"
      ]
     },
     "execution_count": 22,
     "metadata": {},
     "output_type": "execute_result"
    }
   ],
   "source": [
    "clf.estimator_weights_"
   ]
  },
  {
   "cell_type": "markdown",
   "metadata": {},
   "source": [
    "注意第一轮的弱分类器因为数据不平衡，所以选择所有样本的都是1，所以分类误差率是0.2, 而不是我们的0.3"
   ]
  },
  {
   "cell_type": "markdown",
   "metadata": {},
   "source": [
    "## 第二题——理解AdaBoost和其他方法的关系 {#sec-2}\n",
    "\n",
    "题目如下\n",
    "> 比较支持向量机、AdaBoost、逻辑斯谛回归模型的学习策略与算法。\n"
   ]
  },
  {
   "cell_type": "markdown",
   "metadata": {},
   "source": [
    "### 解题 {#sec-2-solution}\n"
   ]
  },
  {
   "cell_type": "markdown",
   "metadata": {},
   "source": [
    "| 特性       | 支持向量机 (SVM) | AdaBoost | AdaBoost第二种理解 | 逻辑斯谛回归模型 |\n",
    "|------------|----------------|---------|------------------|------------------|\n",
    "| 模型       | w和b表示的分割超平面 | 弱学习器组合成的强学习器 | (弱学习器作为基函数提取的特征的)加法模型 | w和b表示的分割超平面 |\n",
    "| 学习策略（训练损失） | 间隔最大化      | 关注错误样本 | 最小化指数损失 | 最大化似然函数   |\n",
    "| 参数学习算法   | 原始问题梯度下降、对偶问题凸二次规划、SMO算法等 | 多轮迭代改变样本概率分布，学习多个弱分类器，根据错误率组合弱分类器为强分类器 | 前向分步算法   | 梯度下降、拟牛顿法等   |\n",
    "| 优缺点     | 泛化能力强，对参数敏感 | 减小偏差，对异常值敏感 | 同左列 | 效率高，非线性表现不佳 |"
   ]
  },
  {
   "cell_type": "markdown",
   "metadata": {},
   "source": [
    "我们可以画出一个思维导图"
   ]
  },
  {
   "cell_type": "markdown",
   "metadata": {},
   "source": [
    "```{mermaid}\n",
    "graph LR\n",
    "    A[Machine Learning Algorithms] --> B[Support Vector Machine SVM]\n",
    "    A --> C[AdaBoost]\n",
    "    A --> E[Logistic Regression Model]\n",
    "    \n",
    "    B -->|Model| B1[Separating Hyperplane w and b]\n",
    "    B -->|Learning Strategy Training Loss| B2[Margin Maximization]\n",
    "    B -->|Parameter Learning Algorithm| B3[Gradient Descent for Primal Problem, Convex Quadratic Programming for Dual Problem, SMO Algorithm, etc.]\n",
    "    B -->|Advantages and Disadvantages| B4[Strong Generalization, Sensitive to Parameters]\n",
    "    \n",
    "    C -->|Model| C1[Combination of Weak Learners into a Strong Learner]\n",
    "    C -->|Learning Strategy Training Loss| C2[Focus on Misclassified Samples]\n",
    "    C -->|Parameter Learning Algorithm| C3[Multiple Iterations to Change Sample Probability Distribution, Learning Multiple Weak Classifiers, Combining Weak Classifiers into a Strong Classifier Based on Error Rate]\n",
    "    C -->|Advantages and Disadvantages| C4[Reduces Bias, Sensitive to Outliers]\n",
    "    \n",
    "    E -->|Model| E1[Separating Hyperplane w and b]\n",
    "    E -->|Learning Strategy Training Loss| E2[Minimization of Exponential Loss]\n",
    "    E -->|Parameter Learning Algorithm| E3[Gradient Descent, Quasi-Newton Methods, etc.]\n",
    "    E -->|Advantages and Disadvantages| E4[High Efficiency, Poor Performance on Non-linear Problems]\n",
    "\n",
    "\n",
    "```"
   ]
  },
  {
   "cell_type": "markdown",
   "metadata": {},
   "source": [
    "### 题目扩展问题\n",
    "\n",
    "\n",
    "\n"
   ]
  },
  {
   "cell_type": "code",
   "execution_count": 10,
   "metadata": {},
   "outputs": [],
   "source": [
    "#| hide\n",
    "import nbdev; nbdev.nbdev_export()"
   ]
  }
 ],
 "metadata": {
  "kernelspec": {
   "display_name": "yuequ",
   "language": "python",
   "name": "python3"
  },
  "language_info": {
   "codemirror_mode": {
    "name": "ipython",
    "version": 3
   },
   "file_extension": ".py",
   "mimetype": "text/x-python",
   "name": "python",
   "nbconvert_exporter": "python",
   "pygments_lexer": "ipython3",
   "version": "3.10.12"
  }
 },
 "nbformat": 4,
 "nbformat_minor": 2
}
