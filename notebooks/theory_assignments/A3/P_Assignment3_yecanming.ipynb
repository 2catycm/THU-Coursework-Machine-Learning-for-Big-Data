{
 "cells": [
  {
   "cell_type": "markdown",
   "metadata": {},
   "source": [
    "<img src=\"../../thu_sigs_logo.png\" alt=\"清华深研院-横\" style=\"zoom:50%;\" />"
   ]
  },
  {
   "cell_type": "raw",
   "metadata": {},
   "source": [
    "---\n",
    "title: \"朴素贝叶斯与决策树的深入理解\"\n",
    "subtitle: \"大数据机器学习课程第三次作业\"\n",
    "author: \"叶璨铭 (2024214500) \\n ycm24@mails.tsinghua.edu.cn\"\n",
    "date: \"2024-10-20\"\n",
    "toc: true\n",
    "number-sections: true\n",
    "highlight-style: pygments\n",
    "date-format: full\n",
    "lang: zh\n",
    "bibliography: [../../references.bib]\n",
    "format: \n",
    "  html:\n",
    "    code-fold: true\n",
    "  gfm: default\n",
    "jupyter: python3\n",
    "---"
   ]
  },
  {
   "cell_type": "code",
   "execution_count": null,
   "metadata": {
    "vscode": {
     "languageId": "python"
    }
   },
   "outputs": [],
   "source": [
    "#| hide\n",
    "#| default_exp tree\n",
    "# pdf:\n",
    "#   toc: true\n",
    "#   docx: default"
   ]
  },
  {
   "cell_type": "code",
   "execution_count": null,
   "metadata": {
    "vscode": {
     "languageId": "python"
    }
   },
   "outputs": [],
   "source": [
    "#|hide\n",
    "import matplotlib.pyplot as plt\n",
    "plt.style.use('default')"
   ]
  },
  {
   "cell_type": "markdown",
   "metadata": {},
   "source": [
    "::: {.callout-important}\n",
    "本文档具有一定的交互性，建议使用浏览器打开html文件，这样比pdf文件阅读体验更佳。\n",
    ":::"
   ]
  },
  {
   "cell_type": "markdown",
   "metadata": {},
   "source": [
    "## 第一题——朴素贝叶斯法概率估计公式推导 {#sec-1}\n",
    "\n",
    "题目如下\n",
    "\n",
    "> 用贝叶斯估计法推出朴素贝叶斯法中的概率估计公式(4.10)和(4.11)\n",
    "> $\\begin{aligned}P_{\\lambda}(X^{(j)}=a_{jl}|Y=C_{k})=& \\frac{\\sum_{i=1}^{N}I(x_{i}^{(j)}=a_{jl},y_{i}=c_{k})+\\lambda}{\\sum_{i=1}^{N}I(y_{i}=c_{k})+S_{j}\\lambda}\\end{aligned}$\n",
    "\n"
   ]
  },
  {
   "cell_type": "markdown",
   "metadata": {},
   "source": [
    "::: {.callout-note}\n",
    "TL; DR 前面审题内容较长，学习了一些这道题的一些背景知识方便理解。\n",
    "对于题目的证明，可以直接跳到解题部分@sec-proof。\n",
    ":::"
   ]
  },
  {
   "cell_type": "markdown",
   "metadata": {},
   "source": [
    "### 审题\n",
    "\n",
    "#### 4.10和4.11式是什么？题目所给的式子是另一个公式吗？\n",
    "\n",
    "根据李航机器学习方法课本内容[@LiHang_2019] 54 页，\n",
    "\n",
    "4.10 式就是题目汇中给的式子，即：\n",
    "$$\n",
    "\\boldsymbol{P_{\\lambda}(X^{(j)}=a_{jl}|Y=c_{k})=\\frac{(\\sum_{i=1}^{N}I(x_{i}^{(j)}=a_{jl},y_{i}=c_{k}))+\\lambda}{(\\sum_{i=1}^{N}I(y_{i}=c_{k}))+S_{j}\\lambda}}\n",
    "$$ {#eq-4-10}\n",
    "\n",
    "书中说，用极大似然估计可能会出现所要估计的概率值为0的情况。这时会影响后验概率的计算\n",
    "结果，使分类产生偏差。而上式就是为了解决这个问题而提出的，上式是对**条件概率的贝叶斯估计**，引入了一个新的参数$\\lambda \\ge 0$，等价于在每一个随机变量的取值频数都增加$\\lambda$次。当 $\\lambda=0$ 时，等价于使用极大似然估计， 当 $\\lambda = 1$ 时，称为拉普拉斯平滑。\n",
    "\n",
    "朴素贝叶斯需要知道怎么估计先验概率和条件概率（似然），刚才4.10估计了条件概率，接下来4.11式是估计先验概率怎么用上拉普拉斯平滑，即：\n",
    "$$\n",
    "P_{\\lambda}\\left(Y=c_{k}\\right)=\\frac{(\\sum_{i=1}^{N} I\\left(y_{i}=c_{k}\\right))+\\lambda}{N+K \\lambda}\n",
    "$$ {#eq-4-11}\n",
    "\n",
    "::: {.callout-warning}\n",
    "李航书上的原式对括号的位置不清晰，让人分不清楚$+\\lambda$ 是在求和操作$\\sum$的里面还是外面。为了避免歧义，我们上面已经修改，加上了括号，即$+\\lambda$的操作是在求和操作$\\sum$结束之后。\n",
    ":::\n"
   ]
  },
  {
   "cell_type": "markdown",
   "metadata": {},
   "source": [
    "\n",
    "\n",
    "#### 本题要从什么推导到什么？\n",
    "\n",
    "4.10和4.11都是推导的结果，即贝叶斯估计的结果，但是李航书上没有说具体为什么加上$\\lambda$ 就是贝叶斯估计了，具体是怎么贝叶斯估计的，所以本题需要我们推导。\n",
    "\n",
    "#### 以上公式中的符号是什么含义？\n",
    "我们需要了解 [@eq-4-10] 和 [@eq-4-11] 中的符号含义。\n",
    "\n",
    "- 首先最基础的\n",
    "    - $ X \\subseteq R^n $：表示输入空间是n维向量集合。\n",
    "    - $ Y = { c_1, c_2,..., c_K } $：输出空间为类别标签集合，共有K个不同的类。\n",
    "    - 输入特征向量 $ x \\in X $，输出类别标签（class label）$ y \\in Y $。X是在输入空间上的随机变量，Y是在输出空间上的随机变量。\n",
    "    - P(X,Y) 是X和Y的联合概率分布。\n",
    "    - 训练数据集T由N对独立的同分布产生的样本组成，每对包括一个来自X的特征向量和一个来自Y的类别标签。\n",
    "- 实际上为了方便推导，这里$X^{(j)}$ 的取值是离散的，并不是$R^n$上的连续随机变量。\n",
    "    - 这里假设设第j个特征$x^{(i)}$可能取值的集合为$\\{a_{j_1},a_{j_2},…,a_{j_{S_j}}\\}$, 其中$S_j$为第j个特征的取值个数。$a_{jl}$用下标$l$来表示是第几个取值。\n",
    "    - $I$为指示函数。"
   ]
  },
  {
   "cell_type": "markdown",
   "metadata": {},
   "source": [
    "::: {.callout-note}\n",
    "李航书上推导的是[Categorical Naive Bayes][MultinomialNB]，输入的是离散型随机变量。如果是连续型随机变量，则需要使用[Gaussian Naive Bayes][GaussianNB]。\n",
    ":::\n",
    "\n",
    "[CategoricalNB]: https://scikit-learn.org/1.5/modules/naive_bayes.html#categorical-naive-bayes\n",
    "[MultinomialNB]: https://scikit-learn.org/1.5/modules/naive_bayes.html#multinomial-naive-bayes\n",
    "[GaussianNB]: https://scikit-learn.org/1.5/modules/naive_bayes.html#gaussian-naive-bayes\n"
   ]
  },
  {
   "cell_type": "markdown",
   "metadata": {},
   "source": [
    "#### 一个问题，式子[@eq-4-10] 和 式子[@eq-4-11]中的$\\lambda$是同一个参数吗？\n",
    "- 如果按照李航书上说的“在随机变量各个取值的频数上赋予一个正数$\\lambda$”，那么比较难理解，到底是在$X^{(j)}$的每个取值上面加一共$S_j$次经验，还是在Y的每个类别上一共加上$K$次经验？\n",
    "- 这两个都取1不会矛盾吗？\n",
    "- 根据例题4.2，实际上就是都是取1。\n",
    "\n",
    "\n"
   ]
  },
  {
   "cell_type": "markdown",
   "metadata": {},
   "source": [
    "### 解题\n",
    "\n",
    "#### 总体推导原则\n",
    "\n",
    "朴素贝叶斯法需要学习 $P(Y=c_k)$ 和 $P(X^{(j)}|Y=c_k)$ 这两系列的参数，所谓学习就是通过统计学方法对参数进行估计。\n",
    "给定一个具体的数据集，极大似然估计的意思是计算出上面这两个参数每一个具体取值下，数据集如此出现的概率（似然），通过最大化这个似然，我们可以得到最有可能的模型参数。\n",
    "\n",
    "而贝叶斯估计法，根据我们PPT课件中学习的知识，则是认为$P(Y=c_k)$ 和 $P(X^{(j)}|Y=c_k)$参数本身作为随机变量，具有先验分布，在我们观察到数据集$T = \\{(x_1,y_1), ..., (x_N,y_N)\\}$之后，我们后验地更新我们对这两个参数分布的认知，最后可能以参数分布的期望或者使得后验最大的值作为我们对参数的估计。\n",
    "\n",
    "根据课件上的内容，最后决策的时候，也可以不使用参数的估计，而是把整个参数的后验分布拿过来，去积分来对预测值求一个分布，称为后验预测分布。\n",
    "#### 符号简化\n",
    "\n",
    "我们记$P(Y=c_k)$这k个参数为随机向量$\\theta_k$\n",
    "\n",
    "记$P(X^{(j)}=a_{jl}|Y=c_k)$这j个参数为随机向量$\\theta_{kl}$\n",
    "\n",
    "#### 取什么共轭先验分布？{#sec-prior}\n",
    "\n",
    "$\\theta_k=P(Y=c_k)$ 中有K个参数，需要满足加起来等于1，而且每个值非负的约束条件。\n",
    "\n",
    "$\\theta_{kl}=P(X^{(j)}|Y=c_k)$ 我们不妨只管第j个特征，其他的特征是独立的，推导起来是一样的，那么j是已知了，这里需要估计$S_j \\times K$ 个参数。同样也需要满足约束条件，对于每个具体的$c_k$, $\\boldsymbol{P(X^{(j)}=a_{jl}|Y=c_{k})}$ 所有$X^{(j)}$取值加起来等于1，以及取值非负。\n",
    "\n",
    "对于这种要求加起来等于1的约束条件，可以选择[狄利克雷分布（Dirichlet Distribution）][Dirichlet Distribution]作为先验分布。狄利克雷分布又称[多元Beta分布(multivariate Beta distribution)][多元Beta分布]。\n",
    "\n",
    "设随机变量$\\theta_k$组成的随机向量$\\theta_{1:k}$ 服从 $Dir(\\alpha_{1:k})$，其中$\\alpha_{1:k}$ 是先验分布的超参数，是一个K维向量，且每个元素$\\alpha_k>0$。\n",
    "$$\n",
    "P(\\theta_{1:k} | \\alpha_{1:k}) = \\frac{1}{B(\\alpha_{1:k})} \\prod_{k=1}^K \\theta_k^{\\alpha_k-1}\n",
    "$$\n",
    "\n",
    "为了进一步简化问题，我们不妨认为这个分布是对称狄利克雷分布，即$\\forall k, \\alpha_k=\\lambda$。$\\lambda$被称为浓度参数。\n",
    "\n",
    "\n",
    "\n",
    "[Dirichlet Distribution]: https://zh.wikipedia.org/wiki/%E7%8B%84%E5%88%A9%E5%85%8B%E9%9B%B7%E5%88%86%E5%B8%83\n",
    "\n",
    "[多元Beta分布]: https://baike.baidu.com/item/%E7%8B%84%E5%88%A9%E5%85%8B%E9%9B%B7%E5%88%86%E5%B8%83/12728892\n"
   ]
  },
  {
   "cell_type": "markdown",
   "metadata": {},
   "source": [
    "#### 推导4.11式（朴素贝叶斯的\"类别先验分布\"参数的贝叶斯估计后验分布） {#sec-proof}\n",
    "\n",
    "根据贝叶斯公式，我们有：\n",
    "$$\n",
    "\\begin{aligned}\n",
    "P(\\theta_{1:k} | \\alpha_{1:k}, T_{1:N}) &= \\frac{P(T_{1:N} | \\theta_{1:k}, \\alpha_{1:k}) P(\\theta_{1:k}|\\alpha_{1:k})}{P(T_{1:N}| \\alpha_{1:k})} \\\\\n",
    " &\\propto P(T_{1:N} | \\theta_{1:k}, \\alpha_{1:k}) P(\\theta_{1:k}|\\alpha_{1:k}) \\\\\n",
    " &= P(T_{1:N} | \\theta_{1:k}) P(\\theta_{1:k}|\\alpha_{1:k}) \\\\\n",
    " &= likelihood \\times prior \\\\\n",
    "\\end{aligned} \n",
    "$$\n",
    "\n",
    "1. 其中数据集的似然函数，我们有：\n",
    "$$\n",
    "\\begin{aligned}\n",
    "P(T_{1:N} | \\theta_{1:k}) &= \\prod_{n=1}^N P(t_n|\\theta_{1:k}) \\\\\n",
    "\\end{aligned} \n",
    "$$\n",
    "其中 $P(t_n|\\theta_{1:k})$ 的值是，如果$t_n = (x_n, y_n)$的$y_n = c_k$, 则值为 $\\theta_k$, \n",
    "也就是 $P(t_n|\\theta_{1:k}) = \\prod_{k=1}^K I(y_n = c_k) \\times \\theta_{k}$。\n",
    "\n",
    "据此我们可以换一下整个式子求积的方式，原本是对每一个样本求积，现在我们只需要对每个类别求积即可：\n",
    "\n",
    "$$\n",
    "\\begin{aligned}\n",
    "P(T_{1:N} | \\theta_{1:k}) &= \\prod_{k=1}^K \\theta_{k}^{N_k} \\\\\n",
    "\\end{aligned} \n",
    "$$\n",
    "\n",
    "\n",
    "2. 而对于先验分布，代入@sec-prior的狄利克雷分布公式：\n",
    "$$\n",
    "\\begin{aligned}\n",
    "P_{\\lambda}(\\theta_{1:k}|\\alpha_{1:k}) &= \\frac{1}{B(\\lambda)} \\prod_{k=1}^K \\theta_k^{\\lambda-1}\n",
    "\\end{aligned} \n",
    "$$\n"
   ]
  },
  {
   "cell_type": "markdown",
   "metadata": {},
   "source": [
    "\n",
    "3. 根据1.和2.，我们有后验分布：\n",
    "\n",
    "$$\n",
    "\\begin{aligned}\n",
    "P(\\theta_{1:k} | \\alpha_{1:k}, T_{1:N}) &\\propto likelihood \\times prior \\\\\n",
    "&\\propto \\prod_{k=1}^K \\theta_k^{N_k + \\lambda-1}\n",
    "\\end{aligned}\n",
    "$$\n",
    "\n",
    "$\\theta_{1:k}$ 在已知$\\alpha_{1:k}, T_{1:N}$的情况下，服从对称Dirichlet分布 $Dir(\\alpha_{N_k + \\lambda})$。\n",
    "\n",
    "而Dirichlet分布每一个$\\theta_k$的期望为其对应的参数$\\alpha_k$的占比。\n",
    "\n",
    "因此，我们就可以用后验分布的期望来估计$\\theta_{1:k}$。\n",
    "\n",
    "$$\n",
    "\\begin{aligned}\n",
    "P_{\\lambda}\\left(Y=c_{k}\\right) &= \\hat{\\theta_k} \\\\\n",
    "    &= E(\\theta_k| \\lambda, T_{1:N}) \\\\\n",
    "    & = \\frac{N_k + \\lambda}{\\sum_{k=1}^K (N_k + \\lambda)} \\\\\n",
    "    &=\\frac{(\\sum_{i=1}^{N} I\\left(y_{i}=c_{k}\\right))+\\lambda}{N+K \\lambda}\n",
    "\\end{aligned}\n",
    "\n",
    "$$\n",
    "即 [@eq-4-11] 式。\n"
   ]
  },
  {
   "cell_type": "markdown",
   "metadata": {},
   "source": [
    "#### 推导4.10式（朴素贝叶斯的\"条件概率\"参数的贝叶斯估计后验分布） {#sec-proof2}\n",
    "\n",
    "类似于@sec-prior，我们首先要定义条件概率$\\theta_{kl}$ 的先验分布\n",
    "\n",
    "设随机变量$\\theta_{kl}$组成的随机向量${\\theta_k}_{1:l}$ 服从 $Dir({\\alpha_k}_{1:l})$，其中${\\alpha_k}_{1:l}$ 是先验分布的超参数，是一个$S_j$维向量，且每个元素$\\alpha_{kl}>0$。\n",
    "$$\n",
    "P(\\theta_{k1:l} | \\alpha_{k1:l}) = \\frac{1}{B(\\alpha_{k1:l})} \\prod_{l=1}^{S_j} \\theta_{kl}^{\\alpha_{kl}-1}\n",
    "$$\n",
    "\n",
    "同理，为了进一步简化问题，我们不妨认为这个分布是对称狄利克雷分布，即$\\forall l, \\alpha_{kl}=\\lambda$。$\\lambda$被称为浓度参数。\n",
    "> 这里回答了上面我提出的问题，实际上两个式子的$\\lambda$可以不一样，这取决于使用朴素贝叶斯的人的偏好和经验，由于正好我们都要做拉普拉斯平滑，也就是$\\lambda=1$，所以正好两个$\\lambda$相等，但是也可以是不同的。\n",
    "\n",
    "\n",
    "与@sec-proof类似，我们可以做一样的推导，只是把符号替换\n",
    "- K替换为$S_j$\n",
    "- $\\theta_{k}$替换为${\\theta_kl}$\n",
    "- $\\alpha_{k}$替换为${\\alpha_kl}$\n",
    "\n",
    "\n",
    "$$\n",
    "\\begin{aligned}\n",
    "P_{\\lambda} (X^{(j)}=a_{jl}|Y=c_{k}) \n",
    "  &= \\hat{\\theta_{kl}} \\\\\n",
    "   &= E(\\theta_{kl}|\\lambda, T_{1:N}) \\\\\n",
    "    &=\\frac{(\\sum_{i=1}^{N}I(x_{i}^{(j)}=a_{jl},y_{i}=c_{k}))+\\lambda}{(\\sum_{i=1}^{N}I(y_{i}=c_{k}))+S_{j}\\lambda}\n",
    "\\end{aligned}\n",
    "$$ "
   ]
  },
  {
   "cell_type": "markdown",
   "metadata": {},
   "source": [
    "### 题目扩展问题\n",
    "\n",
    "#### 贝叶斯估计的先验是否可以被任意地操控，让我们的后验分布变成任意的分布？如果是这样，那么我们如何保证先验分布的合理性？\n",
    "\n",
    "#### 贝叶斯估计参数的后验分布的期望能否代替后验分布本身来预测新的数据的分布？\n",
    "\n",
    "\n"
   ]
  },
  {
   "cell_type": "markdown",
   "metadata": {},
   "source": [
    "## 第二题 {#sec-2}"
   ]
  },
  {
   "cell_type": "markdown",
   "metadata": {},
   "source": [
    "题目如下\n",
    "\n",
    "> 已知如表5.2所示的训练数据，试用平方误差损失准则生成一个二叉回归树。\n",
    "\n",
    "5.2 训练数据是\n"
   ]
  },
  {
   "cell_type": "code",
   "execution_count": null,
   "metadata": {
    "vscode": {
     "languageId": "python"
    }
   },
   "outputs": [
    {
     "data": {
      "text/plain": [
       "(array([ 1,  2,  3,  4,  5,  6,  7,  8,  9, 10]),\n",
       " array([4.5 , 4.75, 4.91, 5.34, 5.8 , 7.05, 7.9 , 8.23, 8.7 , 9.  ]))"
      ]
     },
     "execution_count": null,
     "metadata": {},
     "output_type": "execute_result"
    }
   ],
   "source": [
    "import numpy as np\n",
    "x = np.arange(1, 11)\n",
    "y = np.array([4.5, 4.75, 4.91, 5.34, 5.80, 7.05, 7.90, 8.23, 8.70, 9.00])\n",
    "x, y"
   ]
  },
  {
   "cell_type": "markdown",
   "metadata": {},
   "source": [
    "### 审题\n",
    "数据可视化如下"
   ]
  },
  {
   "cell_type": "code",
   "execution_count": null,
   "metadata": {
    "vscode": {
     "languageId": "python"
    }
   },
   "outputs": [
    {
     "data": {
      "image/png": "[encoded data removed]",
      "text/plain": [
       "<Figure size 640x480 with 1 Axes>"
      ]
     },
     "metadata": {},
     "output_type": "display_data"
    }
   ],
   "source": [
    "import matplotlib.pyplot as plt\n",
    "plt.plot(x, y, 'o-')\n",
    "plt.xlabel('x')\n",
    "plt.ylabel('y')\n",
    "plt.title('y vs x')\n",
    "plt.show()"
   ]
  },
  {
   "cell_type": "markdown",
   "metadata": {},
   "source": [
    "平方误差损失准则是什么？二叉回归树是什么？\n",
    "\n",
    "CART（Classification and Regression Tree）方法就是\"分类与回归树\"方法，CART对于输入X构建的决策树是二叉树，这里的分类与回归指的是输出变量Y是离散的还是连续的。CART认为回归树是要用平方误差作为损失函数，而分类树是要用基尼系数作为损失函数，所谓“准则”是指构建树的时候用损失函数来决定用哪个输入的属性来划分节点。\n",
    "\n",
    "具体来说，就是划分前后损失函数的变化。\n",
    "\n"
   ]
  },
  {
   "cell_type": "markdown",
   "metadata": {},
   "source": [
    "#### 解题\n",
    "\n",
    "我们直接通过写代码（注意这里有参考一些网上的代码，但是我们每一行都认真审查过了）来加深自己的理解，实现书上算法5.5。\n",
    "首先我们要定义二叉树的节点类，包括左右子树指针。\n",
    "\n",
    "对于决策树而言，二叉树的节点还需要记录\n",
    "- 特征 feature：记录当前节点划分的特征（用属性的编号j来表示）\n",
    "- 切分值 split：是如何划分左右子树的\n",
    "- 估计值 value：被划分到当前节点的输入可以用什么输出值（通过平均值）来估计"
   ]
  },
  {
   "cell_type": "code",
   "execution_count": null,
   "metadata": {
    "vscode": {
     "languageId": "python"
    }
   },
   "outputs": [],
   "source": [
    "import numpy as np\n",
    "\n",
    "class Node:\n",
    "    def __init__(self, feature=None, # 切分的特征\n",
    "                 split=None,  # 切分的值\n",
    "                 left:'Node'=None, # 左子树\n",
    "                 right:'Node'=None, # 右子树\n",
    "                 value=None # 叶子节点的预测值\n",
    "                 ):\n",
    "        self.feature = feature \n",
    "        self.split = split\n",
    "        self.left:'Node' = left\n",
    "        self.right:'Node' = right\n",
    "        self.value = value\n",
    "\n",
    "    def is_leaf_node(self):\n",
    "        return self.value is not None"
   ]
  },
  {
   "cell_type": "markdown",
   "metadata": {},
   "source": [
    "下面我们来写回归树类。我们一个一个方法的写（得益于fastcore库的`patch`函数，我们可以渐进式地给Python类添加方法），首先是构造函数，指定算法的超参数。\n",
    "\n",
    "原始的书上算法5.5 没有max_depth, 而 min_samples_split=2\n"
   ]
  },
  {
   "cell_type": "code",
   "execution_count": null,
   "metadata": {
    "vscode": {
     "languageId": "python"
    }
   },
   "outputs": [],
   "source": [
    "from fastcore.utils import patch\n",
    "class RegressionTree:\n",
    "    def __init__(self, min_samples_split=2, # 最少需要多少个样本才能分裂\n",
    "                 max_depth=float('inf') # 最大深度，太深的话容易过拟合\n",
    "                 ):\n",
    "        self.min_samples_split = min_samples_split \n",
    "        self.max_depth = max_depth \n",
    "        self.root:'Node' = None # root 也就是不划分，用所有值的y的均值作为预测值"
   ]
  },
  {
   "cell_type": "markdown",
   "metadata": {},
   "source": [
    "接下来我们可以看看怎么写回归树的训练算法。这里的关键是对输入空间如何进行划分。\n",
    "CART是启发式（贪心）算法，每一次就按照最优特征和最优切分点来划分子空间。具体来说，CART算法的训练过程如下："
   ]
  },
  {
   "cell_type": "code",
   "execution_count": null,
   "metadata": {
    "vscode": {
     "languageId": "python"
    }
   },
   "outputs": [
    {
     "name": "stdout",
     "output_type": "stream",
     "text": [
      "Depth 0: Split on feature 0 at value 5 with score 0.6717439999999998\n",
      " Depth 1: Split on feature 0 at value 3 with score 0.08136666666666667\n",
      "  Depth 2: Split on feature 0 at value 1 with score 0.006400000000000012\n",
      "   Depth 3: Leaf with value 4.5\n",
      "   Depth 3: Split on feature 0 at value 2 with score 0.0\n",
      "    Depth 4: Leaf with value 4.75\n",
      "    Depth 4: Leaf with value 4.91\n",
      "  Depth 2: Split on feature 0 at value 4 with score 0.0\n",
      "   Depth 3: Leaf with value 5.34\n",
      "   Depth 3: Leaf with value 5.8\n",
      " Depth 1: Split on feature 0 at value 6 with score 0.17891874999999977\n",
      "  Depth 2: Leaf with value 7.05\n",
      "  Depth 2: Split on feature 0 at value 8 with score 0.049725000000000116\n",
      "   Depth 3: Split on feature 0 at value 7 with score 0.0\n",
      "    Depth 4: Leaf with value 7.9\n",
      "    Depth 4: Leaf with value 8.23\n",
      "   Depth 3: Split on feature 0 at value 9 with score 0.0\n",
      "    Depth 4: Leaf with value 8.7\n",
      "    Depth 4: Leaf with value 9.0\n"
     ]
    },
    {
     "name": "stderr",
     "output_type": "stream",
     "text": [
      "/home/ai_pitch_perfector/program_files/managers/conda/lib/python3.10/site-packages/numpy/core/fromnumeric.py:3504: RuntimeWarning: Mean of empty slice.\n",
      "  return _methods._mean(a, axis=axis, dtype=dtype,\n",
      "/home/ai_pitch_perfector/program_files/managers/conda/lib/python3.10/site-packages/numpy/core/_methods.py:129: RuntimeWarning: invalid value encountered in scalar divide\n",
      "  ret = ret.dtype.type(ret / rcount)\n"
     ]
    }
   ],
   "source": [
    "@patch\n",
    "def fit(self:RegressionTree, X, y):\n",
    "    # 这里是对外的接口， 里面的_grow_tree是递归的过程\n",
    "    self.root = self._grow_tree(X, y)\n",
    "\n",
    "@patch\n",
    "def _grow_tree(self:RegressionTree, \n",
    "                X, # 是划分后的子集\n",
    "                y, # 是对应的标签\n",
    "                depth=0 # 当前深度\n",
    "    ):\n",
    "    n_samples, n_features = X.shape\n",
    "    n_labels = len(np.unique(y)) \n",
    "\n",
    "    # stopping criteria\n",
    "    if (depth >= self.max_depth\n",
    "            or n_labels == 1 # 只有一个值，就算有很多样本也不划分了。\n",
    "            or n_samples < self.min_samples_split):\n",
    "        leaf_value = np.mean(y)\n",
    "        self._print_leaf(depth, leaf_value)\n",
    "        return Node(value=leaf_value)\n",
    "\n",
    "    # find the best split 这里是最难的地方，效率也比较低，需要对整个X的每一个特征都遍历一次。\n",
    "    best_feature, best_split, best_score = self._best_split(X, y)\n",
    "    self._print_split(depth, best_feature, best_split, best_score)\n",
    "    \n",
    "    # grow the children that result from the split\n",
    "    left_indices, right_indices = self._split(X[:, best_feature], best_split)\n",
    "    left_child = self._grow_tree(X[left_indices], y[left_indices], depth + 1)\n",
    "    right_child = self._grow_tree(X[right_indices], y[right_indices], depth + 1)\n",
    "    return Node(best_feature, best_split, left_child, right_child)\n",
    "\n",
    "@patch\n",
    "def _print_split(self:RegressionTree, depth, feature, split, score):\n",
    "    print(f\"{' ' * depth}Depth {depth}: Split on feature {feature} at value {split} with score {score}\")\n",
    "\n",
    "@patch\n",
    "def _print_leaf(self:RegressionTree, depth, value):\n",
    "    print(f\"{' ' * depth}Depth {depth}: Leaf with value {value}\")\n",
    "\n",
    "@patch\n",
    "def _best_split(self:RegressionTree, X, y):\n",
    "    # 需要遍历所有的特征和所有可能的切分点，找到最佳切分点\n",
    "    best_score = float('inf') # 这里我们假设越小越好。注意我们不需要算增益，其实只需要算划分之后的loss就行\n",
    "    best_feature, best_split = None, None\n",
    "    for feature_index in range(X.shape[1]):\n",
    "        feature_values = X[:, feature_index]\n",
    "        possible_splits = np.unique(feature_values) # 如果输入没有那么多就可以少算一点\n",
    "        for split in possible_splits:\n",
    "            left_indices, right_indices = self._split(feature_values, split)\n",
    "            if len(left_indices) == 0 or len(right_indices) == 0: # 划分之后有一边没了，那就不考虑这个划分点。因为增益肯定是0。\n",
    "                continue\n",
    "            left_score = self._calculate_mse(y[left_indices])\n",
    "            right_score = self._calculate_mse(y[right_indices])\n",
    "            score = left_score + right_score\n",
    "            if score < best_score: # 改进了\n",
    "                best_score, best_feature, best_split = score, feature_index, split\n",
    "    return best_feature, best_split, best_score\n",
    "@patch\n",
    "def _split(self:RegressionTree, feature_values, split):\n",
    "    left_indices = np.where(feature_values <= split)\n",
    "    right_indices = np.where(feature_values > split)\n",
    "    return left_indices, right_indices\n",
    "\n",
    "@patch\n",
    "def _calculate_mse(self:RegressionTree, y):\n",
    "    # 这里是y的子集，这个子集使用np.mean作为预测值，所以会有误差。  \n",
    "    return np.mean((y - np.mean(y)) ** 2)\n",
    "\n",
    "X = x.reshape(-1, 1)\n",
    "reg_tree = RegressionTree(min_samples_split=2, max_depth=float('inf'))\n",
    "reg_tree.fit(X, y)"
   ]
  },
  {
   "cell_type": "code",
   "execution_count": null,
   "metadata": {
    "vscode": {
     "languageId": "python"
    }
   },
   "outputs": [
    {
     "name": "stdout",
     "output_type": "stream",
     "text": [
      "Looking in indexes: https://pypi.tuna.tsinghua.edu.cn/simple\n",
      "Requirement already satisfied: graphviz in /home/ai_pitch_perfector/program_files/managers/conda/lib/python3.10/site-packages (0.20.3)\n"
     ]
    }
   ],
   "source": [
    "!pip install graphviz"
   ]
  },
  {
   "cell_type": "code",
   "execution_count": null,
   "metadata": {
    "vscode": {
     "languageId": "python"
    }
   },
   "outputs": [
    {
     "data": {
      "image/svg+xml": [
       "<?xml version=\"1.0\" encoding=\"UTF-8\" standalone=\"no\"?>\n",
       "<!DOCTYPE svg PUBLIC \"-//W3C//DTD SVG 1.1//EN\"\n",
       " \"http://www.w3.org/Graphics/SVG/1.1/DTD/svg11.dtd\">\n",
       "<!-- Generated by graphviz version 2.43.0 (0)\n",
       " -->\n",
       "<!-- Title: %3 Pages: 1 -->\n",
       "<svg width=\"1074pt\" height=\"445pt\"\n",
       " viewBox=\"0.00 0.00 1073.76 445.22\" xmlns=\"http://www.w3.org/2000/svg\" xmlns:xlink=\"http://www.w3.org/1999/xlink\">\n",
       "<g id=\"graph0\" class=\"graph\" transform=\"scale(1 1) rotate(0) translate(4 441.22)\">\n",
       "<title>%3</title>\n",
       "<polygon fill=\"white\" stroke=\"transparent\" points=\"-4,4 -4,-441.22 1069.76,-441.22 1069.76,4 -4,4\"/>\n",
       "<!-- 136389789758080 -->\n",
       "<g id=\"node1\" class=\"node\">\n",
       "<title>136389789758080</title>\n",
       "<ellipse fill=\"none\" stroke=\"black\" cx=\"455.88\" cy=\"-419.22\" rx=\"69.59\" ry=\"18\"/>\n",
       "<text text-anchor=\"middle\" x=\"455.88\" y=\"-415.52\" font-family=\"Times,serif\" font-size=\"14.00\">X_0 &lt;= 5.00</text>\n",
       "</g>\n",
       "<!-- 136389789757120 -->\n",
       "<g id=\"node2\" class=\"node\">\n",
       "<title>136389789757120</title>\n",
       "<ellipse fill=\"none\" stroke=\"black\" cx=\"377.88\" cy=\"-332.22\" rx=\"69.59\" ry=\"18\"/>\n",
       "<text text-anchor=\"middle\" x=\"377.88\" y=\"-328.52\" font-family=\"Times,serif\" font-size=\"14.00\">X_0 &lt;= 3.00</text>\n",
       "</g>\n",
       "<!-- 136389789758080&#45;&gt;136389789757120 -->\n",
       "<g id=\"edge17\" class=\"edge\">\n",
       "<title>136389789758080&#45;&gt;136389789757120</title>\n",
       "<path fill=\"none\" stroke=\"black\" d=\"M440.47,-401.43C428.93,-388.85 412.98,-371.47 400.07,-357.4\"/>\n",
       "<polygon fill=\"black\" stroke=\"black\" points=\"402.6,-354.98 393.26,-349.98 397.44,-359.71 402.6,-354.98\"/>\n",
       "<text text-anchor=\"middle\" x=\"438.88\" y=\"-372.02\" font-family=\"Times,serif\" font-size=\"14.00\">True</text>\n",
       "</g>\n",
       "<!-- 136389789757984 -->\n",
       "<g id=\"node11\" class=\"node\">\n",
       "<title>136389789757984</title>\n",
       "<ellipse fill=\"none\" stroke=\"black\" cx=\"534.88\" cy=\"-332.22\" rx=\"69.59\" ry=\"18\"/>\n",
       "<text text-anchor=\"middle\" x=\"534.88\" y=\"-328.52\" font-family=\"Times,serif\" font-size=\"14.00\">X_0 &lt;= 6.00</text>\n",
       "</g>\n",
       "<!-- 136389789758080&#45;&gt;136389789757984 -->\n",
       "<g id=\"edge18\" class=\"edge\">\n",
       "<title>136389789758080&#45;&gt;136389789757984</title>\n",
       "<path fill=\"none\" stroke=\"black\" d=\"M471.49,-401.43C483.18,-388.85 499.33,-371.47 512.41,-357.4\"/>\n",
       "<polygon fill=\"black\" stroke=\"black\" points=\"515.06,-359.69 519.31,-349.98 509.94,-354.92 515.06,-359.69\"/>\n",
       "<text text-anchor=\"middle\" x=\"519.88\" y=\"-372.02\" font-family=\"Times,serif\" font-size=\"14.00\">False</text>\n",
       "</g>\n",
       "<!-- 136389789756736 -->\n",
       "<g id=\"node3\" class=\"node\">\n",
       "<title>136389789756736</title>\n",
       "<ellipse fill=\"none\" stroke=\"black\" cx=\"221.88\" cy=\"-236.35\" rx=\"69.59\" ry=\"18\"/>\n",
       "<text text-anchor=\"middle\" x=\"221.88\" y=\"-232.65\" font-family=\"Times,serif\" font-size=\"14.00\">X_0 &lt;= 1.00</text>\n",
       "</g>\n",
       "<!-- 136389789757120&#45;&gt;136389789756736 -->\n",
       "<g id=\"edge7\" class=\"edge\">\n",
       "<title>136389789757120&#45;&gt;136389789756736</title>\n",
       "<path fill=\"none\" stroke=\"black\" d=\"M351.77,-315.51C325.79,-299.87 285.74,-275.78 256.99,-258.47\"/>\n",
       "<polygon fill=\"black\" stroke=\"black\" points=\"258.45,-255.27 248.08,-253.11 254.84,-261.27 258.45,-255.27\"/>\n",
       "<text text-anchor=\"middle\" x=\"335.88\" y=\"-285.02\" font-family=\"Times,serif\" font-size=\"14.00\">True</text>\n",
       "</g>\n",
       "<!-- 136389789756928 -->\n",
       "<g id=\"node8\" class=\"node\">\n",
       "<title>136389789756928</title>\n",
       "<ellipse fill=\"none\" stroke=\"black\" cx=\"378.88\" cy=\"-236.35\" rx=\"69.59\" ry=\"18\"/>\n",
       "<text text-anchor=\"middle\" x=\"378.88\" y=\"-232.65\" font-family=\"Times,serif\" font-size=\"14.00\">X_0 &lt;= 4.00</text>\n",
       "</g>\n",
       "<!-- 136389789757120&#45;&gt;136389789756928 -->\n",
       "<g id=\"edge8\" class=\"edge\">\n",
       "<title>136389789757120&#45;&gt;136389789756928</title>\n",
       "<path fill=\"none\" stroke=\"black\" d=\"M378.07,-314C378.21,-300.24 378.42,-280.69 378.59,-264.78\"/>\n",
       "<polygon fill=\"black\" stroke=\"black\" points=\"382.09,-264.5 378.7,-254.46 375.09,-264.42 382.09,-264.5\"/>\n",
       "<text text-anchor=\"middle\" x=\"397.88\" y=\"-285.02\" font-family=\"Times,serif\" font-size=\"14.00\">False</text>\n",
       "</g>\n",
       "<!-- 136389789755728 -->\n",
       "<g id=\"node4\" class=\"node\">\n",
       "<title>136389789755728</title>\n",
       "<ellipse fill=\"none\" stroke=\"black\" cx=\"67.88\" cy=\"-131.61\" rx=\"67.76\" ry=\"26.74\"/>\n",
       "<text text-anchor=\"middle\" x=\"67.88\" y=\"-135.41\" font-family=\"Times,serif\" font-size=\"14.00\">Leaf</text>\n",
       "<text text-anchor=\"middle\" x=\"67.88\" y=\"-120.41\" font-family=\"Times,serif\" font-size=\"14.00\">Value: 4.50</text>\n",
       "</g>\n",
       "<!-- 136389789756736&#45;&gt;136389789755728 -->\n",
       "<g id=\"edge3\" class=\"edge\">\n",
       "<title>136389789756736&#45;&gt;136389789755728</title>\n",
       "<path fill=\"none\" stroke=\"black\" d=\"M197.82,-219.3C174.36,-203.65 138.2,-179.52 109.97,-160.69\"/>\n",
       "<polygon fill=\"black\" stroke=\"black\" points=\"111.75,-157.67 101.49,-155.03 107.86,-163.49 111.75,-157.67\"/>\n",
       "<text text-anchor=\"middle\" x=\"171.88\" y=\"-180.28\" font-family=\"Times,serif\" font-size=\"14.00\">True</text>\n",
       "</g>\n",
       "<!-- 136389789756544 -->\n",
       "<g id=\"node5\" class=\"node\">\n",
       "<title>136389789756544</title>\n",
       "<ellipse fill=\"none\" stroke=\"black\" cx=\"222.88\" cy=\"-131.61\" rx=\"69.59\" ry=\"18\"/>\n",
       "<text text-anchor=\"middle\" x=\"222.88\" y=\"-127.91\" font-family=\"Times,serif\" font-size=\"14.00\">X_0 &lt;= 2.00</text>\n",
       "</g>\n",
       "<!-- 136389789756736&#45;&gt;136389789756544 -->\n",
       "<g id=\"edge4\" class=\"edge\">\n",
       "<title>136389789756736&#45;&gt;136389789756544</title>\n",
       "<path fill=\"none\" stroke=\"black\" d=\"M222.05,-217.92C222.21,-202.03 222.44,-178.3 222.62,-159.9\"/>\n",
       "<polygon fill=\"black\" stroke=\"black\" points=\"226.12,-159.81 222.72,-149.78 219.12,-159.75 226.12,-159.81\"/>\n",
       "<text text-anchor=\"middle\" x=\"241.88\" y=\"-180.28\" font-family=\"Times,serif\" font-size=\"14.00\">False</text>\n",
       "</g>\n",
       "<!-- 136389789756256 -->\n",
       "<g id=\"node6\" class=\"node\">\n",
       "<title>136389789756256</title>\n",
       "<ellipse fill=\"none\" stroke=\"black\" cx=\"145.88\" cy=\"-26.87\" rx=\"67.76\" ry=\"26.74\"/>\n",
       "<text text-anchor=\"middle\" x=\"145.88\" y=\"-30.67\" font-family=\"Times,serif\" font-size=\"14.00\">Leaf</text>\n",
       "<text text-anchor=\"middle\" x=\"145.88\" y=\"-15.67\" font-family=\"Times,serif\" font-size=\"14.00\">Value: 4.75</text>\n",
       "</g>\n",
       "<!-- 136389789756544&#45;&gt;136389789756256 -->\n",
       "<g id=\"edge1\" class=\"edge\">\n",
       "<title>136389789756544&#45;&gt;136389789756256</title>\n",
       "<path fill=\"none\" stroke=\"black\" d=\"M210.17,-113.64C199.52,-99.44 184.01,-78.74 170.89,-61.24\"/>\n",
       "<polygon fill=\"black\" stroke=\"black\" points=\"173.47,-58.84 164.67,-52.94 167.87,-63.04 173.47,-58.84\"/>\n",
       "<text text-anchor=\"middle\" x=\"206.88\" y=\"-75.54\" font-family=\"Times,serif\" font-size=\"14.00\">True</text>\n",
       "</g>\n",
       "<!-- 136389789756688 -->\n",
       "<g id=\"node7\" class=\"node\">\n",
       "<title>136389789756688</title>\n",
       "<ellipse fill=\"none\" stroke=\"black\" cx=\"299.88\" cy=\"-26.87\" rx=\"67.76\" ry=\"26.74\"/>\n",
       "<text text-anchor=\"middle\" x=\"299.88\" y=\"-30.67\" font-family=\"Times,serif\" font-size=\"14.00\">Leaf</text>\n",
       "<text text-anchor=\"middle\" x=\"299.88\" y=\"-15.67\" font-family=\"Times,serif\" font-size=\"14.00\">Value: 4.91</text>\n",
       "</g>\n",
       "<!-- 136389789756544&#45;&gt;136389789756688 -->\n",
       "<g id=\"edge2\" class=\"edge\">\n",
       "<title>136389789756544&#45;&gt;136389789756688</title>\n",
       "<path fill=\"none\" stroke=\"black\" d=\"M235.6,-113.64C246.24,-99.44 261.76,-78.74 274.88,-61.24\"/>\n",
       "<polygon fill=\"black\" stroke=\"black\" points=\"277.9,-63.04 281.09,-52.94 272.29,-58.84 277.9,-63.04\"/>\n",
       "<text text-anchor=\"middle\" x=\"285.88\" y=\"-75.54\" font-family=\"Times,serif\" font-size=\"14.00\">False</text>\n",
       "</g>\n",
       "<!-- 136389789756880 -->\n",
       "<g id=\"node9\" class=\"node\">\n",
       "<title>136389789756880</title>\n",
       "<ellipse fill=\"none\" stroke=\"black\" cx=\"377.88\" cy=\"-131.61\" rx=\"67.76\" ry=\"26.74\"/>\n",
       "<text text-anchor=\"middle\" x=\"377.88\" y=\"-135.41\" font-family=\"Times,serif\" font-size=\"14.00\">Leaf</text>\n",
       "<text text-anchor=\"middle\" x=\"377.88\" y=\"-120.41\" font-family=\"Times,serif\" font-size=\"14.00\">Value: 5.34</text>\n",
       "</g>\n",
       "<!-- 136389789756928&#45;&gt;136389789756880 -->\n",
       "<g id=\"edge5\" class=\"edge\">\n",
       "<title>136389789756928&#45;&gt;136389789756880</title>\n",
       "<path fill=\"none\" stroke=\"black\" d=\"M378.71,-217.92C378.58,-204.46 378.4,-185.36 378.23,-168.65\"/>\n",
       "<polygon fill=\"black\" stroke=\"black\" points=\"381.73,-168.59 378.14,-158.62 374.73,-168.66 381.73,-168.59\"/>\n",
       "<text text-anchor=\"middle\" x=\"395.88\" y=\"-180.28\" font-family=\"Times,serif\" font-size=\"14.00\">True</text>\n",
       "</g>\n",
       "<!-- 136389789757072 -->\n",
       "<g id=\"node10\" class=\"node\">\n",
       "<title>136389789757072</title>\n",
       "<ellipse fill=\"none\" stroke=\"black\" cx=\"531.88\" cy=\"-131.61\" rx=\"67.76\" ry=\"26.74\"/>\n",
       "<text text-anchor=\"middle\" x=\"531.88\" y=\"-135.41\" font-family=\"Times,serif\" font-size=\"14.00\">Leaf</text>\n",
       "<text text-anchor=\"middle\" x=\"531.88\" y=\"-120.41\" font-family=\"Times,serif\" font-size=\"14.00\">Value: 5.80</text>\n",
       "</g>\n",
       "<!-- 136389789756928&#45;&gt;136389789757072 -->\n",
       "<g id=\"edge6\" class=\"edge\">\n",
       "<title>136389789756928&#45;&gt;136389789757072</title>\n",
       "<path fill=\"none\" stroke=\"black\" d=\"M402.79,-219.3C426.1,-203.65 462.03,-179.52 490.07,-160.69\"/>\n",
       "<polygon fill=\"black\" stroke=\"black\" points=\"492.14,-163.51 498.49,-155.03 488.24,-157.7 492.14,-163.51\"/>\n",
       "<text text-anchor=\"middle\" x=\"483.88\" y=\"-180.28\" font-family=\"Times,serif\" font-size=\"14.00\">False</text>\n",
       "</g>\n",
       "<!-- 136389789757264 -->\n",
       "<g id=\"node12\" class=\"node\">\n",
       "<title>136389789757264</title>\n",
       "<ellipse fill=\"none\" stroke=\"black\" cx=\"534.88\" cy=\"-236.35\" rx=\"67.76\" ry=\"26.74\"/>\n",
       "<text text-anchor=\"middle\" x=\"534.88\" y=\"-240.15\" font-family=\"Times,serif\" font-size=\"14.00\">Leaf</text>\n",
       "<text text-anchor=\"middle\" x=\"534.88\" y=\"-225.15\" font-family=\"Times,serif\" font-size=\"14.00\">Value: 7.05</text>\n",
       "</g>\n",
       "<!-- 136389789757984&#45;&gt;136389789757264 -->\n",
       "<g id=\"edge15\" class=\"edge\">\n",
       "<title>136389789757984&#45;&gt;136389789757264</title>\n",
       "<path fill=\"none\" stroke=\"black\" d=\"M534.88,-314C534.88,-302.7 534.88,-287.49 534.88,-273.6\"/>\n",
       "<polygon fill=\"black\" stroke=\"black\" points=\"538.38,-273.32 534.88,-263.32 531.38,-273.32 538.38,-273.32\"/>\n",
       "<text text-anchor=\"middle\" x=\"551.88\" y=\"-285.02\" font-family=\"Times,serif\" font-size=\"14.00\">True</text>\n",
       "</g>\n",
       "<!-- 136389789757888 -->\n",
       "<g id=\"node13\" class=\"node\">\n",
       "<title>136389789757888</title>\n",
       "<ellipse fill=\"none\" stroke=\"black\" cx=\"689.88\" cy=\"-236.35\" rx=\"69.59\" ry=\"18\"/>\n",
       "<text text-anchor=\"middle\" x=\"689.88\" y=\"-232.65\" font-family=\"Times,serif\" font-size=\"14.00\">X_0 &lt;= 8.00</text>\n",
       "</g>\n",
       "<!-- 136389789757984&#45;&gt;136389789757888 -->\n",
       "<g id=\"edge16\" class=\"edge\">\n",
       "<title>136389789757984&#45;&gt;136389789757888</title>\n",
       "<path fill=\"none\" stroke=\"black\" d=\"M560.83,-315.51C586.64,-299.87 626.43,-275.78 655,-258.47\"/>\n",
       "<polygon fill=\"black\" stroke=\"black\" points=\"657.11,-261.29 663.85,-253.11 653.49,-255.3 657.11,-261.29\"/>\n",
       "<text text-anchor=\"middle\" x=\"636.88\" y=\"-285.02\" font-family=\"Times,serif\" font-size=\"14.00\">False</text>\n",
       "</g>\n",
       "<!-- 136389789757408 -->\n",
       "<g id=\"node14\" class=\"node\">\n",
       "<title>136389789757408</title>\n",
       "<ellipse fill=\"none\" stroke=\"black\" cx=\"687.88\" cy=\"-131.61\" rx=\"69.59\" ry=\"18\"/>\n",
       "<text text-anchor=\"middle\" x=\"687.88\" y=\"-127.91\" font-family=\"Times,serif\" font-size=\"14.00\">X_0 &lt;= 7.00</text>\n",
       "</g>\n",
       "<!-- 136389789757888&#45;&gt;136389789757408 -->\n",
       "<g id=\"edge13\" class=\"edge\">\n",
       "<title>136389789757888&#45;&gt;136389789757408</title>\n",
       "<path fill=\"none\" stroke=\"black\" d=\"M689.54,-217.92C689.23,-202.03 688.77,-178.3 688.41,-159.9\"/>\n",
       "<polygon fill=\"black\" stroke=\"black\" points=\"691.91,-159.71 688.22,-149.78 684.91,-159.85 691.91,-159.71\"/>\n",
       "<text text-anchor=\"middle\" x=\"706.88\" y=\"-180.28\" font-family=\"Times,serif\" font-size=\"14.00\">True</text>\n",
       "</g>\n",
       "<!-- 136389789757696 -->\n",
       "<g id=\"node17\" class=\"node\">\n",
       "<title>136389789757696</title>\n",
       "<ellipse fill=\"none\" stroke=\"black\" cx=\"844.88\" cy=\"-131.61\" rx=\"69.59\" ry=\"18\"/>\n",
       "<text text-anchor=\"middle\" x=\"844.88\" y=\"-127.91\" font-family=\"Times,serif\" font-size=\"14.00\">X_0 &lt;= 9.00</text>\n",
       "</g>\n",
       "<!-- 136389789757888&#45;&gt;136389789757696 -->\n",
       "<g id=\"edge14\" class=\"edge\">\n",
       "<title>136389789757888&#45;&gt;136389789757696</title>\n",
       "<path fill=\"none\" stroke=\"black\" d=\"M714.1,-219.3C740.49,-201.81 782.85,-173.72 812.18,-154.28\"/>\n",
       "<polygon fill=\"black\" stroke=\"black\" points=\"814.43,-156.99 820.83,-148.55 810.56,-151.16 814.43,-156.99\"/>\n",
       "<text text-anchor=\"middle\" x=\"795.88\" y=\"-180.28\" font-family=\"Times,serif\" font-size=\"14.00\">False</text>\n",
       "</g>\n",
       "<!-- 136389789757504 -->\n",
       "<g id=\"node15\" class=\"node\">\n",
       "<title>136389789757504</title>\n",
       "<ellipse fill=\"none\" stroke=\"black\" cx=\"534.88\" cy=\"-26.87\" rx=\"67.76\" ry=\"26.74\"/>\n",
       "<text text-anchor=\"middle\" x=\"534.88\" y=\"-30.67\" font-family=\"Times,serif\" font-size=\"14.00\">Leaf</text>\n",
       "<text text-anchor=\"middle\" x=\"534.88\" y=\"-15.67\" font-family=\"Times,serif\" font-size=\"14.00\">Value: 7.90</text>\n",
       "</g>\n",
       "<!-- 136389789757408&#45;&gt;136389789757504 -->\n",
       "<g id=\"edge9\" class=\"edge\">\n",
       "<title>136389789757408&#45;&gt;136389789757504</title>\n",
       "<path fill=\"none\" stroke=\"black\" d=\"M663.98,-114.56C640.67,-98.91 604.74,-74.78 576.7,-55.95\"/>\n",
       "<polygon fill=\"black\" stroke=\"black\" points=\"578.52,-52.96 568.27,-50.29 574.62,-58.77 578.52,-52.96\"/>\n",
       "<text text-anchor=\"middle\" x=\"637.88\" y=\"-75.54\" font-family=\"Times,serif\" font-size=\"14.00\">True</text>\n",
       "</g>\n",
       "<!-- 136389789757552 -->\n",
       "<g id=\"node16\" class=\"node\">\n",
       "<title>136389789757552</title>\n",
       "<ellipse fill=\"none\" stroke=\"black\" cx=\"688.88\" cy=\"-26.87\" rx=\"67.76\" ry=\"26.74\"/>\n",
       "<text text-anchor=\"middle\" x=\"688.88\" y=\"-30.67\" font-family=\"Times,serif\" font-size=\"14.00\">Leaf</text>\n",
       "<text text-anchor=\"middle\" x=\"688.88\" y=\"-15.67\" font-family=\"Times,serif\" font-size=\"14.00\">Value: 8.23</text>\n",
       "</g>\n",
       "<!-- 136389789757408&#45;&gt;136389789757552 -->\n",
       "<g id=\"edge10\" class=\"edge\">\n",
       "<title>136389789757408&#45;&gt;136389789757552</title>\n",
       "<path fill=\"none\" stroke=\"black\" d=\"M688.05,-113.18C688.18,-99.72 688.37,-80.62 688.53,-63.91\"/>\n",
       "<polygon fill=\"black\" stroke=\"black\" points=\"692.03,-63.92 688.63,-53.88 685.03,-63.85 692.03,-63.92\"/>\n",
       "<text text-anchor=\"middle\" x=\"707.88\" y=\"-75.54\" font-family=\"Times,serif\" font-size=\"14.00\">False</text>\n",
       "</g>\n",
       "<!-- 136389789757648 -->\n",
       "<g id=\"node18\" class=\"node\">\n",
       "<title>136389789757648</title>\n",
       "<ellipse fill=\"none\" stroke=\"black\" cx=\"843.88\" cy=\"-26.87\" rx=\"67.76\" ry=\"26.74\"/>\n",
       "<text text-anchor=\"middle\" x=\"843.88\" y=\"-30.67\" font-family=\"Times,serif\" font-size=\"14.00\">Leaf</text>\n",
       "<text text-anchor=\"middle\" x=\"843.88\" y=\"-15.67\" font-family=\"Times,serif\" font-size=\"14.00\">Value: 8.70</text>\n",
       "</g>\n",
       "<!-- 136389789757696&#45;&gt;136389789757648 -->\n",
       "<g id=\"edge11\" class=\"edge\">\n",
       "<title>136389789757696&#45;&gt;136389789757648</title>\n",
       "<path fill=\"none\" stroke=\"black\" d=\"M844.71,-113.18C844.58,-99.72 844.4,-80.62 844.23,-63.91\"/>\n",
       "<polygon fill=\"black\" stroke=\"black\" points=\"847.73,-63.85 844.14,-53.88 840.73,-63.92 847.73,-63.85\"/>\n",
       "<text text-anchor=\"middle\" x=\"861.88\" y=\"-75.54\" font-family=\"Times,serif\" font-size=\"14.00\">True</text>\n",
       "</g>\n",
       "<!-- 136389789757840 -->\n",
       "<g id=\"node19\" class=\"node\">\n",
       "<title>136389789757840</title>\n",
       "<ellipse fill=\"none\" stroke=\"black\" cx=\"997.88\" cy=\"-26.87\" rx=\"67.76\" ry=\"26.74\"/>\n",
       "<text text-anchor=\"middle\" x=\"997.88\" y=\"-30.67\" font-family=\"Times,serif\" font-size=\"14.00\">Leaf</text>\n",
       "<text text-anchor=\"middle\" x=\"997.88\" y=\"-15.67\" font-family=\"Times,serif\" font-size=\"14.00\">Value: 9.00</text>\n",
       "</g>\n",
       "<!-- 136389789757696&#45;&gt;136389789757840 -->\n",
       "<g id=\"edge12\" class=\"edge\">\n",
       "<title>136389789757696&#45;&gt;136389789757840</title>\n",
       "<path fill=\"none\" stroke=\"black\" d=\"M868.79,-114.56C892.1,-98.91 928.03,-74.78 956.07,-55.95\"/>\n",
       "<polygon fill=\"black\" stroke=\"black\" points=\"958.14,-58.77 964.49,-50.29 954.24,-52.96 958.14,-58.77\"/>\n",
       "<text text-anchor=\"middle\" x=\"949.88\" y=\"-75.54\" font-family=\"Times,serif\" font-size=\"14.00\">False</text>\n",
       "</g>\n",
       "</g>\n",
       "</svg>\n"
      ],
      "text/plain": [
       "<graphviz.graphs.Digraph>"
      ]
     },
     "execution_count": null,
     "metadata": {},
     "output_type": "execute_result"
    }
   ],
   "source": [
    "from graphviz import Digraph\n",
    "\n",
    "def visualize_node(node:Node, graph_label=\"Regression Tree\"):\n",
    "    # Create Digraph object\n",
    "    dot = Digraph(comment=graph_label)\n",
    "\n",
    "    # Helper function to recursively add nodes and edges\n",
    "    def add_nodes_edges(node, parent_node_id=None):\n",
    "        # If node is a leaf, add it to the graph\n",
    "        if node.is_leaf_node():\n",
    "            node_id = str(id(node))\n",
    "            dot.node(node_id, f\"Leaf\\nValue: {node.value:.2f}\")\n",
    "        else:\n",
    "            # Add current node to the graph\n",
    "            node_id = str(id(node))\n",
    "            dot.node(node_id, f\"X_{node.feature} <= {node.split:.2f}\")\n",
    "\n",
    "            # Recursively add left and right children\n",
    "            left_child_id = add_nodes_edges(node.left, node_id)\n",
    "            right_child_id = add_nodes_edges(node.right, node_id)\n",
    "\n",
    "            # Add edges from current node to its children\n",
    "            dot.edge(node_id, left_child_id, label=\"True\")\n",
    "            dot.edge(node_id, right_child_id, label=\"False\")\n",
    "\n",
    "        return node_id\n",
    "\n",
    "    # Start from the root node\n",
    "    add_nodes_edges(node)\n",
    "\n",
    "    return dot\n",
    "\n",
    "@patch\n",
    "def visualize(self:RegressionTree):\n",
    "    return visualize_node(self.root)\n",
    "\n",
    "# Visualize the tree\n",
    "dot = reg_tree.visualize()\n",
    "dot.render('regression_tree', format='png', cleanup=True)  # Save the tree as an image\n",
    "'(regression_tree.png)'\n",
    "dot"
   ]
  },
  {
   "cell_type": "markdown",
   "metadata": {},
   "source": [
    "接下来是第二步，有了这个决策树，怎么预测新的数据呢？"
   ]
  },
  {
   "cell_type": "code",
   "execution_count": null,
   "metadata": {
    "vscode": {
     "languageId": "python"
    }
   },
   "outputs": [
    {
     "data": {
      "text/plain": [
       "array([4.5 , 4.75, 4.91, 5.34, 5.8 , 7.05, 7.9 , 8.23, 8.7 , 9.  ])"
      ]
     },
     "execution_count": null,
     "metadata": {},
     "output_type": "execute_result"
    }
   ],
   "source": [
    "@patch\n",
    "def predict(self:RegressionTree, X):\n",
    "    # 对于新的输入，预测值怎么计算呢，对每一个值去做。\n",
    "    self.decision_paths = [] \n",
    "    return np.array([self._predict_sample(x) for x in X])\n",
    "\n",
    "@patch\n",
    "def _predict_sample(self:RegressionTree, inputs):\n",
    "        node:Node = self.root\n",
    "        path = []  # Track the decision path\n",
    "        while not node.is_leaf_node():\n",
    "            path.append(node)\n",
    "            if inputs[node.feature] <= node.split:\n",
    "                node = node.left\n",
    "            else:\n",
    "                node = node.right\n",
    "        path.append(node)  # Add the leaf node to the path\n",
    "        self.decision_paths.append(path)\n",
    "        return node.value\n",
    "\n",
    "predictions = reg_tree.predict(X)\n",
    "predictions"
   ]
  },
  {
   "cell_type": "markdown",
   "metadata": {},
   "source": [
    "因为我们没有限制深度，所以predictions应该与真实值相同。"
   ]
  },
  {
   "cell_type": "code",
   "execution_count": null,
   "metadata": {
    "vscode": {
     "languageId": "python"
    }
   },
   "outputs": [
    {
     "data": {
      "text/plain": [
       "array([0., 0., 0., 0., 0., 0., 0., 0., 0., 0.])"
      ]
     },
     "execution_count": null,
     "metadata": {},
     "output_type": "execute_result"
    }
   ],
   "source": [
    "predictions - y"
   ]
  },
  {
   "cell_type": "markdown",
   "metadata": {},
   "source": [
    "如果我们有最大深度设为2，那么可以画出下面的图"
   ]
  },
  {
   "cell_type": "code",
   "execution_count": null,
   "metadata": {
    "vscode": {
     "languageId": "python"
    }
   },
   "outputs": [
    {
     "name": "stderr",
     "output_type": "stream",
     "text": [
      "/home/ai_pitch_perfector/program_files/managers/conda/lib/python3.10/site-packages/numpy/core/fromnumeric.py:3504: RuntimeWarning: Mean of empty slice.\n",
      "  return _methods._mean(a, axis=axis, dtype=dtype,\n",
      "/home/ai_pitch_perfector/program_files/managers/conda/lib/python3.10/site-packages/numpy/core/_methods.py:129: RuntimeWarning: invalid value encountered in scalar divide\n",
      "  ret = ret.dtype.type(ret / rcount)\n"
     ]
    },
    {
     "name": "stdout",
     "output_type": "stream",
     "text": [
      "Depth 0: Split on feature 0 at value 5 with score 0.6717439999999998\n",
      " Depth 1: Split on feature 0 at value 3 with score 0.08136666666666667\n",
      "  Depth 2: Leaf with value 4.72\n",
      "  Depth 2: Leaf with value 5.57\n",
      " Depth 1: Split on feature 0 at value 6 with score 0.17891874999999977\n",
      "  Depth 2: Leaf with value 7.05\n",
      "  Depth 2: Leaf with value 8.4575\n"
     ]
    },
    {
     "data": {
      "image/png": "[encoded data removed]",
      "text/plain": [
       "<Figure size 1000x600 with 1 Axes>"
      ]
     },
     "metadata": {},
     "output_type": "display_data"
    }
   ],
   "source": [
    "import matplotlib.pyplot as plt\n",
    "\n",
    "reg_tree = RegressionTree(max_depth=2)\n",
    "reg_tree.fit(X, y)\n",
    "predictions = reg_tree.predict(X)\n",
    "\n",
    "# Scatter plot for actual values and predictions\n",
    "plt.figure(figsize=(10, 6))\n",
    "plt.scatter(range(len(y)), y, color='blue', label='Actual Values')\n",
    "plt.scatter(range(len(predictions)), predictions, color='red', label='Predictions')\n",
    "\n",
    "# Highlight the difference\n",
    "for i, (act, pred) in enumerate(zip(y, predictions)):\n",
    "    plt.plot([i, i], [act, pred], color='green' if act == pred else 'orange')\n",
    "\n",
    "plt.title('Actual Values vs. Predictions')\n",
    "plt.xlabel('Data Points')\n",
    "plt.ylabel('Values')\n",
    "plt.legend()\n",
    "plt.grid(True)\n",
    "plt.show()\n"
   ]
  },
  {
   "cell_type": "markdown",
   "metadata": {},
   "source": [
    "### 题目扩展问题\n"
   ]
  },
  {
   "cell_type": "markdown",
   "metadata": {},
   "source": [
    "这里我们产生一个疑问，划分一定能改进训练损失吗？有没有可能信息增益是负的，划分之后反而loss更大？\n",
    "\n",
    "我们其实想问，$$MSE(E(l_1), l_1) + MSE(E(l_2), l_2) \\le MSE(E(l_1+l_2), l_1+l_2)$$ 这个不等式是否恒成立？\n",
    "其中 $l_1$ 和 $l_2$ 是两个任意实数列表， $l_1+l_2$ 是两个列表的拼接。"
   ]
  }
 ],
 "metadata": {
  "kernelspec": {
   "display_name": "python3",
   "language": "python",
   "name": "python3"
  }
 },
 "nbformat": 4,
 "nbformat_minor": 2
}
